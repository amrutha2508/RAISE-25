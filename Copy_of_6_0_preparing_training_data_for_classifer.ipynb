{
  "cells": [
    {
      "cell_type": "markdown",
      "metadata": {
        "id": "g5mZsTxCfrie"
      },
      "source": [
        "# training of a classifier\n",
        "\n"
      ]
    },
    {
      "cell_type": "markdown",
      "metadata": {
        "id": "3EoYdfLqgEN1"
      },
      "source": [
        "### import and preprocessing data"
      ]
    },
    {
      "cell_type": "code",
      "execution_count": null,
      "metadata": {
        "id": "Pqwp2_yl_Q4b"
      },
      "outputs": [],
      "source": [
        "import pandas as pd\n",
        "import numpy as np\n",
        "import matplotlib.pyplot as plt\n",
        "import seaborn as sns"
      ]
    },
    {
      "cell_type": "code",
      "execution_count": null,
      "metadata": {
        "colab": {
          "base_uri": "https://localhost:8080/"
        },
        "id": "Of2vfFkC_TS6",
        "outputId": "e3a2049d-3ed0-43d1-9820-d19d91c7346c"
      },
      "outputs": [
        {
          "name": "stderr",
          "output_type": "stream",
          "text": [
            "[nltk_data] Downloading package stopwords to /root/nltk_data...\n",
            "[nltk_data]   Package stopwords is already up-to-date!\n",
            "[nltk_data] Downloading package wordnet to /root/nltk_data...\n",
            "[nltk_data]   Package wordnet is already up-to-date!\n",
            "[nltk_data] Downloading package punkt_tab to /root/nltk_data...\n",
            "[nltk_data]   Package punkt_tab is already up-to-date!\n"
          ]
        },
        {
          "data": {
            "text/plain": [
              "True"
            ]
          },
          "execution_count": 5,
          "metadata": {},
          "output_type": "execute_result"
        }
      ],
      "source": [
        " import nltk\n",
        "import re\n",
        "from nltk.tokenize import word_tokenize\n",
        "from nltk.corpus import stopwords\n",
        "from nltk.stem import WordNetLemmatizer\n",
        "\n",
        "nltk.download('stopwords')\n",
        "nltk.download('wordnet')\n",
        "nltk.download('punkt_tab')"
      ]
    },
    {
      "cell_type": "code",
      "execution_count": null,
      "metadata": {
        "id": "RmHfz0j0BZj_"
      },
      "outputs": [],
      "source": [
        "df = pd.read_csv('datasets/Dataset_10k_topics.csv')"
      ]
    },
    {
      "cell_type": "code",
      "execution_count": null,
      "metadata": {
        "colab": {
          "base_uri": "https://localhost:8080/",
          "height": 632
        },
        "id": "dcmca9795tUd",
        "outputId": "6056a782-6b0e-472b-98ad-f737d1092453"
      },
      "outputs": [
        {
          "data": {
            "application/vnd.google.colaboratory.intrinsic+json": {
              "summary": "{\n  \"name\": \"df\",\n  \"rows\": 10000,\n  \"fields\": [\n    {\n      \"column\": \"Unnamed: 0.1\",\n      \"properties\": {\n        \"dtype\": \"number\",\n        \"std\": 2886,\n        \"min\": 0,\n        \"max\": 9999,\n        \"num_unique_values\": 10000,\n        \"samples\": [\n          6252,\n          4684,\n          1731\n        ],\n        \"semantic_type\": \"\",\n        \"description\": \"\"\n      }\n    },\n    {\n      \"column\": \"Unnamed: 0\",\n      \"properties\": {\n        \"dtype\": \"number\",\n        \"std\": 2886,\n        \"min\": 0,\n        \"max\": 9999,\n        \"num_unique_values\": 10000,\n        \"samples\": [\n          6252,\n          4684,\n          1731\n        ],\n        \"semantic_type\": \"\",\n        \"description\": \"\"\n      }\n    },\n    {\n      \"column\": \"date\",\n      \"properties\": {\n        \"dtype\": \"object\",\n        \"num_unique_values\": 368,\n        \"samples\": [\n          \"2024-03-11\",\n          \"2024-05-07\",\n          \"2024-06-27\"\n        ],\n        \"semantic_type\": \"\",\n        \"description\": \"\"\n      }\n    },\n    {\n      \"column\": \"title\",\n      \"properties\": {\n        \"dtype\": \"string\",\n        \"num_unique_values\": 9891,\n        \"samples\": [\n          \"EU updates product liability regime to include software, Artificial Intelligence\",\n          \"UAE blocks meetings between AI firm G42 and US congressional staffers, spokesperson says\",\n          \"New UNESCO report warns that Generative AI threatens Holocaust memory\"\n        ],\n        \"semantic_type\": \"\",\n        \"description\": \"\"\n      }\n    },\n    {\n      \"column\": \"source\",\n      \"properties\": {\n        \"dtype\": \"category\",\n        \"num_unique_values\": 2978,\n        \"samples\": [\n          \"AS USA\",\n          \"Startups.co.uk\",\n          \"Lowenstein Sandler LLP\"\n        ],\n        \"semantic_type\": \"\",\n        \"description\": \"\"\n      }\n    },\n    {\n      \"column\": \"number_of_characters_title\",\n      \"properties\": {\n        \"dtype\": \"number\",\n        \"std\": 25,\n        \"min\": 14,\n        \"max\": 285,\n        \"num_unique_values\": 196,\n        \"samples\": [\n          161,\n          140,\n          75\n        ],\n        \"semantic_type\": \"\",\n        \"description\": \"\"\n      }\n    },\n    {\n      \"column\": \"number_of_words_title\",\n      \"properties\": {\n        \"dtype\": \"number\",\n        \"std\": 3,\n        \"min\": 3,\n        \"max\": 43,\n        \"num_unique_values\": 35,\n        \"samples\": [\n          28,\n          19,\n          4\n        ],\n        \"semantic_type\": \"\",\n        \"description\": \"\"\n      }\n    },\n    {\n      \"column\": \"day_of_week\",\n      \"properties\": {\n        \"dtype\": \"category\",\n        \"num_unique_values\": 7,\n        \"samples\": [\n          \"Monday\",\n          \"Wednesday\",\n          \"Thursday\"\n        ],\n        \"semantic_type\": \"\",\n        \"description\": \"\"\n      }\n    },\n    {\n      \"column\": \"month\",\n      \"properties\": {\n        \"dtype\": \"category\",\n        \"num_unique_values\": 12,\n        \"samples\": [\n          \"May\",\n          \"March\",\n          \"October\"\n        ],\n        \"semantic_type\": \"\",\n        \"description\": \"\"\n      }\n    },\n    {\n      \"column\": \"year\",\n      \"properties\": {\n        \"dtype\": \"number\",\n        \"std\": 0,\n        \"min\": 2023,\n        \"max\": 2024,\n        \"num_unique_values\": 2,\n        \"samples\": [\n          2023,\n          2024\n        ],\n        \"semantic_type\": \"\",\n        \"description\": \"\"\n      }\n    },\n    {\n      \"column\": \"quarter\",\n      \"properties\": {\n        \"dtype\": \"number\",\n        \"std\": 1,\n        \"min\": 1,\n        \"max\": 4,\n        \"num_unique_values\": 4,\n        \"samples\": [\n          1,\n          2\n        ],\n        \"semantic_type\": \"\",\n        \"description\": \"\"\n      }\n    },\n    {\n      \"column\": \"is_weekend\",\n      \"properties\": {\n        \"dtype\": \"boolean\",\n        \"num_unique_values\": 2,\n        \"samples\": [\n          true,\n          false\n        ],\n        \"semantic_type\": \"\",\n        \"description\": \"\"\n      }\n    },\n    {\n      \"column\": \"category\",\n      \"properties\": {\n        \"dtype\": \"category\",\n        \"num_unique_values\": 4,\n        \"samples\": [\n          \"Career\",\n          \"Education\"\n        ],\n        \"semantic_type\": \"\",\n        \"description\": \"\"\n      }\n    },\n    {\n      \"column\": \"title1\",\n      \"properties\": {\n        \"dtype\": \"string\",\n        \"num_unique_values\": 9889,\n        \"samples\": [\n          \"EU AI Act: Deep dive into the obligations under the EU AI Act and How to Prepare for Compliance\",\n          \"ai : When It Helps and When It Hurts\"\n        ],\n        \"semantic_type\": \"\",\n        \"description\": \"\"\n      }\n    },\n    {\n      \"column\": \"Topic\",\n      \"properties\": {\n        \"dtype\": \"number\",\n        \"std\": 22,\n        \"min\": -1,\n        \"max\": 87,\n        \"num_unique_values\": 89,\n        \"samples\": [\n          23,\n          52\n        ],\n        \"semantic_type\": \"\",\n        \"description\": \"\"\n      }\n    }\n  ]\n}",
              "type": "dataframe",
              "variable_name": "df"
            },
            "text/html": [
              "\n",
              "  <div id=\"df-bb285571-e452-47b1-a923-a6811facd0a9\" class=\"colab-df-container\">\n",
              "    <div>\n",
              "<style scoped>\n",
              "    .dataframe tbody tr th:only-of-type {\n",
              "        vertical-align: middle;\n",
              "    }\n",
              "\n",
              "    .dataframe tbody tr th {\n",
              "        vertical-align: top;\n",
              "    }\n",
              "\n",
              "    .dataframe thead th {\n",
              "        text-align: right;\n",
              "    }\n",
              "</style>\n",
              "<table border=\"1\" class=\"dataframe\">\n",
              "  <thead>\n",
              "    <tr style=\"text-align: right;\">\n",
              "      <th></th>\n",
              "      <th>Unnamed: 0.1</th>\n",
              "      <th>Unnamed: 0</th>\n",
              "      <th>date</th>\n",
              "      <th>title</th>\n",
              "      <th>source</th>\n",
              "      <th>number_of_characters_title</th>\n",
              "      <th>number_of_words_title</th>\n",
              "      <th>day_of_week</th>\n",
              "      <th>month</th>\n",
              "      <th>year</th>\n",
              "      <th>quarter</th>\n",
              "      <th>is_weekend</th>\n",
              "      <th>category</th>\n",
              "      <th>title1</th>\n",
              "      <th>Topic</th>\n",
              "    </tr>\n",
              "  </thead>\n",
              "  <tbody>\n",
              "    <tr>\n",
              "      <th>0</th>\n",
              "      <td>0</td>\n",
              "      <td>0</td>\n",
              "      <td>2024-10-14</td>\n",
              "      <td>will.i.am and Fyilicia on the AI revolution, i...</td>\n",
              "      <td>Evening Standard</td>\n",
              "      <td>122</td>\n",
              "      <td>20</td>\n",
              "      <td>Monday</td>\n",
              "      <td>October</td>\n",
              "      <td>2024</td>\n",
              "      <td>4</td>\n",
              "      <td>False</td>\n",
              "      <td>Other</td>\n",
              "      <td>will.i.am and Fyilicia on the AI revolution, i...</td>\n",
              "      <td>72</td>\n",
              "    </tr>\n",
              "    <tr>\n",
              "      <th>1</th>\n",
              "      <td>1</td>\n",
              "      <td>1</td>\n",
              "      <td>2024-02-21</td>\n",
              "      <td>Intel Launches World’s First Systems Foundry D...</td>\n",
              "      <td>Investor Relations :: Intel Corporation (INTC)</td>\n",
              "      <td>117</td>\n",
              "      <td>18</td>\n",
              "      <td>Wednesday</td>\n",
              "      <td>February</td>\n",
              "      <td>2024</td>\n",
              "      <td>1</td>\n",
              "      <td>False</td>\n",
              "      <td>Other</td>\n",
              "      <td>Intel Launches World’s First Systems Foundry D...</td>\n",
              "      <td>-1</td>\n",
              "    </tr>\n",
              "    <tr>\n",
              "      <th>2</th>\n",
              "      <td>2</td>\n",
              "      <td>2</td>\n",
              "      <td>2024-02-05</td>\n",
              "      <td>The Unique Challenges of Selling Enterprise AI</td>\n",
              "      <td>Emerge</td>\n",
              "      <td>54</td>\n",
              "      <td>9</td>\n",
              "      <td>Monday</td>\n",
              "      <td>February</td>\n",
              "      <td>2024</td>\n",
              "      <td>1</td>\n",
              "      <td>False</td>\n",
              "      <td>Career</td>\n",
              "      <td>The Unique Challenges of Selling Enterprise AI</td>\n",
              "      <td>11</td>\n",
              "    </tr>\n",
              "    <tr>\n",
              "      <th>3</th>\n",
              "      <td>3</td>\n",
              "      <td>3</td>\n",
              "      <td>2024-08-28</td>\n",
              "      <td>Contentious California AI bill passes legislat...</td>\n",
              "      <td>Reuters</td>\n",
              "      <td>88</td>\n",
              "      <td>11</td>\n",
              "      <td>Wednesday</td>\n",
              "      <td>August</td>\n",
              "      <td>2024</td>\n",
              "      <td>3</td>\n",
              "      <td>False</td>\n",
              "      <td>Other</td>\n",
              "      <td>Contentious California AI bill passes legislat...</td>\n",
              "      <td>27</td>\n",
              "    </tr>\n",
              "    <tr>\n",
              "      <th>4</th>\n",
              "      <td>4</td>\n",
              "      <td>4</td>\n",
              "      <td>2024-10-15</td>\n",
              "      <td>Exploring Genius, Creation, and Humanity in th...</td>\n",
              "      <td>University of Aberdeen</td>\n",
              "      <td>82</td>\n",
              "      <td>14</td>\n",
              "      <td>Tuesday</td>\n",
              "      <td>October</td>\n",
              "      <td>2024</td>\n",
              "      <td>4</td>\n",
              "      <td>False</td>\n",
              "      <td>Other</td>\n",
              "      <td>Exploring Genius, Creation, and Humanity in th...</td>\n",
              "      <td>-1</td>\n",
              "    </tr>\n",
              "  </tbody>\n",
              "</table>\n",
              "</div>\n",
              "    <div class=\"colab-df-buttons\">\n",
              "\n",
              "  <div class=\"colab-df-container\">\n",
              "    <button class=\"colab-df-convert\" onclick=\"convertToInteractive('df-bb285571-e452-47b1-a923-a6811facd0a9')\"\n",
              "            title=\"Convert this dataframe to an interactive table.\"\n",
              "            style=\"display:none;\">\n",
              "\n",
              "  <svg xmlns=\"http://www.w3.org/2000/svg\" height=\"24px\" viewBox=\"0 -960 960 960\">\n",
              "    <path d=\"M120-120v-720h720v720H120Zm60-500h600v-160H180v160Zm220 220h160v-160H400v160Zm0 220h160v-160H400v160ZM180-400h160v-160H180v160Zm440 0h160v-160H620v160ZM180-180h160v-160H180v160Zm440 0h160v-160H620v160Z\"/>\n",
              "  </svg>\n",
              "    </button>\n",
              "\n",
              "  <style>\n",
              "    .colab-df-container {\n",
              "      display:flex;\n",
              "      gap: 12px;\n",
              "    }\n",
              "\n",
              "    .colab-df-convert {\n",
              "      background-color: #E8F0FE;\n",
              "      border: none;\n",
              "      border-radius: 50%;\n",
              "      cursor: pointer;\n",
              "      display: none;\n",
              "      fill: #1967D2;\n",
              "      height: 32px;\n",
              "      padding: 0 0 0 0;\n",
              "      width: 32px;\n",
              "    }\n",
              "\n",
              "    .colab-df-convert:hover {\n",
              "      background-color: #E2EBFA;\n",
              "      box-shadow: 0px 1px 2px rgba(60, 64, 67, 0.3), 0px 1px 3px 1px rgba(60, 64, 67, 0.15);\n",
              "      fill: #174EA6;\n",
              "    }\n",
              "\n",
              "    .colab-df-buttons div {\n",
              "      margin-bottom: 4px;\n",
              "    }\n",
              "\n",
              "    [theme=dark] .colab-df-convert {\n",
              "      background-color: #3B4455;\n",
              "      fill: #D2E3FC;\n",
              "    }\n",
              "\n",
              "    [theme=dark] .colab-df-convert:hover {\n",
              "      background-color: #434B5C;\n",
              "      box-shadow: 0px 1px 3px 1px rgba(0, 0, 0, 0.15);\n",
              "      filter: drop-shadow(0px 1px 2px rgba(0, 0, 0, 0.3));\n",
              "      fill: #FFFFFF;\n",
              "    }\n",
              "  </style>\n",
              "\n",
              "    <script>\n",
              "      const buttonEl =\n",
              "        document.querySelector('#df-bb285571-e452-47b1-a923-a6811facd0a9 button.colab-df-convert');\n",
              "      buttonEl.style.display =\n",
              "        google.colab.kernel.accessAllowed ? 'block' : 'none';\n",
              "\n",
              "      async function convertToInteractive(key) {\n",
              "        const element = document.querySelector('#df-bb285571-e452-47b1-a923-a6811facd0a9');\n",
              "        const dataTable =\n",
              "          await google.colab.kernel.invokeFunction('convertToInteractive',\n",
              "                                                    [key], {});\n",
              "        if (!dataTable) return;\n",
              "\n",
              "        const docLinkHtml = 'Like what you see? Visit the ' +\n",
              "          '<a target=\"_blank\" href=https://colab.research.google.com/notebooks/data_table.ipynb>data table notebook</a>'\n",
              "          + ' to learn more about interactive tables.';\n",
              "        element.innerHTML = '';\n",
              "        dataTable['output_type'] = 'display_data';\n",
              "        await google.colab.output.renderOutput(dataTable, element);\n",
              "        const docLink = document.createElement('div');\n",
              "        docLink.innerHTML = docLinkHtml;\n",
              "        element.appendChild(docLink);\n",
              "      }\n",
              "    </script>\n",
              "  </div>\n",
              "\n",
              "\n",
              "<div id=\"df-2842b266-a07f-4c05-9c08-b7664922211c\">\n",
              "  <button class=\"colab-df-quickchart\" onclick=\"quickchart('df-2842b266-a07f-4c05-9c08-b7664922211c')\"\n",
              "            title=\"Suggest charts\"\n",
              "            style=\"display:none;\">\n",
              "\n",
              "<svg xmlns=\"http://www.w3.org/2000/svg\" height=\"24px\"viewBox=\"0 0 24 24\"\n",
              "     width=\"24px\">\n",
              "    <g>\n",
              "        <path d=\"M19 3H5c-1.1 0-2 .9-2 2v14c0 1.1.9 2 2 2h14c1.1 0 2-.9 2-2V5c0-1.1-.9-2-2-2zM9 17H7v-7h2v7zm4 0h-2V7h2v10zm4 0h-2v-4h2v4z\"/>\n",
              "    </g>\n",
              "</svg>\n",
              "  </button>\n",
              "\n",
              "<style>\n",
              "  .colab-df-quickchart {\n",
              "      --bg-color: #E8F0FE;\n",
              "      --fill-color: #1967D2;\n",
              "      --hover-bg-color: #E2EBFA;\n",
              "      --hover-fill-color: #174EA6;\n",
              "      --disabled-fill-color: #AAA;\n",
              "      --disabled-bg-color: #DDD;\n",
              "  }\n",
              "\n",
              "  [theme=dark] .colab-df-quickchart {\n",
              "      --bg-color: #3B4455;\n",
              "      --fill-color: #D2E3FC;\n",
              "      --hover-bg-color: #434B5C;\n",
              "      --hover-fill-color: #FFFFFF;\n",
              "      --disabled-bg-color: #3B4455;\n",
              "      --disabled-fill-color: #666;\n",
              "  }\n",
              "\n",
              "  .colab-df-quickchart {\n",
              "    background-color: var(--bg-color);\n",
              "    border: none;\n",
              "    border-radius: 50%;\n",
              "    cursor: pointer;\n",
              "    display: none;\n",
              "    fill: var(--fill-color);\n",
              "    height: 32px;\n",
              "    padding: 0;\n",
              "    width: 32px;\n",
              "  }\n",
              "\n",
              "  .colab-df-quickchart:hover {\n",
              "    background-color: var(--hover-bg-color);\n",
              "    box-shadow: 0 1px 2px rgba(60, 64, 67, 0.3), 0 1px 3px 1px rgba(60, 64, 67, 0.15);\n",
              "    fill: var(--button-hover-fill-color);\n",
              "  }\n",
              "\n",
              "  .colab-df-quickchart-complete:disabled,\n",
              "  .colab-df-quickchart-complete:disabled:hover {\n",
              "    background-color: var(--disabled-bg-color);\n",
              "    fill: var(--disabled-fill-color);\n",
              "    box-shadow: none;\n",
              "  }\n",
              "\n",
              "  .colab-df-spinner {\n",
              "    border: 2px solid var(--fill-color);\n",
              "    border-color: transparent;\n",
              "    border-bottom-color: var(--fill-color);\n",
              "    animation:\n",
              "      spin 1s steps(1) infinite;\n",
              "  }\n",
              "\n",
              "  @keyframes spin {\n",
              "    0% {\n",
              "      border-color: transparent;\n",
              "      border-bottom-color: var(--fill-color);\n",
              "      border-left-color: var(--fill-color);\n",
              "    }\n",
              "    20% {\n",
              "      border-color: transparent;\n",
              "      border-left-color: var(--fill-color);\n",
              "      border-top-color: var(--fill-color);\n",
              "    }\n",
              "    30% {\n",
              "      border-color: transparent;\n",
              "      border-left-color: var(--fill-color);\n",
              "      border-top-color: var(--fill-color);\n",
              "      border-right-color: var(--fill-color);\n",
              "    }\n",
              "    40% {\n",
              "      border-color: transparent;\n",
              "      border-right-color: var(--fill-color);\n",
              "      border-top-color: var(--fill-color);\n",
              "    }\n",
              "    60% {\n",
              "      border-color: transparent;\n",
              "      border-right-color: var(--fill-color);\n",
              "    }\n",
              "    80% {\n",
              "      border-color: transparent;\n",
              "      border-right-color: var(--fill-color);\n",
              "      border-bottom-color: var(--fill-color);\n",
              "    }\n",
              "    90% {\n",
              "      border-color: transparent;\n",
              "      border-bottom-color: var(--fill-color);\n",
              "    }\n",
              "  }\n",
              "</style>\n",
              "\n",
              "  <script>\n",
              "    async function quickchart(key) {\n",
              "      const quickchartButtonEl =\n",
              "        document.querySelector('#' + key + ' button');\n",
              "      quickchartButtonEl.disabled = true;  // To prevent multiple clicks.\n",
              "      quickchartButtonEl.classList.add('colab-df-spinner');\n",
              "      try {\n",
              "        const charts = await google.colab.kernel.invokeFunction(\n",
              "            'suggestCharts', [key], {});\n",
              "      } catch (error) {\n",
              "        console.error('Error during call to suggestCharts:', error);\n",
              "      }\n",
              "      quickchartButtonEl.classList.remove('colab-df-spinner');\n",
              "      quickchartButtonEl.classList.add('colab-df-quickchart-complete');\n",
              "    }\n",
              "    (() => {\n",
              "      let quickchartButtonEl =\n",
              "        document.querySelector('#df-2842b266-a07f-4c05-9c08-b7664922211c button');\n",
              "      quickchartButtonEl.style.display =\n",
              "        google.colab.kernel.accessAllowed ? 'block' : 'none';\n",
              "    })();\n",
              "  </script>\n",
              "</div>\n",
              "\n",
              "    </div>\n",
              "  </div>\n"
            ],
            "text/plain": [
              "   Unnamed: 0.1  Unnamed: 0        date  \\\n",
              "0             0           0  2024-10-14   \n",
              "1             1           1  2024-02-21   \n",
              "2             2           2  2024-02-05   \n",
              "3             3           3  2024-08-28   \n",
              "4             4           4  2024-10-15   \n",
              "\n",
              "                                               title  \\\n",
              "0  will.i.am and Fyilicia on the AI revolution, i...   \n",
              "1  Intel Launches World’s First Systems Foundry D...   \n",
              "2     The Unique Challenges of Selling Enterprise AI   \n",
              "3  Contentious California AI bill passes legislat...   \n",
              "4  Exploring Genius, Creation, and Humanity in th...   \n",
              "\n",
              "                                           source  number_of_characters_title  \\\n",
              "0                                Evening Standard                         122   \n",
              "1  Investor Relations :: Intel Corporation (INTC)                         117   \n",
              "2                                          Emerge                          54   \n",
              "3                                         Reuters                          88   \n",
              "4                          University of Aberdeen                          82   \n",
              "\n",
              "   number_of_words_title day_of_week     month  year  quarter  is_weekend  \\\n",
              "0                     20      Monday   October  2024        4       False   \n",
              "1                     18   Wednesday  February  2024        1       False   \n",
              "2                      9      Monday  February  2024        1       False   \n",
              "3                     11   Wednesday    August  2024        3       False   \n",
              "4                     14     Tuesday   October  2024        4       False   \n",
              "\n",
              "  category                                             title1  Topic  \n",
              "0    Other  will.i.am and Fyilicia on the AI revolution, i...     72  \n",
              "1    Other  Intel Launches World’s First Systems Foundry D...     -1  \n",
              "2   Career     The Unique Challenges of Selling Enterprise AI     11  \n",
              "3    Other  Contentious California AI bill passes legislat...     27  \n",
              "4    Other  Exploring Genius, Creation, and Humanity in th...     -1  "
            ]
          },
          "execution_count": 12,
          "metadata": {},
          "output_type": "execute_result"
        }
      ],
      "source": [
        "df.head()"
      ]
    },
    {
      "cell_type": "code",
      "execution_count": null,
      "metadata": {
        "id": "p737nD-BE-M0"
      },
      "outputs": [],
      "source": [
        "# changing artificial intelligence to ai\n",
        "df['title1'] = df['title'].apply(lambda x: re.sub(r'(?i)\\s*artificial\\s+intelligence\\s*', ' ai ', x))\n",
        "df['title1'] = df['title1'].apply(lambda x: x.strip())\n",
        "# removing consecutive ai terms\n",
        "df['title1']=df['title1'].apply(lambda x:  re.sub(r'(ai\\s+)+', 'ai ', x))\n",
        "df['title1'] = df['title1'].apply(lambda x: x.strip())"
      ]
    },
    {
      "cell_type": "code",
      "execution_count": null,
      "metadata": {
        "id": "QAFHjRw7Bd4h"
      },
      "outputs": [],
      "source": [
        "texts = list(df['title1'])"
      ]
    },
    {
      "cell_type": "markdown",
      "metadata": {
        "id": "_r32z28rgIe0"
      },
      "source": [
        "### Importing Bertopic model and analysis"
      ]
    },
    {
      "cell_type": "code",
      "execution_count": null,
      "metadata": {
        "colab": {
          "base_uri": "https://localhost:8080/",
          "height": 664,
          "referenced_widgets": [
            "b4c160c316bd491c8ece3ed687efc7b7",
            "b61974c09b1a4071a0fb70fd77ac8d98",
            "76d7fe4a523743029a6bacaff5a1cd8a",
            "9141a31f58634ad9a80de04691897076",
            "21a2cb516fce42938160d95e11091594",
            "280a5baad7094bf7b65b8694a75097d5",
            "dcdcd1f17f764b6b8017a1aa24b2e385",
            "b463c474d4d74d3f8ff4c15d7ff99439",
            "957d0b19b13845dfa5ea32b1a4d5d186",
            "86c5d597ba8444b3b21f90813504eee8",
            "002f7ab5e64a4e4db9116eea286acb7c",
            "861394ab37d842289c5febef2b4563f7",
            "46edcaeeb8cb4696a98d70aec8d1c07a",
            "46cfa360fd8f41f0aea4a52ab14137e9",
            "1c6a9a81ac84434a8f184ab16cb33904",
            "68b094218d3b476b94d0a395b3c9fd7b",
            "ec1e9382a86a48b09174f8144ba758d5",
            "f335363674704507b1abf4866d988427",
            "41b2455a1bb34ca2944d0bbfda246499",
            "fe8354b8fee949389c5b8524ebe393d0",
            "cb7bba5d5e1d4bbb804998d873297087",
            "876372535c4646a1bf5c71be05e510ba",
            "c94e3c4a4c9248d5a6546a958804f21e",
            "543263b682144a038f1066b3738c30a7",
            "0166b446786f48339fc24d0a0fcf6c1b",
            "4d75132b8f6f4327a34f19243d7ba388",
            "a87d80e4999c4933895aae56d34126fd",
            "e8b16b5092594fbfb59a10fd5a71d3da",
            "3e379f43c8be46839ea0158114b634a7",
            "ea0d1cecf57242b1bdc5e4e5338545fa",
            "ee9546f0d15e4bf6baae9e13fc28ecd2",
            "c2475b20a0c443d692900b409399bd74",
            "c3f8a1adba2b4657b52e7856612a530e",
            "05bf1a9892cb4344a6f2a341186c16e5",
            "f913d1c9f7ee4020bfaa999102fff1e2",
            "050234c1f2b644db898e12594bd6a5bf",
            "30e25049397a477baedbb4e3d4790b67",
            "0e8e1d23f97a46e2a52f9e4f0a681863",
            "42e2941149ae4690bcf8ef44f846bcad",
            "65bb30423ac949558a510263251d7d99",
            "7fc133e8f38541898abe69e1654cbc4c",
            "fb93b2527b664ae4a554cd7b823a171f",
            "1f4c428f6ce9453785dbb20207e12e2c",
            "964a28ba2ea849359246da4ae4e4b132",
            "2982161bdb774b95931bdda5971f6ce2",
            "b38930a024f54178aea17071d8463114",
            "0043a18b6b354c72b547e57dc96346c0",
            "06bbe6211b10498ab8fb11e76433ab87",
            "229e309dfe084afa9de7bb4a38aea39f",
            "5fd47537d4b5408db7e88689febe17a1",
            "34a3ae0420ee4ed9a916a737443ae596",
            "75068580ac434aae966eb5c5f813624f",
            "a77a830e27c34cc1af22173f8dc67962",
            "26d639cb437a40cbaf1bb795cfdc630e",
            "32a095f427ed4de39c0d4bb723ada10d",
            "8bfec7e4cff645ed91bb72d56ce9885a",
            "89188e56b7d44486b3ed6cdd840e822a",
            "3308b361bcb0485a89650b56785d5d6d",
            "005956174f0b49e59b1b2a3a8380d213",
            "10424f32a94d4105ab1b8e511cf1b411",
            "4b89dce932a34d4bab40da839a398897",
            "2753e7510d27471ab17f529cdd30f2e5",
            "d436733813014994abcf3a12025a68dd",
            "fac4deec7bec4b42ab74862bf85af4d4",
            "0ca55d48dfa84400be61fc1173dd3f43",
            "872999e2baeb4b9394c73ef9ad368f31",
            "08440e87b30d41f6ac5e9c2cbddde9e8",
            "baac72b5248047cea5fc6f1c9fa30757",
            "de6c98d868d7429fa2bf6e53e0719043",
            "a12f0238e1814a75a3d7ecf83c3c7985",
            "49ec5a4031814966a6f61025d742b8c0",
            "2d4f21c835b1416cbf737c0917a8c33e",
            "1886ad29d6a74246afdb3101481854fa",
            "cc0c7812806f40b98c499310751716ef",
            "6a3a65f9d21a4527bcee72c0ad10f24d",
            "99a1c0f4b11846409b07b19fc43f020e",
            "e1fe67bb0b354211ad841138d8bef36c",
            "ec3b68d4b1a8431eae5ed4d82ae5566f",
            "4c8415283ed34555a4a738d33c499765",
            "d777e8951e4a4556ba6bf0a6f9ae5ea2",
            "27030edeb2a94e7e9150f73389621050",
            "a489812b81f14da892fdedf3219a9144",
            "1295297d3aca4f7ba5e6e2ed0465392c",
            "36aa7595bb8a4aca8c2cbf6988621eb5",
            "87a54af972d24342b1b24556b8331acb",
            "289ddaf02ea84152b4b9598821504c6d",
            "5805092ac1c34f7c91d5cea0132a7dc4",
            "e972305c05af45ae82f8780bec10b542",
            "b0654c3bdbf44a919503cd83a3727298",
            "aa5d2b635a7c4a369460b7e455eb124c",
            "cd0455cf30e147749b43d331744f09c7",
            "4f3bd4addcdb44d9b57fbff3d6c6b58a",
            "4bb7566daf8744da863029308a1c3114",
            "e7428de76bce45df9021ddf827db221f",
            "962ad15d92d24ff487daf78eb8540094",
            "571a46e5928244c094c090cbd8fdcd5c",
            "919dad0ed49147078a75c64937168830",
            "826b16fb17c04391a3dd96544223d3a7",
            "e30f93d488c4407a9a885ecca0256577",
            "5dce241f83c245aaa7d9feca059786d9",
            "04933b20d25849e9af0f97b2c0ab5734",
            "1169effefaeb4f948eb4a179e18ae96a",
            "a4ee0a58be6148ca985cfc9b14b63bfe",
            "1cbc3af9140b4cf0acdff25855482606",
            "46213585e44b4cca9b79355c1a6830dc",
            "08ee24ccf2cd4539a85a8ddf411c110a",
            "8eb5ac7223d14a5ca4213aedf7207b98",
            "dce54d29ac5f48c8919cea92a42306f4",
            "5a377a4af60446a69f7339fead0c9690",
            "6d6434110fbe49519ff8123da668a051",
            "582066cbab454609902baf0acb45f887",
            "e4dda8c93a8e434bb0cea7d7fc221037",
            "75c40d94b52b485e8715531e1f82b282",
            "38d00e4acfe642928cb97650d8356d68",
            "d8acea5b58a14d46802e4bd60fac958f",
            "ebb4e8acacb24306a546cb969a45ea7d",
            "c2397c79bb0049d5847e6a099cc88c2d",
            "bcc53275d9064e809abdc85f1539a8c6",
            "c1fb358d229b4964afb6cfd961652619",
            "a7905cd3ee004773a62b845a156f921d",
            "1c3b8151f96349279272727a58f33c5c"
          ]
        },
        "id": "PmmgkP8BBiXV",
        "outputId": "4960651f-cc4e-4d90-fc24-9f26dc361afa"
      },
      "outputs": [
        {
          "name": "stderr",
          "output_type": "stream",
          "text": [
            "/usr/local/lib/python3.11/dist-packages/huggingface_hub/utils/_auth.py:94: UserWarning: \n",
            "The secret `HF_TOKEN` does not exist in your Colab secrets.\n",
            "To authenticate with the Hugging Face Hub, create a token in your settings tab (https://huggingface.co/settings/tokens), set it as secret in your Google Colab and restart your session.\n",
            "You will be able to reuse this secret in all of your notebooks.\n",
            "Please note that authentication is recommended but still optional to access public models or datasets.\n",
            "  warnings.warn(\n"
          ]
        },
        {
          "data": {
            "application/vnd.jupyter.widget-view+json": {
              "model_id": "b4c160c316bd491c8ece3ed687efc7b7",
              "version_major": 2,
              "version_minor": 0
            },
            "text/plain": [
              "modules.json:   0%|          | 0.00/349 [00:00<?, ?B/s]"
            ]
          },
          "metadata": {},
          "output_type": "display_data"
        },
        {
          "data": {
            "application/vnd.jupyter.widget-view+json": {
              "model_id": "861394ab37d842289c5febef2b4563f7",
              "version_major": 2,
              "version_minor": 0
            },
            "text/plain": [
              "config_sentence_transformers.json:   0%|          | 0.00/116 [00:00<?, ?B/s]"
            ]
          },
          "metadata": {},
          "output_type": "display_data"
        },
        {
          "data": {
            "application/vnd.jupyter.widget-view+json": {
              "model_id": "c94e3c4a4c9248d5a6546a958804f21e",
              "version_major": 2,
              "version_minor": 0
            },
            "text/plain": [
              "README.md:   0%|          | 0.00/10.5k [00:00<?, ?B/s]"
            ]
          },
          "metadata": {},
          "output_type": "display_data"
        },
        {
          "data": {
            "application/vnd.jupyter.widget-view+json": {
              "model_id": "05bf1a9892cb4344a6f2a341186c16e5",
              "version_major": 2,
              "version_minor": 0
            },
            "text/plain": [
              "sentence_bert_config.json:   0%|          | 0.00/53.0 [00:00<?, ?B/s]"
            ]
          },
          "metadata": {},
          "output_type": "display_data"
        },
        {
          "data": {
            "application/vnd.jupyter.widget-view+json": {
              "model_id": "2982161bdb774b95931bdda5971f6ce2",
              "version_major": 2,
              "version_minor": 0
            },
            "text/plain": [
              "config.json:   0%|          | 0.00/612 [00:00<?, ?B/s]"
            ]
          },
          "metadata": {},
          "output_type": "display_data"
        },
        {
          "data": {
            "application/vnd.jupyter.widget-view+json": {
              "model_id": "8bfec7e4cff645ed91bb72d56ce9885a",
              "version_major": 2,
              "version_minor": 0
            },
            "text/plain": [
              "model.safetensors:   0%|          | 0.00/90.9M [00:00<?, ?B/s]"
            ]
          },
          "metadata": {},
          "output_type": "display_data"
        },
        {
          "data": {
            "application/vnd.jupyter.widget-view+json": {
              "model_id": "08440e87b30d41f6ac5e9c2cbddde9e8",
              "version_major": 2,
              "version_minor": 0
            },
            "text/plain": [
              "tokenizer_config.json:   0%|          | 0.00/350 [00:00<?, ?B/s]"
            ]
          },
          "metadata": {},
          "output_type": "display_data"
        },
        {
          "data": {
            "application/vnd.jupyter.widget-view+json": {
              "model_id": "ec3b68d4b1a8431eae5ed4d82ae5566f",
              "version_major": 2,
              "version_minor": 0
            },
            "text/plain": [
              "vocab.txt:   0%|          | 0.00/232k [00:00<?, ?B/s]"
            ]
          },
          "metadata": {},
          "output_type": "display_data"
        },
        {
          "data": {
            "application/vnd.jupyter.widget-view+json": {
              "model_id": "b0654c3bdbf44a919503cd83a3727298",
              "version_major": 2,
              "version_minor": 0
            },
            "text/plain": [
              "tokenizer.json:   0%|          | 0.00/466k [00:00<?, ?B/s]"
            ]
          },
          "metadata": {},
          "output_type": "display_data"
        },
        {
          "data": {
            "application/vnd.jupyter.widget-view+json": {
              "model_id": "5dce241f83c245aaa7d9feca059786d9",
              "version_major": 2,
              "version_minor": 0
            },
            "text/plain": [
              "special_tokens_map.json:   0%|          | 0.00/112 [00:00<?, ?B/s]"
            ]
          },
          "metadata": {},
          "output_type": "display_data"
        },
        {
          "data": {
            "application/vnd.jupyter.widget-view+json": {
              "model_id": "582066cbab454609902baf0acb45f887",
              "version_major": 2,
              "version_minor": 0
            },
            "text/plain": [
              "config.json:   0%|          | 0.00/190 [00:00<?, ?B/s]"
            ]
          },
          "metadata": {},
          "output_type": "display_data"
        },
        {
          "ename": "NameError",
          "evalue": "name 'texts' is not defined",
          "output_type": "error",
          "traceback": [
            "\u001b[0;31m---------------------------------------------------------------------------\u001b[0m",
            "\u001b[0;31mNameError\u001b[0m                                 Traceback (most recent call last)",
            "\u001b[0;32m<ipython-input-4-30bc57995a72>\u001b[0m in \u001b[0;36m<cell line: 0>\u001b[0;34m()\u001b[0m\n\u001b[1;32m      3\u001b[0m \u001b[0;31m# Embeddings\u001b[0m\u001b[0;34m\u001b[0m\u001b[0;34m\u001b[0m\u001b[0m\n\u001b[1;32m      4\u001b[0m \u001b[0membedding_model\u001b[0m \u001b[0;34m=\u001b[0m \u001b[0mSentenceTransformer\u001b[0m\u001b[0;34m(\u001b[0m\u001b[0;34m'all-MiniLM-L6-v2'\u001b[0m\u001b[0;34m)\u001b[0m\u001b[0;34m\u001b[0m\u001b[0;34m\u001b[0m\u001b[0m\n\u001b[0;32m----> 5\u001b[0;31m \u001b[0membeddings\u001b[0m \u001b[0;34m=\u001b[0m \u001b[0membedding_model\u001b[0m\u001b[0;34m.\u001b[0m\u001b[0mencode\u001b[0m\u001b[0;34m(\u001b[0m\u001b[0mtexts\u001b[0m\u001b[0;34m,\u001b[0m \u001b[0mshow_progress_bar\u001b[0m\u001b[0;34m=\u001b[0m\u001b[0;32mTrue\u001b[0m\u001b[0;34m)\u001b[0m\u001b[0;34m\u001b[0m\u001b[0;34m\u001b[0m\u001b[0m\n\u001b[0m\u001b[1;32m      6\u001b[0m \u001b[0membeddings\u001b[0m\u001b[0;34m.\u001b[0m\u001b[0mshape\u001b[0m\u001b[0;34m\u001b[0m\u001b[0;34m\u001b[0m\u001b[0m\n",
            "\u001b[0;31mNameError\u001b[0m: name 'texts' is not defined"
          ]
        }
      ],
      "source": [
        "from sentence_transformers import SentenceTransformer\n",
        "\n",
        "# Embeddings\n",
        "embedding_model = SentenceTransformer('all-MiniLM-L6-v2')\n",
        "embeddings = embedding_model.encode(texts, show_progress_bar=True)\n",
        "embeddings.shape"
      ]
    },
    {
      "cell_type": "code",
      "execution_count": null,
      "metadata": {
        "colab": {
          "base_uri": "https://localhost:8080/",
          "height": 1000
        },
        "id": "LGxfcLju5N0N",
        "outputId": "134d241b-7f01-42b6-cabe-c67fdb15d042"
      },
      "outputs": [
        {
          "name": "stdout",
          "output_type": "stream",
          "text": [
            "Collecting bertopic\n",
            "  Downloading bertopic-0.16.4-py3-none-any.whl.metadata (23 kB)\n",
            "Requirement already satisfied: hdbscan>=0.8.29 in /usr/local/lib/python3.11/dist-packages (from bertopic) (0.8.40)\n",
            "Requirement already satisfied: numpy>=1.20.0 in /usr/local/lib/python3.11/dist-packages (from bertopic) (1.26.4)\n",
            "Requirement already satisfied: pandas>=1.1.5 in /usr/local/lib/python3.11/dist-packages (from bertopic) (2.2.2)\n",
            "Requirement already satisfied: plotly>=4.7.0 in /usr/local/lib/python3.11/dist-packages (from bertopic) (5.24.1)\n",
            "Requirement already satisfied: scikit-learn>=0.22.2.post1 in /usr/local/lib/python3.11/dist-packages (from bertopic) (1.6.1)\n",
            "Requirement already satisfied: sentence-transformers>=0.4.1 in /usr/local/lib/python3.11/dist-packages (from bertopic) (3.4.1)\n",
            "Requirement already satisfied: tqdm>=4.41.1 in /usr/local/lib/python3.11/dist-packages (from bertopic) (4.67.1)\n",
            "Requirement already satisfied: umap-learn>=0.5.0 in /usr/local/lib/python3.11/dist-packages (from bertopic) (0.5.7)\n",
            "Requirement already satisfied: scipy>=1.0 in /usr/local/lib/python3.11/dist-packages (from hdbscan>=0.8.29->bertopic) (1.14.1)\n",
            "Requirement already satisfied: joblib>=1.0 in /usr/local/lib/python3.11/dist-packages (from hdbscan>=0.8.29->bertopic) (1.4.2)\n",
            "Requirement already satisfied: python-dateutil>=2.8.2 in /usr/local/lib/python3.11/dist-packages (from pandas>=1.1.5->bertopic) (2.8.2)\n",
            "Requirement already satisfied: pytz>=2020.1 in /usr/local/lib/python3.11/dist-packages (from pandas>=1.1.5->bertopic) (2025.1)\n",
            "Requirement already satisfied: tzdata>=2022.7 in /usr/local/lib/python3.11/dist-packages (from pandas>=1.1.5->bertopic) (2025.1)\n",
            "Requirement already satisfied: tenacity>=6.2.0 in /usr/local/lib/python3.11/dist-packages (from plotly>=4.7.0->bertopic) (9.0.0)\n",
            "Requirement already satisfied: packaging in /usr/local/lib/python3.11/dist-packages (from plotly>=4.7.0->bertopic) (24.2)\n",
            "Requirement already satisfied: threadpoolctl>=3.1.0 in /usr/local/lib/python3.11/dist-packages (from scikit-learn>=0.22.2.post1->bertopic) (3.5.0)\n",
            "Requirement already satisfied: transformers<5.0.0,>=4.41.0 in /usr/local/lib/python3.11/dist-packages (from sentence-transformers>=0.4.1->bertopic) (4.48.3)\n",
            "Requirement already satisfied: torch>=1.11.0 in /usr/local/lib/python3.11/dist-packages (from sentence-transformers>=0.4.1->bertopic) (2.6.0+cu124)\n",
            "Requirement already satisfied: huggingface-hub>=0.20.0 in /usr/local/lib/python3.11/dist-packages (from sentence-transformers>=0.4.1->bertopic) (0.28.1)\n",
            "Requirement already satisfied: Pillow in /usr/local/lib/python3.11/dist-packages (from sentence-transformers>=0.4.1->bertopic) (11.1.0)\n",
            "Requirement already satisfied: numba>=0.51.2 in /usr/local/lib/python3.11/dist-packages (from umap-learn>=0.5.0->bertopic) (0.60.0)\n",
            "Requirement already satisfied: pynndescent>=0.5 in /usr/local/lib/python3.11/dist-packages (from umap-learn>=0.5.0->bertopic) (0.5.13)\n",
            "Requirement already satisfied: filelock in /usr/local/lib/python3.11/dist-packages (from huggingface-hub>=0.20.0->sentence-transformers>=0.4.1->bertopic) (3.17.0)\n",
            "Requirement already satisfied: fsspec>=2023.5.0 in /usr/local/lib/python3.11/dist-packages (from huggingface-hub>=0.20.0->sentence-transformers>=0.4.1->bertopic) (2024.10.0)\n",
            "Requirement already satisfied: pyyaml>=5.1 in /usr/local/lib/python3.11/dist-packages (from huggingface-hub>=0.20.0->sentence-transformers>=0.4.1->bertopic) (6.0.2)\n",
            "Requirement already satisfied: requests in /usr/local/lib/python3.11/dist-packages (from huggingface-hub>=0.20.0->sentence-transformers>=0.4.1->bertopic) (2.32.3)\n",
            "Requirement already satisfied: typing-extensions>=3.7.4.3 in /usr/local/lib/python3.11/dist-packages (from huggingface-hub>=0.20.0->sentence-transformers>=0.4.1->bertopic) (4.12.2)\n",
            "Requirement already satisfied: llvmlite<0.44,>=0.43.0dev0 in /usr/local/lib/python3.11/dist-packages (from numba>=0.51.2->umap-learn>=0.5.0->bertopic) (0.43.0)\n",
            "Requirement already satisfied: six>=1.5 in /usr/local/lib/python3.11/dist-packages (from python-dateutil>=2.8.2->pandas>=1.1.5->bertopic) (1.17.0)\n",
            "Requirement already satisfied: networkx in /usr/local/lib/python3.11/dist-packages (from torch>=1.11.0->sentence-transformers>=0.4.1->bertopic) (3.4.2)\n",
            "Requirement already satisfied: jinja2 in /usr/local/lib/python3.11/dist-packages (from torch>=1.11.0->sentence-transformers>=0.4.1->bertopic) (3.1.6)\n",
            "Collecting nvidia-cuda-nvrtc-cu12==12.4.127 (from torch>=1.11.0->sentence-transformers>=0.4.1->bertopic)\n",
            "  Downloading nvidia_cuda_nvrtc_cu12-12.4.127-py3-none-manylinux2014_x86_64.whl.metadata (1.5 kB)\n",
            "Collecting nvidia-cuda-runtime-cu12==12.4.127 (from torch>=1.11.0->sentence-transformers>=0.4.1->bertopic)\n",
            "  Downloading nvidia_cuda_runtime_cu12-12.4.127-py3-none-manylinux2014_x86_64.whl.metadata (1.5 kB)\n",
            "Collecting nvidia-cuda-cupti-cu12==12.4.127 (from torch>=1.11.0->sentence-transformers>=0.4.1->bertopic)\n",
            "  Downloading nvidia_cuda_cupti_cu12-12.4.127-py3-none-manylinux2014_x86_64.whl.metadata (1.6 kB)\n",
            "Collecting nvidia-cudnn-cu12==9.1.0.70 (from torch>=1.11.0->sentence-transformers>=0.4.1->bertopic)\n",
            "  Downloading nvidia_cudnn_cu12-9.1.0.70-py3-none-manylinux2014_x86_64.whl.metadata (1.6 kB)\n",
            "Collecting nvidia-cublas-cu12==12.4.5.8 (from torch>=1.11.0->sentence-transformers>=0.4.1->bertopic)\n",
            "  Downloading nvidia_cublas_cu12-12.4.5.8-py3-none-manylinux2014_x86_64.whl.metadata (1.5 kB)\n",
            "Collecting nvidia-cufft-cu12==11.2.1.3 (from torch>=1.11.0->sentence-transformers>=0.4.1->bertopic)\n",
            "  Downloading nvidia_cufft_cu12-11.2.1.3-py3-none-manylinux2014_x86_64.whl.metadata (1.5 kB)\n",
            "Collecting nvidia-curand-cu12==10.3.5.147 (from torch>=1.11.0->sentence-transformers>=0.4.1->bertopic)\n",
            "  Downloading nvidia_curand_cu12-10.3.5.147-py3-none-manylinux2014_x86_64.whl.metadata (1.5 kB)\n",
            "Collecting nvidia-cusolver-cu12==11.6.1.9 (from torch>=1.11.0->sentence-transformers>=0.4.1->bertopic)\n",
            "  Downloading nvidia_cusolver_cu12-11.6.1.9-py3-none-manylinux2014_x86_64.whl.metadata (1.6 kB)\n",
            "Collecting nvidia-cusparse-cu12==12.3.1.170 (from torch>=1.11.0->sentence-transformers>=0.4.1->bertopic)\n",
            "  Downloading nvidia_cusparse_cu12-12.3.1.170-py3-none-manylinux2014_x86_64.whl.metadata (1.6 kB)\n",
            "Requirement already satisfied: nvidia-cusparselt-cu12==0.6.2 in /usr/local/lib/python3.11/dist-packages (from torch>=1.11.0->sentence-transformers>=0.4.1->bertopic) (0.6.2)\n",
            "Requirement already satisfied: nvidia-nccl-cu12==2.21.5 in /usr/local/lib/python3.11/dist-packages (from torch>=1.11.0->sentence-transformers>=0.4.1->bertopic) (2.21.5)\n",
            "Requirement already satisfied: nvidia-nvtx-cu12==12.4.127 in /usr/local/lib/python3.11/dist-packages (from torch>=1.11.0->sentence-transformers>=0.4.1->bertopic) (12.4.127)\n",
            "Collecting nvidia-nvjitlink-cu12==12.4.127 (from torch>=1.11.0->sentence-transformers>=0.4.1->bertopic)\n",
            "  Downloading nvidia_nvjitlink_cu12-12.4.127-py3-none-manylinux2014_x86_64.whl.metadata (1.5 kB)\n",
            "Requirement already satisfied: triton==3.2.0 in /usr/local/lib/python3.11/dist-packages (from torch>=1.11.0->sentence-transformers>=0.4.1->bertopic) (3.2.0)\n",
            "Requirement already satisfied: sympy==1.13.1 in /usr/local/lib/python3.11/dist-packages (from torch>=1.11.0->sentence-transformers>=0.4.1->bertopic) (1.13.1)\n",
            "Requirement already satisfied: mpmath<1.4,>=1.1.0 in /usr/local/lib/python3.11/dist-packages (from sympy==1.13.1->torch>=1.11.0->sentence-transformers>=0.4.1->bertopic) (1.3.0)\n",
            "Requirement already satisfied: regex!=2019.12.17 in /usr/local/lib/python3.11/dist-packages (from transformers<5.0.0,>=4.41.0->sentence-transformers>=0.4.1->bertopic) (2024.11.6)\n",
            "Requirement already satisfied: tokenizers<0.22,>=0.21 in /usr/local/lib/python3.11/dist-packages (from transformers<5.0.0,>=4.41.0->sentence-transformers>=0.4.1->bertopic) (0.21.0)\n",
            "Requirement already satisfied: safetensors>=0.4.1 in /usr/local/lib/python3.11/dist-packages (from transformers<5.0.0,>=4.41.0->sentence-transformers>=0.4.1->bertopic) (0.5.3)\n",
            "Requirement already satisfied: MarkupSafe>=2.0 in /usr/local/lib/python3.11/dist-packages (from jinja2->torch>=1.11.0->sentence-transformers>=0.4.1->bertopic) (3.0.2)\n",
            "Requirement already satisfied: charset-normalizer<4,>=2 in /usr/local/lib/python3.11/dist-packages (from requests->huggingface-hub>=0.20.0->sentence-transformers>=0.4.1->bertopic) (3.4.1)\n",
            "Requirement already satisfied: idna<4,>=2.5 in /usr/local/lib/python3.11/dist-packages (from requests->huggingface-hub>=0.20.0->sentence-transformers>=0.4.1->bertopic) (3.10)\n",
            "Requirement already satisfied: urllib3<3,>=1.21.1 in /usr/local/lib/python3.11/dist-packages (from requests->huggingface-hub>=0.20.0->sentence-transformers>=0.4.1->bertopic) (2.3.0)\n",
            "Requirement already satisfied: certifi>=2017.4.17 in /usr/local/lib/python3.11/dist-packages (from requests->huggingface-hub>=0.20.0->sentence-transformers>=0.4.1->bertopic) (2025.1.31)\n",
            "Downloading bertopic-0.16.4-py3-none-any.whl (143 kB)\n",
            "\u001b[2K   \u001b[90m━━━━━━━━━━━━━━━━━━━━━━━━━━━━━━━━━━━━━━━━\u001b[0m \u001b[32m143.7/143.7 kB\u001b[0m \u001b[31m8.8 MB/s\u001b[0m eta \u001b[36m0:00:00\u001b[0m\n",
            "\u001b[?25hDownloading nvidia_cublas_cu12-12.4.5.8-py3-none-manylinux2014_x86_64.whl (363.4 MB)\n",
            "\u001b[2K   \u001b[90m━━━━━━━━━━━━━━━━━━━━━━━━━━━━━━━━━━━━━━━━\u001b[0m \u001b[32m363.4/363.4 MB\u001b[0m \u001b[31m4.3 MB/s\u001b[0m eta \u001b[36m0:00:00\u001b[0m\n",
            "\u001b[?25hDownloading nvidia_cuda_cupti_cu12-12.4.127-py3-none-manylinux2014_x86_64.whl (13.8 MB)\n",
            "\u001b[2K   \u001b[90m━━━━━━━━━━━━━━━━━━━━━━━━━━━━━━━━━━━━━━━━\u001b[0m \u001b[32m13.8/13.8 MB\u001b[0m \u001b[31m59.3 MB/s\u001b[0m eta \u001b[36m0:00:00\u001b[0m\n",
            "\u001b[?25hDownloading nvidia_cuda_nvrtc_cu12-12.4.127-py3-none-manylinux2014_x86_64.whl (24.6 MB)\n",
            "\u001b[2K   \u001b[90m━━━━━━━━━━━━━━━━━━━━━━━━━━━━━━━━━━━━━━━━\u001b[0m \u001b[32m24.6/24.6 MB\u001b[0m \u001b[31m33.6 MB/s\u001b[0m eta \u001b[36m0:00:00\u001b[0m\n",
            "\u001b[?25hDownloading nvidia_cuda_runtime_cu12-12.4.127-py3-none-manylinux2014_x86_64.whl (883 kB)\n",
            "\u001b[2K   \u001b[90m━━━━━━━━━━━━━━━━━━━━━━━━━━━━━━━━━━━━━━━━\u001b[0m \u001b[32m883.7/883.7 kB\u001b[0m \u001b[31m37.0 MB/s\u001b[0m eta \u001b[36m0:00:00\u001b[0m\n",
            "\u001b[?25hDownloading nvidia_cudnn_cu12-9.1.0.70-py3-none-manylinux2014_x86_64.whl (664.8 MB)\n",
            "\u001b[2K   \u001b[90m━━━━━━━━━━━━━━━━━━━━━━━━━━━━━━━━━━━━━━━━\u001b[0m \u001b[32m664.8/664.8 MB\u001b[0m \u001b[31m1.9 MB/s\u001b[0m eta \u001b[36m0:00:00\u001b[0m\n",
            "\u001b[?25hDownloading nvidia_cufft_cu12-11.2.1.3-py3-none-manylinux2014_x86_64.whl (211.5 MB)\n",
            "\u001b[2K   \u001b[90m━━━━━━━━━━━━━━━━━━━━━━━━━━━━━━━━━━━━━━━━\u001b[0m \u001b[32m211.5/211.5 MB\u001b[0m \u001b[31m5.8 MB/s\u001b[0m eta \u001b[36m0:00:00\u001b[0m\n",
            "\u001b[?25hDownloading nvidia_curand_cu12-10.3.5.147-py3-none-manylinux2014_x86_64.whl (56.3 MB)\n",
            "\u001b[2K   \u001b[90m━━━━━━━━━━━━━━━━━━━━━━━━━━━━━━━━━━━━━━━━\u001b[0m \u001b[32m56.3/56.3 MB\u001b[0m \u001b[31m10.7 MB/s\u001b[0m eta \u001b[36m0:00:00\u001b[0m\n",
            "\u001b[?25hDownloading nvidia_cusolver_cu12-11.6.1.9-py3-none-manylinux2014_x86_64.whl (127.9 MB)\n",
            "\u001b[2K   \u001b[90m━━━━━━━━━━━━━━━━━━━━━━━━━━━━━━━━━━━━━━━━\u001b[0m \u001b[32m127.9/127.9 MB\u001b[0m \u001b[31m7.7 MB/s\u001b[0m eta \u001b[36m0:00:00\u001b[0m\n",
            "\u001b[?25hDownloading nvidia_cusparse_cu12-12.3.1.170-py3-none-manylinux2014_x86_64.whl (207.5 MB)\n",
            "\u001b[2K   \u001b[90m━━━━━━━━━━━━━━━━━━━━━━━━━━━━━━━━━━━━━━━━\u001b[0m \u001b[32m207.5/207.5 MB\u001b[0m \u001b[31m2.8 MB/s\u001b[0m eta \u001b[36m0:00:00\u001b[0m\n",
            "\u001b[?25hDownloading nvidia_nvjitlink_cu12-12.4.127-py3-none-manylinux2014_x86_64.whl (21.1 MB)\n",
            "\u001b[2K   \u001b[90m━━━━━━━━━━━━━━━━━━━━━━━━━━━━━━━━━━━━━━━━\u001b[0m \u001b[32m21.1/21.1 MB\u001b[0m \u001b[31m59.9 MB/s\u001b[0m eta \u001b[36m0:00:00\u001b[0m\n",
            "\u001b[?25hInstalling collected packages: nvidia-nvjitlink-cu12, nvidia-curand-cu12, nvidia-cufft-cu12, nvidia-cuda-runtime-cu12, nvidia-cuda-nvrtc-cu12, nvidia-cuda-cupti-cu12, nvidia-cublas-cu12, nvidia-cusparse-cu12, nvidia-cudnn-cu12, nvidia-cusolver-cu12, bertopic\n",
            "  Attempting uninstall: nvidia-nvjitlink-cu12\n",
            "    Found existing installation: nvidia-nvjitlink-cu12 12.5.82\n",
            "    Uninstalling nvidia-nvjitlink-cu12-12.5.82:\n",
            "      Successfully uninstalled nvidia-nvjitlink-cu12-12.5.82\n",
            "  Attempting uninstall: nvidia-curand-cu12\n",
            "    Found existing installation: nvidia-curand-cu12 10.3.6.82\n",
            "    Uninstalling nvidia-curand-cu12-10.3.6.82:\n",
            "      Successfully uninstalled nvidia-curand-cu12-10.3.6.82\n",
            "  Attempting uninstall: nvidia-cufft-cu12\n",
            "    Found existing installation: nvidia-cufft-cu12 11.2.3.61\n",
            "    Uninstalling nvidia-cufft-cu12-11.2.3.61:\n",
            "      Successfully uninstalled nvidia-cufft-cu12-11.2.3.61\n",
            "  Attempting uninstall: nvidia-cuda-runtime-cu12\n",
            "    Found existing installation: nvidia-cuda-runtime-cu12 12.5.82\n",
            "    Uninstalling nvidia-cuda-runtime-cu12-12.5.82:\n",
            "      Successfully uninstalled nvidia-cuda-runtime-cu12-12.5.82\n",
            "  Attempting uninstall: nvidia-cuda-nvrtc-cu12\n",
            "    Found existing installation: nvidia-cuda-nvrtc-cu12 12.5.82\n",
            "    Uninstalling nvidia-cuda-nvrtc-cu12-12.5.82:\n",
            "      Successfully uninstalled nvidia-cuda-nvrtc-cu12-12.5.82\n",
            "  Attempting uninstall: nvidia-cuda-cupti-cu12\n",
            "    Found existing installation: nvidia-cuda-cupti-cu12 12.5.82\n",
            "    Uninstalling nvidia-cuda-cupti-cu12-12.5.82:\n",
            "      Successfully uninstalled nvidia-cuda-cupti-cu12-12.5.82\n",
            "  Attempting uninstall: nvidia-cublas-cu12\n",
            "    Found existing installation: nvidia-cublas-cu12 12.5.3.2\n",
            "    Uninstalling nvidia-cublas-cu12-12.5.3.2:\n",
            "      Successfully uninstalled nvidia-cublas-cu12-12.5.3.2\n",
            "  Attempting uninstall: nvidia-cusparse-cu12\n",
            "    Found existing installation: nvidia-cusparse-cu12 12.5.1.3\n",
            "    Uninstalling nvidia-cusparse-cu12-12.5.1.3:\n",
            "      Successfully uninstalled nvidia-cusparse-cu12-12.5.1.3\n",
            "  Attempting uninstall: nvidia-cudnn-cu12\n",
            "    Found existing installation: nvidia-cudnn-cu12 9.3.0.75\n",
            "    Uninstalling nvidia-cudnn-cu12-9.3.0.75:\n",
            "      Successfully uninstalled nvidia-cudnn-cu12-9.3.0.75\n",
            "  Attempting uninstall: nvidia-cusolver-cu12\n",
            "    Found existing installation: nvidia-cusolver-cu12 11.6.3.83\n",
            "    Uninstalling nvidia-cusolver-cu12-11.6.3.83:\n",
            "      Successfully uninstalled nvidia-cusolver-cu12-11.6.3.83\n",
            "Successfully installed bertopic-0.16.4 nvidia-cublas-cu12-12.4.5.8 nvidia-cuda-cupti-cu12-12.4.127 nvidia-cuda-nvrtc-cu12-12.4.127 nvidia-cuda-runtime-cu12-12.4.127 nvidia-cudnn-cu12-9.1.0.70 nvidia-cufft-cu12-11.2.1.3 nvidia-curand-cu12-10.3.5.147 nvidia-cusolver-cu12-11.6.1.9 nvidia-cusparse-cu12-12.3.1.170 nvidia-nvjitlink-cu12-12.4.127\n"
          ]
        },
        {
          "data": {
            "application/vnd.colab-display-data+json": {
              "id": "446f703895fd450e9795b770f8063457",
              "pip_warning": {
                "packages": [
                  "nvidia"
                ]
              }
            }
          },
          "metadata": {},
          "output_type": "display_data"
        }
      ],
      "source": [
        "pip install bertopic"
      ]
    },
    {
      "cell_type": "code",
      "execution_count": null,
      "metadata": {
        "id": "vaJGc9ajDgki"
      },
      "outputs": [],
      "source": [
        "from bertopic import BERTopic"
      ]
    },
    {
      "cell_type": "code",
      "execution_count": null,
      "metadata": {
        "id": "acvsA2QXQl6H"
      },
      "outputs": [],
      "source": [
        "topic_model = BERTopic.load(\"tmod2\")"
      ]
    },
    {
      "cell_type": "code",
      "execution_count": null,
      "metadata": {
        "colab": {
          "base_uri": "https://localhost:8080/"
        },
        "id": "8lbcGJF4KajD",
        "outputId": "59fcf3e0-b82b-4e78-b1ff-db7490789b4a"
      },
      "outputs": [
        {
          "data": {
            "text/plain": [
              "(UMAP(angular_rp_forest=True, metric='cosine', min_dist=0.0, n_components=100, n_jobs=1, random_state=42, tqdm_kwds={'bar_format': '{desc}: {percentage:3.0f}%| {bar} {n_fmt}/{total_fmt} [{elapsed}]', 'desc': 'Epochs completed', 'disable': True}),\n",
              " HDBSCAN(min_cluster_size=20, prediction_data=True),\n",
              " CountVectorizer(min_df=2, ngram_range=(1, 2), stop_words='english'),\n",
              " ClassTfidfTransformer(reduce_frequent_words=True))"
            ]
          },
          "execution_count": 136,
          "metadata": {},
          "output_type": "execute_result"
        }
      ],
      "source": [
        "topic_model.umap_model,topic_model.hdbscan_model,topic_model.vectorizer_model,topic_model.ctfidf_model"
      ]
    },
    {
      "cell_type": "code",
      "execution_count": null,
      "metadata": {
        "colab": {
          "base_uri": "https://localhost:8080/",
          "height": 527
        },
        "id": "YtEyzemjDTmY",
        "outputId": "0c107902-31d3-40fd-92a4-d138d4bb31e8"
      },
      "outputs": [
        {
          "data": {
            "application/vnd.google.colaboratory.intrinsic+json": {
              "summary": "{\n  \"name\": \"c\",\n  \"rows\": 89,\n  \"fields\": [\n    {\n      \"column\": \"Topic\",\n      \"properties\": {\n        \"dtype\": \"number\",\n        \"std\": 25,\n        \"min\": -1,\n        \"max\": 87,\n        \"num_unique_values\": 89,\n        \"samples\": [\n          43,\n          52,\n          29\n        ],\n        \"semantic_type\": \"\",\n        \"description\": \"\"\n      }\n    },\n    {\n      \"column\": \"Count\",\n      \"properties\": {\n        \"dtype\": \"number\",\n        \"std\": 357,\n        \"min\": 21,\n        \"max\": 3310,\n        \"num_unique_values\": 55,\n        \"samples\": [\n          55,\n          254,\n          54\n        ],\n        \"semantic_type\": \"\",\n        \"description\": \"\"\n      }\n    },\n    {\n      \"column\": \"Name\",\n      \"properties\": {\n        \"dtype\": \"string\",\n        \"num_unique_values\": 89,\n        \"samples\": [\n          \"43_journalism_ai journalism_journalists_journalism ai\",\n          \"52_sustainability_waste_recycling_sustainable\",\n          \"29_music_ai music_songs_song\"\n        ],\n        \"semantic_type\": \"\",\n        \"description\": \"\"\n      }\n    },\n    {\n      \"column\": \"Representation\",\n      \"properties\": {\n        \"dtype\": \"object\",\n        \"semantic_type\": \"\",\n        \"description\": \"\"\n      }\n    },\n    {\n      \"column\": \"KeyBERT\",\n      \"properties\": {\n        \"dtype\": \"object\",\n        \"semantic_type\": \"\",\n        \"description\": \"\"\n      }\n    },\n    {\n      \"column\": \"MMR\",\n      \"properties\": {\n        \"dtype\": \"object\",\n        \"semantic_type\": \"\",\n        \"description\": \"\"\n      }\n    },\n    {\n      \"column\": \"POS\",\n      \"properties\": {\n        \"dtype\": \"object\",\n        \"semantic_type\": \"\",\n        \"description\": \"\"\n      }\n    },\n    {\n      \"column\": \"Representative_Docs\",\n      \"properties\": {\n        \"dtype\": \"object\",\n        \"semantic_type\": \"\",\n        \"description\": \"\"\n      }\n    }\n  ]\n}",
              "type": "dataframe",
              "variable_name": "c"
            },
            "text/html": [
              "\n",
              "  <div id=\"df-73576f6e-24de-4a30-a52c-7f6a5a4f7f89\" class=\"colab-df-container\">\n",
              "    <div>\n",
              "<style scoped>\n",
              "    .dataframe tbody tr th:only-of-type {\n",
              "        vertical-align: middle;\n",
              "    }\n",
              "\n",
              "    .dataframe tbody tr th {\n",
              "        vertical-align: top;\n",
              "    }\n",
              "\n",
              "    .dataframe thead th {\n",
              "        text-align: right;\n",
              "    }\n",
              "</style>\n",
              "<table border=\"1\" class=\"dataframe\">\n",
              "  <thead>\n",
              "    <tr style=\"text-align: right;\">\n",
              "      <th></th>\n",
              "      <th>Topic</th>\n",
              "      <th>Count</th>\n",
              "      <th>Name</th>\n",
              "      <th>Representation</th>\n",
              "      <th>KeyBERT</th>\n",
              "      <th>MMR</th>\n",
              "      <th>POS</th>\n",
              "      <th>Representative_Docs</th>\n",
              "    </tr>\n",
              "  </thead>\n",
              "  <tbody>\n",
              "    <tr>\n",
              "      <th>0</th>\n",
              "      <td>-1</td>\n",
              "      <td>3310</td>\n",
              "      <td>-1_human_chief_good_ibm</td>\n",
              "      <td>[human, chief, good, ibm, officer, ai officer,...</td>\n",
              "      <td>[ai officer, ai policy, launches ai, chief ai,...</td>\n",
              "      <td>[human, ibm, ai officer, chief ai, sap, white ...</td>\n",
              "      <td>[human, chief, good, officer, house, machine, ...</td>\n",
              "      <td>[News | ESSC | UAH scientist earns National ai...</td>\n",
              "    </tr>\n",
              "    <tr>\n",
              "      <th>1</th>\n",
              "      <td>0</td>\n",
              "      <td>808</td>\n",
              "      <td>0_health_care_healthcare_medical</td>\n",
              "      <td>[health, care, healthcare, medical, medicine, ...</td>\n",
              "      <td>[healthcare ai, ai healthcare, ai medical, hea...</td>\n",
              "      <td>[healthcare, ai healthcare, ai health, healthc...</td>\n",
              "      <td>[health, care, healthcare, medical, medicine, ...</td>\n",
              "      <td>[ai in Health Care, AI in Health Care: Powerin...</td>\n",
              "    </tr>\n",
              "    <tr>\n",
              "      <th>2</th>\n",
              "      <td>1</td>\n",
              "      <td>412</td>\n",
              "      <td>1_education_schools_school_students</td>\n",
              "      <td>[education, schools, school, students, classro...</td>\n",
              "      <td>[ai education, ai schools, ai academic, ai cla...</td>\n",
              "      <td>[education, schools, students, ai education, a...</td>\n",
              "      <td>[education, schools, school, students, classro...</td>\n",
              "      <td>[Exploring the impact of ai on higher educatio...</td>\n",
              "    </tr>\n",
              "    <tr>\n",
              "      <th>3</th>\n",
              "      <td>2</td>\n",
              "      <td>281</td>\n",
              "      <td>2_generative ai_generative_ai generative_use g...</td>\n",
              "      <td>[generative ai, generative, ai generative, use...</td>\n",
              "      <td>[ai generative, generative ai, ai creative, br...</td>\n",
              "      <td>[generative ai, ai generative, use generative,...</td>\n",
              "      <td>[generative, usage, enterprise, creative, diff...</td>\n",
              "      <td>[Executive Conversations: Putting generative A...</td>\n",
              "    </tr>\n",
              "    <tr>\n",
              "      <th>4</th>\n",
              "      <td>3</td>\n",
              "      <td>260</td>\n",
              "      <td>3_jobs_job_hr_hiring</td>\n",
              "      <td>[jobs, job, hr, hiring, workers, ai jobs, empl...</td>\n",
              "      <td>[ai workplace, ai jobs, workforce ai, ai job, ...</td>\n",
              "      <td>[jobs, hr, ai jobs, employers, ai workplace, w...</td>\n",
              "      <td>[jobs, job, hiring, workers, employers, employ...</td>\n",
              "      <td>[AI will affect 40% of jobs and probably worse...</td>\n",
              "    </tr>\n",
              "  </tbody>\n",
              "</table>\n",
              "</div>\n",
              "    <div class=\"colab-df-buttons\">\n",
              "\n",
              "  <div class=\"colab-df-container\">\n",
              "    <button class=\"colab-df-convert\" onclick=\"convertToInteractive('df-73576f6e-24de-4a30-a52c-7f6a5a4f7f89')\"\n",
              "            title=\"Convert this dataframe to an interactive table.\"\n",
              "            style=\"display:none;\">\n",
              "\n",
              "  <svg xmlns=\"http://www.w3.org/2000/svg\" height=\"24px\" viewBox=\"0 -960 960 960\">\n",
              "    <path d=\"M120-120v-720h720v720H120Zm60-500h600v-160H180v160Zm220 220h160v-160H400v160Zm0 220h160v-160H400v160ZM180-400h160v-160H180v160Zm440 0h160v-160H620v160ZM180-180h160v-160H180v160Zm440 0h160v-160H620v160Z\"/>\n",
              "  </svg>\n",
              "    </button>\n",
              "\n",
              "  <style>\n",
              "    .colab-df-container {\n",
              "      display:flex;\n",
              "      gap: 12px;\n",
              "    }\n",
              "\n",
              "    .colab-df-convert {\n",
              "      background-color: #E8F0FE;\n",
              "      border: none;\n",
              "      border-radius: 50%;\n",
              "      cursor: pointer;\n",
              "      display: none;\n",
              "      fill: #1967D2;\n",
              "      height: 32px;\n",
              "      padding: 0 0 0 0;\n",
              "      width: 32px;\n",
              "    }\n",
              "\n",
              "    .colab-df-convert:hover {\n",
              "      background-color: #E2EBFA;\n",
              "      box-shadow: 0px 1px 2px rgba(60, 64, 67, 0.3), 0px 1px 3px 1px rgba(60, 64, 67, 0.15);\n",
              "      fill: #174EA6;\n",
              "    }\n",
              "\n",
              "    .colab-df-buttons div {\n",
              "      margin-bottom: 4px;\n",
              "    }\n",
              "\n",
              "    [theme=dark] .colab-df-convert {\n",
              "      background-color: #3B4455;\n",
              "      fill: #D2E3FC;\n",
              "    }\n",
              "\n",
              "    [theme=dark] .colab-df-convert:hover {\n",
              "      background-color: #434B5C;\n",
              "      box-shadow: 0px 1px 3px 1px rgba(0, 0, 0, 0.15);\n",
              "      filter: drop-shadow(0px 1px 2px rgba(0, 0, 0, 0.3));\n",
              "      fill: #FFFFFF;\n",
              "    }\n",
              "  </style>\n",
              "\n",
              "    <script>\n",
              "      const buttonEl =\n",
              "        document.querySelector('#df-73576f6e-24de-4a30-a52c-7f6a5a4f7f89 button.colab-df-convert');\n",
              "      buttonEl.style.display =\n",
              "        google.colab.kernel.accessAllowed ? 'block' : 'none';\n",
              "\n",
              "      async function convertToInteractive(key) {\n",
              "        const element = document.querySelector('#df-73576f6e-24de-4a30-a52c-7f6a5a4f7f89');\n",
              "        const dataTable =\n",
              "          await google.colab.kernel.invokeFunction('convertToInteractive',\n",
              "                                                    [key], {});\n",
              "        if (!dataTable) return;\n",
              "\n",
              "        const docLinkHtml = 'Like what you see? Visit the ' +\n",
              "          '<a target=\"_blank\" href=https://colab.research.google.com/notebooks/data_table.ipynb>data table notebook</a>'\n",
              "          + ' to learn more about interactive tables.';\n",
              "        element.innerHTML = '';\n",
              "        dataTable['output_type'] = 'display_data';\n",
              "        await google.colab.output.renderOutput(dataTable, element);\n",
              "        const docLink = document.createElement('div');\n",
              "        docLink.innerHTML = docLinkHtml;\n",
              "        element.appendChild(docLink);\n",
              "      }\n",
              "    </script>\n",
              "  </div>\n",
              "\n",
              "\n",
              "<div id=\"df-bc406e4f-67f4-4bb2-bbdf-283c301e3d88\">\n",
              "  <button class=\"colab-df-quickchart\" onclick=\"quickchart('df-bc406e4f-67f4-4bb2-bbdf-283c301e3d88')\"\n",
              "            title=\"Suggest charts\"\n",
              "            style=\"display:none;\">\n",
              "\n",
              "<svg xmlns=\"http://www.w3.org/2000/svg\" height=\"24px\"viewBox=\"0 0 24 24\"\n",
              "     width=\"24px\">\n",
              "    <g>\n",
              "        <path d=\"M19 3H5c-1.1 0-2 .9-2 2v14c0 1.1.9 2 2 2h14c1.1 0 2-.9 2-2V5c0-1.1-.9-2-2-2zM9 17H7v-7h2v7zm4 0h-2V7h2v10zm4 0h-2v-4h2v4z\"/>\n",
              "    </g>\n",
              "</svg>\n",
              "  </button>\n",
              "\n",
              "<style>\n",
              "  .colab-df-quickchart {\n",
              "      --bg-color: #E8F0FE;\n",
              "      --fill-color: #1967D2;\n",
              "      --hover-bg-color: #E2EBFA;\n",
              "      --hover-fill-color: #174EA6;\n",
              "      --disabled-fill-color: #AAA;\n",
              "      --disabled-bg-color: #DDD;\n",
              "  }\n",
              "\n",
              "  [theme=dark] .colab-df-quickchart {\n",
              "      --bg-color: #3B4455;\n",
              "      --fill-color: #D2E3FC;\n",
              "      --hover-bg-color: #434B5C;\n",
              "      --hover-fill-color: #FFFFFF;\n",
              "      --disabled-bg-color: #3B4455;\n",
              "      --disabled-fill-color: #666;\n",
              "  }\n",
              "\n",
              "  .colab-df-quickchart {\n",
              "    background-color: var(--bg-color);\n",
              "    border: none;\n",
              "    border-radius: 50%;\n",
              "    cursor: pointer;\n",
              "    display: none;\n",
              "    fill: var(--fill-color);\n",
              "    height: 32px;\n",
              "    padding: 0;\n",
              "    width: 32px;\n",
              "  }\n",
              "\n",
              "  .colab-df-quickchart:hover {\n",
              "    background-color: var(--hover-bg-color);\n",
              "    box-shadow: 0 1px 2px rgba(60, 64, 67, 0.3), 0 1px 3px 1px rgba(60, 64, 67, 0.15);\n",
              "    fill: var(--button-hover-fill-color);\n",
              "  }\n",
              "\n",
              "  .colab-df-quickchart-complete:disabled,\n",
              "  .colab-df-quickchart-complete:disabled:hover {\n",
              "    background-color: var(--disabled-bg-color);\n",
              "    fill: var(--disabled-fill-color);\n",
              "    box-shadow: none;\n",
              "  }\n",
              "\n",
              "  .colab-df-spinner {\n",
              "    border: 2px solid var(--fill-color);\n",
              "    border-color: transparent;\n",
              "    border-bottom-color: var(--fill-color);\n",
              "    animation:\n",
              "      spin 1s steps(1) infinite;\n",
              "  }\n",
              "\n",
              "  @keyframes spin {\n",
              "    0% {\n",
              "      border-color: transparent;\n",
              "      border-bottom-color: var(--fill-color);\n",
              "      border-left-color: var(--fill-color);\n",
              "    }\n",
              "    20% {\n",
              "      border-color: transparent;\n",
              "      border-left-color: var(--fill-color);\n",
              "      border-top-color: var(--fill-color);\n",
              "    }\n",
              "    30% {\n",
              "      border-color: transparent;\n",
              "      border-left-color: var(--fill-color);\n",
              "      border-top-color: var(--fill-color);\n",
              "      border-right-color: var(--fill-color);\n",
              "    }\n",
              "    40% {\n",
              "      border-color: transparent;\n",
              "      border-right-color: var(--fill-color);\n",
              "      border-top-color: var(--fill-color);\n",
              "    }\n",
              "    60% {\n",
              "      border-color: transparent;\n",
              "      border-right-color: var(--fill-color);\n",
              "    }\n",
              "    80% {\n",
              "      border-color: transparent;\n",
              "      border-right-color: var(--fill-color);\n",
              "      border-bottom-color: var(--fill-color);\n",
              "    }\n",
              "    90% {\n",
              "      border-color: transparent;\n",
              "      border-bottom-color: var(--fill-color);\n",
              "    }\n",
              "  }\n",
              "</style>\n",
              "\n",
              "  <script>\n",
              "    async function quickchart(key) {\n",
              "      const quickchartButtonEl =\n",
              "        document.querySelector('#' + key + ' button');\n",
              "      quickchartButtonEl.disabled = true;  // To prevent multiple clicks.\n",
              "      quickchartButtonEl.classList.add('colab-df-spinner');\n",
              "      try {\n",
              "        const charts = await google.colab.kernel.invokeFunction(\n",
              "            'suggestCharts', [key], {});\n",
              "      } catch (error) {\n",
              "        console.error('Error during call to suggestCharts:', error);\n",
              "      }\n",
              "      quickchartButtonEl.classList.remove('colab-df-spinner');\n",
              "      quickchartButtonEl.classList.add('colab-df-quickchart-complete');\n",
              "    }\n",
              "    (() => {\n",
              "      let quickchartButtonEl =\n",
              "        document.querySelector('#df-bc406e4f-67f4-4bb2-bbdf-283c301e3d88 button');\n",
              "      quickchartButtonEl.style.display =\n",
              "        google.colab.kernel.accessAllowed ? 'block' : 'none';\n",
              "    })();\n",
              "  </script>\n",
              "</div>\n",
              "\n",
              "    </div>\n",
              "  </div>\n"
            ],
            "text/plain": [
              "   Topic  Count                                               Name  \\\n",
              "0     -1   3310                            -1_human_chief_good_ibm   \n",
              "1      0    808                   0_health_care_healthcare_medical   \n",
              "2      1    412                1_education_schools_school_students   \n",
              "3      2    281  2_generative ai_generative_ai generative_use g...   \n",
              "4      3    260                               3_jobs_job_hr_hiring   \n",
              "\n",
              "                                      Representation  \\\n",
              "0  [human, chief, good, ibm, officer, ai officer,...   \n",
              "1  [health, care, healthcare, medical, medicine, ...   \n",
              "2  [education, schools, school, students, classro...   \n",
              "3  [generative ai, generative, ai generative, use...   \n",
              "4  [jobs, job, hr, hiring, workers, ai jobs, empl...   \n",
              "\n",
              "                                             KeyBERT  \\\n",
              "0  [ai officer, ai policy, launches ai, chief ai,...   \n",
              "1  [healthcare ai, ai healthcare, ai medical, hea...   \n",
              "2  [ai education, ai schools, ai academic, ai cla...   \n",
              "3  [ai generative, generative ai, ai creative, br...   \n",
              "4  [ai workplace, ai jobs, workforce ai, ai job, ...   \n",
              "\n",
              "                                                 MMR  \\\n",
              "0  [human, ibm, ai officer, chief ai, sap, white ...   \n",
              "1  [healthcare, ai healthcare, ai health, healthc...   \n",
              "2  [education, schools, students, ai education, a...   \n",
              "3  [generative ai, ai generative, use generative,...   \n",
              "4  [jobs, hr, ai jobs, employers, ai workplace, w...   \n",
              "\n",
              "                                                 POS  \\\n",
              "0  [human, chief, good, officer, house, machine, ...   \n",
              "1  [health, care, healthcare, medical, medicine, ...   \n",
              "2  [education, schools, school, students, classro...   \n",
              "3  [generative, usage, enterprise, creative, diff...   \n",
              "4  [jobs, job, hiring, workers, employers, employ...   \n",
              "\n",
              "                                 Representative_Docs  \n",
              "0  [News | ESSC | UAH scientist earns National ai...  \n",
              "1  [ai in Health Care, AI in Health Care: Powerin...  \n",
              "2  [Exploring the impact of ai on higher educatio...  \n",
              "3  [Executive Conversations: Putting generative A...  \n",
              "4  [AI will affect 40% of jobs and probably worse...  "
            ]
          },
          "execution_count": 137,
          "metadata": {},
          "output_type": "execute_result"
        }
      ],
      "source": [
        "c = topic_model.get_topic_info()\n",
        "c.head()"
      ]
    },
    {
      "cell_type": "markdown",
      "metadata": {
        "id": "wrRW5QDIhQwd"
      },
      "source": [
        "### Classifying each topic into 9 defined catefories using openAI\n",
        "\n",
        "1. The BERTopic returned 88 topics, now we classified them into 4 topics( Education, Career & Workforce, Society(with 6 sub-categories),Other)\n",
        "\n",
        "2. Sub categories of Society -\n",
        "    1. {AI in various Industries} - The adoption and application of AI in various industries.\n",
        "    2. {AI in companies & Enterprises} – The adoption and application of AI in various enterprises, including AI-driven product innovations, developments, and challenges faced by businesses.\n",
        "    3. {AI overview, risks & impact} - Broad perspectives on AI, societal impact, energy. consumption, and associated risks.\n",
        "    4. {AI Governance & Geopolitics} - Government actions and policies on AI, including national AI strategies, regulations, global AI summits, international collaborations, diplomatic discussions, and AI-driven geopolitical competition.\n",
        "    5. {AI Investments & Market Trends} - Funding, grants, investments, market evaluations, and stock trends related to AI and AI-driven products.\n",
        "    6. {AI Ethics, Law & Policy } - Ethical concerns, legal challenges, privacy issues, copyright disputes, bias in AI, compliance with regulations, and societal implications of AI laws.\n",
        "\n",
        "3. So for assigning the topics to categories we manually assigned topics to the categories and below we have used openAI to assign topics to the categories and cross checked with the results and finally chose the best topics for each category.\n",
        "\n",
        "4. The bertopic model returns 3 representative docs for each topic but inorder to train a classifier more data per category is required. Here we try to get the necessary no.of representative docs for each topic."
      ]
    },
    {
      "cell_type": "code",
      "execution_count": null,
      "metadata": {
        "id": "M82T6Mb09eRY"
      },
      "outputs": [],
      "source": [
        "d = pd.read_csv('datasets/topic_info2.csv')"
      ]
    },
    {
      "cell_type": "code",
      "execution_count": null,
      "metadata": {
        "colab": {
          "base_uri": "https://localhost:8080/",
          "height": 598
        },
        "id": "ffKKtaSOFpg5",
        "outputId": "a74f4753-0b9b-4863-da6f-1b9e1239432a"
      },
      "outputs": [
        {
          "data": {
            "application/vnd.google.colaboratory.intrinsic+json": {
              "summary": "{\n  \"name\": \"d\",\n  \"rows\": 89,\n  \"fields\": [\n    {\n      \"column\": \"Unnamed: 0\",\n      \"properties\": {\n        \"dtype\": \"number\",\n        \"std\": 25,\n        \"min\": 0,\n        \"max\": 88,\n        \"num_unique_values\": 89,\n        \"samples\": [\n          44,\n          53,\n          30\n        ],\n        \"semantic_type\": \"\",\n        \"description\": \"\"\n      }\n    },\n    {\n      \"column\": \"Topic\",\n      \"properties\": {\n        \"dtype\": \"number\",\n        \"std\": 25,\n        \"min\": -1,\n        \"max\": 87,\n        \"num_unique_values\": 89,\n        \"samples\": [\n          43,\n          52,\n          29\n        ],\n        \"semantic_type\": \"\",\n        \"description\": \"\"\n      }\n    },\n    {\n      \"column\": \"Count\",\n      \"properties\": {\n        \"dtype\": \"number\",\n        \"std\": 357,\n        \"min\": 21,\n        \"max\": 3310,\n        \"num_unique_values\": 55,\n        \"samples\": [\n          55,\n          254,\n          54\n        ],\n        \"semantic_type\": \"\",\n        \"description\": \"\"\n      }\n    },\n    {\n      \"column\": \"Name\",\n      \"properties\": {\n        \"dtype\": \"string\",\n        \"num_unique_values\": 89,\n        \"samples\": [\n          \"43_journalism_ai journalism_journalists_journalism ai\",\n          \"52_sustainability_waste_recycling_sustainable\",\n          \"29_music_ai music_songs_song\"\n        ],\n        \"semantic_type\": \"\",\n        \"description\": \"\"\n      }\n    },\n    {\n      \"column\": \"Representation\",\n      \"properties\": {\n        \"dtype\": \"string\",\n        \"num_unique_values\": 89,\n        \"samples\": [\n          \"['journalism', 'ai journalism', 'journalists', 'journalism ai', 'news', 'news ai', 'ai news', 'fox news', 'ai newsletter', 'fox']\",\n          \"['sustainability', 'waste', 'recycling', 'sustainable', 'sustainability ai', 'greening', 'ai sustainability', 'environmental', 'ai generate', 'ai sustainable']\",\n          \"['music', 'ai music', 'songs', 'song', 'spotify', 'music ai', 'streaming', 'spanish', 'labels', 'record labels']\"\n        ],\n        \"semantic_type\": \"\",\n        \"description\": \"\"\n      }\n    },\n    {\n      \"column\": \"KeyBERT\",\n      \"properties\": {\n        \"dtype\": \"string\",\n        \"num_unique_values\": 89,\n        \"samples\": [\n          \"['ai journalism', 'journalism ai', 'ai news', 'news ai', 'ai newsletter', 'publishes ai', 'content ai', 'issues ai', 'journalism', 'fox news']\",\n          \"['ai sustainability', 'sustainability ai', 'ai sustainable', 'ai environmental', 'greening ai', 'run ai', 'considerations ai', 'sustainability', 'ai generate', 'ai uk']\",\n          \"['ai music', 'music ai', 'universal music', 'music new', 'music', 'sue ai', 'songs', 'unreleased music', 'wants ai', 'ai generate']\"\n        ],\n        \"semantic_type\": \"\",\n        \"description\": \"\"\n      }\n    },\n    {\n      \"column\": \"MMR\",\n      \"properties\": {\n        \"dtype\": \"string\",\n        \"num_unique_values\": 89,\n        \"samples\": [\n          \"['journalism', 'ai journalism', 'journalists', 'journalism ai', 'news ai', 'ai news', 'fox news', 'ai newsletter', 'news content', 'replace journalists']\",\n          \"['sustainability', 'recycling', 'sustainability ai', 'ai sustainability', 'environmental', 'ai sustainable', 'power artificial', 'greening ai', 'sustainable resource', 'run ai']\",\n          \"['ai music', 'songs', 'spotify', 'music ai', 'record labels', 'sue ai', 'universal music', 'music new', 'content meta', 'billions ai']\"\n        ],\n        \"semantic_type\": \"\",\n        \"description\": \"\"\n      }\n    },\n    {\n      \"column\": \"POS\",\n      \"properties\": {\n        \"dtype\": \"string\",\n        \"num_unique_values\": 89,\n        \"samples\": [\n          \"['journalism', 'journalists', 'news', 'media', 'criticism', 'global average', 'public trust', 'bosses', 'trust', 'numbers']\",\n          \"['sustainability', 'waste', 'recycling', 'sustainable', 'environmental', 'stewardship', 'policymakers', 'tie', 'display', 'paths']\",\n          \"['music', 'songs', 'streaming', 'entire', 'experiments', 'artists', 'sites', 'hundreds', 'boss', 'billions']\"\n        ],\n        \"semantic_type\": \"\",\n        \"description\": \"\"\n      }\n    },\n    {\n      \"column\": \"Representative_Docs\",\n      \"properties\": {\n        \"dtype\": \"string\",\n        \"num_unique_values\": 89,\n        \"samples\": [\n          \"['AI in journalism: how would public trust in the news be affected?', 'ai in the News: How AI Retools, Rationalizes, and Reshapes Journalism and the Public Arena', 'Fox News AI Newsletter: Bureaucrats ordered to use AI']\",\n          \"['Sustainable by design: Advancing the sustainability of AI', 'Crawl, Walk, Run: How AI is Enhancing Sustainability, Productivity, and Profitability', 'Scientists Predict AI to Generate Millions of Tons of E-Waste']\",\n          \"['Sony Music Group boss Rob Stringer talks acquisitions, ai and how music streaming services should start charging free users', 'Meta, Universal Music Group address AI music in new licensing agreement', 'Major Record Labels Sue AI Music Startups For Allegedly Copying Songs To Train AI']\"\n        ],\n        \"semantic_type\": \"\",\n        \"description\": \"\"\n      }\n    },\n    {\n      \"column\": \"keywords\",\n      \"properties\": {\n        \"dtype\": \"string\",\n        \"num_unique_values\": 89,\n        \"samples\": [\n          \"{'replace journalists', 'ai newsletter', 'issues ai', 'numbers', 'fox news', 'trust', 'media', 'content ai', 'journalism ai', 'global average', 'criticism', 'news content', 'ai news', 'ai journalism', 'journalism', 'publishes ai', 'news', 'journalists', 'public trust', 'bosses', 'fox', 'news ai'}\",\n          \"{'display', 'stewardship', 'sustainability', 'greening', 'considerations ai', 'environmental', 'paths', 'greening ai', 'recycling', 'ai environmental', 'sustainable resource', 'sustainable', 'tie', 'ai generate', 'sustainability ai', 'ai uk', 'ai sustainability', 'waste', 'ai sustainable', 'run ai', 'power artificial', 'policymakers'}\",\n          \"{'music ai', 'record labels', 'sue ai', 'wants ai', 'experiments', 'entire', 'spotify', 'spanish', 'music', 'ai music', 'unreleased music', 'labels', 'universal music', 'billions', 'song', 'boss', 'songs', 'content meta', 'ai generate', 'streaming', 'hundreds', 'billions ai', 'sites', 'artists', 'music new'}\"\n        ],\n        \"semantic_type\": \"\",\n        \"description\": \"\"\n      }\n    },\n    {\n      \"column\": \"openAI\",\n      \"properties\": {\n        \"dtype\": \"string\",\n        \"num_unique_values\": 88,\n        \"samples\": [\n          \"\\\"Comparative Analysis of AI Stocks: Palantir, Super Micro Computer, and Others\\\"\",\n          \"\\\"AI Innovations in Healthcare: Enhancing Patient Care, Diagnosis, and Treatment\\\"\",\n          \"\\\"Comparative Analysis of AI Features in Samsung Galaxy S24 Series and Competing Smartphones\\\"\"\n        ],\n        \"semantic_type\": \"\",\n        \"description\": \"\"\n      }\n    }\n  ]\n}",
              "type": "dataframe",
              "variable_name": "d"
            },
            "text/html": [
              "\n",
              "  <div id=\"df-7fb3922d-b496-4a0f-addc-3adbb9eec119\" class=\"colab-df-container\">\n",
              "    <div>\n",
              "<style scoped>\n",
              "    .dataframe tbody tr th:only-of-type {\n",
              "        vertical-align: middle;\n",
              "    }\n",
              "\n",
              "    .dataframe tbody tr th {\n",
              "        vertical-align: top;\n",
              "    }\n",
              "\n",
              "    .dataframe thead th {\n",
              "        text-align: right;\n",
              "    }\n",
              "</style>\n",
              "<table border=\"1\" class=\"dataframe\">\n",
              "  <thead>\n",
              "    <tr style=\"text-align: right;\">\n",
              "      <th></th>\n",
              "      <th>Unnamed: 0</th>\n",
              "      <th>Topic</th>\n",
              "      <th>Count</th>\n",
              "      <th>Name</th>\n",
              "      <th>Representation</th>\n",
              "      <th>KeyBERT</th>\n",
              "      <th>MMR</th>\n",
              "      <th>POS</th>\n",
              "      <th>Representative_Docs</th>\n",
              "      <th>keywords</th>\n",
              "      <th>openAI</th>\n",
              "    </tr>\n",
              "  </thead>\n",
              "  <tbody>\n",
              "    <tr>\n",
              "      <th>0</th>\n",
              "      <td>0</td>\n",
              "      <td>-1</td>\n",
              "      <td>3310</td>\n",
              "      <td>-1_human_chief_good_ibm</td>\n",
              "      <td>['human', 'chief', 'good', 'ibm', 'officer', '...</td>\n",
              "      <td>['ai officer', 'ai policy', 'launches ai', 'ch...</td>\n",
              "      <td>['human', 'ibm', 'ai officer', 'chief ai', 'sa...</td>\n",
              "      <td>['human', 'chief', 'good', 'officer', 'house',...</td>\n",
              "      <td>['News | ESSC | UAH scientist earns National a...</td>\n",
              "      <td>{'white', 'ai officer', 'sam altman', 'officer...</td>\n",
              "      <td>NaN</td>\n",
              "    </tr>\n",
              "    <tr>\n",
              "      <th>1</th>\n",
              "      <td>1</td>\n",
              "      <td>0</td>\n",
              "      <td>808</td>\n",
              "      <td>0_health_care_healthcare_medical</td>\n",
              "      <td>['health', 'care', 'healthcare', 'medical', 'm...</td>\n",
              "      <td>['healthcare ai', 'ai healthcare', 'ai medical...</td>\n",
              "      <td>['healthcare', 'ai healthcare', 'ai health', '...</td>\n",
              "      <td>['health', 'care', 'healthcare', 'medical', 'm...</td>\n",
              "      <td>['ai in Health Care', 'AI in Health Care: Powe...</td>\n",
              "      <td>{'drug', 'health', 'screening', 'mental health...</td>\n",
              "      <td>\"AI Innovations in Healthcare: Enhancing Patie...</td>\n",
              "    </tr>\n",
              "    <tr>\n",
              "      <th>2</th>\n",
              "      <td>2</td>\n",
              "      <td>1</td>\n",
              "      <td>412</td>\n",
              "      <td>1_education_schools_school_students</td>\n",
              "      <td>['education', 'schools', 'school', 'students',...</td>\n",
              "      <td>['ai education', 'ai schools', 'ai academic', ...</td>\n",
              "      <td>['education', 'schools', 'students', 'ai educa...</td>\n",
              "      <td>['education', 'schools', 'school', 'students',...</td>\n",
              "      <td>['Exploring the impact of ai on higher educati...</td>\n",
              "      <td>{'ai learn', 'ai higher', 'ai schools', 'teach...</td>\n",
              "      <td>\"Integrating AI in Education: Opportunities, C...</td>\n",
              "    </tr>\n",
              "    <tr>\n",
              "      <th>3</th>\n",
              "      <td>3</td>\n",
              "      <td>2</td>\n",
              "      <td>281</td>\n",
              "      <td>2_generative ai_generative_ai generative_use g...</td>\n",
              "      <td>['generative ai', 'generative', 'ai generative...</td>\n",
              "      <td>['ai generative', 'generative ai', 'ai creativ...</td>\n",
              "      <td>['generative ai', 'ai generative', 'use genera...</td>\n",
              "      <td>['generative', 'usage', 'enterprise', 'creativ...</td>\n",
              "      <td>['Executive Conversations: Putting generative ...</td>\n",
              "      <td>{'use generative', 'usage', 'guide generative'...</td>\n",
              "      <td>\"Exploring the Impact and Adoption of Generati...</td>\n",
              "    </tr>\n",
              "    <tr>\n",
              "      <th>4</th>\n",
              "      <td>4</td>\n",
              "      <td>3</td>\n",
              "      <td>260</td>\n",
              "      <td>3_jobs_job_hr_hiring</td>\n",
              "      <td>['jobs', 'job', 'hr', 'hiring', 'workers', 'ai...</td>\n",
              "      <td>['ai workplace', 'ai jobs', 'workforce ai', 'a...</td>\n",
              "      <td>['jobs', 'hr', 'ai jobs', 'employers', 'ai wor...</td>\n",
              "      <td>['jobs', 'job', 'hiring', 'workers', 'employer...</td>\n",
              "      <td>['AI will affect 40% of jobs and probably wors...</td>\n",
              "      <td>{'job ai', 'ai workplace', 'workforce ai', 'ai...</td>\n",
              "      <td>\"Impact of AI on Job Security and Workforce Dy...</td>\n",
              "    </tr>\n",
              "  </tbody>\n",
              "</table>\n",
              "</div>\n",
              "    <div class=\"colab-df-buttons\">\n",
              "\n",
              "  <div class=\"colab-df-container\">\n",
              "    <button class=\"colab-df-convert\" onclick=\"convertToInteractive('df-7fb3922d-b496-4a0f-addc-3adbb9eec119')\"\n",
              "            title=\"Convert this dataframe to an interactive table.\"\n",
              "            style=\"display:none;\">\n",
              "\n",
              "  <svg xmlns=\"http://www.w3.org/2000/svg\" height=\"24px\" viewBox=\"0 -960 960 960\">\n",
              "    <path d=\"M120-120v-720h720v720H120Zm60-500h600v-160H180v160Zm220 220h160v-160H400v160Zm0 220h160v-160H400v160ZM180-400h160v-160H180v160Zm440 0h160v-160H620v160ZM180-180h160v-160H180v160Zm440 0h160v-160H620v160Z\"/>\n",
              "  </svg>\n",
              "    </button>\n",
              "\n",
              "  <style>\n",
              "    .colab-df-container {\n",
              "      display:flex;\n",
              "      gap: 12px;\n",
              "    }\n",
              "\n",
              "    .colab-df-convert {\n",
              "      background-color: #E8F0FE;\n",
              "      border: none;\n",
              "      border-radius: 50%;\n",
              "      cursor: pointer;\n",
              "      display: none;\n",
              "      fill: #1967D2;\n",
              "      height: 32px;\n",
              "      padding: 0 0 0 0;\n",
              "      width: 32px;\n",
              "    }\n",
              "\n",
              "    .colab-df-convert:hover {\n",
              "      background-color: #E2EBFA;\n",
              "      box-shadow: 0px 1px 2px rgba(60, 64, 67, 0.3), 0px 1px 3px 1px rgba(60, 64, 67, 0.15);\n",
              "      fill: #174EA6;\n",
              "    }\n",
              "\n",
              "    .colab-df-buttons div {\n",
              "      margin-bottom: 4px;\n",
              "    }\n",
              "\n",
              "    [theme=dark] .colab-df-convert {\n",
              "      background-color: #3B4455;\n",
              "      fill: #D2E3FC;\n",
              "    }\n",
              "\n",
              "    [theme=dark] .colab-df-convert:hover {\n",
              "      background-color: #434B5C;\n",
              "      box-shadow: 0px 1px 3px 1px rgba(0, 0, 0, 0.15);\n",
              "      filter: drop-shadow(0px 1px 2px rgba(0, 0, 0, 0.3));\n",
              "      fill: #FFFFFF;\n",
              "    }\n",
              "  </style>\n",
              "\n",
              "    <script>\n",
              "      const buttonEl =\n",
              "        document.querySelector('#df-7fb3922d-b496-4a0f-addc-3adbb9eec119 button.colab-df-convert');\n",
              "      buttonEl.style.display =\n",
              "        google.colab.kernel.accessAllowed ? 'block' : 'none';\n",
              "\n",
              "      async function convertToInteractive(key) {\n",
              "        const element = document.querySelector('#df-7fb3922d-b496-4a0f-addc-3adbb9eec119');\n",
              "        const dataTable =\n",
              "          await google.colab.kernel.invokeFunction('convertToInteractive',\n",
              "                                                    [key], {});\n",
              "        if (!dataTable) return;\n",
              "\n",
              "        const docLinkHtml = 'Like what you see? Visit the ' +\n",
              "          '<a target=\"_blank\" href=https://colab.research.google.com/notebooks/data_table.ipynb>data table notebook</a>'\n",
              "          + ' to learn more about interactive tables.';\n",
              "        element.innerHTML = '';\n",
              "        dataTable['output_type'] = 'display_data';\n",
              "        await google.colab.output.renderOutput(dataTable, element);\n",
              "        const docLink = document.createElement('div');\n",
              "        docLink.innerHTML = docLinkHtml;\n",
              "        element.appendChild(docLink);\n",
              "      }\n",
              "    </script>\n",
              "  </div>\n",
              "\n",
              "\n",
              "<div id=\"df-4628d847-7a7b-441a-9985-1f4eebfe239f\">\n",
              "  <button class=\"colab-df-quickchart\" onclick=\"quickchart('df-4628d847-7a7b-441a-9985-1f4eebfe239f')\"\n",
              "            title=\"Suggest charts\"\n",
              "            style=\"display:none;\">\n",
              "\n",
              "<svg xmlns=\"http://www.w3.org/2000/svg\" height=\"24px\"viewBox=\"0 0 24 24\"\n",
              "     width=\"24px\">\n",
              "    <g>\n",
              "        <path d=\"M19 3H5c-1.1 0-2 .9-2 2v14c0 1.1.9 2 2 2h14c1.1 0 2-.9 2-2V5c0-1.1-.9-2-2-2zM9 17H7v-7h2v7zm4 0h-2V7h2v10zm4 0h-2v-4h2v4z\"/>\n",
              "    </g>\n",
              "</svg>\n",
              "  </button>\n",
              "\n",
              "<style>\n",
              "  .colab-df-quickchart {\n",
              "      --bg-color: #E8F0FE;\n",
              "      --fill-color: #1967D2;\n",
              "      --hover-bg-color: #E2EBFA;\n",
              "      --hover-fill-color: #174EA6;\n",
              "      --disabled-fill-color: #AAA;\n",
              "      --disabled-bg-color: #DDD;\n",
              "  }\n",
              "\n",
              "  [theme=dark] .colab-df-quickchart {\n",
              "      --bg-color: #3B4455;\n",
              "      --fill-color: #D2E3FC;\n",
              "      --hover-bg-color: #434B5C;\n",
              "      --hover-fill-color: #FFFFFF;\n",
              "      --disabled-bg-color: #3B4455;\n",
              "      --disabled-fill-color: #666;\n",
              "  }\n",
              "\n",
              "  .colab-df-quickchart {\n",
              "    background-color: var(--bg-color);\n",
              "    border: none;\n",
              "    border-radius: 50%;\n",
              "    cursor: pointer;\n",
              "    display: none;\n",
              "    fill: var(--fill-color);\n",
              "    height: 32px;\n",
              "    padding: 0;\n",
              "    width: 32px;\n",
              "  }\n",
              "\n",
              "  .colab-df-quickchart:hover {\n",
              "    background-color: var(--hover-bg-color);\n",
              "    box-shadow: 0 1px 2px rgba(60, 64, 67, 0.3), 0 1px 3px 1px rgba(60, 64, 67, 0.15);\n",
              "    fill: var(--button-hover-fill-color);\n",
              "  }\n",
              "\n",
              "  .colab-df-quickchart-complete:disabled,\n",
              "  .colab-df-quickchart-complete:disabled:hover {\n",
              "    background-color: var(--disabled-bg-color);\n",
              "    fill: var(--disabled-fill-color);\n",
              "    box-shadow: none;\n",
              "  }\n",
              "\n",
              "  .colab-df-spinner {\n",
              "    border: 2px solid var(--fill-color);\n",
              "    border-color: transparent;\n",
              "    border-bottom-color: var(--fill-color);\n",
              "    animation:\n",
              "      spin 1s steps(1) infinite;\n",
              "  }\n",
              "\n",
              "  @keyframes spin {\n",
              "    0% {\n",
              "      border-color: transparent;\n",
              "      border-bottom-color: var(--fill-color);\n",
              "      border-left-color: var(--fill-color);\n",
              "    }\n",
              "    20% {\n",
              "      border-color: transparent;\n",
              "      border-left-color: var(--fill-color);\n",
              "      border-top-color: var(--fill-color);\n",
              "    }\n",
              "    30% {\n",
              "      border-color: transparent;\n",
              "      border-left-color: var(--fill-color);\n",
              "      border-top-color: var(--fill-color);\n",
              "      border-right-color: var(--fill-color);\n",
              "    }\n",
              "    40% {\n",
              "      border-color: transparent;\n",
              "      border-right-color: var(--fill-color);\n",
              "      border-top-color: var(--fill-color);\n",
              "    }\n",
              "    60% {\n",
              "      border-color: transparent;\n",
              "      border-right-color: var(--fill-color);\n",
              "    }\n",
              "    80% {\n",
              "      border-color: transparent;\n",
              "      border-right-color: var(--fill-color);\n",
              "      border-bottom-color: var(--fill-color);\n",
              "    }\n",
              "    90% {\n",
              "      border-color: transparent;\n",
              "      border-bottom-color: var(--fill-color);\n",
              "    }\n",
              "  }\n",
              "</style>\n",
              "\n",
              "  <script>\n",
              "    async function quickchart(key) {\n",
              "      const quickchartButtonEl =\n",
              "        document.querySelector('#' + key + ' button');\n",
              "      quickchartButtonEl.disabled = true;  // To prevent multiple clicks.\n",
              "      quickchartButtonEl.classList.add('colab-df-spinner');\n",
              "      try {\n",
              "        const charts = await google.colab.kernel.invokeFunction(\n",
              "            'suggestCharts', [key], {});\n",
              "      } catch (error) {\n",
              "        console.error('Error during call to suggestCharts:', error);\n",
              "      }\n",
              "      quickchartButtonEl.classList.remove('colab-df-spinner');\n",
              "      quickchartButtonEl.classList.add('colab-df-quickchart-complete');\n",
              "    }\n",
              "    (() => {\n",
              "      let quickchartButtonEl =\n",
              "        document.querySelector('#df-4628d847-7a7b-441a-9985-1f4eebfe239f button');\n",
              "      quickchartButtonEl.style.display =\n",
              "        google.colab.kernel.accessAllowed ? 'block' : 'none';\n",
              "    })();\n",
              "  </script>\n",
              "</div>\n",
              "\n",
              "    </div>\n",
              "  </div>\n"
            ],
            "text/plain": [
              "   Unnamed: 0  Topic  Count  \\\n",
              "0           0     -1   3310   \n",
              "1           1      0    808   \n",
              "2           2      1    412   \n",
              "3           3      2    281   \n",
              "4           4      3    260   \n",
              "\n",
              "                                                Name  \\\n",
              "0                            -1_human_chief_good_ibm   \n",
              "1                   0_health_care_healthcare_medical   \n",
              "2                1_education_schools_school_students   \n",
              "3  2_generative ai_generative_ai generative_use g...   \n",
              "4                               3_jobs_job_hr_hiring   \n",
              "\n",
              "                                      Representation  \\\n",
              "0  ['human', 'chief', 'good', 'ibm', 'officer', '...   \n",
              "1  ['health', 'care', 'healthcare', 'medical', 'm...   \n",
              "2  ['education', 'schools', 'school', 'students',...   \n",
              "3  ['generative ai', 'generative', 'ai generative...   \n",
              "4  ['jobs', 'job', 'hr', 'hiring', 'workers', 'ai...   \n",
              "\n",
              "                                             KeyBERT  \\\n",
              "0  ['ai officer', 'ai policy', 'launches ai', 'ch...   \n",
              "1  ['healthcare ai', 'ai healthcare', 'ai medical...   \n",
              "2  ['ai education', 'ai schools', 'ai academic', ...   \n",
              "3  ['ai generative', 'generative ai', 'ai creativ...   \n",
              "4  ['ai workplace', 'ai jobs', 'workforce ai', 'a...   \n",
              "\n",
              "                                                 MMR  \\\n",
              "0  ['human', 'ibm', 'ai officer', 'chief ai', 'sa...   \n",
              "1  ['healthcare', 'ai healthcare', 'ai health', '...   \n",
              "2  ['education', 'schools', 'students', 'ai educa...   \n",
              "3  ['generative ai', 'ai generative', 'use genera...   \n",
              "4  ['jobs', 'hr', 'ai jobs', 'employers', 'ai wor...   \n",
              "\n",
              "                                                 POS  \\\n",
              "0  ['human', 'chief', 'good', 'officer', 'house',...   \n",
              "1  ['health', 'care', 'healthcare', 'medical', 'm...   \n",
              "2  ['education', 'schools', 'school', 'students',...   \n",
              "3  ['generative', 'usage', 'enterprise', 'creativ...   \n",
              "4  ['jobs', 'job', 'hiring', 'workers', 'employer...   \n",
              "\n",
              "                                 Representative_Docs  \\\n",
              "0  ['News | ESSC | UAH scientist earns National a...   \n",
              "1  ['ai in Health Care', 'AI in Health Care: Powe...   \n",
              "2  ['Exploring the impact of ai on higher educati...   \n",
              "3  ['Executive Conversations: Putting generative ...   \n",
              "4  ['AI will affect 40% of jobs and probably wors...   \n",
              "\n",
              "                                            keywords  \\\n",
              "0  {'white', 'ai officer', 'sam altman', 'officer...   \n",
              "1  {'drug', 'health', 'screening', 'mental health...   \n",
              "2  {'ai learn', 'ai higher', 'ai schools', 'teach...   \n",
              "3  {'use generative', 'usage', 'guide generative'...   \n",
              "4  {'job ai', 'ai workplace', 'workforce ai', 'ai...   \n",
              "\n",
              "                                              openAI  \n",
              "0                                                NaN  \n",
              "1  \"AI Innovations in Healthcare: Enhancing Patie...  \n",
              "2  \"Integrating AI in Education: Opportunities, C...  \n",
              "3  \"Exploring the Impact and Adoption of Generati...  \n",
              "4  \"Impact of AI on Job Security and Workforce Dy...  "
            ]
          },
          "execution_count": 8,
          "metadata": {},
          "output_type": "execute_result"
        }
      ],
      "source": [
        "d.head()"
      ]
    },
    {
      "cell_type": "code",
      "execution_count": null,
      "metadata": {
        "colab": {
          "base_uri": "https://localhost:8080/",
          "height": 453
        },
        "id": "C1BgPNgYF2sO",
        "outputId": "8e170976-c5b2-4ff6-cc0d-f3c010c18d88"
      },
      "outputs": [
        {
          "data": {
            "text/html": [
              "<div>\n",
              "<style scoped>\n",
              "    .dataframe tbody tr th:only-of-type {\n",
              "        vertical-align: middle;\n",
              "    }\n",
              "\n",
              "    .dataframe tbody tr th {\n",
              "        vertical-align: top;\n",
              "    }\n",
              "\n",
              "    .dataframe thead th {\n",
              "        text-align: right;\n",
              "    }\n",
              "</style>\n",
              "<table border=\"1\" class=\"dataframe\">\n",
              "  <thead>\n",
              "    <tr style=\"text-align: right;\">\n",
              "      <th></th>\n",
              "      <th>openAI</th>\n",
              "    </tr>\n",
              "  </thead>\n",
              "  <tbody>\n",
              "    <tr>\n",
              "      <th>0</th>\n",
              "      <td>NaN</td>\n",
              "    </tr>\n",
              "    <tr>\n",
              "      <th>1</th>\n",
              "      <td>\"AI Innovations in Healthcare: Enhancing Patie...</td>\n",
              "    </tr>\n",
              "    <tr>\n",
              "      <th>2</th>\n",
              "      <td>\"Integrating AI in Education: Opportunities, C...</td>\n",
              "    </tr>\n",
              "    <tr>\n",
              "      <th>3</th>\n",
              "      <td>\"Exploring the Impact and Adoption of Generati...</td>\n",
              "    </tr>\n",
              "    <tr>\n",
              "      <th>4</th>\n",
              "      <td>\"Impact of AI on Job Security and Workforce Dy...</td>\n",
              "    </tr>\n",
              "    <tr>\n",
              "      <th>...</th>\n",
              "      <td>...</td>\n",
              "    </tr>\n",
              "    <tr>\n",
              "      <th>84</th>\n",
              "      <td>\"Advancing Language Preservation and Inclusivi...</td>\n",
              "    </tr>\n",
              "    <tr>\n",
              "      <th>85</th>\n",
              "      <td>\"India's AI Landscape: Future Prospects, Chall...</td>\n",
              "    </tr>\n",
              "    <tr>\n",
              "      <th>86</th>\n",
              "      <td>\"Quantum Computing and AI: Innovations, Challe...</td>\n",
              "    </tr>\n",
              "    <tr>\n",
              "      <th>87</th>\n",
              "      <td>\"Gender Equality and Women's Rights in the Age...</td>\n",
              "    </tr>\n",
              "    <tr>\n",
              "      <th>88</th>\n",
              "      <td>\"Advancements in AI Tools for Video Editing an...</td>\n",
              "    </tr>\n",
              "  </tbody>\n",
              "</table>\n",
              "<p>89 rows × 1 columns</p>\n",
              "</div><br><label><b>dtype:</b> object</label>"
            ],
            "text/plain": [
              "0                                                   NaN\n",
              "1     \"AI Innovations in Healthcare: Enhancing Patie...\n",
              "2     \"Integrating AI in Education: Opportunities, C...\n",
              "3     \"Exploring the Impact and Adoption of Generati...\n",
              "4     \"Impact of AI on Job Security and Workforce Dy...\n",
              "                            ...                        \n",
              "84    \"Advancing Language Preservation and Inclusivi...\n",
              "85    \"India's AI Landscape: Future Prospects, Chall...\n",
              "86    \"Quantum Computing and AI: Innovations, Challe...\n",
              "87    \"Gender Equality and Women's Rights in the Age...\n",
              "88    \"Advancements in AI Tools for Video Editing an...\n",
              "Name: openAI, Length: 89, dtype: object"
            ]
          },
          "execution_count": 55,
          "metadata": {},
          "output_type": "execute_result"
        }
      ],
      "source": [
        "d['openAI']"
      ]
    },
    {
      "cell_type": "code",
      "execution_count": null,
      "metadata": {
        "id": "PQz0BaU_ol1B"
      },
      "outputs": [],
      "source": [
        "from openai import OpenAI\n",
        "\n",
        "client = OpenAI(\n",
        "  api_key=\"Enter you openAI api key\"\n",
        ")\n"
      ]
    },
    {
      "cell_type": "code",
      "execution_count": null,
      "metadata": {
        "colab": {
          "base_uri": "https://localhost:8080/",
          "height": 171
        },
        "id": "5TfKAFH-F5qo",
        "outputId": "baa7b8c0-393f-45ba-fc61-aa926a9340bf"
      },
      "outputs": [
        {
          "data": {
            "application/vnd.google.colaboratory.intrinsic+json": {
              "type": "string"
            },
            "text/plain": [
              "'Given an AI-related news headlines label, classify each into one of the following categories based on its primary focus:\\n1. {Education} - AI’s role in education, including its impact on learning, teaching methods, and academic institutions.\\n2. {Careers & Workforce} – The impact of AI on employment, workplace trends, and career.\\n3. {AI in various Industries} - The adoption and applications of AI in various industries.\\n4. {AI in companies & Enterprises} – The adoption and application of AI in businesses and enterprises, including AI-driven product innovations, developments, and the challenges faced.\\n5. {AI Governance & Geopolitics} - Government actions and policies on AI, including national AI strategies, global AI summits, international collaborations, diplomatic discussions, and AI-driven geopolitical competition.\\n6. {AI Investments & Market Trends} - Funding, grants, investments, market evaluations, and stock trends related to AI and AI-driven products.\\n7. {AI Ethics, Law & Policy } -  Ethical concerns, legal challenges, privacy issues, copyright disputes, bias in AI etc.\\n8. {Other} (if it does not fit into any of the above categories).\\nLabel should be categorized based on its core theme. If a label is ambiguous, assign it to the most relevant {category}. Here is the label: \"AI Innovations in Healthcare: Enhancing Patient Care, Diagnosis, and Treatment\", return only the category without any other text :\\n'"
            ]
          },
          "execution_count": 229,
          "metadata": {},
          "output_type": "execute_result"
        }
      ],
      "source": [
        "prompts2 = []\n",
        "\n",
        "for i in range(d.shape[0]-1):\n",
        "    label = d['openAI'][i+1]\n",
        "    s = \"\"\"Given an AI-related news headlines label, classify each into one of the following categories based on its primary focus:\n",
        "1. {Education} - AI’s role in education, including its impact on learning, teaching methods, and academic institutions.\n",
        "2. {Careers & Workforce} - AI’s influence on jobs, employment trends, small business and professional development.\n",
        "3. {AI in various Industries} - The adoption and application of AI in various industries.\n",
        "4. {AI in companies & Enterprises} – The adoption and application of AI in various enterprises, including AI-driven product innovations, developments, and challenges faced by businesses.\n",
        "5. {AI overview, risks & impact} - Broad perspectives on AI, societal impact, energy. consumption, and associated risks.\n",
        "6. {AI Governance & Geopolitics} - Government actions and policies on AI, including national AI strategies, regulations, global AI summits, international collaborations, diplomatic discussions, and AI-driven geopolitical competition.\n",
        "7. {AI Investments & Market Trends} - Funding, grants, investments, market evaluations, and stock trends related to AI and AI-driven products.\n",
        "8. {AI Ethics, Law & Policy } - Ethical concerns, legal challenges, privacy issues, copyright disputes, bias in AI, compliance with regulations, and societal implications of AI laws.\n",
        "9. {Other} (if it does not fit into any of the above categories).\n",
        "Label should be categorized based on its core theme. If a label is ambiguous, assign it to the most relevant {category}. Here is the label: \"\"\"+ label +\"\"\", return only the category without any other text :\n",
        "\"\"\"\n",
        "\n",
        "    prompts2.append(s)\n",
        "prompts2[0]"
      ]
    },
    {
      "cell_type": "code",
      "execution_count": null,
      "metadata": {
        "id": "qW2CJqoDHe3c"
      },
      "outputs": [],
      "source": [
        "d['label']=None # intializing the label column to assign topics to categories"
      ]
    },
    {
      "cell_type": "code",
      "execution_count": null,
      "metadata": {
        "colab": {
          "base_uri": "https://localhost:8080/",
          "height": 598
        },
        "id": "-nbTBoToHhXz",
        "outputId": "aaf190bc-1c9c-4121-f651-3479cdf83423"
      },
      "outputs": [
        {
          "data": {
            "application/vnd.google.colaboratory.intrinsic+json": {
              "repr_error": "Out of range float values are not JSON compliant: nan",
              "type": "dataframe",
              "variable_name": "d"
            },
            "text/html": [
              "\n",
              "  <div id=\"df-d531ac27-27e4-4c9e-bd2e-6794c64a6bb5\" class=\"colab-df-container\">\n",
              "    <div>\n",
              "<style scoped>\n",
              "    .dataframe tbody tr th:only-of-type {\n",
              "        vertical-align: middle;\n",
              "    }\n",
              "\n",
              "    .dataframe tbody tr th {\n",
              "        vertical-align: top;\n",
              "    }\n",
              "\n",
              "    .dataframe thead th {\n",
              "        text-align: right;\n",
              "    }\n",
              "</style>\n",
              "<table border=\"1\" class=\"dataframe\">\n",
              "  <thead>\n",
              "    <tr style=\"text-align: right;\">\n",
              "      <th></th>\n",
              "      <th>Unnamed: 0</th>\n",
              "      <th>Topic</th>\n",
              "      <th>Count</th>\n",
              "      <th>Name</th>\n",
              "      <th>Representation</th>\n",
              "      <th>KeyBERT</th>\n",
              "      <th>MMR</th>\n",
              "      <th>POS</th>\n",
              "      <th>Representative_Docs</th>\n",
              "      <th>keywords</th>\n",
              "      <th>openAI</th>\n",
              "      <th>label</th>\n",
              "    </tr>\n",
              "  </thead>\n",
              "  <tbody>\n",
              "    <tr>\n",
              "      <th>0</th>\n",
              "      <td>0</td>\n",
              "      <td>-1</td>\n",
              "      <td>3310</td>\n",
              "      <td>-1_human_chief_good_ibm</td>\n",
              "      <td>['human', 'chief', 'good', 'ibm', 'officer', '...</td>\n",
              "      <td>['ai officer', 'ai policy', 'launches ai', 'ch...</td>\n",
              "      <td>['human', 'ibm', 'ai officer', 'chief ai', 'sa...</td>\n",
              "      <td>['human', 'chief', 'good', 'officer', 'house',...</td>\n",
              "      <td>['News | ESSC | UAH scientist earns National a...</td>\n",
              "      <td>{'white', 'ai officer', 'sam altman', 'officer...</td>\n",
              "      <td>NaN</td>\n",
              "      <td>None</td>\n",
              "    </tr>\n",
              "    <tr>\n",
              "      <th>1</th>\n",
              "      <td>1</td>\n",
              "      <td>0</td>\n",
              "      <td>808</td>\n",
              "      <td>0_health_care_healthcare_medical</td>\n",
              "      <td>['health', 'care', 'healthcare', 'medical', 'm...</td>\n",
              "      <td>['healthcare ai', 'ai healthcare', 'ai medical...</td>\n",
              "      <td>['healthcare', 'ai healthcare', 'ai health', '...</td>\n",
              "      <td>['health', 'care', 'healthcare', 'medical', 'm...</td>\n",
              "      <td>['ai in Health Care', 'AI in Health Care: Powe...</td>\n",
              "      <td>{'drug', 'health', 'screening', 'mental health...</td>\n",
              "      <td>\"AI Innovations in Healthcare: Enhancing Patie...</td>\n",
              "      <td>None</td>\n",
              "    </tr>\n",
              "    <tr>\n",
              "      <th>2</th>\n",
              "      <td>2</td>\n",
              "      <td>1</td>\n",
              "      <td>412</td>\n",
              "      <td>1_education_schools_school_students</td>\n",
              "      <td>['education', 'schools', 'school', 'students',...</td>\n",
              "      <td>['ai education', 'ai schools', 'ai academic', ...</td>\n",
              "      <td>['education', 'schools', 'students', 'ai educa...</td>\n",
              "      <td>['education', 'schools', 'school', 'students',...</td>\n",
              "      <td>['Exploring the impact of ai on higher educati...</td>\n",
              "      <td>{'ai learn', 'ai higher', 'ai schools', 'teach...</td>\n",
              "      <td>\"Integrating AI in Education: Opportunities, C...</td>\n",
              "      <td>None</td>\n",
              "    </tr>\n",
              "    <tr>\n",
              "      <th>3</th>\n",
              "      <td>3</td>\n",
              "      <td>2</td>\n",
              "      <td>281</td>\n",
              "      <td>2_generative ai_generative_ai generative_use g...</td>\n",
              "      <td>['generative ai', 'generative', 'ai generative...</td>\n",
              "      <td>['ai generative', 'generative ai', 'ai creativ...</td>\n",
              "      <td>['generative ai', 'ai generative', 'use genera...</td>\n",
              "      <td>['generative', 'usage', 'enterprise', 'creativ...</td>\n",
              "      <td>['Executive Conversations: Putting generative ...</td>\n",
              "      <td>{'use generative', 'usage', 'guide generative'...</td>\n",
              "      <td>\"Exploring the Impact and Adoption of Generati...</td>\n",
              "      <td>None</td>\n",
              "    </tr>\n",
              "    <tr>\n",
              "      <th>4</th>\n",
              "      <td>4</td>\n",
              "      <td>3</td>\n",
              "      <td>260</td>\n",
              "      <td>3_jobs_job_hr_hiring</td>\n",
              "      <td>['jobs', 'job', 'hr', 'hiring', 'workers', 'ai...</td>\n",
              "      <td>['ai workplace', 'ai jobs', 'workforce ai', 'a...</td>\n",
              "      <td>['jobs', 'hr', 'ai jobs', 'employers', 'ai wor...</td>\n",
              "      <td>['jobs', 'job', 'hiring', 'workers', 'employer...</td>\n",
              "      <td>['AI will affect 40% of jobs and probably wors...</td>\n",
              "      <td>{'job ai', 'ai workplace', 'workforce ai', 'ai...</td>\n",
              "      <td>\"Impact of AI on Job Security and Workforce Dy...</td>\n",
              "      <td>None</td>\n",
              "    </tr>\n",
              "  </tbody>\n",
              "</table>\n",
              "</div>\n",
              "    <div class=\"colab-df-buttons\">\n",
              "\n",
              "  <div class=\"colab-df-container\">\n",
              "    <button class=\"colab-df-convert\" onclick=\"convertToInteractive('df-d531ac27-27e4-4c9e-bd2e-6794c64a6bb5')\"\n",
              "            title=\"Convert this dataframe to an interactive table.\"\n",
              "            style=\"display:none;\">\n",
              "\n",
              "  <svg xmlns=\"http://www.w3.org/2000/svg\" height=\"24px\" viewBox=\"0 -960 960 960\">\n",
              "    <path d=\"M120-120v-720h720v720H120Zm60-500h600v-160H180v160Zm220 220h160v-160H400v160Zm0 220h160v-160H400v160ZM180-400h160v-160H180v160Zm440 0h160v-160H620v160ZM180-180h160v-160H180v160Zm440 0h160v-160H620v160Z\"/>\n",
              "  </svg>\n",
              "    </button>\n",
              "\n",
              "  <style>\n",
              "    .colab-df-container {\n",
              "      display:flex;\n",
              "      gap: 12px;\n",
              "    }\n",
              "\n",
              "    .colab-df-convert {\n",
              "      background-color: #E8F0FE;\n",
              "      border: none;\n",
              "      border-radius: 50%;\n",
              "      cursor: pointer;\n",
              "      display: none;\n",
              "      fill: #1967D2;\n",
              "      height: 32px;\n",
              "      padding: 0 0 0 0;\n",
              "      width: 32px;\n",
              "    }\n",
              "\n",
              "    .colab-df-convert:hover {\n",
              "      background-color: #E2EBFA;\n",
              "      box-shadow: 0px 1px 2px rgba(60, 64, 67, 0.3), 0px 1px 3px 1px rgba(60, 64, 67, 0.15);\n",
              "      fill: #174EA6;\n",
              "    }\n",
              "\n",
              "    .colab-df-buttons div {\n",
              "      margin-bottom: 4px;\n",
              "    }\n",
              "\n",
              "    [theme=dark] .colab-df-convert {\n",
              "      background-color: #3B4455;\n",
              "      fill: #D2E3FC;\n",
              "    }\n",
              "\n",
              "    [theme=dark] .colab-df-convert:hover {\n",
              "      background-color: #434B5C;\n",
              "      box-shadow: 0px 1px 3px 1px rgba(0, 0, 0, 0.15);\n",
              "      filter: drop-shadow(0px 1px 2px rgba(0, 0, 0, 0.3));\n",
              "      fill: #FFFFFF;\n",
              "    }\n",
              "  </style>\n",
              "\n",
              "    <script>\n",
              "      const buttonEl =\n",
              "        document.querySelector('#df-d531ac27-27e4-4c9e-bd2e-6794c64a6bb5 button.colab-df-convert');\n",
              "      buttonEl.style.display =\n",
              "        google.colab.kernel.accessAllowed ? 'block' : 'none';\n",
              "\n",
              "      async function convertToInteractive(key) {\n",
              "        const element = document.querySelector('#df-d531ac27-27e4-4c9e-bd2e-6794c64a6bb5');\n",
              "        const dataTable =\n",
              "          await google.colab.kernel.invokeFunction('convertToInteractive',\n",
              "                                                    [key], {});\n",
              "        if (!dataTable) return;\n",
              "\n",
              "        const docLinkHtml = 'Like what you see? Visit the ' +\n",
              "          '<a target=\"_blank\" href=https://colab.research.google.com/notebooks/data_table.ipynb>data table notebook</a>'\n",
              "          + ' to learn more about interactive tables.';\n",
              "        element.innerHTML = '';\n",
              "        dataTable['output_type'] = 'display_data';\n",
              "        await google.colab.output.renderOutput(dataTable, element);\n",
              "        const docLink = document.createElement('div');\n",
              "        docLink.innerHTML = docLinkHtml;\n",
              "        element.appendChild(docLink);\n",
              "      }\n",
              "    </script>\n",
              "  </div>\n",
              "\n",
              "\n",
              "<div id=\"df-1fc9cf90-0f14-4388-a0d0-5c277d1adf1e\">\n",
              "  <button class=\"colab-df-quickchart\" onclick=\"quickchart('df-1fc9cf90-0f14-4388-a0d0-5c277d1adf1e')\"\n",
              "            title=\"Suggest charts\"\n",
              "            style=\"display:none;\">\n",
              "\n",
              "<svg xmlns=\"http://www.w3.org/2000/svg\" height=\"24px\"viewBox=\"0 0 24 24\"\n",
              "     width=\"24px\">\n",
              "    <g>\n",
              "        <path d=\"M19 3H5c-1.1 0-2 .9-2 2v14c0 1.1.9 2 2 2h14c1.1 0 2-.9 2-2V5c0-1.1-.9-2-2-2zM9 17H7v-7h2v7zm4 0h-2V7h2v10zm4 0h-2v-4h2v4z\"/>\n",
              "    </g>\n",
              "</svg>\n",
              "  </button>\n",
              "\n",
              "<style>\n",
              "  .colab-df-quickchart {\n",
              "      --bg-color: #E8F0FE;\n",
              "      --fill-color: #1967D2;\n",
              "      --hover-bg-color: #E2EBFA;\n",
              "      --hover-fill-color: #174EA6;\n",
              "      --disabled-fill-color: #AAA;\n",
              "      --disabled-bg-color: #DDD;\n",
              "  }\n",
              "\n",
              "  [theme=dark] .colab-df-quickchart {\n",
              "      --bg-color: #3B4455;\n",
              "      --fill-color: #D2E3FC;\n",
              "      --hover-bg-color: #434B5C;\n",
              "      --hover-fill-color: #FFFFFF;\n",
              "      --disabled-bg-color: #3B4455;\n",
              "      --disabled-fill-color: #666;\n",
              "  }\n",
              "\n",
              "  .colab-df-quickchart {\n",
              "    background-color: var(--bg-color);\n",
              "    border: none;\n",
              "    border-radius: 50%;\n",
              "    cursor: pointer;\n",
              "    display: none;\n",
              "    fill: var(--fill-color);\n",
              "    height: 32px;\n",
              "    padding: 0;\n",
              "    width: 32px;\n",
              "  }\n",
              "\n",
              "  .colab-df-quickchart:hover {\n",
              "    background-color: var(--hover-bg-color);\n",
              "    box-shadow: 0 1px 2px rgba(60, 64, 67, 0.3), 0 1px 3px 1px rgba(60, 64, 67, 0.15);\n",
              "    fill: var(--button-hover-fill-color);\n",
              "  }\n",
              "\n",
              "  .colab-df-quickchart-complete:disabled,\n",
              "  .colab-df-quickchart-complete:disabled:hover {\n",
              "    background-color: var(--disabled-bg-color);\n",
              "    fill: var(--disabled-fill-color);\n",
              "    box-shadow: none;\n",
              "  }\n",
              "\n",
              "  .colab-df-spinner {\n",
              "    border: 2px solid var(--fill-color);\n",
              "    border-color: transparent;\n",
              "    border-bottom-color: var(--fill-color);\n",
              "    animation:\n",
              "      spin 1s steps(1) infinite;\n",
              "  }\n",
              "\n",
              "  @keyframes spin {\n",
              "    0% {\n",
              "      border-color: transparent;\n",
              "      border-bottom-color: var(--fill-color);\n",
              "      border-left-color: var(--fill-color);\n",
              "    }\n",
              "    20% {\n",
              "      border-color: transparent;\n",
              "      border-left-color: var(--fill-color);\n",
              "      border-top-color: var(--fill-color);\n",
              "    }\n",
              "    30% {\n",
              "      border-color: transparent;\n",
              "      border-left-color: var(--fill-color);\n",
              "      border-top-color: var(--fill-color);\n",
              "      border-right-color: var(--fill-color);\n",
              "    }\n",
              "    40% {\n",
              "      border-color: transparent;\n",
              "      border-right-color: var(--fill-color);\n",
              "      border-top-color: var(--fill-color);\n",
              "    }\n",
              "    60% {\n",
              "      border-color: transparent;\n",
              "      border-right-color: var(--fill-color);\n",
              "    }\n",
              "    80% {\n",
              "      border-color: transparent;\n",
              "      border-right-color: var(--fill-color);\n",
              "      border-bottom-color: var(--fill-color);\n",
              "    }\n",
              "    90% {\n",
              "      border-color: transparent;\n",
              "      border-bottom-color: var(--fill-color);\n",
              "    }\n",
              "  }\n",
              "</style>\n",
              "\n",
              "  <script>\n",
              "    async function quickchart(key) {\n",
              "      const quickchartButtonEl =\n",
              "        document.querySelector('#' + key + ' button');\n",
              "      quickchartButtonEl.disabled = true;  // To prevent multiple clicks.\n",
              "      quickchartButtonEl.classList.add('colab-df-spinner');\n",
              "      try {\n",
              "        const charts = await google.colab.kernel.invokeFunction(\n",
              "            'suggestCharts', [key], {});\n",
              "      } catch (error) {\n",
              "        console.error('Error during call to suggestCharts:', error);\n",
              "      }\n",
              "      quickchartButtonEl.classList.remove('colab-df-spinner');\n",
              "      quickchartButtonEl.classList.add('colab-df-quickchart-complete');\n",
              "    }\n",
              "    (() => {\n",
              "      let quickchartButtonEl =\n",
              "        document.querySelector('#df-1fc9cf90-0f14-4388-a0d0-5c277d1adf1e button');\n",
              "      quickchartButtonEl.style.display =\n",
              "        google.colab.kernel.accessAllowed ? 'block' : 'none';\n",
              "    })();\n",
              "  </script>\n",
              "</div>\n",
              "\n",
              "    </div>\n",
              "  </div>\n"
            ],
            "text/plain": [
              "   Unnamed: 0  Topic  Count  \\\n",
              "0           0     -1   3310   \n",
              "1           1      0    808   \n",
              "2           2      1    412   \n",
              "3           3      2    281   \n",
              "4           4      3    260   \n",
              "\n",
              "                                                Name  \\\n",
              "0                            -1_human_chief_good_ibm   \n",
              "1                   0_health_care_healthcare_medical   \n",
              "2                1_education_schools_school_students   \n",
              "3  2_generative ai_generative_ai generative_use g...   \n",
              "4                               3_jobs_job_hr_hiring   \n",
              "\n",
              "                                      Representation  \\\n",
              "0  ['human', 'chief', 'good', 'ibm', 'officer', '...   \n",
              "1  ['health', 'care', 'healthcare', 'medical', 'm...   \n",
              "2  ['education', 'schools', 'school', 'students',...   \n",
              "3  ['generative ai', 'generative', 'ai generative...   \n",
              "4  ['jobs', 'job', 'hr', 'hiring', 'workers', 'ai...   \n",
              "\n",
              "                                             KeyBERT  \\\n",
              "0  ['ai officer', 'ai policy', 'launches ai', 'ch...   \n",
              "1  ['healthcare ai', 'ai healthcare', 'ai medical...   \n",
              "2  ['ai education', 'ai schools', 'ai academic', ...   \n",
              "3  ['ai generative', 'generative ai', 'ai creativ...   \n",
              "4  ['ai workplace', 'ai jobs', 'workforce ai', 'a...   \n",
              "\n",
              "                                                 MMR  \\\n",
              "0  ['human', 'ibm', 'ai officer', 'chief ai', 'sa...   \n",
              "1  ['healthcare', 'ai healthcare', 'ai health', '...   \n",
              "2  ['education', 'schools', 'students', 'ai educa...   \n",
              "3  ['generative ai', 'ai generative', 'use genera...   \n",
              "4  ['jobs', 'hr', 'ai jobs', 'employers', 'ai wor...   \n",
              "\n",
              "                                                 POS  \\\n",
              "0  ['human', 'chief', 'good', 'officer', 'house',...   \n",
              "1  ['health', 'care', 'healthcare', 'medical', 'm...   \n",
              "2  ['education', 'schools', 'school', 'students',...   \n",
              "3  ['generative', 'usage', 'enterprise', 'creativ...   \n",
              "4  ['jobs', 'job', 'hiring', 'workers', 'employer...   \n",
              "\n",
              "                                 Representative_Docs  \\\n",
              "0  ['News | ESSC | UAH scientist earns National a...   \n",
              "1  ['ai in Health Care', 'AI in Health Care: Powe...   \n",
              "2  ['Exploring the impact of ai on higher educati...   \n",
              "3  ['Executive Conversations: Putting generative ...   \n",
              "4  ['AI will affect 40% of jobs and probably wors...   \n",
              "\n",
              "                                            keywords  \\\n",
              "0  {'white', 'ai officer', 'sam altman', 'officer...   \n",
              "1  {'drug', 'health', 'screening', 'mental health...   \n",
              "2  {'ai learn', 'ai higher', 'ai schools', 'teach...   \n",
              "3  {'use generative', 'usage', 'guide generative'...   \n",
              "4  {'job ai', 'ai workplace', 'workforce ai', 'ai...   \n",
              "\n",
              "                                              openAI label  \n",
              "0                                                NaN  None  \n",
              "1  \"AI Innovations in Healthcare: Enhancing Patie...  None  \n",
              "2  \"Integrating AI in Education: Opportunities, C...  None  \n",
              "3  \"Exploring the Impact and Adoption of Generati...  None  \n",
              "4  \"Impact of AI on Job Security and Workforce Dy...  None  "
            ]
          },
          "execution_count": 8,
          "metadata": {},
          "output_type": "execute_result"
        }
      ],
      "source": [
        "d.head()"
      ]
    },
    {
      "cell_type": "code",
      "execution_count": null,
      "metadata": {
        "id": "WrhwoiR2HWkZ"
      },
      "outputs": [],
      "source": [
        "# Store responses\n",
        "d['label'] = None\n",
        "for i in range(len(prompts2)):\n",
        "    key = i + 1\n",
        "    prompt = prompts2[i]\n",
        "    # Generate completion for each prompt\n",
        "    completion = client.chat.completions.create(\n",
        "        model=\"gpt-4o-mini\",\n",
        "        store=True,  # Save interactions for future analysis\n",
        "        temperature=0,  # Ensure reproducibility\n",
        "        messages=[{\"role\": \"user\", \"content\": prompt}]\n",
        "    )\n",
        "    # Store the response content\n",
        "    d['label'][key] = completion.choices[0].message.content\n",
        "\n"
      ]
    },
    {
      "cell_type": "code",
      "execution_count": null,
      "metadata": {
        "colab": {
          "base_uri": "https://localhost:8080/"
        },
        "id": "BLth4hk-H62I",
        "outputId": "870473d6-ada5-4e4a-fb46-ef94fef19dda"
      },
      "outputs": [
        {
          "name": "stdout",
          "output_type": "stream",
          "text": [
            "-1\n",
            "nan\n",
            "None\n",
            "0\n",
            "\"AI Innovations in Healthcare: Enhancing Patient Care, Diagnosis, and Treatment\"\n",
            "{AI in various Industries}\n",
            "1\n",
            "\"Integrating AI in Education: Opportunities, Challenges, and Innovations\"\n",
            "{Education}\n",
            "2\n",
            "\"Exploring the Impact and Adoption of Generative AI Across Industries\"\n",
            "{AI in various Industries}\n",
            "3\n",
            "\"Impact of AI on Job Security and Workforce Dynamics\"\n",
            "{Careers & Workforce}\n",
            "4\n",
            "\"AI Chip Market Competition: Intel, AMD, and Alternative Stocks to Nvidia\"\n",
            "{AI Investments & Market Trends}\n",
            "5\n",
            "\"Impact of AI on Search Engines: Google's Innovations and Challenges\"\n",
            "{AI in companies & Enterprises}\n",
            "6\n",
            "\"Wall Street Insights: Promising AI Stocks and Investment Opportunities\"\n",
            "{AI Investments & Market Trends}\n",
            "7\n",
            "\"AI Chatbots: Innovations, Controversies, and Legal Challenges\"\n",
            "{AI Ethics, Law & Policy}\n",
            "8\n",
            "\"AI Startup Funding and Market Growth Trends\"\n",
            "{AI Investments & Market Trends}\n",
            "9\n",
            "\"AI in the Legal Field: Impacts, Challenges, and Ethical Considerations\"\n",
            "{AI Ethics, Law & Policy}\n",
            "10\n",
            "\"AI's Impact on the 2024 Presidential Election: Challenges and Concerns\"\n",
            "{AI Governance & Geopolitics}\n",
            "11\n",
            "\"Empowering Small Businesses with AI: Tools, Strategies, and Growth Opportunities for 2024\"\n",
            "{Careers & Workforce}\n",
            "12\n",
            "\"Generative AI Innovations and Applications on Amazon Bedrock and AWS\"\n",
            "{AI in companies & Enterprises}\n",
            "13\n",
            "\"AI-Driven Innovations in Retail and Customer Experience\"\n",
            "{AI in various Industries}\n",
            "14\n",
            "\"Meta AI and Social Media: User Data, Privacy Concerns, and AI Image Generation\"\n",
            "{AI Ethics, Law & Policy}\n",
            "15\n",
            "**\"AI-Driven Cybersecurity: Threats, Vulnerabilities, and Solutions for 2024\"**\n",
            "{AI in various Industries}\n",
            "16\n",
            "\"Apple's AI Innovations and iOS 18.1 Features for iPhone 16\"\n",
            "{AI in companies & Enterprises}\n",
            "17\n",
            "\"Advancements in Military AI and Autonomous Warfare\"\n",
            "{AI in various Industries}\n",
            "18\n",
            "\"Overview of the EU AI Act: Key Regulations and Implications for AI Compliance in Europe\"\n",
            "{AI Governance & Geopolitics}\n",
            "19\n",
            "\"AI in Financial Services: Opportunities, Challenges, and Future Trends\"\n",
            "{AI in various Industries}\n",
            "20\n",
            "\"AI Trends and Predictions for 2024: Insights, Statistics, and Influential Leaders\"\n",
            "{AI Investments & Market Trends}\n",
            "21\n",
            "\"AI Regulation and Legislative Developments\"\n",
            "{AI Governance & Geopolitics}\n",
            "22\n",
            "\"AI Innovations in Agriculture and Food Industry: Enhancing Yields, Sustainability, and Creativity\"\n",
            "{AI in various Industries}\n",
            "23\n",
            "\"AI Innovations in Climate Change Mitigation and Adaptation\"\n",
            "{AI in various Industries}\n",
            "24\n",
            "\"AI's Energy Revolution: The Role of Nuclear Power in Data Centers\"\n",
            "{AI overview, risks & impact}\n",
            "25\n",
            "\"OpenAI's Innovations and Challenges in AI Development\"\n",
            "{AI in companies & Enterprises}\n",
            "26\n",
            "\"Comparative Analysis of AI Features in Samsung Galaxy S24 Series and Competing Smartphones\"\n",
            "{AI in companies & Enterprises}\n",
            "27\n",
            "\"California's Controversial AI Legislation and Governor Newsom's Vetoes\"\n",
            "{AI Governance & Geopolitics}\n",
            "28\n",
            "\"AI's Transformative Impact on Sports: Innovations, Challenges, and Future Directions\"\n",
            "{AI in various Industries}\n",
            "29\n",
            "\"AI's Impact on the Music Industry: Opportunities, Challenges, and Legal Battles\"\n",
            "{AI in various Industries}\n",
            "30\n",
            "\"China-US AI Competition and Diplomacy\"\n",
            "{AI Governance & Geopolitics}\n",
            "31\n",
            "\"AI's Energy Impact: Balancing Efficiency, Emissions, and Sustainability\"\n",
            "{AI overview, risks & impact}\n",
            "32\n",
            "\"AI Innovations in Wildlife Conservation and Biodiversity Monitoring\"\n",
            "{AI in various Industries}\n",
            "33\n",
            "\"Exploring the Intersection of Art and AI: Controversies, Innovations, and Community Perspectives\"\n",
            "{Other}\n",
            "34\n",
            "\"Exploring Ethical AI: Challenges, Applications, and Future Directions\"\n",
            "{AI Ethics, Law & Policy}\n",
            "35\n",
            "\"AI Investment Trends and Opportunities\"\n",
            "{AI Investments & Market Trends}\n",
            "36\n",
            "\"Transforming Tax and Accounting: The Impact of AI on Fraud Detection, Auditing, and Financial Reporting\"\n",
            "{AI in various Industries}\n",
            "37\n",
            "\"Global AI Governance: Frameworks, Challenges, and Collaborative Approaches\"\n",
            "{AI Governance & Geopolitics}\n",
            "38\n",
            "\"Microsoft's AI Revolution: Innovations, Partnerships, and Transformations in Enterprise Software\"\n",
            "{AI in companies & Enterprises}\n",
            "39\n",
            "\"Exploring the Complexities and Controversies of AI\"\n",
            "{AI Ethics, Law & Policy}\n",
            "40\n",
            "\"AI Risk Management: Navigating Dangers and Opportunities\"\n",
            "{AI overview, risks & impact}\n",
            "41\n",
            "\"AI Training and Data Strategies: Opportunities and Challenges\"\n",
            "{AI in companies & Enterprises}\n",
            "42\n",
            "\"Comprehensive Overview of AI: Applications, Terminology, and Implications\"\n",
            "{AI overview, risks & impact}\n",
            "43\n",
            "\"AI's Impact on Journalism: Opportunities, Challenges, and Public Trust\"\n",
            "{AI in various Industries}\n",
            "44\n",
            "\"Global Initiatives and Collaborations for AI Safety and Security\"\n",
            "{AI Governance & Geopolitics}\n",
            "45\n",
            "\"Advancements in AI Supercomputing and Hardware Innovations\"\n",
            "{AI in companies & Enterprises}\n",
            "46\n",
            "\"Hollywood's Complex Relationship with AI: Directors, Backlash, and Industry Impacts\"\n",
            "{AI in various Industries}\n",
            "47\n",
            "\"Global AI Summits and Conferences: Exploring Future Trends and Collaborations\"\n",
            "{AI Governance & Geopolitics}\n",
            "48\n",
            "\"Strategic Partnerships and Innovations in AI-Driven Cloud Computing\"\n",
            "{AI in companies & Enterprises}\n",
            "49\n",
            "\"Australia's AI Economy and Workforce Readiness: Opportunities and Challenges\"\n",
            "{Careers & Workforce}\n",
            "50\n",
            "\"AI Integration and Governance: Strategies, Challenges, and Opportunities for Government Agencies\"\n",
            "{AI Governance & Geopolitics}\n",
            "51\n",
            "\"AI in Law Enforcement: Surveillance, Crime Detection, and Privacy Concerns\"\n",
            "{AI Ethics, Law & Policy}\n",
            "52\n",
            "\"AI-Driven Sustainability and Waste Management Innovations\"\n",
            "{AI in various Industries}\n",
            "53\n",
            "\"AI and Copyright: Legal Challenges and Industry Implications\"\n",
            "{AI Ethics, Law & Policy}\n",
            "54\n",
            "\"AI Development and Governance in Africa: Strategies, Readiness, and Regional Perspectives\"\n",
            "{AI Governance & Geopolitics}\n",
            "55\n",
            "\"Geoffrey Hinton and AI Pioneers Win Nobel Prize in Physics: Implications and Concerns\"\n",
            "{AI overview, risks & impact}\n",
            "56\n",
            "\"AI Innovations and Applications in Advanced Manufacturing\"\n",
            "{AI in various Industries}\n",
            "57\n",
            "\"Microsoft Copilot AI: Innovations, Challenges, and Competitive Landscape\"\n",
            "{AI in companies & Enterprises}\n",
            "58\n",
            "\"AI's Transformative Impact on Fashion and Beauty Industries\"\n",
            "{AI in various Industries}\n",
            "59\n",
            "\"AI and Data Privacy: Challenges and Regulatory Responses\"\n",
            "{AI Ethics, Law & Policy}\n",
            "60\n",
            "\"Navigating the Gen AI Era: Opportunities, Risks, and Workforce Transformation\"\n",
            "{Careers & Workforce}\n",
            "61\n",
            "**\"AI Innovations in Sustainable Construction and Architecture\"**\n",
            "{AI in various Industries}\n",
            "62\n",
            "\"Canada's Evolving AI Landscape: Strategies, Investments, and Challenges\"\n",
            "{AI Governance & Geopolitics}\n",
            "63\n",
            "\"AI Landscape and Opportunities in Europe\"\n",
            "{AI Investments & Market Trends}\n",
            "64\n",
            "\"AI Hype: Boom, Bust, and Reality Check\"\n",
            "{AI overview, risks & impact}\n",
            "65\n",
            "\"Exploring the Intersection of AI and Human Intelligence: Challenges, Insights, and Future Directions\"\n",
            "{AI overview, risks & impact}\n",
            "66\n",
            "\"Middle East AI Ambitions: UAE and Saudi Arabia's Strategic Initiatives and Collaborations\"\n",
            "{AI Governance & Geopolitics}\n",
            "67\n",
            "\"Funding and Grants for AI Research and Training Initiatives\"\n",
            "{AI Investments & Market Trends}\n",
            "68\n",
            "\"CEO Perspectives on AI: Challenges, Innovations, and Future Directions for 2024\"\n",
            "{AI in companies & Enterprises}\n",
            "69\n",
            "\"AI Innovations in Automotive Technology and Autonomous Driving\"\n",
            "{AI in various Industries}\n",
            "70\n",
            "\"AI Ethics and Regulation: Perspectives from Pope Francis and the Black Church\"\n",
            "{AI Ethics, Law & Policy}\n",
            "71\n",
            "\"Open Source AI: Definitions, Developments, and Debates\"\n",
            "{AI overview, risks & impact}\n",
            "72\n",
            "\"Exploring AI in Podcasts: Innovations, Discussions, and Cultural Impact\"\n",
            "{Other}\n",
            "73\n",
            "\"Exploring the Impact of AI on Writing: Opportunities, Challenges, and Ethical Considerations\"\n",
            "{AI Ethics, Law & Policy}\n",
            "74\n",
            "\"Exploring Agentic AI: Trends, Challenges, and Innovations in Autonomous AI Systems\"\n",
            "{AI overview, risks & impact}\n",
            "75\n",
            "\"UK AI Regulation: Challenges and Opportunities for Leadership and Innovation\"\n",
            "{AI Governance & Geopolitics}\n",
            "76\n",
            "\"Comparative Analysis of AI Stocks: Palantir, Super Micro Computer, and Others\"\n",
            "{AI Investments & Market Trends}\n",
            "77\n",
            "\"Advancements in AI and Machine Learning for Scientific Research\"\n",
            "{AI in various Industries}\n",
            "78\n",
            "\"AI and Voice Technology: Innovations, Challenges, and Impacts\"\n",
            "{AI in various Industries}\n",
            "79\n",
            "\"Revolutionizing Supply Chain Management through AI and Automation\"\n",
            "{AI in various Industries}\n",
            "80\n",
            "\"AI Innovations in Mining and Battery Materials\"\n",
            "{AI in various Industries}\n",
            "81\n",
            "\"U.S. AI Policy and Executive Orders: Biden vs. Trump\"\n",
            "{AI Governance & Geopolitics}\n",
            "82\n",
            "\"Elon Musk and the Future of AI: Innovations, Controversies, and Societal Impact\"\n",
            "{AI overview, risks & impact}\n",
            "83\n",
            "\"Advancing Language Preservation and Inclusivity through AI\"\n",
            "{Education}\n",
            "84\n",
            "\"India's AI Landscape: Future Prospects, Challenges, and Developments\"\n",
            "{AI Governance & Geopolitics}\n",
            "85\n",
            "\"Quantum Computing and AI: Innovations, Challenges, and Global Competition\"\n",
            "{AI Governance & Geopolitics}\n",
            "86\n",
            "\"Gender Equality and Women's Rights in the Age of AI\"\n",
            "{AI Ethics, Law & Policy}\n",
            "87\n",
            "\"Advancements in AI Tools for Video Editing and Creation\"\n",
            "{AI in various Industries}\n"
          ]
        }
      ],
      "source": [
        "for i in range(d.shape[0]):\n",
        "  print(d['Topic'].iloc[i])\n",
        "  print(d['openAI'].iloc[i])\n",
        "  print(d['label'].iloc[i])"
      ]
    },
    {
      "cell_type": "code",
      "execution_count": null,
      "metadata": {
        "colab": {
          "base_uri": "https://localhost:8080/"
        },
        "id": "BieTmqc0E39C",
        "outputId": "4aa39a4e-7ac2-4c08-b155-21e89d2c486d"
      },
      "outputs": [
        {
          "name": "stdout",
          "output_type": "stream",
          "text": [
            "-1\n",
            "nan\n",
            "None\n",
            "0\n",
            "\"AI Innovations in Healthcare: Enhancing Patient Care, Diagnosis, and Treatment\"\n",
            "{AI in various Industries}\n",
            "1\n",
            "\"Integrating AI in Education: Opportunities, Challenges, and Innovations\"\n",
            "{Education}\n",
            "2\n",
            "\"Exploring the Impact and Adoption of Generative AI Across Industries\"\n",
            "{AI in various Industries}\n",
            "3\n",
            "\"Impact of AI on Job Security and Workforce Dynamics\"\n",
            "{Careers & Workforce}\n",
            "4\n",
            "\"AI Chip Market Competition: Intel, AMD, and Alternative Stocks to Nvidia\"\n",
            "{AI Investments & Market Trends}\n",
            "5\n",
            "\"Impact of AI on Search Engines: Google's Innovations and Challenges\"\n",
            "{AI in companies & Enterprises}\n",
            "6\n",
            "\"Wall Street Insights: Promising AI Stocks and Investment Opportunities\"\n",
            "{AI Investments & Market Trends}\n",
            "7\n",
            "\"AI Chatbots: Innovations, Controversies, and Legal Challenges\"\n",
            "{AI Ethics, Law & Policy}\n",
            "8\n",
            "\"AI Startup Funding and Market Growth Trends\"\n",
            "{AI Investments & Market Trends}\n",
            "9\n",
            "\"AI in the Legal Field: Impacts, Challenges, and Ethical Considerations\"\n",
            "{AI Ethics, Law & Policy}\n",
            "10\n",
            "\"AI's Impact on the 2024 Presidential Election: Challenges and Concerns\"\n",
            "{AI Governance & Geopolitics}\n",
            "11\n",
            "\"Empowering Small Businesses with AI: Tools, Strategies, and Growth Opportunities for 2024\"\n",
            "{AI in companies & Enterprises}\n",
            "12\n",
            "\"Generative AI Innovations and Applications on Amazon Bedrock and AWS\"\n",
            "{AI in companies & Enterprises}\n",
            "13\n",
            "\"AI-Driven Innovations in Retail and Customer Experience\"\n",
            "{AI in various Industries}\n",
            "14\n",
            "\"Meta AI and Social Media: User Data, Privacy Concerns, and AI Image Generation\"\n",
            "{AI Ethics, Law & Policy}\n",
            "15\n",
            "**\"AI-Driven Cybersecurity: Threats, Vulnerabilities, and Solutions for 2024\"**\n",
            "{AI in various Industries}\n",
            "16\n",
            "\"Apple's AI Innovations and iOS 18.1 Features for iPhone 16\"\n",
            "{AI in companies & Enterprises}\n",
            "17\n",
            "\"Advancements in Military AI and Autonomous Warfare\"\n",
            "{AI Governance & Geopolitics}\n",
            "18\n",
            "\"Overview of the EU AI Act: Key Regulations and Implications for AI Compliance in Europe\"\n",
            "{AI Governance & Geopolitics}\n",
            "19\n",
            "\"AI in Financial Services: Opportunities, Challenges, and Future Trends\"\n",
            "{AI in various Industries}\n",
            "20\n",
            "\"AI Trends and Predictions for 2024: Insights, Statistics, and Influential Leaders\"\n",
            "{AI Investments & Market Trends}\n",
            "21\n",
            "\"AI Regulation and Legislative Developments\"\n",
            "{AI Governance & Geopolitics}\n",
            "22\n",
            "\"AI Innovations in Agriculture and Food Industry: Enhancing Yields, Sustainability, and Creativity\"\n",
            "{AI in various Industries}\n",
            "23\n",
            "\"AI Innovations in Climate Change Mitigation and Adaptation\"\n",
            "{AI in various Industries}\n",
            "24\n",
            "\"AI's Energy Revolution: The Role of Nuclear Power in Data Centers\"\n",
            "{AI in various Industries}\n",
            "25\n",
            "\"OpenAI's Innovations and Challenges in AI Development\"\n",
            "{AI in companies & Enterprises}\n",
            "26\n",
            "\"Comparative Analysis of AI Features in Samsung Galaxy S24 Series and Competing Smartphones\"\n",
            "{AI in companies & Enterprises}\n",
            "27\n",
            "\"California's Controversial AI Legislation and Governor Newsom's Vetoes\"\n",
            "{AI Governance & Geopolitics}\n",
            "28\n",
            "\"AI's Transformative Impact on Sports: Innovations, Challenges, and Future Directions\"\n",
            "{AI in various Industries}\n",
            "29\n",
            "\"AI's Impact on the Music Industry: Opportunities, Challenges, and Legal Battles\"\n",
            "{AI in various Industries}\n",
            "30\n",
            "\"China-US AI Competition and Diplomacy\"\n",
            "{AI Governance & Geopolitics}\n",
            "31\n",
            "\"AI's Energy Impact: Balancing Efficiency, Emissions, and Sustainability\"\n",
            "{AI in various Industries}\n",
            "32\n",
            "\"AI Innovations in Wildlife Conservation and Biodiversity Monitoring\"\n",
            "{AI in various Industries}\n",
            "33\n",
            "\"Exploring the Intersection of Art and AI: Controversies, Innovations, and Community Perspectives\"\n",
            "{Other}\n",
            "34\n",
            "\"Exploring Ethical AI: Challenges, Applications, and Future Directions\"\n",
            "{AI Ethics, Law & Policy}\n",
            "35\n",
            "\"AI Investment Trends and Opportunities\"\n",
            "{AI Investments & Market Trends}\n",
            "36\n",
            "\"Transforming Tax and Accounting: The Impact of AI on Fraud Detection, Auditing, and Financial Reporting\"\n",
            "{AI in various Industries}\n",
            "37\n",
            "\"Global AI Governance: Frameworks, Challenges, and Collaborative Approaches\"\n",
            "{AI Governance & Geopolitics}\n",
            "38\n",
            "\"Microsoft's AI Revolution: Innovations, Partnerships, and Transformations in Enterprise Software\"\n",
            "{AI in companies & Enterprises}\n",
            "39\n",
            "\"Exploring the Complexities and Controversies of AI\"\n",
            "{AI Ethics, Law & Policy}\n",
            "40\n",
            "\"AI Risk Management: Navigating Dangers and Opportunities\"\n",
            "{AI Ethics, Law & Policy}\n",
            "41\n",
            "\"AI Training and Data Strategies: Opportunities and Challenges\"\n",
            "{AI in companies & Enterprises}\n",
            "42\n",
            "\"Comprehensive Overview of AI: Applications, Terminology, and Implications\"\n",
            "{Other}\n",
            "43\n",
            "\"AI's Impact on Journalism: Opportunities, Challenges, and Public Trust\"\n",
            "{AI in various Industries}\n",
            "44\n",
            "\"Global Initiatives and Collaborations for AI Safety and Security\"\n",
            "{AI Governance & Geopolitics}\n",
            "45\n",
            "\"Advancements in AI Supercomputing and Hardware Innovations\"\n",
            "{AI in companies & Enterprises}\n",
            "46\n",
            "\"Hollywood's Complex Relationship with AI: Directors, Backlash, and Industry Impacts\"\n",
            "{AI in various Industries}\n",
            "47\n",
            "\"Global AI Summits and Conferences: Exploring Future Trends and Collaborations\"\n",
            "{AI Governance & Geopolitics}\n",
            "48\n",
            "\"Strategic Partnerships and Innovations in AI-Driven Cloud Computing\"\n",
            "{AI in companies & Enterprises}\n",
            "49\n",
            "\"Australia's AI Economy and Workforce Readiness: Opportunities and Challenges\"\n",
            "{Careers & Workforce}\n",
            "50\n",
            "\"AI Integration and Governance: Strategies, Challenges, and Opportunities for Government Agencies\"\n",
            "{AI Governance & Geopolitics}\n",
            "51\n",
            "\"AI in Law Enforcement: Surveillance, Crime Detection, and Privacy Concerns\"\n",
            "{AI Ethics, Law & Policy}\n",
            "52\n",
            "\"AI-Driven Sustainability and Waste Management Innovations\"\n",
            "{AI in various Industries}\n",
            "53\n",
            "\"AI and Copyright: Legal Challenges and Industry Implications\"\n",
            "{AI Ethics, Law & Policy}\n",
            "54\n",
            "\"AI Development and Governance in Africa: Strategies, Readiness, and Regional Perspectives\"\n",
            "{AI Governance & Geopolitics}\n",
            "55\n",
            "\"Geoffrey Hinton and AI Pioneers Win Nobel Prize in Physics: Implications and Concerns\"\n",
            "{AI Governance & Geopolitics}\n",
            "56\n",
            "\"AI Innovations and Applications in Advanced Manufacturing\"\n",
            "{AI in various Industries}\n",
            "57\n",
            "\"Microsoft Copilot AI: Innovations, Challenges, and Competitive Landscape\"\n",
            "{AI in companies & Enterprises}\n",
            "58\n",
            "\"AI's Transformative Impact on Fashion and Beauty Industries\"\n",
            "{AI in various Industries}\n",
            "59\n",
            "\"AI and Data Privacy: Challenges and Regulatory Responses\"\n",
            "{AI Ethics, Law & Policy}\n",
            "60\n",
            "\"Navigating the Gen AI Era: Opportunities, Risks, and Workforce Transformation\"\n",
            "{Careers & Workforce}\n",
            "61\n",
            "**\"AI Innovations in Sustainable Construction and Architecture\"**\n",
            "{AI in various Industries}\n",
            "62\n",
            "\"Canada's Evolving AI Landscape: Strategies, Investments, and Challenges\"\n",
            "{AI Governance & Geopolitics}\n",
            "63\n",
            "\"AI Landscape and Opportunities in Europe\"\n",
            "{AI Investments & Market Trends}\n",
            "64\n",
            "\"AI Hype: Boom, Bust, and Reality Check\"\n",
            "{AI Investments & Market Trends}\n",
            "65\n",
            "\"Exploring the Intersection of AI and Human Intelligence: Challenges, Insights, and Future Directions\"\n",
            "{Other}\n",
            "66\n",
            "\"Middle East AI Ambitions: UAE and Saudi Arabia's Strategic Initiatives and Collaborations\"\n",
            "{AI Governance & Geopolitics}\n",
            "67\n",
            "\"Funding and Grants for AI Research and Training Initiatives\"\n",
            "{AI Investments & Market Trends}\n",
            "68\n",
            "\"CEO Perspectives on AI: Challenges, Innovations, and Future Directions for 2024\"\n",
            "{AI in companies & Enterprises}\n",
            "69\n",
            "\"AI Innovations in Automotive Technology and Autonomous Driving\"\n",
            "{AI in various Industries}\n",
            "70\n",
            "\"AI Ethics and Regulation: Perspectives from Pope Francis and the Black Church\"\n",
            "{AI Ethics, Law & Policy}\n",
            "71\n",
            "\"Open Source AI: Definitions, Developments, and Debates\"\n",
            "{Other}\n",
            "72\n",
            "\"Exploring AI in Podcasts: Innovations, Discussions, and Cultural Impact\"\n",
            "{Other}\n",
            "73\n",
            "\"Exploring the Impact of AI on Writing: Opportunities, Challenges, and Ethical Considerations\"\n",
            "{AI Ethics, Law & Policy}\n",
            "74\n",
            "\"Exploring Agentic AI: Trends, Challenges, and Innovations in Autonomous AI Systems\"\n",
            "{AI in various Industries}\n",
            "75\n",
            "\"UK AI Regulation: Challenges and Opportunities for Leadership and Innovation\"\n",
            "{AI Governance & Geopolitics}\n",
            "76\n",
            "\"Comparative Analysis of AI Stocks: Palantir, Super Micro Computer, and Others\"\n",
            "{AI Investments & Market Trends}\n",
            "77\n",
            "\"Advancements in AI and Machine Learning for Scientific Research\"\n",
            "{AI in various Industries}\n",
            "78\n",
            "\"AI and Voice Technology: Innovations, Challenges, and Impacts\"\n",
            "{AI in various Industries}\n",
            "79\n",
            "\"Revolutionizing Supply Chain Management through AI and Automation\"\n",
            "{AI in various Industries}\n",
            "80\n",
            "\"AI Innovations in Mining and Battery Materials\"\n",
            "{AI in various Industries}\n",
            "81\n",
            "\"U.S. AI Policy and Executive Orders: Biden vs. Trump\"\n",
            "{AI Governance & Geopolitics}\n",
            "82\n",
            "\"Elon Musk and the Future of AI: Innovations, Controversies, and Societal Impact\"\n",
            "{AI Governance & Geopolitics}\n",
            "83\n",
            "\"Advancing Language Preservation and Inclusivity through AI\"\n",
            "{Education}\n",
            "84\n",
            "\"India's AI Landscape: Future Prospects, Challenges, and Developments\"\n",
            "{AI Governance & Geopolitics}\n",
            "85\n",
            "\"Quantum Computing and AI: Innovations, Challenges, and Global Competition\"\n",
            "{AI Governance & Geopolitics}\n",
            "86\n",
            "\"Gender Equality and Women's Rights in the Age of AI\"\n",
            "{AI Ethics, Law & Policy}\n",
            "87\n",
            "\"Advancements in AI Tools for Video Editing and Creation\"\n",
            "{AI in various Industries}\n"
          ]
        }
      ],
      "source": [
        "for i in range(d.shape[0]):\n",
        "  print(d['Topic'].iloc[i])\n",
        "  print(d['openAI'].iloc[i])\n",
        "  print(d['label'].iloc[i])"
      ]
    },
    {
      "cell_type": "code",
      "execution_count": null,
      "metadata": {
        "colab": {
          "base_uri": "https://localhost:8080/",
          "height": 393
        },
        "id": "Wqsj0mBQEt0-",
        "outputId": "8bf256e9-f6b9-4be0-e495-f1a9b648e054"
      },
      "outputs": [
        {
          "data": {
            "text/html": [
              "<div>\n",
              "<style scoped>\n",
              "    .dataframe tbody tr th:only-of-type {\n",
              "        vertical-align: middle;\n",
              "    }\n",
              "\n",
              "    .dataframe tbody tr th {\n",
              "        vertical-align: top;\n",
              "    }\n",
              "\n",
              "    .dataframe thead th {\n",
              "        text-align: right;\n",
              "    }\n",
              "</style>\n",
              "<table border=\"1\" class=\"dataframe\">\n",
              "  <thead>\n",
              "    <tr style=\"text-align: right;\">\n",
              "      <th></th>\n",
              "      <th>count</th>\n",
              "    </tr>\n",
              "    <tr>\n",
              "      <th>label</th>\n",
              "      <th></th>\n",
              "    </tr>\n",
              "  </thead>\n",
              "  <tbody>\n",
              "    <tr>\n",
              "      <th>{AI in various Industries}</th>\n",
              "      <td>24</td>\n",
              "    </tr>\n",
              "    <tr>\n",
              "      <th>{AI Governance &amp; Geopolitics}</th>\n",
              "      <td>16</td>\n",
              "    </tr>\n",
              "    <tr>\n",
              "      <th>{AI in companies &amp; Enterprises}</th>\n",
              "      <td>11</td>\n",
              "    </tr>\n",
              "    <tr>\n",
              "      <th>{AI Ethics, Law &amp; Policy}</th>\n",
              "      <td>11</td>\n",
              "    </tr>\n",
              "    <tr>\n",
              "      <th>{AI overview, risks &amp; impact}</th>\n",
              "      <td>10</td>\n",
              "    </tr>\n",
              "    <tr>\n",
              "      <th>{AI Investments &amp; Market Trends}</th>\n",
              "      <td>8</td>\n",
              "    </tr>\n",
              "    <tr>\n",
              "      <th>{Careers &amp; Workforce}</th>\n",
              "      <td>4</td>\n",
              "    </tr>\n",
              "    <tr>\n",
              "      <th>{Education}</th>\n",
              "      <td>2</td>\n",
              "    </tr>\n",
              "    <tr>\n",
              "      <th>{Other}</th>\n",
              "      <td>2</td>\n",
              "    </tr>\n",
              "  </tbody>\n",
              "</table>\n",
              "</div><br><label><b>dtype:</b> int64</label>"
            ],
            "text/plain": [
              "label\n",
              "{AI in various Industries}          24\n",
              "{AI Governance & Geopolitics}       16\n",
              "{AI in companies & Enterprises}     11\n",
              "{AI Ethics, Law & Policy}           11\n",
              "{AI overview, risks & impact}       10\n",
              "{AI Investments & Market Trends}     8\n",
              "{Careers & Workforce}                4\n",
              "{Education}                          2\n",
              "{Other}                              2\n",
              "Name: count, dtype: int64"
            ]
          },
          "execution_count": 28,
          "metadata": {},
          "output_type": "execute_result"
        }
      ],
      "source": [
        "d['label'].value_counts()"
      ]
    },
    {
      "cell_type": "code",
      "execution_count": null,
      "metadata": {
        "id": "zVUHDca4saMt"
      },
      "outputs": [],
      "source": [
        "import json\n",
        "with open(\"datasets/rep_docs2.json\", \"r\") as file:\n",
        "    repdocs = json.load(file)"
      ]
    },
    {
      "cell_type": "markdown",
      "metadata": {
        "id": "jUH1ytJEow-w"
      },
      "source": [
        "## Manually Cross verifying the labels and making necessary changes\n",
        "Here we cross verified the labels of the topics given by the openAI by examining each topic and finally labelled only those topic which we are most confident with."
      ]
    },
    {
      "cell_type": "code",
      "execution_count": null,
      "metadata": {
        "colab": {
          "base_uri": "https://localhost:8080/"
        },
        "id": "8d7yvMSUJVrC",
        "outputId": "03bb6dc4-8be0-4421-9165-4fbf6058812a"
      },
      "outputs": [
        {
          "data": {
            "text/plain": [
              "array([nan, '{AI in various Industries}', '{Education}',\n",
              "       '{Careers & Workforce}', '{AI Investments & Market Trends}',\n",
              "       '{AI in companies & Enterprises}', '{AI Ethics, Law & Policy}',\n",
              "       '{AI Governance & Geopolitics}', '{Other}'], dtype=object)"
            ]
          },
          "execution_count": 235,
          "metadata": {},
          "output_type": "execute_result"
        }
      ],
      "source": [
        "d['label'].unique()"
      ]
    },
    {
      "cell_type": "code",
      "execution_count": null,
      "metadata": {
        "id": "u8ujN2GVuN3f"
      },
      "outputs": [],
      "source": [
        "labels = ['{AI in various Industries}', '{Education}',\n",
        "       '{Careers & Workforce}', '{AI Investments & Market Trends}',\n",
        "       '{AI in companies & Enterprises}', '{AI Ethics, Law & Policy}',\n",
        "       '{AI Governance & Geopolitics}', '{Other}']"
      ]
    },
    {
      "cell_type": "code",
      "execution_count": null,
      "metadata": {
        "colab": {
          "base_uri": "https://localhost:8080/"
        },
        "id": "GjpTugITuLLs",
        "outputId": "690db902-bd71-48d5-ae50-357cd226c8a4"
      },
      "outputs": [
        {
          "name": "stdout",
          "output_type": "stream",
          "text": [
            "{AI in various Industries} 484\n",
            "{Education} 41\n",
            "{Careers & Workforce} 60\n",
            "{AI Investments & Market Trends} 182\n",
            "{AI in companies & Enterprises} 240\n",
            "{AI Ethics, Law & Policy} 220\n",
            "{AI Governance & Geopolitics} 340\n",
            "{AI risks & impact} 100\n",
            "{Other} 100\n"
          ]
        }
      ],
      "source": [
        "\n",
        "for label in labels:\n",
        "  topic = list(d[d['label']==label]['Topic'])\n",
        "  total = 0\n",
        "  for i in topic:\n",
        "    #print(d[d['Topic']==i].iloc[0]['openAI'])\n",
        "    #print(repdocs[str(i)])\n",
        "    total = total + len(repdocs[str(i)])\n",
        "  print(label,total)"
      ]
    },
    {
      "cell_type": "code",
      "execution_count": null,
      "metadata": {
        "id": "IBHuexRuxgun"
      },
      "outputs": [],
      "source": [
        "#topic_model = BERTopic.load(\"tmod2\")\n",
        "from collections import defaultdict\n",
        "\n",
        "# Convert the list of texts into a DataFrame\n",
        "documents_df = pd.DataFrame(texts, columns=[\"Document\"])\n",
        "documents_df['Topic']=topic_model.topics_\n",
        "topics_dict = defaultdict(list)\n",
        "ddf = documents_df.sort_values(by='Topic')\n",
        "for idx, topic in enumerate(ddf['Topic']):\n",
        "    topics_dict[topic].append(idx)\n",
        "\n"
      ]
    },
    {
      "cell_type": "markdown",
      "metadata": {
        "id": "e0XgCqrRPyEe"
      },
      "source": [
        "### Education"
      ]
    },
    {
      "cell_type": "code",
      "execution_count": null,
      "metadata": {
        "colab": {
          "base_uri": "https://localhost:8080/"
        },
        "id": "gG6mTPFO01N4",
        "outputId": "5364e34b-9e4b-445b-d366-85d811fd6ee4"
      },
      "outputs": [
        {
          "data": {
            "text/plain": [
              "[1, 83]"
            ]
          },
          "execution_count": 54,
          "metadata": {},
          "output_type": "execute_result"
        }
      ],
      "source": [
        "list(d[d['label']==\"{Education}\"]['Topic']) # 83 doesn't totally come under education"
      ]
    },
    {
      "cell_type": "code",
      "execution_count": null,
      "metadata": {
        "colab": {
          "base_uri": "https://localhost:8080/"
        },
        "id": "58Ssb2FbE2nY",
        "outputId": "dcd486e0-db0c-4519-b420-a946116a445f"
      },
      "outputs": [
        {
          "data": {
            "text/plain": [
              "[1, 83]"
            ]
          },
          "execution_count": 237,
          "metadata": {},
          "output_type": "execute_result"
        }
      ],
      "source": [
        "list(d[d['label']==\"{Education}\"]['Topic'])"
      ]
    },
    {
      "cell_type": "code",
      "execution_count": null,
      "metadata": {
        "colab": {
          "base_uri": "https://localhost:8080/"
        },
        "id": "I0HEMpHIFQn6",
        "outputId": "80d2716e-9ff1-4f3a-9804-9134d8d8ff6b"
      },
      "outputs": [
        {
          "data": {
            "text/plain": [
              "(84    \"Advancing Language Preservation and Inclusivi...\n",
              " Name: openAI, dtype: object,\n",
              " ['Māori Speech AI Model Helps Preserve and Promote New Zealand Indigenous Language',\n",
              "  'With French under fire, Mali uses AI to bring local language to students',\n",
              "  'Want inclusive AI? Teach it to speak more languages',\n",
              "  'Scale AI to set the Pentagon’s path for testing and evaluating large language models',\n",
              "  \"Volunteer network of interpreters hopes to make refugees' languages more accessible via AI\",\n",
              "  'Multilingual AI: Paris-based Gladia raises $16m to make AI understand accents',\n",
              "  'Large Behavior Models Surpass Large Language Models To Create AI That Walks And Talks',\n",
              "  'Large ai language models, increasingly unreliable',\n",
              "  'Mondelez partners Accenture and Publicis to launch AI platform',\n",
              "  'Building an Inclusive AI-Driven World',\n",
              "  'Small Language Models – More Effective And Efficient For Enterprise AI',\n",
              "  'KSGAAL Center Harnesses ai to Serve Arabic Language',\n",
              "  'AI can help to save endangered languages',\n",
              "  'Accenture Invests in Martian to Bring Dynamic Routing of Large Language Queries and More Effective AI Systems to Clients',\n",
              "  'Small but Mighty: The Role of Small Language Models in ai AI Advancement',\n",
              "  'Celebrating the Arabic Language, as ai Helps It Expand',\n",
              "  '374th CONS leverages AI to learn languages',\n",
              "  'Why small language models are the next big thing in AI',\n",
              "  'The AI project pushing local languages to replace French in Mali’s schools',\n",
              "  'A New Era of Special Education Begins with Inclusive AI'])"
            ]
          },
          "execution_count": 56,
          "metadata": {},
          "output_type": "execute_result"
        }
      ],
      "source": [
        "d[d['Topic']==83]['openAI'],repdocs['83']"
      ]
    },
    {
      "cell_type": "code",
      "execution_count": null,
      "metadata": {
        "id": "gegUomJhbfbq"
      },
      "outputs": [],
      "source": [
        "d.loc[d['Topic']==83,'label'] = '' # lets get back to this topic at the end"
      ]
    },
    {
      "cell_type": "code",
      "execution_count": null,
      "metadata": {
        "colab": {
          "base_uri": "https://localhost:8080/"
        },
        "id": "byY2iRQymYLY",
        "outputId": "961d7a49-b4d7-4bbc-f6ee-81ef7d0263c4"
      },
      "outputs": [
        {
          "data": {
            "text/plain": [
              "[1]"
            ]
          },
          "execution_count": 299,
          "metadata": {},
          "output_type": "execute_result"
        }
      ],
      "source": [
        "list(d[d['label']=='{Education}']['Topic'])"
      ]
    },
    {
      "cell_type": "markdown",
      "metadata": {
        "id": "OGOyR-inKnhr"
      },
      "source": [
        "### Career and Workforce"
      ]
    },
    {
      "cell_type": "code",
      "execution_count": null,
      "metadata": {
        "colab": {
          "base_uri": "https://localhost:8080/"
        },
        "id": "H3s1tFIp6TEB",
        "outputId": "4ba476af-4d63-4de5-84dc-96da6eabb0fb"
      },
      "outputs": [
        {
          "data": {
            "text/plain": [
              "[3, 11, 49, 60]"
            ]
          },
          "execution_count": 58,
          "metadata": {},
          "output_type": "execute_result"
        }
      ],
      "source": [
        "list(d[d['label']==\"{Careers & Workforce}\"]['Topic']) # only 3 comes under career and workforce"
      ]
    },
    {
      "cell_type": "code",
      "execution_count": null,
      "metadata": {
        "colab": {
          "base_uri": "https://localhost:8080/"
        },
        "id": "ADxXg07hE-EO",
        "outputId": "4db29fd5-b47b-4816-d9e7-d6d969813426"
      },
      "outputs": [
        {
          "data": {
            "text/plain": [
              "[3, 49, 60]"
            ]
          },
          "execution_count": 238,
          "metadata": {},
          "output_type": "execute_result"
        }
      ],
      "source": [
        "list(d[d['label']==\"{Careers & Workforce}\"]['Topic'])"
      ]
    },
    {
      "cell_type": "code",
      "execution_count": null,
      "metadata": {
        "colab": {
          "base_uri": "https://localhost:8080/"
        },
        "id": "bQtDctv4K0XQ",
        "outputId": "171af22c-06ab-4a6c-b896-8588beee88f7"
      },
      "outputs": [
        {
          "data": {
            "text/plain": [
              "('{Careers & Workforce}',\n",
              " '\"Australia\\'s AI Economy and Workforce Readiness: Opportunities and Challenges\"',\n",
              " [\"A new report expects Australia's AI economy to generate $18.8 billion by 2035\",\n",
              "  'Report highlights AI readiness gap in Australian workforce',\n",
              "  'Revealed: What AI thinks the typical Adelaide home look like',\n",
              "  'Australia must become an AI powerhouse, or be left behind',\n",
              "  'Australia plans AI rules on human oversight, transparency',\n",
              "  'As AI disrupts Australia’s construction industry, stakeholders remain optimistic',\n",
              "  \"'It was terrifying': Top Australian model demands action over AI impact\",\n",
              "  'Australian AI star plans US shift as battle for humanity heats up',\n",
              "  'The Australian Government’s interim response to safe and responsible AI consultation',\n",
              "  'Australia continues commitment to safe and responsible AI through the Seoul Declaration',\n",
              "  'KPMG Australia secures first global AI management standard',\n",
              "  'CBA’s Adelaide Uni partnership spins out potentially game-changing AI capability',\n",
              "  'Australia leads in AI adoption, Aussie biz leaders optimistic',\n",
              "  'Report Reveals Australia Needs to Boost AI and Cyber Skills',\n",
              "  'Lack of investment has created an ‘AI cargo cult’ in Australia',\n",
              "  \"Unlocking Australia's AI Opportunity\",\n",
              "  'Australian businesses plan to invest more in Gen AI than global average',\n",
              "  \"Unlocking Australia's growth potential: Insights from the 2024 AI Jobs Barometer\",\n",
              "  'Australian AI Month kicks off at SXSW Sydney',\n",
              "  'AI Month: experts call for responsible AI use in Australia'])"
            ]
          },
          "execution_count": 62,
          "metadata": {},
          "output_type": "execute_result"
        }
      ],
      "source": [
        "topic = 49\n",
        "d[d['Topic']==topic]['label'].iloc[0],d[d['Topic']==topic]['openAI'].iloc[0],repdocs[str(topic)]"
      ]
    },
    {
      "cell_type": "code",
      "execution_count": null,
      "metadata": {
        "colab": {
          "base_uri": "https://localhost:8080/"
        },
        "id": "cq4MFW43GJIP",
        "outputId": "faa11aba-8584-4a20-a291-8b5ab2ec7818"
      },
      "outputs": [
        {
          "data": {
            "text/plain": [
              "('{Careers & Workforce}',\n",
              " '\"Navigating the Gen AI Era: Opportunities, Risks, and Workforce Transformation\"',\n",
              " ['Exclusive: AI fears and 4-day workweek dreams—here’s what a survey of hundreds of interns reveals about Gen Z',\n",
              "  'How Early Adopters of Gen AI Are Gaining Efficiencies',\n",
              "  'Risks of Gen AI',\n",
              "  'Reimagine human potential in the gen AI era',\n",
              "  'How data literacy allows gen AI to drive productivity at Dow',\n",
              "  'Rewiring for the era of gen AI',\n",
              "  'Risks of Gen AI: the black box problem',\n",
              "  'Putting the power of Gen AI to work in a skills-based organization',\n",
              "  'Gen AI’s next inflection point: From employee experimentation to organizational transformation',\n",
              "  'A data leader’s operating guide to scaling gen AI',\n",
              "  'Gen AI’s productivity promise: Huge potential but most have not yet reached scaled impact',\n",
              "  'Simplifying our colleague experience with Gen AI',\n",
              "  'Boards recognise Gen AI risks, yet guidance and education is slow to materialise',\n",
              "  'The gen AI skills revolution: Rethinking your talent strategy',\n",
              "  'Navigating the Gen AI era',\n",
              "  'Gen AI without the risks',\n",
              "  'From gen AI 1.5 to 2.0: Moving from RAG to agent systems',\n",
              "  'A data leader’s technical guide to scaling gen AI',\n",
              "  'Solix launches new enterprise data platform for the gen AI era',\n",
              "  'Managing in the era of gen AI'])"
            ]
          },
          "execution_count": 64,
          "metadata": {},
          "output_type": "execute_result"
        }
      ],
      "source": [
        "topic = 60\n",
        "d[d['Topic']==topic]['label'].iloc[0],d[d['Topic']==topic]['openAI'].iloc[0],repdocs[str(topic)] # comes under {AI overview, risks & impact}"
      ]
    },
    {
      "cell_type": "code",
      "execution_count": null,
      "metadata": {
        "id": "cFdX78SwLiAn"
      },
      "outputs": [],
      "source": [
        "d.loc[d['Topic']==49,'label']='' # lets come back to these topic at the end\n",
        "d.loc[d['Topic']==60,'label']=''"
      ]
    },
    {
      "cell_type": "code",
      "execution_count": null,
      "metadata": {
        "colab": {
          "base_uri": "https://localhost:8080/"
        },
        "id": "qZHXdBUm-XP2",
        "outputId": "3ac97e20-b5ee-4b38-b049-6648178707b4"
      },
      "outputs": [
        {
          "data": {
            "text/plain": [
              "['{AI in various Industries}',\n",
              " '{Education}',\n",
              " '{Careers & Workforce}',\n",
              " '{AI Investments & Market Trends}',\n",
              " '{AI in companies & Enterprises}',\n",
              " '{Ethics, Law & Regulations}',\n",
              " '{Government, countries & Global AI Initiatives}',\n",
              " '{AI overview, risks & impact}',\n",
              " '{Other}']"
            ]
          },
          "execution_count": 116,
          "metadata": {},
          "output_type": "execute_result"
        }
      ],
      "source": [
        "labels"
      ]
    },
    {
      "cell_type": "markdown",
      "metadata": {
        "id": "-hIWBRddKcOd"
      },
      "source": [
        "### {AI in various Industries}"
      ]
    },
    {
      "cell_type": "code",
      "execution_count": null,
      "metadata": {
        "colab": {
          "base_uri": "https://localhost:8080/"
        },
        "id": "RQPtIRt0AFEZ",
        "outputId": "4150170e-ca73-4b3e-ff40-60ed7a3f9ab6"
      },
      "outputs": [
        {
          "data": {
            "text/plain": [
              "[0,\n",
              " 2,\n",
              " 13,\n",
              " 17,\n",
              " 19,\n",
              " 22,\n",
              " 23,\n",
              " 24,\n",
              " 28,\n",
              " 29,\n",
              " 32,\n",
              " 36,\n",
              " 46,\n",
              " 52,\n",
              " 56,\n",
              " 58,\n",
              " 61,\n",
              " 69,\n",
              " 74,\n",
              " 77,\n",
              " 78,\n",
              " 79,\n",
              " 80,\n",
              " 87]"
            ]
          },
          "execution_count": 166,
          "metadata": {},
          "output_type": "execute_result"
        }
      ],
      "source": [
        "list(d[d['label']=='{AI in various Industries}']['Topic'])"
      ]
    },
    {
      "cell_type": "code",
      "execution_count": null,
      "metadata": {
        "colab": {
          "base_uri": "https://localhost:8080/"
        },
        "id": "4k96WZcnIJwu",
        "outputId": "06f51734-da17-42bf-db92-d75484a56645"
      },
      "outputs": [
        {
          "data": {
            "text/plain": [
              "[0,\n",
              " 2,\n",
              " 13,\n",
              " 15,\n",
              " 19,\n",
              " 22,\n",
              " 23,\n",
              " 24,\n",
              " 28,\n",
              " 29,\n",
              " 31,\n",
              " 32,\n",
              " 36,\n",
              " 43,\n",
              " 46,\n",
              " 52,\n",
              " 56,\n",
              " 58,\n",
              " 61,\n",
              " 69,\n",
              " 74,\n",
              " 77,\n",
              " 78,\n",
              " 79,\n",
              " 80,\n",
              " 87]"
            ]
          },
          "execution_count": 249,
          "metadata": {},
          "output_type": "execute_result"
        }
      ],
      "source": [
        "list(d[d['label']=='{AI in various Industries}']['Topic'])"
      ]
    },
    {
      "cell_type": "code",
      "execution_count": null,
      "metadata": {
        "colab": {
          "base_uri": "https://localhost:8080/"
        },
        "id": "7jUiWyspHE_T",
        "outputId": "fd9efafd-1147-4380-ca17-f685dd0b3c29"
      },
      "outputs": [
        {
          "data": {
            "text/plain": [
              "('{AI Ethics, Law & Policy}',\n",
              " '\"AI in Law Enforcement: Surveillance, Crime Detection, and Privacy Concerns\"',\n",
              " ['Recycling trucks with AI-powered cameras raise privacy concerns',\n",
              "  'London Underground Is Testing Real-Time AI Surveillance Tools to Spot Crime',\n",
              "  'New cyber command unit and major AI push part of biggest Scottish policing reforms in 10 years',\n",
              "  'AI Boosts DOD Cyber Crime Center Digital Forensics',\n",
              "  'How ai is being used by law enforcement',\n",
              "  'Southern Maine police are testing new AI software to write their police reports',\n",
              "  'Dubai Police Employs ai in Police and Security Operations',\n",
              "  'NYC’s AI gun detectors hardly work',\n",
              "  'Internal Emails Reveal How a Controversial Gun-Detection AI System Found Its Way to NYC',\n",
              "  'ai Use in Criminal Investigations Gains Traction',\n",
              "  'South Fulton police partnering with IBM to use ai',\n",
              "  'How ai helped Delhi Police crack murder case',\n",
              "  'CTA testing ai to detect guns at train stations, but ACLU is raising questions',\n",
              "  'New York City to test AI-enabled gun scanners in subway system',\n",
              "  'Georgia Police Use ai to Solve Cases',\n",
              "  'Hearing on Using ai in Criminal Investigations',\n",
              "  'How AI Detection Software Turns Professors into Cops, Tech as Systems of World-Making, and More',\n",
              "  'UWF expert discusses how ai can play a role in criminal investigations',\n",
              "  'Argentina implements ai to find crime before it happens',\n",
              "  'South Fulton Police to incorporate ai tool in 2024'])"
            ]
          },
          "execution_count": 250,
          "metadata": {},
          "output_type": "execute_result"
        }
      ],
      "source": [
        "# checking through the topics if they come under this category by checking manually\n",
        "topic =  51 # 2,24,31,52,77 are doubtful\n",
        "d[d['Topic']==topic]['label'].iloc[0],d[d['Topic']==topic]['openAI'].iloc[0],repdocs[str(topic)]"
      ]
    },
    {
      "cell_type": "code",
      "execution_count": null,
      "metadata": {
        "colab": {
          "base_uri": "https://localhost:8080/"
        },
        "id": "Jmy8OzCFI_aY",
        "outputId": "b2e7a7be-babc-403f-afb5-09d1b4db6bdf"
      },
      "outputs": [
        {
          "data": {
            "text/plain": [
              "('\"AI in Law Enforcement: Surveillance, Crime Detection, and Privacy Concerns\"',\n",
              " ['Recycling trucks with AI-powered cameras raise privacy concerns',\n",
              "  'London Underground Is Testing Real-Time AI Surveillance Tools to Spot Crime',\n",
              "  'New cyber command unit and major AI push part of biggest Scottish policing reforms in 10 years',\n",
              "  'AI Boosts DOD Cyber Crime Center Digital Forensics',\n",
              "  'How ai is being used by law enforcement',\n",
              "  'Southern Maine police are testing new AI software to write their police reports',\n",
              "  'Dubai Police Employs ai in Police and Security Operations',\n",
              "  'NYC’s AI gun detectors hardly work',\n",
              "  'Internal Emails Reveal How a Controversial Gun-Detection AI System Found Its Way to NYC',\n",
              "  'ai Use in Criminal Investigations Gains Traction',\n",
              "  'South Fulton police partnering with IBM to use ai',\n",
              "  'How ai helped Delhi Police crack murder case',\n",
              "  'CTA testing ai to detect guns at train stations, but ACLU is raising questions',\n",
              "  'New York City to test AI-enabled gun scanners in subway system',\n",
              "  'Georgia Police Use ai to Solve Cases',\n",
              "  'Hearing on Using ai in Criminal Investigations',\n",
              "  'How AI Detection Software Turns Professors into Cops, Tech as Systems of World-Making, and More',\n",
              "  'UWF expert discusses how ai can play a role in criminal investigations',\n",
              "  'Argentina implements ai to find crime before it happens',\n",
              "  'South Fulton Police to incorporate ai tool in 2024'])"
            ]
          },
          "execution_count": 70,
          "metadata": {},
          "output_type": "execute_result"
        }
      ],
      "source": [
        "d[d['Topic']==51]['openAI'].iloc[0],repdocs['51']"
      ]
    },
    {
      "cell_type": "code",
      "execution_count": null,
      "metadata": {
        "colab": {
          "base_uri": "https://localhost:8080/"
        },
        "id": "JmVBl1VTJJCm",
        "outputId": "914c1f70-0753-46f1-d9da-c28e4f45ca7d"
      },
      "outputs": [
        {
          "data": {
            "text/plain": [
              "('\"AI-Driven Sustainability and Waste Management Innovations\"',\n",
              " ['AI in recycling: How ai is transforming waste management | Article',\n",
              "  'Sustainable by design: Advancing the sustainability of AI',\n",
              "  '(PDF) ai in Circular Economies: A Pathway to Sustainable Resource Management',\n",
              "  'Drive sustainability transformation faster with new data and AI capabilities',\n",
              "  'HIMSS24 keynote: Prioritizing sustainability, protecting against climate change and harnessing AI',\n",
              "  'AI may produce millions of tonnes of electronic waste by 2030, study finds',\n",
              "  'US names Dan Priest as Chief AI Officer and Ellen Walsh as Sustainability Executive Sponsor',\n",
              "  'How Amazon’s latest Climate Pledge Fund investment is transforming recycling through AI and robotics',\n",
              "  'AI and waste: Tackling social and environmental challenges',\n",
              "  'Scientists Predict AI to Generate Millions of Tons of E-Waste',\n",
              "  'Press Release | Unprecedented AI-powered art brings digital environmentalism to the United Nations',\n",
              "  'Accelerating Sustainability with AI: A Playbook',\n",
              "  'ZainTECH focuses on ai and sustainability',\n",
              "  'U of T engineering students encouraged to consider sustainability when designing future AI systems',\n",
              "  'Responsible Progress, Sustainable AI: The Benefits of Greening Our Digital Future',\n",
              "  'Will AI Help or Hurt Sustainability? Yes | Andrew Winston',\n",
              "  'UK AI startup Greyparrot bags strategic tie-up with recycling giant Bollegraaf',\n",
              "  'US Environmental Social Governance Legal Considerations AI Companies Status Quo Practical Next Steps',\n",
              "  'Crawl, Walk, Run: How AI is Enhancing Sustainability, Productivity, and Profitability',\n",
              "  'AI-Powered Toilet Camera That Can Analyze Waste — The Future of Health Monitoring?'])"
            ]
          },
          "execution_count": 170,
          "metadata": {},
          "output_type": "execute_result"
        }
      ],
      "source": [
        "d[d['Topic']==52]['openAI'].iloc[0], repdocs['52']"
      ]
    },
    {
      "cell_type": "code",
      "execution_count": null,
      "metadata": {
        "id": "mHm-kxNUJiGd"
      },
      "outputs": [],
      "source": [
        "d.loc[d['Topic']==2,'label']=''\n",
        "d.loc[d['Topic']==24,'label']=''\n",
        "d.loc[d['Topic']==31,'label']=''\n",
        "d.loc[d['Topic']==52,'label']=''\n",
        "d.loc[d['Topic']==51,'label']='{AI in various Industries}'\n",
        "d.loc[d['Topic']==77,'label']=''"
      ]
    },
    {
      "cell_type": "code",
      "execution_count": null,
      "metadata": {
        "colab": {
          "base_uri": "https://localhost:8080/"
        },
        "id": "MHRoZ_jJKQbI",
        "outputId": "f699e11a-ebe4-49e5-d0fc-b318c874ced9"
      },
      "outputs": [
        {
          "data": {
            "text/plain": [
              "[0,\n",
              " 13,\n",
              " 15,\n",
              " 19,\n",
              " 22,\n",
              " 23,\n",
              " 28,\n",
              " 29,\n",
              " 32,\n",
              " 36,\n",
              " 43,\n",
              " 46,\n",
              " 51,\n",
              " 56,\n",
              " 58,\n",
              " 61,\n",
              " 69,\n",
              " 74,\n",
              " 78,\n",
              " 79,\n",
              " 80,\n",
              " 87]"
            ]
          },
          "execution_count": 252,
          "metadata": {},
          "output_type": "execute_result"
        }
      ],
      "source": [
        "list(d[d['label']=='{AI in various Industries}']['Topic'])"
      ]
    },
    {
      "cell_type": "markdown",
      "metadata": {
        "id": "LQLlrmIfO2ex"
      },
      "source": [
        "### AI in companies & enterprises"
      ]
    },
    {
      "cell_type": "code",
      "execution_count": null,
      "metadata": {
        "colab": {
          "base_uri": "https://localhost:8080/"
        },
        "id": "OfwgPIMOO8Kw",
        "outputId": "ad398c38-59de-4a86-9639-6097324b7fd2"
      },
      "outputs": [
        {
          "data": {
            "text/plain": [
              "[5, 12, 16, 25, 26, 38, 41, 45, 48, 57, 68]"
            ]
          },
          "execution_count": 74,
          "metadata": {},
          "output_type": "execute_result"
        }
      ],
      "source": [
        "list(d[d['label']==\"{AI in companies & Enterprises}\"]['Topic'])"
      ]
    },
    {
      "cell_type": "code",
      "execution_count": null,
      "metadata": {
        "colab": {
          "base_uri": "https://localhost:8080/"
        },
        "id": "5Qzy0RyhITcM",
        "outputId": "38016430-53cc-4e3d-c684-660906279b8b"
      },
      "outputs": [
        {
          "data": {
            "text/plain": [
              "[5, 11, 12, 16, 25, 26, 38, 41, 45, 48, 57, 68]"
            ]
          },
          "execution_count": 253,
          "metadata": {},
          "output_type": "execute_result"
        }
      ],
      "source": [
        "list(d[d['label']==\"{AI in companies & Enterprises}\"]['Topic'])"
      ]
    },
    {
      "cell_type": "code",
      "execution_count": null,
      "metadata": {
        "colab": {
          "base_uri": "https://localhost:8080/"
        },
        "id": "7dsh2hzsURq3",
        "outputId": "23278c58-7df0-4c45-cb05-eca110a882a1"
      },
      "outputs": [
        {
          "data": {
            "text/plain": [
              "('{AI in companies & Enterprises}',\n",
              " '\"AI Training and Data Strategies: Opportunities and Challenges\"',\n",
              " ['Agencies eye synthetic data to help train and test AI',\n",
              "  'Big Tech cos in race to buy training data for ai',\n",
              "  'What AI Will Do To Data Science',\n",
              "  'Reddit sells training data to unnamed AI company ahead of IPO',\n",
              "  'Supercharge Your Data Strategy with the Latest Insights on Data and AI',\n",
              "  'From Barcelona to the Big Apple: Learning AI and Data Analytics at Pace University',\n",
              "  'The Dreams That Art Is Made of: Babson Professor Combines Data Science and AI Art',\n",
              "  \"AI models trained on 'synthetic data' could break down and regurgitate unintelligible nonsense, scientists warn\",\n",
              "  'Have You Been Neglecting Data Quality? You Could Miss the AI Train',\n",
              "  'Featured Major: Data Science and ai',\n",
              "  'The bad and the ugly: AI is harmful, unreliable, and running out of data',\n",
              "  'AI Data Analytics for Beginners: A Practical Guide',\n",
              "  \"Zuckerberg Says It's Fine to Train AI on Your Data Because It Probably Has No Value Anyway\",\n",
              "  'Single-platform approach may fall short for AI data management',\n",
              "  'Data Science and ai',\n",
              "  'Q&A: AI Is Creating New Roles and Skills in Data & Analytics',\n",
              "  'Data Science and AI',\n",
              "  'Training AI requires more data than we have — generating synthetic data could help solve this challenge',\n",
              "  'Reddit’s Sale of User Data for AI Training Draws FTC Inquiry',\n",
              "  '‘Gold rush’: Your data used to train AI'])"
            ]
          },
          "execution_count": 76,
          "metadata": {},
          "output_type": "execute_result"
        }
      ],
      "source": [
        "topic = 41\n",
        "d[d['Topic']==topic]['label'].iloc[0],d[d['Topic']==topic]['openAI'].iloc[0],repdocs[str(topic)]"
      ]
    },
    {
      "cell_type": "code",
      "execution_count": null,
      "metadata": {
        "colab": {
          "base_uri": "https://localhost:8080/"
        },
        "id": "POdM7CehU0_M",
        "outputId": "db6c66f5-b633-4273-c3a6-bc4c65230af7"
      },
      "outputs": [
        {
          "data": {
            "text/plain": [
              "('{AI in companies & Enterprises}',\n",
              " '\"CEO Perspectives on AI: Challenges, Innovations, and Future Directions for 2024\"',\n",
              " ['Super Micro needs a new CEO before its AI advantage erodes',\n",
              "  'Pinterest CEO says the platform uses AI to generate positivity',\n",
              "  'Anthropic CEO goes full techno-optimist in 15,000-word paean to AI',\n",
              "  'Concentrix CEO to Showcase AI Innovation, iX Hello Assistant at Web Summit 2024 | CNXC Stock News',\n",
              "  'Nearly half of CEOs fear their companies won’t survive 10 years due to AI and climate change',\n",
              "  'Uber CEO on ‘Multiple Avenues for Growth’ – AI, Flights, Business Travel',\n",
              "  \"Business Tech Roundup: Anthropic's CEO Explains The “Radical Upside” Of AI\",\n",
              "  'Kongsberg Digital CEO: AI Marks a New Era for Workplace Transformation',\n",
              "  'The CEO and AI: What’s ahead in 2024',\n",
              "  'CIA AI director Lakshmi Raman claims the agency is taking a ‘thoughtful approach’ to AI',\n",
              "  'GitHub CEO Thomas Dohmke says the AI industry needs competition to thrive',\n",
              "  'Industry moving ‘beyond experimenting’ with AI says Autodesk CEO',\n",
              "  'Taco Bell and Pizza Hut Are Going ‘AI-First,’ Yum’s New Tech Chief Says',\n",
              "  'Stability AI appoints new CEO, the Information reports',\n",
              "  'CEOs cautious about AI but focused on growth in 2024: Gartner survey',\n",
              "  'Hasbro CEO Says AI Will Become Core Part of Dungeons & Dragons',\n",
              "  'Chris Kraft Starts Deputy CTO, AI/Emerging Technology Role at DHS',\n",
              "  'Peter Sarlin, CEO of Silo AI on Strengthening EU’s AI Landscape',\n",
              "  'Workday CEO: ‘For all the dollars that’s been invested so far, we have yet to realize the full promise of AI’',\n",
              "  'Charles Wright Named CEO of Mechanized AI, a Leading ai Platform'])"
            ]
          },
          "execution_count": 77,
          "metadata": {},
          "output_type": "execute_result"
        }
      ],
      "source": [
        "topic = 68\n",
        "d[d['Topic']==topic]['label'].iloc[0],d[d['Topic']==topic]['openAI'].iloc[0],repdocs[str(topic)]"
      ]
    },
    {
      "cell_type": "code",
      "execution_count": null,
      "metadata": {
        "id": "K8VysSEeXTPi"
      },
      "outputs": [],
      "source": [
        "d.loc[d['Topic']==41,'label'] = ''\n",
        "d.loc[d['Topic']==68,'label'] = ''"
      ]
    },
    {
      "cell_type": "code",
      "execution_count": null,
      "metadata": {
        "colab": {
          "base_uri": "https://localhost:8080/"
        },
        "id": "LFykfBPtZ_Uz",
        "outputId": "ab513952-438e-4371-f156-4ecdcbc71451"
      },
      "outputs": [
        {
          "data": {
            "text/plain": [
              "[5, 11, 12, 16, 25, 26, 38, 45, 48, 57]"
            ]
          },
          "execution_count": 255,
          "metadata": {},
          "output_type": "execute_result"
        }
      ],
      "source": [
        "list(d[d['label']==\"{AI in companies & Enterprises}\"]['Topic'])"
      ]
    },
    {
      "cell_type": "code",
      "execution_count": null,
      "metadata": {
        "colab": {
          "base_uri": "https://localhost:8080/",
          "height": 393
        },
        "id": "PPWnmxqlm29z",
        "outputId": "69ce2244-9d9d-46a6-d020-6eb6fc286ec6"
      },
      "outputs": [
        {
          "data": {
            "text/html": [
              "<div>\n",
              "<style scoped>\n",
              "    .dataframe tbody tr th:only-of-type {\n",
              "        vertical-align: middle;\n",
              "    }\n",
              "\n",
              "    .dataframe tbody tr th {\n",
              "        vertical-align: top;\n",
              "    }\n",
              "\n",
              "    .dataframe thead th {\n",
              "        text-align: right;\n",
              "    }\n",
              "</style>\n",
              "<table border=\"1\" class=\"dataframe\">\n",
              "  <thead>\n",
              "    <tr style=\"text-align: right;\">\n",
              "      <th></th>\n",
              "      <th>count</th>\n",
              "    </tr>\n",
              "    <tr>\n",
              "      <th>label</th>\n",
              "      <th></th>\n",
              "    </tr>\n",
              "  </thead>\n",
              "  <tbody>\n",
              "    <tr>\n",
              "      <th>{AI in various Industries}</th>\n",
              "      <td>23</td>\n",
              "    </tr>\n",
              "    <tr>\n",
              "      <th></th>\n",
              "      <td>23</td>\n",
              "    </tr>\n",
              "    <tr>\n",
              "      <th>{AI Governance &amp; Geopolitics}</th>\n",
              "      <td>16</td>\n",
              "    </tr>\n",
              "    <tr>\n",
              "      <th>{AI in companies &amp; Enterprises}</th>\n",
              "      <td>10</td>\n",
              "    </tr>\n",
              "    <tr>\n",
              "      <th>{AI Investments &amp; Market Trends}</th>\n",
              "      <td>6</td>\n",
              "    </tr>\n",
              "    <tr>\n",
              "      <th>{AI Ethics, Law &amp; Policy}</th>\n",
              "      <td>4</td>\n",
              "    </tr>\n",
              "    <tr>\n",
              "      <th>{Other}</th>\n",
              "      <td>4</td>\n",
              "    </tr>\n",
              "    <tr>\n",
              "      <th>{Education}</th>\n",
              "      <td>1</td>\n",
              "    </tr>\n",
              "    <tr>\n",
              "      <th>{Careers &amp; Workforce}</th>\n",
              "      <td>1</td>\n",
              "    </tr>\n",
              "  </tbody>\n",
              "</table>\n",
              "</div><br><label><b>dtype:</b> int64</label>"
            ],
            "text/plain": [
              "label\n",
              "{AI in various Industries}          23\n",
              "                                    23\n",
              "{AI Governance & Geopolitics}       16\n",
              "{AI in companies & Enterprises}     10\n",
              "{AI Investments & Market Trends}     6\n",
              "{AI Ethics, Law & Policy}            4\n",
              "{Other}                              4\n",
              "{Education}                          1\n",
              "{Careers & Workforce}                1\n",
              "Name: count, dtype: int64"
            ]
          },
          "execution_count": 37,
          "metadata": {},
          "output_type": "execute_result"
        }
      ],
      "source": [
        "d['label'].value_counts()"
      ]
    },
    {
      "cell_type": "markdown",
      "metadata": {
        "id": "aWFTXmkyaGrn"
      },
      "source": [
        "### AI Investments & Market Trends"
      ]
    },
    {
      "cell_type": "code",
      "execution_count": null,
      "metadata": {
        "colab": {
          "base_uri": "https://localhost:8080/"
        },
        "id": "SV7EgR58cAxO",
        "outputId": "6d909db8-7a7b-478c-a4ce-137f35aeae98"
      },
      "outputs": [
        {
          "data": {
            "text/plain": [
              "[4, 6, 8, 20, 35, 63, 67, 76]"
            ]
          },
          "execution_count": 80,
          "metadata": {},
          "output_type": "execute_result"
        }
      ],
      "source": [
        "list(d[d['label']==\"{AI Investments & Market Trends}\"]['Topic'])"
      ]
    },
    {
      "cell_type": "code",
      "execution_count": null,
      "metadata": {
        "colab": {
          "base_uri": "https://localhost:8080/"
        },
        "id": "LiyM5Xt2G9zY",
        "outputId": "fb9f4b3b-3f56-415d-b22f-33ef323b0f96"
      },
      "outputs": [
        {
          "data": {
            "text/plain": [
              "[4, 6, 8, 20, 35, 63, 64, 67, 76]"
            ]
          },
          "execution_count": 14,
          "metadata": {},
          "output_type": "execute_result"
        }
      ],
      "source": [
        "list(d[d['label']==\"{AI Investments & Market Trends}\"]['Topic'])"
      ]
    },
    {
      "cell_type": "markdown",
      "metadata": {
        "id": "isKWdsZ6J38b"
      },
      "source": []
    },
    {
      "cell_type": "code",
      "execution_count": null,
      "metadata": {
        "colab": {
          "base_uri": "https://localhost:8080/"
        },
        "id": "oZP8saHscLsG",
        "outputId": "37d2529f-d68f-4fe5-cba1-cac8e8d4b340"
      },
      "outputs": [
        {
          "data": {
            "text/plain": [
              "(21    {AI Investments & Market Trends}\n",
              " Name: label, dtype: object,\n",
              " '\"AI Trends and Predictions for 2024: Insights, Statistics, and Influential Leaders\"',\n",
              " ['ai Trends To Watch In 2024',\n",
              "  '8 predictions for AI in 2024',\n",
              "  'Albert Gu: The 100 Most Influential People in AI 2024',\n",
              "  'IDC FutureScape: Worldwide ai and Automation 2025 Predictions',\n",
              "  '22 Top AI Statistics And Trends In 2024',\n",
              "  'How Python 3.13 Unlocks New Potential for AI/ML Development | by Dhiraj K | Oct, 2024',\n",
              "  'Dwarkesh Patel: The 100 Most Influential People in AI 2024',\n",
              "  'UK ai (AI) Statistics And Trends In 2024',\n",
              "  'U of T’s AI thought leaders take centre stage at Collision 2024',\n",
              "  'Top AI Statistics And Trends',\n",
              "  '29 Crucial ai (AI) Statistics to Know for 2024',\n",
              "  'ai in 2024 and Beyond- Trends and Predictions (Part 1)',\n",
              "  '3 big AI trends to watch in 2024',\n",
              "  'The 10 Biggest AI Trends Of 2025 Everyone Must Be Ready For Today',\n",
              "  'Applied ai (AI) and Deep Tech Innovations Take Centre Stage on Day Three of Expand North Star 2024',\n",
              "  '57 NEW ai Statistics (Nov 2024)',\n",
              "  'H2O.ai Celebrates Global Leaders Driving AI in AI 100 List',\n",
              "  'Five AI trends for 2024',\n",
              "  'Predictions 2025: An AI Reality Check Paves The Path For Long-Term Success',\n",
              "  'Meta Outlines AI, VR and AR Advancements at Connect 2024'])"
            ]
          },
          "execution_count": 184,
          "metadata": {},
          "output_type": "execute_result"
        }
      ],
      "source": [
        "d[d['Topic']==20]['label'],d[d['Topic']==20]['openAI'].iloc[0],repdocs['20']"
      ]
    },
    {
      "cell_type": "code",
      "execution_count": null,
      "metadata": {
        "colab": {
          "base_uri": "https://localhost:8080/"
        },
        "id": "EF6BJ9WScbMK",
        "outputId": "c796c78a-05b5-4757-f03b-e7e6672186ce"
      },
      "outputs": [
        {
          "data": {
            "text/plain": [
              "(64    {AI Investments & Market Trends}\n",
              " Name: label, dtype: object,\n",
              " '\"AI Landscape and Opportunities in Europe\"',\n",
              " ['AI talent war heats up in Europe',\n",
              "  'Ireland’s ai hub',\n",
              "  \"AI set to boost Europe's economy by €500bn\",\n",
              "  'AI Is Coming for European Bank Jobs With Italy Taking a Hit',\n",
              "  'The AI Gambit: Will the UK Lead or Follow?',\n",
              "  \"Farlei Kothe, CEO of Stefanini NA, EMEA, and APAC: Romania and Moldova are Stefanini's most important ai hub in Europe\",\n",
              "  'ai : The European Union sets unprecedented limits',\n",
              "  'EY: Greece can evolve into regional AI hub',\n",
              "  'Seizing the AI opportunity in Europe',\n",
              "  'Time to place our bets: Europe’s AI opportunity',\n",
              "  'Europeans are optimistic about generative AI but there is more to do to close the trust gap',\n",
              "  'Euro VCs welcome Balderton’s fresh $1.3B but grumble about Europe’s AI misses',\n",
              "  'Sweden top country in Europe for AI startups',\n",
              "  'The US is racing ahead in its bid to control ai – why is the EU so far behind?',\n",
              "  'Meet Emma, Germany’s AI travel ambassador',\n",
              "  'Generative AI and the EU Pact: a responsible technological future',\n",
              "  'Italy to set up AI fund of 1 billion euros, PM says',\n",
              "  'Would Trump victory keep US ahead of Europe on AI?',\n",
              "  'France leads the pack for generative AI funding in Europe',\n",
              "  'Now decides next. Is Europe ready for generative AI?'])"
            ]
          },
          "execution_count": 185,
          "metadata": {},
          "output_type": "execute_result"
        }
      ],
      "source": [
        "d[d['Topic']==63]['label'],d[d['Topic']==63]['openAI'].iloc[0],repdocs['63']"
      ]
    },
    {
      "cell_type": "code",
      "execution_count": null,
      "metadata": {
        "colab": {
          "base_uri": "https://localhost:8080/"
        },
        "id": "_z1x3IDbJ9c0",
        "outputId": "24fffd63-7e9c-4c4a-8569-d6962045cc3f"
      },
      "outputs": [
        {
          "data": {
            "text/plain": [
              "('{AI Investments & Market Trends}',\n",
              " '\"AI Hype: Boom, Bust, and Reality Check\"',\n",
              " ['AI hype is at an all time high, but only a few of us actually use it daily',\n",
              "  \"AI bubble or 'revolution'? OpenAI's big payday fuels debate\",\n",
              "  'The AI hype bubble is deflating. Now comes the hard part.',\n",
              "  'Should the public sector believe the AI hype?',\n",
              "  'The deflating AI bubble is inevitable — and healthy',\n",
              "  'It’s Time to Believe the AI Hype',\n",
              "  'The next wave of AI hype will be geopolitical. You’re paying',\n",
              "  'AI hype hits reality roadblock',\n",
              "  'It Looks Like It Could Be the End of the AI Hype Cycle',\n",
              "  'Apollo calls AI a “bubble” worse than the dotcom era',\n",
              "  'AI: Genuine gamechanger or overblown hype?',\n",
              "  'Why The AI Hype Needs A Reality Check',\n",
              "  'Meta proves AI hype has its limits',\n",
              "  'As the AI Bubble Deflates, the Ethics of Hype Are in the Spotlight',\n",
              "  'The Dot-Com Bubble vs AI Enthusiasm: Why They’re Different',\n",
              "  'AI Snake Oil: Separating Hype from Reality',\n",
              "  'The rise and fall of AI hype',\n",
              "  'From boom to burst, the AI bubble is only heading in one direction',\n",
              "  'AI is effectively ‘useless’—and it’s created a ‘fake it till you make it’ bubble that could end in disaster, veteran market watcher warns',\n",
              "  'AI hype is not a replay of the dotcom bubble, but it’s a remix'])"
            ]
          },
          "execution_count": 183,
          "metadata": {},
          "output_type": "execute_result"
        }
      ],
      "source": [
        "x = 64\n",
        "d[d['Topic']==x]['label'].iloc[0],d[d['Topic']==x]['openAI'].iloc[0],repdocs[str(x)]"
      ]
    },
    {
      "cell_type": "code",
      "execution_count": null,
      "metadata": {
        "id": "BuL4QFZ_cmZT"
      },
      "outputs": [],
      "source": [
        "d.loc[d['Topic']==20,'label'] = ''\n",
        "d.loc[d['Topic']==63,'label'] = ''\n",
        "d.loc[d['Topic']==64,'label'] = ''"
      ]
    },
    {
      "cell_type": "code",
      "execution_count": null,
      "metadata": {
        "colab": {
          "base_uri": "https://localhost:8080/"
        },
        "id": "OeDEjNEWpFs4",
        "outputId": "0b866fbd-5ff4-4b37-dda0-cd7684caab56"
      },
      "outputs": [
        {
          "data": {
            "text/plain": [
              "[4, 6, 8, 35, 67, 76]"
            ]
          },
          "execution_count": 16,
          "metadata": {},
          "output_type": "execute_result"
        }
      ],
      "source": [
        "list(d[d['label']==\"{AI Investments & Market Trends}\"]['Topic'])"
      ]
    },
    {
      "cell_type": "markdown",
      "metadata": {
        "id": "IMq5PnzRcpTs"
      },
      "source": [
        "### AI **{Ethics, Law & Regulations}**"
      ]
    },
    {
      "cell_type": "code",
      "execution_count": null,
      "metadata": {
        "colab": {
          "base_uri": "https://localhost:8080/"
        },
        "id": "6elGp9x5ctJC",
        "outputId": "c5d0a051-6a8d-4615-cd17-55e8caf1e4dd"
      },
      "outputs": [
        {
          "data": {
            "text/plain": [
              "[7, 9, 14, 18, 21, 34, 53, 59, 70, 73, 86]"
            ]
          },
          "execution_count": 191,
          "metadata": {},
          "output_type": "execute_result"
        }
      ],
      "source": [
        "list(d[d['label']==\"{Ethics, Law & Regulations}\"]['Topic'])"
      ]
    },
    {
      "cell_type": "code",
      "execution_count": null,
      "metadata": {
        "colab": {
          "base_uri": "https://localhost:8080/"
        },
        "id": "qKVOEh7BFEck",
        "outputId": "db587c5e-b69b-446c-f009-b5deb81a7e59"
      },
      "outputs": [
        {
          "data": {
            "text/plain": [
              "[7, 9, 14, 34, 39, 40, 53, 59, 70, 73, 86]"
            ]
          },
          "execution_count": 17,
          "metadata": {},
          "output_type": "execute_result"
        }
      ],
      "source": [
        "list(d[d['label']==\"{AI Ethics, Law & Policy}\"]['Topic'])"
      ]
    },
    {
      "cell_type": "code",
      "execution_count": null,
      "metadata": {
        "colab": {
          "base_uri": "https://localhost:8080/"
        },
        "id": "QndvhcoeqXku",
        "outputId": "0614e9c7-a426-4bef-e4e9-b854de56479d"
      },
      "outputs": [
        {
          "data": {
            "text/plain": [
              "(41    {AI Ethics, Law & Policy}\n",
              " Name: label, dtype: object,\n",
              " '\"AI Risk Management: Navigating Dangers and Opportunities\"',\n",
              " ['\"Human in the Loop\" in AI risk management – not a cure-all approach',\n",
              "  'AI Risk Framework Can Help Mitigate Machine-Learning Threats',\n",
              "  \"DWP using AI to assess benefit claims poses 'significant risk', experts warn\",\n",
              "  '5 of the most damaging ways AI could harm humanity, according to MIT experts',\n",
              "  'A framework for assessing AI risk',\n",
              "  'Shadow AI poses new generation of threats to enterprise IT',\n",
              "  '3 Ways ai Can Help Reduce Risk for Facility Managers',\n",
              "  'OpenAI Insider Estimates 70 Percent Chance That AI Will Destroy or Catastrophically Harm Humanity',\n",
              "  'AI in Risk Management: Top Benefits and Challenges Explained',\n",
              "  'Managing extreme AI risks amid rapid progress',\n",
              "  'What are the risks of ai ? Dangers of AI technology',\n",
              "  'Leonardo, how big data and ai support Risk Management',\n",
              "  'NIST Issues AI Risk-Management Guidance',\n",
              "  \"AI's Double-Edged Sword: Managing Risks While Seizing Opportunities\",\n",
              "  \"Critics fear 'catastrophic harm' over Boeing's AI-piloted killer jets\",\n",
              "  'Navigating the shadow side of AI: Assessing the risks & rewards',\n",
              "  'MIT Releases AI Risk Database',\n",
              "  'What impact ai will have on risk management within the regulatory framework',\n",
              "  'AI Risk Report Summer 2024: turbulent rise of AI calls for vigilance by everyone',\n",
              "  'Meet AI in Risk Management'])"
            ]
          },
          "execution_count": 262,
          "metadata": {},
          "output_type": "execute_result"
        }
      ],
      "source": [
        "x = 40\n",
        "d[d['Topic']==x]['label'],d[d['Topic']==x]['openAI'].iloc[0],repdocs[str(x)]"
      ]
    },
    {
      "cell_type": "code",
      "execution_count": null,
      "metadata": {
        "colab": {
          "base_uri": "https://localhost:8080/"
        },
        "id": "CQ8ZT5hQdRVc",
        "outputId": "66a7d65f-635a-47c1-9c65-04a510569133"
      },
      "outputs": [
        {
          "data": {
            "text/plain": [
              "(15    {Ethics, Law & Regulations}\n",
              " Name: label, dtype: object,\n",
              " '\"Meta AI and Social Media: User Data, Privacy Concerns, and AI Image Generation\"',\n",
              " [\"Hey, UK! Here's how to 'opt out' of Meta using your Facebook and Instagram data to train its AI\",\n",
              "  'Meta pushes to label all AI images on Instagram and Facebook in crackdown on deceptive content',\n",
              "  \"X to allow third parties to train their AI models with social media users' data\",\n",
              "  'Social media platforms aren’t doing enough to stop harmful AI bots, research finds',\n",
              "  'What is the Meta AI tool? Can you turn it off? New feature rolls out on Facebook, Instagram',\n",
              "  'Facebook and Instagram plans to use UK posts to train AI models',\n",
              "  '‘All eyes on Rafah’: how AI-generated image swept across social media',\n",
              "  '(PDF) ai for Social Media Safety and Security: A Systematic Literature Review',\n",
              "  'Facebook and Instagram users are fuming over controversial Meta AI move',\n",
              "  'Meta AI explained: What does the new feature on Facebook and Instagram do and can it be turned it off?...',\n",
              "  '10 Best AI Tools for Social Media (November 2024)',\n",
              "  'Social media platforms are using what you create for ai . Here’s how to opt out',\n",
              "  'No, posting on Instagram won’t stop Meta from using your content to train its AI',\n",
              "  'Meet the Photographer Behind the Social Media App for Everyone Sick of Meta’s AI',\n",
              "  'Meta to Train AI Models Using Public U.K. Facebook and Instagram Posts',\n",
              "  'Will the ‘Goodbye Meta AI’ message protect users’ posts from being used to train AI?',\n",
              "  'ai (AI) in Social Media Global',\n",
              "  'How to Use ai for Social Media [Best Uses & Tools]',\n",
              "  'Meta says you can’t turn off its new AI tool on Facebook, Instagram',\n",
              "  \"I've tried the new deliberately anti-social AI-only social media app and I've never been more glad to be a little bit of a loser\"])"
            ]
          },
          "execution_count": 194,
          "metadata": {},
          "output_type": "execute_result"
        }
      ],
      "source": [
        "x = 14\n",
        "d[d['Topic']==x]['label'],d[d['Topic']==x]['openAI'].iloc[0],repdocs[str(x)]"
      ]
    },
    {
      "cell_type": "code",
      "execution_count": null,
      "metadata": {
        "colab": {
          "base_uri": "https://localhost:8080/"
        },
        "id": "-t4Y4I_VqNui",
        "outputId": "870ca1dd-b6f2-49cf-fd38-b61b77b7ecb6"
      },
      "outputs": [
        {
          "data": {
            "text/plain": [
              "(40    \n",
              " Name: label, dtype: object,\n",
              " '\"Exploring the Complexities and Controversies of AI\"',\n",
              " ['The bear case for AI',\n",
              "  'ai at Lilly',\n",
              "  'The AI clip that convinced',\n",
              "  'Sunny Leone launches AI avatar, warns against falling prey to deepfakes',\n",
              "  'FEATURE: ai',\n",
              "  'Solving a jumbo problem with ai',\n",
              "  'My AI Avatar. ai (AI) always…',\n",
              "  'The Cult of AI',\n",
              "  'ai trailblazer Barb Hyman answers your burning AI questions',\n",
              "  'Four Ways AI Is Overhyped, And How To Find Real Value',\n",
              "  'ai : Aye, Aye, AI',\n",
              "  'Real intelligence on ai',\n",
              "  'A Statistician Weighs in on AI',\n",
              "  'Beware AI euphoria',\n",
              "  'Empowered by ai',\n",
              "  'Identifying Rogue AI',\n",
              "  'causal AI',\n",
              "  'New to the Lou: Ai, No ai',\n",
              "  'Your biggest AI questions, answered',\n",
              "  'ai : Scourge or saviour?'])"
            ]
          },
          "execution_count": 201,
          "metadata": {},
          "output_type": "execute_result"
        }
      ],
      "source": [
        "x = 39\n",
        "d[d['Topic']==x]['label'],d[d['Topic']==x]['openAI'].iloc[0],repdocs[str(x)]"
      ]
    },
    {
      "cell_type": "code",
      "execution_count": null,
      "metadata": {
        "colab": {
          "base_uri": "https://localhost:8080/"
        },
        "id": "r_AEC4uydEqh",
        "outputId": "bb2746e0-e562-4a7c-f5d4-69bd7bb1a564"
      },
      "outputs": [
        {
          "data": {
            "text/plain": [
              "(71    \n",
              " Name: label, dtype: object,\n",
              " '\"AI Ethics and Regulation: Perspectives from Pope Francis and the Black Church\"',\n",
              " ['Does God Place Limits on ai ?',\n",
              "  'Pope Francis calls for binding global treaty to regulate AI',\n",
              "  '\"For Pope Francis, ai is a social issue\"',\n",
              "  'Pope Francis calls for wisdom in the face of ai',\n",
              "  'Technology trends and ai in the Black Church, Caleb’s Kids | American Black Journal',\n",
              "  'Opinion | Female popes? Google’s amusing AI bias underscores a serious problem.',\n",
              "  'Ministry Panel #2 \" ai , Personhood, and Theosis\" at 2024 Clergy-Laity Congress',\n",
              "  'AI and the Black church: Local ministers discuss the benefits, challenges of ai',\n",
              "  'How Pope Francis became the AI ethicist for world leaders and tech titans',\n",
              "  'When the Church falls victim to ai',\n",
              "  'ai in the pulpit: a church service written entirely by AI',\n",
              "  'Pope Francis becomes first pontiff to address a G7 summit, raising alarm about AI. The G7 responds',\n",
              "  'Pope Francis to G7 Leaders: Humans Must Not Lose Control of ai',\n",
              "  'AI and the Black church: Local ministers discuss the benefits, challenges of ai | One Detroit',\n",
              "  'AI companies are trying to build god. Shouldn’t they get our permission first?',\n",
              "  'Pope Francis calls for global treaty to regulate use of ai',\n",
              "  \"'I Have Avoided AI In Every Way': Pastor Issues Big Warning Against ai\",\n",
              "  'Why G7 leaders are turning to a special guest — Pope Francis — for advice on AI',\n",
              "  'Microsoft president to unveil ‘AI-enhanced experience’ of St. Peter’s Basilica',\n",
              "  'Pope Francis calls for international treaty on ai'])"
            ]
          },
          "execution_count": 202,
          "metadata": {},
          "output_type": "execute_result"
        }
      ],
      "source": [
        "x = 70 # 7,14, 39,40, 70, 73,86\n",
        "d[d['Topic']==x]['label'],d[d['Topic']==x]['openAI'].iloc[0],repdocs[str(x)]"
      ]
    },
    {
      "cell_type": "code",
      "execution_count": null,
      "metadata": {
        "colab": {
          "base_uri": "https://localhost:8080/"
        },
        "id": "YVhu8Q_J18sR",
        "outputId": "5c6e5345-9946-4aaf-9300-485a4d4f457a"
      },
      "outputs": [
        {
          "data": {
            "text/plain": [
              "(74    {Ethics, Law & Regulations}\n",
              " Name: label, dtype: object,\n",
              " '\"Exploring the Impact of AI on Writing: Opportunities, Challenges, and Ethical Considerations\"',\n",
              " ['WRITING TODAY: Eleven Thoughts about ai & Writing',\n",
              "  'The promise and perils of using AI for research and writing',\n",
              "  'Should researchers use AI to write papers? Group aims for community-driven standards',\n",
              "  'Margaret Atwood, unworried by AI, continues prolific writing career',\n",
              "  '(PDF) A Systematic Review on The Use of ai in Writing',\n",
              "  'How ai Helped Me Learn to Write Again',\n",
              "  'Turnitin adding AI writing detection, but instructors should use it with caution',\n",
              "  'ai Powered Platform Wscripted+ Launched To Review Submissions As Founder Claims: “This Is Ethical AI & Will Boost Female & Underrepresented Writers”',\n",
              "  'AI Writing Isn’t Ready Yet. Here’s How You Can Improve It.',\n",
              "  'Should You Use AI to Write a Novel? National Novel Writing Month Faces Backlash',\n",
              "  'Explore the benefits of using professional essay experts, rather than AI, for authentic writing help',\n",
              "  'Systematic analysis of 32,111 AI model cards characterizes documentation practice in AI',\n",
              "  'Why is AI so bad at spelling? Because image generators aren’t actually reading text',\n",
              "  'Writing is a technology that restructures thought — and in an AI age, universities need to teach it more',\n",
              "  'AI will never understand what makes writing great',\n",
              "  'The Top 8 AI Text Generator Tools To Improve Writing',\n",
              "  'The winner of a prestigious Japanese literary award has confirmed AI helped write her book',\n",
              "  'Wix’s AI will now write whole blog posts for you',\n",
              "  \"AI won't replace writing instruction (opinion)\",\n",
              "  '(PDF) Using ai for Essay Writing'])"
            ]
          },
          "execution_count": 196,
          "metadata": {},
          "output_type": "execute_result"
        }
      ],
      "source": [
        "x = 73\n",
        "d[d['Topic']==x]['label'],d[d['Topic']==x]['openAI'].iloc[0],repdocs[str(x)]"
      ]
    },
    {
      "cell_type": "code",
      "execution_count": null,
      "metadata": {
        "colab": {
          "base_uri": "https://localhost:8080/"
        },
        "id": "_g4mi8TZdclM",
        "outputId": "d04b4e2c-fcd3-4d9a-c977-5be469b52c35"
      },
      "outputs": [
        {
          "data": {
            "text/plain": [
              "(87    {Ethics, Law & Regulations}\n",
              " Name: label, dtype: object,\n",
              " '\"Gender Equality and Women\\'s Rights in the Age of AI\"',\n",
              " ['The AI Assault on Women: What Iran’s Tech Enabled Morality Laws Indicate for Women’s Rights Movements',\n",
              "  'ai and Development in MENA: Inclusion or Inequality?',\n",
              "  'ai and gender equality',\n",
              "  'New UNESCO report warns that Generative AI threatens Holocaust memory',\n",
              "  'Gender stereotypes in ai within the accounting profession using large language models',\n",
              "  'Women encouraged to pursue careers in AI test and evaluation during Virginia Tech National Security Institute workshop',\n",
              "  'Our Voices 634: The realities of women in ai',\n",
              "  'AI excellence: Monash researchers honoured at Women in AI APAC Awards',\n",
              "  'Women in AI: Arati Prabhakar thinks it’s crucial to get AI ‘right’',\n",
              "  'The potential for AI and new tech to be a democratising tool for women',\n",
              "  'Discovering value: women’s participation in university and commercial AI invention',\n",
              "  '‘Code Dependent’ shows how AI harms women and marginalized people worldwide',\n",
              "  '7 Indian Women In AI Innovation You Must Know About',\n",
              "  '6 Principles for Gender Equitable ai Solutions',\n",
              "  'Why AI is the key to unlocking leadership opportunities for women',\n",
              "  \"Women's jobs will be more affected by ai than men's\",\n",
              "  'Patriarchal AI: How ChatGPT can harm a woman’s career',\n",
              "  'UNESCO finds ‘pervasive’ gender bias in generative AI tools',\n",
              "  'Women4Ethical AI Conference: Advancing Gender Equality in ai',\n",
              "  'International Women’s Day: ‘Gen AI will become critical for job success for many women’'])"
            ]
          },
          "execution_count": 145,
          "metadata": {},
          "output_type": "execute_result"
        }
      ],
      "source": [
        "x = 86\n",
        "d[d['Topic']==x]['label'],d[d['Topic']==x]['openAI'].iloc[0],repdocs[str(x)]"
      ]
    },
    {
      "cell_type": "code",
      "execution_count": null,
      "metadata": {
        "id": "7F8CZ5Wpdh0V"
      },
      "outputs": [],
      "source": [
        "d.loc[d['Topic']==7,'label'] = ''\n",
        "d.loc[d['Topic']==14,'label'] = ''\n",
        "d.loc[d['Topic']==39,'label'] = ''\n",
        "d.loc[d['Topic']==40,'label'] = ''\n",
        "d.loc[d['Topic']==70,'label'] = ''\n",
        "d.loc[d['Topic']==73,'label'] = ''\n",
        "d.loc[d['Topic']==86,'label'] = ''"
      ]
    },
    {
      "cell_type": "code",
      "execution_count": null,
      "metadata": {
        "colab": {
          "base_uri": "https://localhost:8080/"
        },
        "id": "akn6UiOI2hYx",
        "outputId": "9e462deb-2267-4bb3-d20f-e2721505ae7e"
      },
      "outputs": [
        {
          "data": {
            "text/plain": [
              "[9, 34, 53, 59]"
            ]
          },
          "execution_count": 19,
          "metadata": {},
          "output_type": "execute_result"
        }
      ],
      "source": [
        "list(d[d['label']==\"{AI Ethics, Law & Policy}\"]['Topic'])"
      ]
    },
    {
      "cell_type": "markdown",
      "metadata": {
        "id": "ZlbJalKCdmaI"
      },
      "source": [
        "### {Government, countries & Global AI Initiatives}"
      ]
    },
    {
      "cell_type": "code",
      "execution_count": null,
      "metadata": {
        "colab": {
          "base_uri": "https://localhost:8080/"
        },
        "id": "LY7zBeQWdqCf",
        "outputId": "8ea4a9b0-42c6-4008-dc48-2cc8144d5015"
      },
      "outputs": [
        {
          "data": {
            "text/plain": [
              "[10, 27, 30, 37, 44, 47, 50, 54, 62, 66, 75, 81, 84]"
            ]
          },
          "execution_count": 200,
          "metadata": {},
          "output_type": "execute_result"
        }
      ],
      "source": [
        "list(d[d['label']==\"{Government, countries & Global AI Initiatives}\"]['Topic'])"
      ]
    },
    {
      "cell_type": "code",
      "execution_count": null,
      "metadata": {
        "colab": {
          "base_uri": "https://localhost:8080/"
        },
        "id": "OAtJ1aVXFa1o",
        "outputId": "daa71984-3833-48d2-e2ab-e6cf8d09b7e5"
      },
      "outputs": [
        {
          "data": {
            "text/plain": [
              "[10, 17, 18, 21, 27, 30, 37, 44, 47, 50, 54, 55, 62, 66, 75, 81, 82, 84, 85]"
            ]
          },
          "execution_count": 20,
          "metadata": {},
          "output_type": "execute_result"
        }
      ],
      "source": [
        "list(d[d['label']==\"{AI Governance & Geopolitics}\"]['Topic'])"
      ]
    },
    {
      "cell_type": "code",
      "execution_count": null,
      "metadata": {
        "colab": {
          "base_uri": "https://localhost:8080/"
        },
        "id": "kk13DK_6u4WZ",
        "outputId": "ab66b5c6-cce4-44cb-b87c-b01df10ab2a0"
      },
      "outputs": [
        {
          "data": {
            "text/plain": [
              "('{AI Governance & Geopolitics}',\n",
              " '\"Geoffrey Hinton and AI Pioneers Win Nobel Prize in Physics: Implications and Concerns\"',\n",
              " [\"'AI will eventually take control': Physics Nobel winner Geoffrey Hinton shares fears of ai\",\n",
              "  'Why the Nobel Prize in Physics Went to AI Research',\n",
              "  'Nobel Prize winner warns world about ai dangers',\n",
              "  '‘Godfather of AI’ Geoffrey Hinton Among Nobel Prize Winners',\n",
              "  'Geoffrey Hinton and John Hopfield share Nobel Prize for work on AI',\n",
              "  'Geoffrey Hinton, ‘Godfather of AI,’ wins Nobel Prize in physics for AI work',\n",
              "  '‘Godfather of AI’ shares Nobel Prize in physics for work on machine learning',\n",
              "  'Pioneers in ai win the 2024 Nobel Prize in physics',\n",
              "  'Is AI physics or chemistry? Nobel Prize wins spark debate about tech’s role in science',\n",
              "  'AI could ‘take control’ and ‘make us irrelevant’ as it advances, Nobel Prize winner warns',\n",
              "  'Geoffrey Hinton, soft-spoken godfather of AI',\n",
              "  'Nobel Prize Winner Geoffrey Hinton Explores Two Paths to Intelligence in AI Lecture',\n",
              "  'Pioneers in ai win the Nobel Prize in physics',\n",
              "  'Physics Nobel Prize won by John Hopfield, Geoffrey Hinton for ai research',\n",
              "  'Two ai leaders win physics Nobel Prize',\n",
              "  \"Nobel physics prize awarded to 'godfather of AI' who warned the technology could end humanity\",\n",
              "  'Nobel Prize in physics awarded to AI pioneers',\n",
              "  'AI doomsayer wins Nobel Prize for key research',\n",
              "  'ai innovators win Nobel Prize for physics',\n",
              "  '2024 Nobel prize for physics goes to pair who invented key AI techniques'])"
            ]
          },
          "execution_count": 282,
          "metadata": {},
          "output_type": "execute_result"
        }
      ],
      "source": [
        "x = 55\n",
        "d[d['Topic']==x]['label'].iloc[0],d[d['Topic']==x]['openAI'].iloc[0],repdocs[str(x)]"
      ]
    },
    {
      "cell_type": "code",
      "execution_count": null,
      "metadata": {
        "colab": {
          "base_uri": "https://localhost:8080/"
        },
        "id": "bWEOTLqad4Fa",
        "outputId": "93c3205f-0c5b-4cc9-bcf5-0747ecfd28fc"
      },
      "outputs": [
        {
          "data": {
            "text/plain": [
              "('{AI Governance & Geopolitics}',\n",
              " '\"India\\'s AI Landscape: Future Prospects, Challenges, and Developments\"',\n",
              " ['What is the Future of ai in India?',\n",
              "  'The Future of AI and India: Public and Private sectors build Indian AI',\n",
              "  'IndiaAI selects 8 projects to help develop safe and ethical ai',\n",
              "  \"What is IndiaAI Mission, announced by govt to ‘bolster’ country's AI ecosystem?\",\n",
              "  'AI to select Pakistan team? ai to replace underperfoming stars, claims PCB chairman',\n",
              "  'India in the Thick of the AI Race',\n",
              "  'IMF releases ai preparedness index for 174 countries',\n",
              "  'As AI arms race heats up, India’s role will be crucial',\n",
              "  'Uttar Pradesh to emerge as an AI hub of India',\n",
              "  \"India asks tech firms to seek approval before releasing 'unreliable' AI tools\",\n",
              "  'What is the rank of India in the ai Preparedness Index (AIPI) 2024?',\n",
              "  'Tata Draws Clear Strategy for Air India and AI Express',\n",
              "  'ai Preparedness Index 2024 – India Ranks at 72nd',\n",
              "  \"ai Summit News Updates: 'AI has the potential to revolutionise India's tech landscap...\",\n",
              "  'Army Day 2024: Indian military to use ai for identifying best marching contingent in Lucknow',\n",
              "  'ai can drive economic growth in India, help improve governance',\n",
              "  'India’s US$1.25 billion push to power AI',\n",
              "  'ai : Can Budget 2024 Help Bridge Skills Gap In India?',\n",
              "  'TIER IV’s AI Pilot System Achieves Level 4 Status in Nagano Prefecture',\n",
              "  'AI an ‘inflection point’ in India’s economic growth despite concerns, official says'])"
            ]
          },
          "execution_count": 281,
          "metadata": {},
          "output_type": "execute_result"
        }
      ],
      "source": [
        "x = 84\n",
        "d[d['Topic']==x]['label'].iloc[0],d[d['Topic']==x]['openAI'].iloc[0],repdocs[str(x)]"
      ]
    },
    {
      "cell_type": "code",
      "execution_count": null,
      "metadata": {
        "colab": {
          "base_uri": "https://localhost:8080/"
        },
        "id": "RAjKSE8xFoxy",
        "outputId": "f982bfa6-0467-4ddc-f72d-b4c34d1f97bd"
      },
      "outputs": [
        {
          "data": {
            "text/plain": [
              "('{AI Governance & Geopolitics}',\n",
              " '\"Quantum Computing and AI: Innovations, Challenges, and Global Competition\"',\n",
              " ['Harnessing Quantum Computing for Breakthroughs in ai',\n",
              "  'Fellowship Expands Quantum, AI Training to Fill Industry Demand',\n",
              "  'Quantum-Powered AI Knocking on the Enterprise Business Door',\n",
              "  'How Will Quantum Computing Affect ai Applications?',\n",
              "  'Quantum AI in Practice: Real-world Applications and Use Cases',\n",
              "  'Why China, the U.S., and Big Tech Are Racing to Harness Quantum Computing and AI',\n",
              "  'Adopting quantum computing and ai (AI) into Nigeria’s technology ecosystem',\n",
              "  'WVU researcher trains next-gen AI for chemicals industry to take a quantum leap forward',\n",
              "  'Quantum Leap: How Quantum AI is Reshaping Machine Learning',\n",
              "  \"Meta's AI chief doesn't think AI super intelligence is coming anytime soon, and is skeptical on quantum computing\",\n",
              "  'The City Quantum & AI Summit Experts See Potential of Quantum and AI, Recognize Hurdles And Drawbacks',\n",
              "  \"After AI, quantum computing eyes its 'Sputnik' moment\",\n",
              "  'Where AI and quantum computing meet',\n",
              "  'Quantum Computing and AI: A Perfect Match?',\n",
              "  'AI tackles one of the most difficult challenges in quantum chemistry',\n",
              "  'Quantum Machine Learning: When Quantum Meets AI',\n",
              "  'Is Quantum Computing An Unlikely Answer To AI’s Looming Energy Crisis?',\n",
              "  'ai could help make quantum computers a reality',\n",
              "  'AI & Quantum Tech: Accelerating Progress on the UN SDGs',\n",
              "  'China to step up quantum computing, AI in tech self-sufficiency drive'])"
            ]
          },
          "execution_count": 207,
          "metadata": {},
          "output_type": "execute_result"
        }
      ],
      "source": [
        "x = 85\n",
        "d[d['Topic']==x]['label'].iloc[0],d[d['Topic']==x]['openAI'].iloc[0],repdocs[str(x)]"
      ]
    },
    {
      "cell_type": "code",
      "execution_count": null,
      "metadata": {
        "id": "_uU0isxU3bwL"
      },
      "outputs": [],
      "source": [
        "d.loc[d['Topic']==55,'label'] = ''\n",
        "d.loc[d['Topic']==82,'label'] = ''\n",
        "d.loc[d['Topic']==85,'label'] = ''\n"
      ]
    },
    {
      "cell_type": "markdown",
      "metadata": {
        "id": "c5EsBp4UeQhk"
      },
      "source": [
        "### {AI overview, risks & impact}"
      ]
    },
    {
      "cell_type": "code",
      "execution_count": null,
      "metadata": {
        "colab": {
          "base_uri": "https://localhost:8080/",
          "height": 393
        },
        "id": "ndgqvQWVQlj-",
        "outputId": "d144976c-f347-49f1-d110-a9fe07ad3dc5"
      },
      "outputs": [
        {
          "data": {
            "text/html": [
              "<div>\n",
              "<style scoped>\n",
              "    .dataframe tbody tr th:only-of-type {\n",
              "        vertical-align: middle;\n",
              "    }\n",
              "\n",
              "    .dataframe tbody tr th {\n",
              "        vertical-align: top;\n",
              "    }\n",
              "\n",
              "    .dataframe thead th {\n",
              "        text-align: right;\n",
              "    }\n",
              "</style>\n",
              "<table border=\"1\" class=\"dataframe\">\n",
              "  <thead>\n",
              "    <tr style=\"text-align: right;\">\n",
              "      <th></th>\n",
              "      <th>count</th>\n",
              "    </tr>\n",
              "    <tr>\n",
              "      <th>label</th>\n",
              "      <th></th>\n",
              "    </tr>\n",
              "  </thead>\n",
              "  <tbody>\n",
              "    <tr>\n",
              "      <th>{AI in various Industries}</th>\n",
              "      <td>22</td>\n",
              "    </tr>\n",
              "    <tr>\n",
              "      <th></th>\n",
              "      <td>20</td>\n",
              "    </tr>\n",
              "    <tr>\n",
              "      <th>{AI Governance &amp; Geopolitics}</th>\n",
              "      <td>16</td>\n",
              "    </tr>\n",
              "    <tr>\n",
              "      <th>{AI in companies &amp; Enterprises}</th>\n",
              "      <td>10</td>\n",
              "    </tr>\n",
              "    <tr>\n",
              "      <th>{AI Investments &amp; Market Trends}</th>\n",
              "      <td>6</td>\n",
              "    </tr>\n",
              "    <tr>\n",
              "      <th>{Other}</th>\n",
              "      <td>5</td>\n",
              "    </tr>\n",
              "    <tr>\n",
              "      <th>{AI Ethics, Law &amp; Policy}</th>\n",
              "      <td>4</td>\n",
              "    </tr>\n",
              "    <tr>\n",
              "      <th>{Careers &amp; Workforce}</th>\n",
              "      <td>3</td>\n",
              "    </tr>\n",
              "    <tr>\n",
              "      <th>{Education}</th>\n",
              "      <td>2</td>\n",
              "    </tr>\n",
              "  </tbody>\n",
              "</table>\n",
              "</div><br><label><b>dtype:</b> int64</label>"
            ],
            "text/plain": [
              "label\n",
              "{AI in various Industries}          22\n",
              "                                    20\n",
              "{AI Governance & Geopolitics}       16\n",
              "{AI in companies & Enterprises}     10\n",
              "{AI Investments & Market Trends}     6\n",
              "{Other}                              5\n",
              "{AI Ethics, Law & Policy}            4\n",
              "{Careers & Workforce}                3\n",
              "{Education}                          2\n",
              "Name: count, dtype: int64"
            ]
          },
          "execution_count": 285,
          "metadata": {},
          "output_type": "execute_result"
        }
      ],
      "source": [
        "d['label'].value_counts()"
      ]
    },
    {
      "cell_type": "code",
      "execution_count": null,
      "metadata": {
        "colab": {
          "base_uri": "https://localhost:8080/"
        },
        "id": "Ss35g7lmMBBQ",
        "outputId": "c699eacf-b545-4754-dfef-de1bbee8af60"
      },
      "outputs": [
        {
          "data": {
            "text/plain": [
              "[24, 31, 40, 42, 55, 64, 65, 71, 74, 82]"
            ]
          },
          "execution_count": 102,
          "metadata": {},
          "output_type": "execute_result"
        }
      ],
      "source": [
        "list(d[d['label']==\"{AI overview, risks & impact}\"]['Topic'])"
      ]
    },
    {
      "cell_type": "code",
      "execution_count": null,
      "metadata": {
        "colab": {
          "base_uri": "https://localhost:8080/"
        },
        "id": "3vlGpwW65h1C",
        "outputId": "a44686fd-20ef-43d8-de23-c3876dc4262b"
      },
      "outputs": [
        {
          "data": {
            "text/plain": [
              "('',\n",
              " '\"AI\\'s Energy Impact: Balancing Efficiency, Emissions, and Sustainability\"',\n",
              " ['Deploying high-performance, energy-efficient AI',\n",
              "  'AI’s Energy Footprint Warrants Markets, Not Panic',\n",
              "  'UNFCCC partners with Microsoft to use AI and advanced data technology to track global carbon emissions and assess progress under the Paris Agreement',\n",
              "  'ai empowerment in China’s energy landscape: enhancing power grid investment efficiency',\n",
              "  'Energy, Climate, and Grid Security Subcommittee Hearing: \"Powering AI: Examining America’s Energy and Technology Future”',\n",
              "  'Beyond ‘Data-Driven’: How Energy-Efficient Computing for AI Is Propelling Innovation and Savings Across Industries',\n",
              "  'A Hidden ai (AI) Energy Opportunity',\n",
              "  \"AI's Energy Appetite: Challenges for Our Future Electricity Supply\",\n",
              "  'How Tech Companies Are Obscuring AI’s Real Carbon Footprint',\n",
              "  \"AI's carbon footprint appears likely to be alarming\",\n",
              "  \"Google's carbon emissions surge nearly 50% due to AI energy demand\",\n",
              "  'Energy looks to balance AI electricity demands and clean energy goals',\n",
              "  'Power-hungry AI is driving a surge in tech giant carbon emissions. Nobody knows what to do about it',\n",
              "  'South Korea needs to accelerate renewable energy adoption to fuel ai and semiconductor sectors',\n",
              "  \"AI and energy: Will AI help reduce emissions or increase demand? Here's what to know\",\n",
              "  'How the human brain is inspiring energy-efficient AI',\n",
              "  'AI may accelerate job losses and carbon emissions, report finds',\n",
              "  'Sustainable Strides: How AI and Accelerated Computing Are Driving Energy Efficiency',\n",
              "  'AI’s carbon footprint is bigger than you think',\n",
              "  'BT helps customers keep a lid on AI carbon emissions'])"
            ]
          },
          "execution_count": 228,
          "metadata": {},
          "output_type": "execute_result"
        }
      ],
      "source": [
        "x = 31\n",
        "d[d['Topic']==x]['label'].iloc[0],d[d['Topic']==x]['openAI'].iloc[0],repdocs[str(x)]"
      ]
    },
    {
      "cell_type": "code",
      "execution_count": null,
      "metadata": {
        "id": "4EUmfeac52-Q"
      },
      "outputs": [],
      "source": [
        "d.loc[d['Topic']==55,'label'] = '' #\n",
        "d.loc[d['Topic']==74,'label'] = '' #\n",
        "d.loc[d['Topic']==82,'label'] = '' #\n"
      ]
    },
    {
      "cell_type": "markdown",
      "metadata": {
        "id": "8xBHOxLY6ZzK"
      },
      "source": [
        "### other"
      ]
    },
    {
      "cell_type": "code",
      "execution_count": null,
      "metadata": {
        "colab": {
          "base_uri": "https://localhost:8080/"
        },
        "id": "8Uxe3pzS6YLi",
        "outputId": "0d5d5e67-cc6e-4988-cd4d-e7ea90688de4"
      },
      "outputs": [
        {
          "data": {
            "text/plain": [
              "[33, 72]"
            ]
          },
          "execution_count": 108,
          "metadata": {},
          "output_type": "execute_result"
        }
      ],
      "source": [
        "list(d[d['label']==\"{Other}\"]['Topic'])"
      ]
    },
    {
      "cell_type": "code",
      "execution_count": null,
      "metadata": {
        "colab": {
          "base_uri": "https://localhost:8080/"
        },
        "id": "kBtB420NRHBF",
        "outputId": "367b1245-df2d-47cf-f95e-c44dc6673c5c"
      },
      "outputs": [
        {
          "data": {
            "text/plain": [
              "[33, 42, 65, 71, 72]"
            ]
          },
          "execution_count": 22,
          "metadata": {},
          "output_type": "execute_result"
        }
      ],
      "source": [
        "list(d[d['label']==\"{Other}\"]['Topic'])"
      ]
    },
    {
      "cell_type": "code",
      "execution_count": null,
      "metadata": {
        "colab": {
          "base_uri": "https://localhost:8080/"
        },
        "id": "_rhftFCg6dv4",
        "outputId": "6f1c385d-4e4e-4e49-95ca-6d11b37a3a92"
      },
      "outputs": [
        {
          "data": {
            "text/plain": [
              "('{Other}',\n",
              " '\"Exploring AI in Podcasts: Innovations, Discussions, and Cultural Impact\"',\n",
              " [\"Netizens are torturing Google's AI podcast hosts\",\n",
              "  'Trump & AI Policy + Overrated/Underrated on the Cerebral Valley Podcast',\n",
              "  'Silicon UK AI For Your Business Podcast: Government and AI',\n",
              "  'Launching AIQ ( ai Quotient) podcast | by Mehul Gupta | Data Science in your pocket',\n",
              "  'Podcast: Salesforce CEO Marc Benioff on AI, Microsoft, Seattle tech, and the future of humanity',\n",
              "  'Technology and Security (TS) podcast | Professor Johanna Weaver on AI, international humanitarian law and cyber security',\n",
              "  'The Daily Heller: Google’s AI Podcast Capabilities Are Appallingly Amazing',\n",
              "  'Podcast: How we used AI to launch a national TV channel',\n",
              "  'Amazon Music’s new AI feature lets you browse podcast episodes by topic',\n",
              "  'will.i.am and Fyilicia on the AI revolution, inclusivity & The Voice UK ...Tech & Science Daily podcast',\n",
              "  'The Guardian launches ‘Black Box’, a narrative podcast series that explores the collision between ai and us',\n",
              "  'Podcast: Using AI Comes with a Trade-off. Now Multiply That by 8 Billion.',\n",
              "  'UNODA & SIPRI: Responsible AI for Peace podcast',\n",
              "  'Amazon Music launches Topics, new AI-powered feature that makes it easier to discover podcasts',\n",
              "  'People are using Google study software to make AI podcasts—and they’re weird and amazing',\n",
              "  'Michael Parkinson podcast a ‘positive’ use of AI',\n",
              "  'Jason Warner discusses AI and innovation on Dare to Disrupt podcast',\n",
              "  \"AI-replicated Michael Parkinson to host 'completely unscripted' celebrity podcast\",\n",
              "  'These podcasters aren’t real: Our AI experiment with Google’s Notebook LM',\n",
              "  'PODCAST | Why It Matters: The Year of AI and Elections'])"
            ]
          },
          "execution_count": 33,
          "metadata": {},
          "output_type": "execute_result"
        }
      ],
      "source": [
        "x = 72\n",
        "d[d['Topic']==x]['label'].iloc[0],d[d['Topic']==x]['openAI'].iloc[0],repdocs[str(x)]"
      ]
    },
    {
      "cell_type": "code",
      "execution_count": null,
      "metadata": {
        "id": "i8z643M-XR-A"
      },
      "outputs": [],
      "source": [
        "d.loc[d['Topic']==33,'label'] = '{AI in various Industries}' #"
      ]
    },
    {
      "cell_type": "code",
      "execution_count": null,
      "metadata": {
        "colab": {
          "base_uri": "https://localhost:8080/"
        },
        "id": "4rD80GMkPFuL",
        "outputId": "ba487fe6-9618-4bbc-e881-d8d107b2d0a3"
      },
      "outputs": [
        {
          "data": {
            "text/plain": [
              "['{AI in various Industries}',\n",
              " '{Education}',\n",
              " '{Careers & Workforce}',\n",
              " '{AI Investments & Market Trends}',\n",
              " '{AI in companies & Enterprises}',\n",
              " '{AI Ethics, Law & Policy}',\n",
              " '{AI Governance & Geopolitics}',\n",
              " '{Other}']"
            ]
          },
          "execution_count": 29,
          "metadata": {},
          "output_type": "execute_result"
        }
      ],
      "source": [
        "labels"
      ]
    },
    {
      "cell_type": "code",
      "execution_count": null,
      "metadata": {
        "colab": {
          "base_uri": "https://localhost:8080/"
        },
        "id": "uWSId25465N_",
        "outputId": "6c941f64-2b5f-4a11-b87d-d88048fa23db"
      },
      "outputs": [
        {
          "name": "stdout",
          "output_type": "stream",
          "text": [
            "\"Exploring the Impact and Adoption of Generative AI Across Industries\"\n",
            "2\n",
            "['New data shows that workers are bringing their own generative AI to work', 'Gartner Says Generative AI for Procurement Has Hit Peak of Inflated Expectations', 'Generative ai Revolution Heats Up in Asia/Pacific, with IDC expecting a 95.4% CAGR in 2027', 'Think 2024 On Demand | watsonx: Scale The Impact Of Generative AI', 'Charting a New Frontier for Generative AI: How Joule’s Collaborative AI Agents Will Transform How People Work', 'Unlocking the power of generative AI: The advantages of a flexible architecture for foundation model fine-tuning', 'As S&P 500 reaches fresh highs, experts say generative ai will create new investment opportunities', 'Syngenta Group Adds Cutting-Edge Generative ai (GenAI) to Cropwise', 'Executive Conversations: Putting generative AI to work in omnichannel customer service with Prashant Singh, Chief Operating Officer at LeadSquared | Amazon Web Services', 'Real Talk: How Generative AI Could Close Canada’s Productivity Gap and Reshape the Workplace—Lessons From the Innovation Economy', 'Realizing the potential of generative AI in human services: Use cases to transform program delivery', 'How to use generative AI beyond efficiency: Just talk to it for half an hour every week – OK Tomorrow founder Nilesh Ashra', 'Empowering minds: a round table on Generative AI and Education in Asia-Pacific', 'What’s Next for Generative AI?', 'Exploring the Impact of Generative AI on Software Engineering and Career Paths', 'Joint statement on competition in generative AI foundation models and AI products', 'Building an experience-centric workplace: Enhancing Cognizant WorkNEXT digital workplace services with generative AI powered by ServiceNow', 'DataRobot Announces New Enterprise-Grade Functionality to Close the Generative AI Confidence Gap and Accelerate Adoption', 'Generative AI in Movies and TV: How the 2023 SAG-AFTRA and WGA Contracts Address Generative AI', 'Canva adds a new generative AI platform to its growing creative empire', 'Generative AI vs. predictive AI: Understanding the differences', 'Generative AI vs Machine Learning: Key Differences and Use Cases']\n",
            "\"AI Chatbots: Innovations, Controversies, and Legal Challenges\"\n",
            "7\n",
            "['Meta launches its AI chatbot in the UK on Facebook and Instagram', \"'A gut punch': Character.AI criticised over 'horrific' Brianna Ghey and Molly Russell chatbots\", 'Character AI Chatbot Lawsuit: Imaginary Friends and Real Guns', 'ChatGPT turns one: How AI chatbot has changed the tech world', 'Teenager took his own life after falling in love with an AI chatbot. Now his devastated mom is suing the creator', 'ChatGPT vs. Microsoft Copilot vs. Gemini: Which is the best AI chatbot?', \"Mother sues AI chatbot company Character.AI, Google over son's suicide\", 'GPT-4o: OpenAI to begin rollout of latest version of ai chatbot', 'Meta AI Chatbot Launches In UK On Facebook, Instagram, WhatsApp', \"Mother sues tech company after 'Game of Thrones' AI chatbot allegedly drove son to suicide\", 'An ai (AI) chatbot, which was dealing with customer inconvenience at a courier', 'ChatGPT vs. Copilot: Which AI chatbot is better for you?', \"A 14-year-old's suicide was prompted by an AI chatbot, lawsuit alleges. Here's how parents can keep kids safe.\", \"Mom Sues Character.AI, Blames Chatbot for Teen Son's Suicide\", 'Character.AI institutes new safety measures for AI chatbot conversations', 'What is an AI chatbot and which one is best?', \"14-Year-Old Was 'Groomed' By AI Chatbot Before Suicide: Lawyer\", 'Commonwealth Bank to trial AI chatbot in rollout of expanded AI-driven customer service', \"'This Is Not a Coincidence': Lawsuit Blames Chatbot App Character.AI for Teen's Suicide\", 'Meta makes its AI chatbot available to all users in India']\n",
            "\"Meta AI and Social Media: User Data, Privacy Concerns, and AI Image Generation\"\n",
            "14\n",
            "[\"Hey, UK! Here's how to 'opt out' of Meta using your Facebook and Instagram data to train its AI\", 'Meta pushes to label all AI images on Instagram and Facebook in crackdown on deceptive content', \"X to allow third parties to train their AI models with social media users' data\", 'Social media platforms aren’t doing enough to stop harmful AI bots, research finds', 'What is the Meta AI tool? Can you turn it off? New feature rolls out on Facebook, Instagram', 'Facebook and Instagram plans to use UK posts to train AI models', '‘All eyes on Rafah’: how AI-generated image swept across social media', '(PDF) ai for Social Media Safety and Security: A Systematic Literature Review', 'Facebook and Instagram users are fuming over controversial Meta AI move', 'Meta AI explained: What does the new feature on Facebook and Instagram do and can it be turned it off?...', '10 Best AI Tools for Social Media (November 2024)', 'Social media platforms are using what you create for ai . Here’s how to opt out', 'No, posting on Instagram won’t stop Meta from using your content to train its AI', 'Meet the Photographer Behind the Social Media App for Everyone Sick of Meta’s AI', 'Meta to Train AI Models Using Public U.K. Facebook and Instagram Posts', 'Will the ‘Goodbye Meta AI’ message protect users’ posts from being used to train AI?', 'ai (AI) in Social Media Global', 'How to Use ai for Social Media [Best Uses & Tools]', 'Meta says you can’t turn off its new AI tool on Facebook, Instagram', \"I've tried the new deliberately anti-social AI-only social media app and I've never been more glad to be a little bit of a loser\"]\n",
            "\"AI Trends and Predictions for 2024: Insights, Statistics, and Influential Leaders\"\n",
            "20\n",
            "['ai Trends To Watch In 2024', '8 predictions for AI in 2024', 'Albert Gu: The 100 Most Influential People in AI 2024', 'IDC FutureScape: Worldwide ai and Automation 2025 Predictions', '22 Top AI Statistics And Trends In 2024', 'How Python 3.13 Unlocks New Potential for AI/ML Development | by Dhiraj K | Oct, 2024', 'Dwarkesh Patel: The 100 Most Influential People in AI 2024', 'UK ai (AI) Statistics And Trends In 2024', 'U of T’s AI thought leaders take centre stage at Collision 2024', 'Top AI Statistics And Trends', '29 Crucial ai (AI) Statistics to Know for 2024', 'ai in 2024 and Beyond- Trends and Predictions (Part 1)', '3 big AI trends to watch in 2024', 'The 10 Biggest AI Trends Of 2025 Everyone Must Be Ready For Today', 'Applied ai (AI) and Deep Tech Innovations Take Centre Stage on Day Three of Expand North Star 2024', '57 NEW ai Statistics (Nov 2024)', 'H2O.ai Celebrates Global Leaders Driving AI in AI 100 List', 'Five AI trends for 2024', 'Predictions 2025: An AI Reality Check Paves The Path For Long-Term Success', 'Meta Outlines AI, VR and AR Advancements at Connect 2024']\n",
            "\"AI's Energy Revolution: The Role of Nuclear Power in Data Centers\"\n",
            "24\n",
            "[\"AI data centres, Alberta's accelerating energy needs will increase need for nuclear to hit net zero, experts say\", 'Larry Ellison’s $100 Billion Bet: Nuclear Power to Drive Oracle’s AI Revolution', 'Nuclear power, uranium are the ‘perfect fit’ for AI and crypto’s energy needs', \"Microsoft AI Needs So Much Power It's Tapping Site of US Nuclear Meltdown\", \"AI may breathe new life into Three Mile Island to supply power to Microsoft's data centres\", \"US nuclear plants won't power up Big Tech's AI ambitions right away\", 'AI and crypto mining are driving up data centers’ energy use', 'Tech Giants Bet Big on Nuclear Energy to Fuel ai', 'Google signs deal with startup to build small nuclear reactors to power AI', 'Google turns to nuclear to power AI data centres', 'Microsoft in deal for Three Mile Island nuclear power to meet AI demand', 'Buzzkill: How bees reportedly stung Meta’s nuclear plans for AI data centre', 'Google set to power its AI data centres with mini nuclear reactors', 'Meta’s plan for nuclear-powered AI data centre thwarted by rare bees', 'Private Equity’s Next Bet on ai Is Nuclear Energy', 'Nuclear Energy’s Renaissance Thanks to AI Needs', 'Bees thwart Meta’s plans for nuclear-powered AI data centers', 'Nuclear power for AI: what it will take to reopen Three Mile Island safely', 'Alphabet Inc. (GOOG) Explores Nuclear Power for AI Data Centers, CEO Highlights Generative AI as Key Focus', 'A nuclear accident made Three Mile Island infamous. AI’s needs may revive it.']\n",
            "\"AI's Energy Impact: Balancing Efficiency, Emissions, and Sustainability\"\n",
            "31\n",
            "['Deploying high-performance, energy-efficient AI', 'AI’s Energy Footprint Warrants Markets, Not Panic', 'UNFCCC partners with Microsoft to use AI and advanced data technology to track global carbon emissions and assess progress under the Paris Agreement', 'ai empowerment in China’s energy landscape: enhancing power grid investment efficiency', 'Energy, Climate, and Grid Security Subcommittee Hearing: \"Powering AI: Examining America’s Energy and Technology Future”', 'Beyond ‘Data-Driven’: How Energy-Efficient Computing for AI Is Propelling Innovation and Savings Across Industries', 'A Hidden ai (AI) Energy Opportunity', \"AI's Energy Appetite: Challenges for Our Future Electricity Supply\", 'How Tech Companies Are Obscuring AI’s Real Carbon Footprint', \"AI's carbon footprint appears likely to be alarming\", \"Google's carbon emissions surge nearly 50% due to AI energy demand\", 'Energy looks to balance AI electricity demands and clean energy goals', 'Power-hungry AI is driving a surge in tech giant carbon emissions. Nobody knows what to do about it', 'South Korea needs to accelerate renewable energy adoption to fuel ai and semiconductor sectors', \"AI and energy: Will AI help reduce emissions or increase demand? Here's what to know\", 'How the human brain is inspiring energy-efficient AI', 'AI may accelerate job losses and carbon emissions, report finds', 'Sustainable Strides: How AI and Accelerated Computing Are Driving Energy Efficiency', 'AI’s carbon footprint is bigger than you think', 'BT helps customers keep a lid on AI carbon emissions']\n",
            "\"Exploring the Complexities and Controversies of AI\"\n",
            "39\n",
            "['The bear case for AI', 'ai at Lilly', 'The AI clip that convinced', 'Sunny Leone launches AI avatar, warns against falling prey to deepfakes', 'FEATURE: ai', 'Solving a jumbo problem with ai', 'My AI Avatar. ai (AI) always…', 'The Cult of AI', 'ai trailblazer Barb Hyman answers your burning AI questions', 'Four Ways AI Is Overhyped, And How To Find Real Value', 'ai : Aye, Aye, AI', 'Real intelligence on ai', 'A Statistician Weighs in on AI', 'Beware AI euphoria', 'Empowered by ai', 'Identifying Rogue AI', 'causal AI', 'New to the Lou: Ai, No ai', 'Your biggest AI questions, answered', 'ai : Scourge or saviour?']\n",
            "\"AI Risk Management: Navigating Dangers and Opportunities\"\n",
            "40\n",
            "['\"Human in the Loop\" in AI risk management – not a cure-all approach', 'AI Risk Framework Can Help Mitigate Machine-Learning Threats', \"DWP using AI to assess benefit claims poses 'significant risk', experts warn\", '5 of the most damaging ways AI could harm humanity, according to MIT experts', 'A framework for assessing AI risk', 'Shadow AI poses new generation of threats to enterprise IT', '3 Ways ai Can Help Reduce Risk for Facility Managers', 'OpenAI Insider Estimates 70 Percent Chance That AI Will Destroy or Catastrophically Harm Humanity', 'AI in Risk Management: Top Benefits and Challenges Explained', 'Managing extreme AI risks amid rapid progress', 'What are the risks of ai ? Dangers of AI technology', 'Leonardo, how big data and ai support Risk Management', 'NIST Issues AI Risk-Management Guidance', \"AI's Double-Edged Sword: Managing Risks While Seizing Opportunities\", \"Critics fear 'catastrophic harm' over Boeing's AI-piloted killer jets\", 'Navigating the shadow side of AI: Assessing the risks & rewards', 'MIT Releases AI Risk Database', 'What impact ai will have on risk management within the regulatory framework', 'AI Risk Report Summer 2024: turbulent rise of AI calls for vigilance by everyone', 'Meet AI in Risk Management']\n",
            "\"AI Training and Data Strategies: Opportunities and Challenges\"\n",
            "41\n",
            "['Agencies eye synthetic data to help train and test AI', 'Big Tech cos in race to buy training data for ai', 'What AI Will Do To Data Science', 'Reddit sells training data to unnamed AI company ahead of IPO', 'Supercharge Your Data Strategy with the Latest Insights on Data and AI', 'From Barcelona to the Big Apple: Learning AI and Data Analytics at Pace University', 'The Dreams That Art Is Made of: Babson Professor Combines Data Science and AI Art', \"AI models trained on 'synthetic data' could break down and regurgitate unintelligible nonsense, scientists warn\", 'Have You Been Neglecting Data Quality? You Could Miss the AI Train', 'Featured Major: Data Science and ai', 'The bad and the ugly: AI is harmful, unreliable, and running out of data', 'AI Data Analytics for Beginners: A Practical Guide', \"Zuckerberg Says It's Fine to Train AI on Your Data Because It Probably Has No Value Anyway\", 'Single-platform approach may fall short for AI data management', 'Data Science and ai', 'Q&A: AI Is Creating New Roles and Skills in Data & Analytics', 'Data Science and AI', 'Training AI requires more data than we have — generating synthetic data could help solve this challenge', 'Reddit’s Sale of User Data for AI Training Draws FTC Inquiry', '‘Gold rush’: Your data used to train AI']\n",
            "\"AI-Driven Sustainability and Waste Management Innovations\"\n",
            "52\n",
            "['AI in recycling: How ai is transforming waste management | Article', 'Sustainable by design: Advancing the sustainability of AI', '(PDF) ai in Circular Economies: A Pathway to Sustainable Resource Management', 'Drive sustainability transformation faster with new data and AI capabilities', 'HIMSS24 keynote: Prioritizing sustainability, protecting against climate change and harnessing AI', 'AI may produce millions of tonnes of electronic waste by 2030, study finds', 'US names Dan Priest as Chief AI Officer and Ellen Walsh as Sustainability Executive Sponsor', 'How Amazon’s latest Climate Pledge Fund investment is transforming recycling through AI and robotics', 'AI and waste: Tackling social and environmental challenges', 'Scientists Predict AI to Generate Millions of Tons of E-Waste', 'Press Release | Unprecedented AI-powered art brings digital environmentalism to the United Nations', 'Accelerating Sustainability with AI: A Playbook', 'ZainTECH focuses on ai and sustainability', 'U of T engineering students encouraged to consider sustainability when designing future AI systems', 'Responsible Progress, Sustainable AI: The Benefits of Greening Our Digital Future', 'Will AI Help or Hurt Sustainability? Yes | Andrew Winston', 'UK AI startup Greyparrot bags strategic tie-up with recycling giant Bollegraaf', 'US Environmental Social Governance Legal Considerations AI Companies Status Quo Practical Next Steps', 'Crawl, Walk, Run: How AI is Enhancing Sustainability, Productivity, and Profitability', 'AI-Powered Toilet Camera That Can Analyze Waste — The Future of Health Monitoring?']\n",
            "\"Geoffrey Hinton and AI Pioneers Win Nobel Prize in Physics: Implications and Concerns\"\n",
            "55\n",
            "[\"'AI will eventually take control': Physics Nobel winner Geoffrey Hinton shares fears of ai\", 'Why the Nobel Prize in Physics Went to AI Research', 'Nobel Prize winner warns world about ai dangers', '‘Godfather of AI’ Geoffrey Hinton Among Nobel Prize Winners', 'Geoffrey Hinton and John Hopfield share Nobel Prize for work on AI', 'Geoffrey Hinton, ‘Godfather of AI,’ wins Nobel Prize in physics for AI work', '‘Godfather of AI’ shares Nobel Prize in physics for work on machine learning', 'Pioneers in ai win the 2024 Nobel Prize in physics', 'Is AI physics or chemistry? Nobel Prize wins spark debate about tech’s role in science', 'AI could ‘take control’ and ‘make us irrelevant’ as it advances, Nobel Prize winner warns', 'Geoffrey Hinton, soft-spoken godfather of AI', 'Nobel Prize Winner Geoffrey Hinton Explores Two Paths to Intelligence in AI Lecture', 'Pioneers in ai win the Nobel Prize in physics', 'Physics Nobel Prize won by John Hopfield, Geoffrey Hinton for ai research', 'Two ai leaders win physics Nobel Prize', \"Nobel physics prize awarded to 'godfather of AI' who warned the technology could end humanity\", 'Nobel Prize in physics awarded to AI pioneers', 'AI doomsayer wins Nobel Prize for key research', 'ai innovators win Nobel Prize for physics', '2024 Nobel prize for physics goes to pair who invented key AI techniques']\n",
            "\"AI Landscape and Opportunities in Europe\"\n",
            "63\n",
            "['AI talent war heats up in Europe', 'Ireland’s ai hub', \"AI set to boost Europe's economy by €500bn\", 'AI Is Coming for European Bank Jobs With Italy Taking a Hit', 'The AI Gambit: Will the UK Lead or Follow?', \"Farlei Kothe, CEO of Stefanini NA, EMEA, and APAC: Romania and Moldova are Stefanini's most important ai hub in Europe\", 'ai : The European Union sets unprecedented limits', 'EY: Greece can evolve into regional AI hub', 'Seizing the AI opportunity in Europe', 'Time to place our bets: Europe’s AI opportunity', 'Europeans are optimistic about generative AI but there is more to do to close the trust gap', 'Euro VCs welcome Balderton’s fresh $1.3B but grumble about Europe’s AI misses', 'Sweden top country in Europe for AI startups', 'The US is racing ahead in its bid to control ai – why is the EU so far behind?', 'Meet Emma, Germany’s AI travel ambassador', 'Generative AI and the EU Pact: a responsible technological future', 'Italy to set up AI fund of 1 billion euros, PM says', 'Would Trump victory keep US ahead of Europe on AI?', 'France leads the pack for generative AI funding in Europe', 'Now decides next. Is Europe ready for generative AI?']\n",
            "\"AI Hype: Boom, Bust, and Reality Check\"\n",
            "64\n",
            "['AI hype is at an all time high, but only a few of us actually use it daily', \"AI bubble or 'revolution'? OpenAI's big payday fuels debate\", 'The AI hype bubble is deflating. Now comes the hard part.', 'Should the public sector believe the AI hype?', 'The deflating AI bubble is inevitable — and healthy', 'It’s Time to Believe the AI Hype', 'The next wave of AI hype will be geopolitical. You’re paying', 'AI hype hits reality roadblock', 'It Looks Like It Could Be the End of the AI Hype Cycle', 'Apollo calls AI a “bubble” worse than the dotcom era', 'AI: Genuine gamechanger or overblown hype?', 'Why The AI Hype Needs A Reality Check', 'Meta proves AI hype has its limits', 'As the AI Bubble Deflates, the Ethics of Hype Are in the Spotlight', 'The Dot-Com Bubble vs AI Enthusiasm: Why They’re Different', 'AI Snake Oil: Separating Hype from Reality', 'The rise and fall of AI hype', 'From boom to burst, the AI bubble is only heading in one direction', 'AI is effectively ‘useless’—and it’s created a ‘fake it till you make it’ bubble that could end in disaster, veteran market watcher warns', 'AI hype is not a replay of the dotcom bubble, but it’s a remix']\n",
            "\"CEO Perspectives on AI: Challenges, Innovations, and Future Directions for 2024\"\n",
            "68\n",
            "['Super Micro needs a new CEO before its AI advantage erodes', 'Pinterest CEO says the platform uses AI to generate positivity', 'Anthropic CEO goes full techno-optimist in 15,000-word paean to AI', 'Concentrix CEO to Showcase AI Innovation, iX Hello Assistant at Web Summit 2024 | CNXC Stock News', 'Nearly half of CEOs fear their companies won’t survive 10 years due to AI and climate change', 'Uber CEO on ‘Multiple Avenues for Growth’ – AI, Flights, Business Travel', \"Business Tech Roundup: Anthropic's CEO Explains The “Radical Upside” Of AI\", 'Kongsberg Digital CEO: AI Marks a New Era for Workplace Transformation', 'The CEO and AI: What’s ahead in 2024', 'CIA AI director Lakshmi Raman claims the agency is taking a ‘thoughtful approach’ to AI', 'GitHub CEO Thomas Dohmke says the AI industry needs competition to thrive', 'Industry moving ‘beyond experimenting’ with AI says Autodesk CEO', 'Taco Bell and Pizza Hut Are Going ‘AI-First,’ Yum’s New Tech Chief Says', 'Stability AI appoints new CEO, the Information reports', 'CEOs cautious about AI but focused on growth in 2024: Gartner survey', 'Hasbro CEO Says AI Will Become Core Part of Dungeons & Dragons', 'Chris Kraft Starts Deputy CTO, AI/Emerging Technology Role at DHS', 'Peter Sarlin, CEO of Silo AI on Strengthening EU’s AI Landscape', 'Workday CEO: ‘For all the dollars that’s been invested so far, we have yet to realize the full promise of AI’', 'Charles Wright Named CEO of Mechanized AI, a Leading ai Platform']\n",
            "\"AI Ethics and Regulation: Perspectives from Pope Francis and the Black Church\"\n",
            "70\n",
            "['Does God Place Limits on ai ?', 'Pope Francis calls for binding global treaty to regulate AI', '\"For Pope Francis, ai is a social issue\"', 'Pope Francis calls for wisdom in the face of ai', 'Technology trends and ai in the Black Church, Caleb’s Kids | American Black Journal', 'Opinion | Female popes? Google’s amusing AI bias underscores a serious problem.', 'Ministry Panel #2 \" ai , Personhood, and Theosis\" at 2024 Clergy-Laity Congress', 'AI and the Black church: Local ministers discuss the benefits, challenges of ai', 'How Pope Francis became the AI ethicist for world leaders and tech titans', 'When the Church falls victim to ai', 'ai in the pulpit: a church service written entirely by AI', 'Pope Francis becomes first pontiff to address a G7 summit, raising alarm about AI. The G7 responds', 'Pope Francis to G7 Leaders: Humans Must Not Lose Control of ai', 'AI and the Black church: Local ministers discuss the benefits, challenges of ai | One Detroit', 'AI companies are trying to build god. Shouldn’t they get our permission first?', 'Pope Francis calls for global treaty to regulate use of ai', \"'I Have Avoided AI In Every Way': Pastor Issues Big Warning Against ai\", 'Why G7 leaders are turning to a special guest — Pope Francis — for advice on AI', 'Microsoft president to unveil ‘AI-enhanced experience’ of St. Peter’s Basilica', 'Pope Francis calls for international treaty on ai']\n",
            "\"Exploring the Impact of AI on Writing: Opportunities, Challenges, and Ethical Considerations\"\n",
            "73\n",
            "['WRITING TODAY: Eleven Thoughts about ai & Writing', 'The promise and perils of using AI for research and writing', 'Should researchers use AI to write papers? Group aims for community-driven standards', 'Margaret Atwood, unworried by AI, continues prolific writing career', '(PDF) A Systematic Review on The Use of ai in Writing', 'How ai Helped Me Learn to Write Again', 'Turnitin adding AI writing detection, but instructors should use it with caution', 'ai Powered Platform Wscripted+ Launched To Review Submissions As Founder Claims: “This Is Ethical AI & Will Boost Female & Underrepresented Writers”', 'AI Writing Isn’t Ready Yet. Here’s How You Can Improve It.', 'Should You Use AI to Write a Novel? National Novel Writing Month Faces Backlash', 'Explore the benefits of using professional essay experts, rather than AI, for authentic writing help', 'Systematic analysis of 32,111 AI model cards characterizes documentation practice in AI', 'Why is AI so bad at spelling? Because image generators aren’t actually reading text', 'Writing is a technology that restructures thought — and in an AI age, universities need to teach it more', 'AI will never understand what makes writing great', 'The Top 8 AI Text Generator Tools To Improve Writing', 'The winner of a prestigious Japanese literary award has confirmed AI helped write her book', 'Wix’s AI will now write whole blog posts for you', \"AI won't replace writing instruction (opinion)\", '(PDF) Using ai for Essay Writing']\n",
            "\"Advancements in AI and Machine Learning for Scientific Research\"\n",
            "77\n",
            "['Projects use ai and machine learning to propel science', 'An ‘AI Scientist’ Is Inventing and Running Its Own Experiments', 'Argonne and RIKEN sign a memorandum of understanding in support of AI for science', 'Tokyo lab generates ‘AI Scientist’ as world’s 1st ai researcher', 'Are we rushing ahead with AI in the lab?', 'A space for researchers to meet, and AI and natural intelligence to do the same', 'AI in Our Practice: Are We Already Part of the Experiment?', 'Oxford launches Human-Centered AI Lab', 'Putting ai to Work in the Lab', 'Here’s how Mohegan Sun will experiment with ai', 'Making the most of AI’s potential: cross-disciplinary perspectives on the role of AI in science and society', 'Unlocking the potential of AI and machine learning for the life sciences', 'RIKEN and Argonne National Laboratory sign MOU on AI for Science', 'Northwestern Computer Science Launches AI Minor and Major Concentrations', 'Montreal: Where life sciences meet ai', 'AI might help science break out of narrow funding focus', 'AI Chiefs Need to Experiment to Implement AI Successfully', 'ai -Based Lab Partner Designs, Runs Experiments in the Lab', 'Why AI can’t replace science', 'Northeastern is a ‘living laboratory’ for rapid and reliable advances in ai']\n",
            "\"Elon Musk and the Future of AI: Innovations, Controversies, and Societal Impact\"\n",
            "82\n",
            "['Mark Cuban on AI, Elon Musk, and Big Tech’s influence on society and elections', 'Tesla Dojo: Elon Musk’s big plan to build an AI supercomputer, explained', 'Elon Musk predicts superhuman AI will be smarter than people next year', 'What does “Grok” mean? Elon Musk and the uncanny future of ai', 'Who is Shivon Zilis? Meet the Neuralink exec and AI expert who reportedly had a third child with Elon Musk', '‘Godfather of AI’ explains why today’s ai ‘sucks’ – and why Elon Musk is wrong', \"Exclusive: Musk pushes plan for China data to power Tesla's AI ambitions\", 'Meet ‘Groq,’ the AI Chip That Leaves Elon Musk’s Grok in the Dust', 'Elon Musk’s X under pressure from regulators over data harvesting for Grok AI', 'Elon Musk reportedly diverted thousands of AI chips from Tesla to X', 'Elon Musk reveals AI-powered cyber-cab', 'Elon Musk’s own AI assistant Grok roasts him', 'Musk wants 25% voting control at Tesla before fulfilling AI goal', 'Elon Musk and Jamie Dimon’s AI Predictions and What They Mean for the Future of Humanity', 'From A.I. to Musk’s Brain Chips, the F.D.A.’s Device Unit Faces Rapid Change', 'ai , Elon Musk and the biggest tech stories of 2023', 'Elon Musk says there’s a 10% to 20% chance that AI ‘goes bad,’ even while he raises billions for his own startup xAI', 'This Book Author Says ai Could Save Elon Musk’s X From Destruction', \"Elon Musk Less Influential To ai Than Scarlett Johansson, Time Magazine Says: Billionaire Brushes Off Exclusion – 'Magazines Do Not Establish Relevance, History Does'\", 'Inside Elon Musk’s AI party at OpenAI’s old headquarters']\n",
            "\"Quantum Computing and AI: Innovations, Challenges, and Global Competition\"\n",
            "85\n",
            "['Harnessing Quantum Computing for Breakthroughs in ai', 'Fellowship Expands Quantum, AI Training to Fill Industry Demand', 'Quantum-Powered AI Knocking on the Enterprise Business Door', 'How Will Quantum Computing Affect ai Applications?', 'Quantum AI in Practice: Real-world Applications and Use Cases', 'Why China, the U.S., and Big Tech Are Racing to Harness Quantum Computing and AI', 'Adopting quantum computing and ai (AI) into Nigeria’s technology ecosystem', 'WVU researcher trains next-gen AI for chemicals industry to take a quantum leap forward', 'Quantum Leap: How Quantum AI is Reshaping Machine Learning', \"Meta's AI chief doesn't think AI super intelligence is coming anytime soon, and is skeptical on quantum computing\", 'The City Quantum & AI Summit Experts See Potential of Quantum and AI, Recognize Hurdles And Drawbacks', \"After AI, quantum computing eyes its 'Sputnik' moment\", 'Where AI and quantum computing meet', 'Quantum Computing and AI: A Perfect Match?', 'AI tackles one of the most difficult challenges in quantum chemistry', 'Quantum Machine Learning: When Quantum Meets AI', 'Is Quantum Computing An Unlikely Answer To AI’s Looming Energy Crisis?', 'ai could help make quantum computers a reality', 'AI & Quantum Tech: Accelerating Progress on the UN SDGs', 'China to step up quantum computing, AI in tech self-sufficiency drive']\n",
            "\"Gender Equality and Women's Rights in the Age of AI\"\n",
            "86\n",
            "['The AI Assault on Women: What Iran’s Tech Enabled Morality Laws Indicate for Women’s Rights Movements', 'ai and Development in MENA: Inclusion or Inequality?', 'ai and gender equality', 'New UNESCO report warns that Generative AI threatens Holocaust memory', 'Gender stereotypes in ai within the accounting profession using large language models', 'Women encouraged to pursue careers in AI test and evaluation during Virginia Tech National Security Institute workshop', 'Our Voices 634: The realities of women in ai', 'AI excellence: Monash researchers honoured at Women in AI APAC Awards', 'Women in AI: Arati Prabhakar thinks it’s crucial to get AI ‘right’', 'The potential for AI and new tech to be a democratising tool for women', 'Discovering value: women’s participation in university and commercial AI invention', '‘Code Dependent’ shows how AI harms women and marginalized people worldwide', '7 Indian Women In AI Innovation You Must Know About', '6 Principles for Gender Equitable ai Solutions', 'Why AI is the key to unlocking leadership opportunities for women', \"Women's jobs will be more affected by ai than men's\", 'Patriarchal AI: How ChatGPT can harm a woman’s career', 'UNESCO finds ‘pervasive’ gender bias in generative AI tools', 'Women4Ethical AI Conference: Advancing Gender Equality in ai', 'International Women’s Day: ‘Gen AI will become critical for job success for many women’']\n"
          ]
        }
      ],
      "source": [
        "# r = d[d['label']==\"\"]\n",
        "# for i in range(r.shape[0]):\n",
        "#   print(r.iloc[i][['openAI']].iloc[0])\n",
        "#   print(r.iloc[i]['Topic'])\n",
        "#   print(repdocs[str(r.iloc[i]['Topic'])])"
      ]
    },
    {
      "cell_type": "code",
      "execution_count": null,
      "metadata": {
        "colab": {
          "base_uri": "https://localhost:8080/"
        },
        "id": "PH8uYfz_QQ2Z",
        "outputId": "5f336186-87ee-4ef7-f4dc-d5cadf0256f3"
      },
      "outputs": [
        {
          "data": {
            "text/plain": [
              "[2, 7, 14, 20, 24, 31, 39, 40, 41, 52, 55, 63, 64, 68, 70, 73, 77, 82, 85, 86]"
            ]
          },
          "execution_count": 292,
          "metadata": {},
          "output_type": "execute_result"
        }
      ],
      "source": [
        "# r['Topic'].to_list()"
      ]
    },
    {
      "cell_type": "code",
      "execution_count": null,
      "metadata": {
        "colab": {
          "base_uri": "https://localhost:8080/",
          "height": 393
        },
        "id": "vLHED0dNvaLC",
        "outputId": "f496bc03-b6a1-4462-b059-a06567697c94"
      },
      "outputs": [
        {
          "data": {
            "text/html": [
              "<div>\n",
              "<style scoped>\n",
              "    .dataframe tbody tr th:only-of-type {\n",
              "        vertical-align: middle;\n",
              "    }\n",
              "\n",
              "    .dataframe tbody tr th {\n",
              "        vertical-align: top;\n",
              "    }\n",
              "\n",
              "    .dataframe thead th {\n",
              "        text-align: right;\n",
              "    }\n",
              "</style>\n",
              "<table border=\"1\" class=\"dataframe\">\n",
              "  <thead>\n",
              "    <tr style=\"text-align: right;\">\n",
              "      <th></th>\n",
              "      <th>count</th>\n",
              "    </tr>\n",
              "    <tr>\n",
              "      <th>label</th>\n",
              "      <th></th>\n",
              "    </tr>\n",
              "  </thead>\n",
              "  <tbody>\n",
              "    <tr>\n",
              "      <th>{AI in various Industries}</th>\n",
              "      <td>22</td>\n",
              "    </tr>\n",
              "    <tr>\n",
              "      <th></th>\n",
              "      <td>20</td>\n",
              "    </tr>\n",
              "    <tr>\n",
              "      <th>{AI Governance &amp; Geopolitics}</th>\n",
              "      <td>16</td>\n",
              "    </tr>\n",
              "    <tr>\n",
              "      <th>{AI in companies &amp; Enterprises}</th>\n",
              "      <td>10</td>\n",
              "    </tr>\n",
              "    <tr>\n",
              "      <th>{AI Investments &amp; Market Trends}</th>\n",
              "      <td>6</td>\n",
              "    </tr>\n",
              "    <tr>\n",
              "      <th>{Other}</th>\n",
              "      <td>5</td>\n",
              "    </tr>\n",
              "    <tr>\n",
              "      <th>{AI Ethics, Law &amp; Policy}</th>\n",
              "      <td>4</td>\n",
              "    </tr>\n",
              "    <tr>\n",
              "      <th>{Careers &amp; Workforce}</th>\n",
              "      <td>3</td>\n",
              "    </tr>\n",
              "    <tr>\n",
              "      <th>{Education}</th>\n",
              "      <td>2</td>\n",
              "    </tr>\n",
              "  </tbody>\n",
              "</table>\n",
              "</div><br><label><b>dtype:</b> int64</label>"
            ],
            "text/plain": [
              "label\n",
              "{AI in various Industries}          22\n",
              "                                    20\n",
              "{AI Governance & Geopolitics}       16\n",
              "{AI in companies & Enterprises}     10\n",
              "{AI Investments & Market Trends}     6\n",
              "{Other}                              5\n",
              "{AI Ethics, Law & Policy}            4\n",
              "{Careers & Workforce}                3\n",
              "{Education}                          2\n",
              "Name: count, dtype: int64"
            ]
          },
          "execution_count": 294,
          "metadata": {},
          "output_type": "execute_result"
        }
      ],
      "source": [
        "d['label'].value_counts()"
      ]
    },
    {
      "cell_type": "code",
      "execution_count": null,
      "metadata": {
        "id": "d4cZ-NJVX5lx"
      },
      "outputs": [],
      "source": [
        "d.to_csv('datasets/topic-info2-labels-filtered.csv')"
      ]
    },
    {
      "cell_type": "code",
      "execution_count": null,
      "metadata": {
        "colab": {
          "base_uri": "https://localhost:8080/"
        },
        "id": "hblZ9UQTADIJ",
        "outputId": "206227e2-9553-45f0-c4e3-a9672f6742aa"
      },
      "outputs": [
        {
          "name": "stdout",
          "output_type": "stream",
          "text": [
            "{AI in various Industries} 442\n",
            "{Education} 21\n",
            "{Careers & Workforce} 20\n",
            "{AI Investments & Market Trends} 122\n",
            "{AI in companies & Enterprises} 200\n",
            "{AI Ethics, Law & Policy} 80\n",
            "{AI Governance & Geopolitics} 320\n",
            "{Other} 100\n",
            " 462\n"
          ]
        }
      ],
      "source": [
        "for label in labels+['']:\n",
        "  topic = list(d[d['label']==label]['Topic'])\n",
        "  total = 0\n",
        "  for i in topic:\n",
        "    #print(d[d['Topic']==i].iloc[0]['openAI'])\n",
        "    #print(repdocs[str(i)])\n",
        "    total = total + len(repdocs[str(i)])\n",
        "  print(label,total)"
      ]
    },
    {
      "cell_type": "markdown",
      "metadata": {
        "id": "MpEkPZQFu6fc"
      },
      "source": [
        "from above we can see that by just using top 20 docs per topic we cannot obtain training samples of size 150 for each category. So in the following code we extract necessary no.of representative texts from each category according to the requirement to get overall 150 training samples per category"
      ]
    },
    {
      "cell_type": "markdown",
      "metadata": {
        "id": "ts_qKk1aTO8D"
      },
      "source": [
        "## Preparing training data with represenative headlines"
      ]
    },
    {
      "cell_type": "markdown",
      "metadata": {
        "id": "YH6gJn7DSLgG"
      },
      "source": [
        "lets try to get balanced training data consisting of 150 entries from each category. for that we need more repdocs from education, careers & workforce, AI Investements, AI ethics, AI overview"
      ]
    },
    {
      "cell_type": "code",
      "execution_count": null,
      "metadata": {
        "id": "rlQd5W-EAVUU"
      },
      "outputs": [],
      "source": [
        "df = pd.read_csv('datasets/Dataset_10k_topics.csv')"
      ]
    },
    {
      "cell_type": "code",
      "execution_count": null,
      "metadata": {
        "id": "_UjmZxWRAySh"
      },
      "outputs": [],
      "source": [
        "import nltk\n",
        "import re\n",
        "\n",
        "def preprocess(text):\n",
        "    # Convert text to lowercase\n",
        "    text = text.lower()\n",
        "\n",
        "    # Replace variations of \"Artificial Intelligence\" with \"ai\"\n",
        "    text = re.sub(r'(?i)\\s*artificial\\s+intelligence\\s*', ' ai ', text)\n",
        "    text = re.sub(r'(?i)a\\.i\\.*', ' ai ', text)\n",
        "\n",
        "    # Remove consecutive occurrences of \"ai\"\n",
        "    text = re.sub(r'(ai\\s+)+', 'ai ', text).strip()\n",
        "\n",
        "    # Tokenize text\n",
        "    tokens = nltk.word_tokenize(text)\n",
        "\n",
        "    # Remove non-alphabetic characters from tokens\n",
        "    tokens = [re.sub(r'[^a-z]', ' ', token) for token in tokens]\n",
        "\n",
        "    # Remove empty tokens and join back into a string\n",
        "    tokens = [token for token in tokens if token]\n",
        "    text = ' '.join(tokens)\n",
        "\n",
        "    return text\n"
      ]
    },
    {
      "cell_type": "code",
      "execution_count": null,
      "metadata": {
        "id": "sZKxecxlBTCb"
      },
      "outputs": [],
      "source": [
        "df['title1'] = df['title'].apply(preprocess)"
      ]
    },
    {
      "cell_type": "code",
      "execution_count": null,
      "metadata": {
        "id": "1_OKqmKRA7YN"
      },
      "outputs": [],
      "source": [
        "texts = list(df['title1'])"
      ]
    },
    {
      "cell_type": "code",
      "execution_count": null,
      "metadata": {
        "id": "PgrhFI1wnksG"
      },
      "outputs": [],
      "source": [
        "d = pd.read_csv('datasets/topic-info2-labels-filtered-2.csv')"
      ]
    },
    {
      "cell_type": "code",
      "execution_count": null,
      "metadata": {
        "colab": {
          "base_uri": "https://localhost:8080/"
        },
        "id": "XBsND9WOoiGn",
        "outputId": "f01f8d14-1688-46a6-cdba-8147cc026b62"
      },
      "outputs": [
        {
          "name": "stdout",
          "output_type": "stream",
          "text": [
            "Collecting bertopic\n",
            "  Downloading bertopic-0.16.4-py3-none-any.whl.metadata (23 kB)\n",
            "Requirement already satisfied: hdbscan>=0.8.29 in /usr/local/lib/python3.11/dist-packages (from bertopic) (0.8.40)\n",
            "Requirement already satisfied: numpy>=1.20.0 in /usr/local/lib/python3.11/dist-packages (from bertopic) (1.26.4)\n",
            "Requirement already satisfied: pandas>=1.1.5 in /usr/local/lib/python3.11/dist-packages (from bertopic) (2.2.2)\n",
            "Requirement already satisfied: plotly>=4.7.0 in /usr/local/lib/python3.11/dist-packages (from bertopic) (5.24.1)\n",
            "Requirement already satisfied: scikit-learn>=0.22.2.post1 in /usr/local/lib/python3.11/dist-packages (from bertopic) (1.6.1)\n",
            "Requirement already satisfied: sentence-transformers>=0.4.1 in /usr/local/lib/python3.11/dist-packages (from bertopic) (3.4.1)\n",
            "Requirement already satisfied: tqdm>=4.41.1 in /usr/local/lib/python3.11/dist-packages (from bertopic) (4.67.1)\n",
            "Requirement already satisfied: umap-learn>=0.5.0 in /usr/local/lib/python3.11/dist-packages (from bertopic) (0.5.7)\n",
            "Requirement already satisfied: scipy>=1.0 in /usr/local/lib/python3.11/dist-packages (from hdbscan>=0.8.29->bertopic) (1.14.1)\n",
            "Requirement already satisfied: joblib>=1.0 in /usr/local/lib/python3.11/dist-packages (from hdbscan>=0.8.29->bertopic) (1.4.2)\n",
            "Requirement already satisfied: python-dateutil>=2.8.2 in /usr/local/lib/python3.11/dist-packages (from pandas>=1.1.5->bertopic) (2.8.2)\n",
            "Requirement already satisfied: pytz>=2020.1 in /usr/local/lib/python3.11/dist-packages (from pandas>=1.1.5->bertopic) (2025.1)\n",
            "Requirement already satisfied: tzdata>=2022.7 in /usr/local/lib/python3.11/dist-packages (from pandas>=1.1.5->bertopic) (2025.1)\n",
            "Requirement already satisfied: tenacity>=6.2.0 in /usr/local/lib/python3.11/dist-packages (from plotly>=4.7.0->bertopic) (9.0.0)\n",
            "Requirement already satisfied: packaging in /usr/local/lib/python3.11/dist-packages (from plotly>=4.7.0->bertopic) (24.2)\n",
            "Requirement already satisfied: threadpoolctl>=3.1.0 in /usr/local/lib/python3.11/dist-packages (from scikit-learn>=0.22.2.post1->bertopic) (3.5.0)\n",
            "Requirement already satisfied: transformers<5.0.0,>=4.41.0 in /usr/local/lib/python3.11/dist-packages (from sentence-transformers>=0.4.1->bertopic) (4.48.3)\n",
            "Requirement already satisfied: torch>=1.11.0 in /usr/local/lib/python3.11/dist-packages (from sentence-transformers>=0.4.1->bertopic) (2.6.0+cu124)\n",
            "Requirement already satisfied: huggingface-hub>=0.20.0 in /usr/local/lib/python3.11/dist-packages (from sentence-transformers>=0.4.1->bertopic) (0.28.1)\n",
            "Requirement already satisfied: Pillow in /usr/local/lib/python3.11/dist-packages (from sentence-transformers>=0.4.1->bertopic) (11.1.0)\n",
            "Requirement already satisfied: numba>=0.51.2 in /usr/local/lib/python3.11/dist-packages (from umap-learn>=0.5.0->bertopic) (0.60.0)\n",
            "Requirement already satisfied: pynndescent>=0.5 in /usr/local/lib/python3.11/dist-packages (from umap-learn>=0.5.0->bertopic) (0.5.13)\n",
            "Requirement already satisfied: filelock in /usr/local/lib/python3.11/dist-packages (from huggingface-hub>=0.20.0->sentence-transformers>=0.4.1->bertopic) (3.17.0)\n",
            "Requirement already satisfied: fsspec>=2023.5.0 in /usr/local/lib/python3.11/dist-packages (from huggingface-hub>=0.20.0->sentence-transformers>=0.4.1->bertopic) (2024.10.0)\n",
            "Requirement already satisfied: pyyaml>=5.1 in /usr/local/lib/python3.11/dist-packages (from huggingface-hub>=0.20.0->sentence-transformers>=0.4.1->bertopic) (6.0.2)\n",
            "Requirement already satisfied: requests in /usr/local/lib/python3.11/dist-packages (from huggingface-hub>=0.20.0->sentence-transformers>=0.4.1->bertopic) (2.32.3)\n",
            "Requirement already satisfied: typing-extensions>=3.7.4.3 in /usr/local/lib/python3.11/dist-packages (from huggingface-hub>=0.20.0->sentence-transformers>=0.4.1->bertopic) (4.12.2)\n",
            "Requirement already satisfied: llvmlite<0.44,>=0.43.0dev0 in /usr/local/lib/python3.11/dist-packages (from numba>=0.51.2->umap-learn>=0.5.0->bertopic) (0.43.0)\n",
            "Requirement already satisfied: six>=1.5 in /usr/local/lib/python3.11/dist-packages (from python-dateutil>=2.8.2->pandas>=1.1.5->bertopic) (1.17.0)\n",
            "Requirement already satisfied: networkx in /usr/local/lib/python3.11/dist-packages (from torch>=1.11.0->sentence-transformers>=0.4.1->bertopic) (3.4.2)\n",
            "Requirement already satisfied: jinja2 in /usr/local/lib/python3.11/dist-packages (from torch>=1.11.0->sentence-transformers>=0.4.1->bertopic) (3.1.6)\n",
            "Collecting nvidia-cuda-nvrtc-cu12==12.4.127 (from torch>=1.11.0->sentence-transformers>=0.4.1->bertopic)\n",
            "  Downloading nvidia_cuda_nvrtc_cu12-12.4.127-py3-none-manylinux2014_x86_64.whl.metadata (1.5 kB)\n",
            "Collecting nvidia-cuda-runtime-cu12==12.4.127 (from torch>=1.11.0->sentence-transformers>=0.4.1->bertopic)\n",
            "  Downloading nvidia_cuda_runtime_cu12-12.4.127-py3-none-manylinux2014_x86_64.whl.metadata (1.5 kB)\n",
            "Collecting nvidia-cuda-cupti-cu12==12.4.127 (from torch>=1.11.0->sentence-transformers>=0.4.1->bertopic)\n",
            "  Downloading nvidia_cuda_cupti_cu12-12.4.127-py3-none-manylinux2014_x86_64.whl.metadata (1.6 kB)\n",
            "Collecting nvidia-cudnn-cu12==9.1.0.70 (from torch>=1.11.0->sentence-transformers>=0.4.1->bertopic)\n",
            "  Downloading nvidia_cudnn_cu12-9.1.0.70-py3-none-manylinux2014_x86_64.whl.metadata (1.6 kB)\n",
            "Collecting nvidia-cublas-cu12==12.4.5.8 (from torch>=1.11.0->sentence-transformers>=0.4.1->bertopic)\n",
            "  Downloading nvidia_cublas_cu12-12.4.5.8-py3-none-manylinux2014_x86_64.whl.metadata (1.5 kB)\n",
            "Collecting nvidia-cufft-cu12==11.2.1.3 (from torch>=1.11.0->sentence-transformers>=0.4.1->bertopic)\n",
            "  Downloading nvidia_cufft_cu12-11.2.1.3-py3-none-manylinux2014_x86_64.whl.metadata (1.5 kB)\n",
            "Collecting nvidia-curand-cu12==10.3.5.147 (from torch>=1.11.0->sentence-transformers>=0.4.1->bertopic)\n",
            "  Downloading nvidia_curand_cu12-10.3.5.147-py3-none-manylinux2014_x86_64.whl.metadata (1.5 kB)\n",
            "Collecting nvidia-cusolver-cu12==11.6.1.9 (from torch>=1.11.0->sentence-transformers>=0.4.1->bertopic)\n",
            "  Downloading nvidia_cusolver_cu12-11.6.1.9-py3-none-manylinux2014_x86_64.whl.metadata (1.6 kB)\n",
            "Collecting nvidia-cusparse-cu12==12.3.1.170 (from torch>=1.11.0->sentence-transformers>=0.4.1->bertopic)\n",
            "  Downloading nvidia_cusparse_cu12-12.3.1.170-py3-none-manylinux2014_x86_64.whl.metadata (1.6 kB)\n",
            "Requirement already satisfied: nvidia-cusparselt-cu12==0.6.2 in /usr/local/lib/python3.11/dist-packages (from torch>=1.11.0->sentence-transformers>=0.4.1->bertopic) (0.6.2)\n",
            "Requirement already satisfied: nvidia-nccl-cu12==2.21.5 in /usr/local/lib/python3.11/dist-packages (from torch>=1.11.0->sentence-transformers>=0.4.1->bertopic) (2.21.5)\n",
            "Requirement already satisfied: nvidia-nvtx-cu12==12.4.127 in /usr/local/lib/python3.11/dist-packages (from torch>=1.11.0->sentence-transformers>=0.4.1->bertopic) (12.4.127)\n",
            "Collecting nvidia-nvjitlink-cu12==12.4.127 (from torch>=1.11.0->sentence-transformers>=0.4.1->bertopic)\n",
            "  Downloading nvidia_nvjitlink_cu12-12.4.127-py3-none-manylinux2014_x86_64.whl.metadata (1.5 kB)\n",
            "Requirement already satisfied: triton==3.2.0 in /usr/local/lib/python3.11/dist-packages (from torch>=1.11.0->sentence-transformers>=0.4.1->bertopic) (3.2.0)\n",
            "Requirement already satisfied: sympy==1.13.1 in /usr/local/lib/python3.11/dist-packages (from torch>=1.11.0->sentence-transformers>=0.4.1->bertopic) (1.13.1)\n",
            "Requirement already satisfied: mpmath<1.4,>=1.1.0 in /usr/local/lib/python3.11/dist-packages (from sympy==1.13.1->torch>=1.11.0->sentence-transformers>=0.4.1->bertopic) (1.3.0)\n",
            "Requirement already satisfied: regex!=2019.12.17 in /usr/local/lib/python3.11/dist-packages (from transformers<5.0.0,>=4.41.0->sentence-transformers>=0.4.1->bertopic) (2024.11.6)\n",
            "Requirement already satisfied: tokenizers<0.22,>=0.21 in /usr/local/lib/python3.11/dist-packages (from transformers<5.0.0,>=4.41.0->sentence-transformers>=0.4.1->bertopic) (0.21.0)\n",
            "Requirement already satisfied: safetensors>=0.4.1 in /usr/local/lib/python3.11/dist-packages (from transformers<5.0.0,>=4.41.0->sentence-transformers>=0.4.1->bertopic) (0.5.3)\n",
            "Requirement already satisfied: MarkupSafe>=2.0 in /usr/local/lib/python3.11/dist-packages (from jinja2->torch>=1.11.0->sentence-transformers>=0.4.1->bertopic) (3.0.2)\n",
            "Requirement already satisfied: charset-normalizer<4,>=2 in /usr/local/lib/python3.11/dist-packages (from requests->huggingface-hub>=0.20.0->sentence-transformers>=0.4.1->bertopic) (3.4.1)\n",
            "Requirement already satisfied: idna<4,>=2.5 in /usr/local/lib/python3.11/dist-packages (from requests->huggingface-hub>=0.20.0->sentence-transformers>=0.4.1->bertopic) (3.10)\n",
            "Requirement already satisfied: urllib3<3,>=1.21.1 in /usr/local/lib/python3.11/dist-packages (from requests->huggingface-hub>=0.20.0->sentence-transformers>=0.4.1->bertopic) (2.3.0)\n",
            "Requirement already satisfied: certifi>=2017.4.17 in /usr/local/lib/python3.11/dist-packages (from requests->huggingface-hub>=0.20.0->sentence-transformers>=0.4.1->bertopic) (2025.1.31)\n",
            "Downloading bertopic-0.16.4-py3-none-any.whl (143 kB)\n",
            "\u001b[2K   \u001b[90m━━━━━━━━━━━━━━━━━━━━━━━━━━━━━━━━━━━━━━━━\u001b[0m \u001b[32m143.7/143.7 kB\u001b[0m \u001b[31m5.5 MB/s\u001b[0m eta \u001b[36m0:00:00\u001b[0m\n",
            "\u001b[?25hDownloading nvidia_cublas_cu12-12.4.5.8-py3-none-manylinux2014_x86_64.whl (363.4 MB)\n",
            "\u001b[2K   \u001b[90m━━━━━━━━━━━━━━━━━━━━━━━━━━━━━━━━━━━━━━━━\u001b[0m \u001b[32m363.4/363.4 MB\u001b[0m \u001b[31m2.9 MB/s\u001b[0m eta \u001b[36m0:00:00\u001b[0m\n",
            "\u001b[?25hDownloading nvidia_cuda_cupti_cu12-12.4.127-py3-none-manylinux2014_x86_64.whl (13.8 MB)\n",
            "\u001b[2K   \u001b[90m━━━━━━━━━━━━━━━━━━━━━━━━━━━━━━━━━━━━━━━━\u001b[0m \u001b[32m13.8/13.8 MB\u001b[0m \u001b[31m98.5 MB/s\u001b[0m eta \u001b[36m0:00:00\u001b[0m\n",
            "\u001b[?25hDownloading nvidia_cuda_nvrtc_cu12-12.4.127-py3-none-manylinux2014_x86_64.whl (24.6 MB)\n",
            "\u001b[2K   \u001b[90m━━━━━━━━━━━━━━━━━━━━━━━━━━━━━━━━━━━━━━━━\u001b[0m \u001b[32m24.6/24.6 MB\u001b[0m \u001b[31m83.7 MB/s\u001b[0m eta \u001b[36m0:00:00\u001b[0m\n",
            "\u001b[?25hDownloading nvidia_cuda_runtime_cu12-12.4.127-py3-none-manylinux2014_x86_64.whl (883 kB)\n",
            "\u001b[2K   \u001b[90m━━━━━━━━━━━━━━━━━━━━━━━━━━━━━━━━━━━━━━━━\u001b[0m \u001b[32m883.7/883.7 kB\u001b[0m \u001b[31m55.9 MB/s\u001b[0m eta \u001b[36m0:00:00\u001b[0m\n",
            "\u001b[?25hDownloading nvidia_cudnn_cu12-9.1.0.70-py3-none-manylinux2014_x86_64.whl (664.8 MB)\n",
            "\u001b[2K   \u001b[90m━━━━━━━━━━━━━━━━━━━━━━━━━━━━━━━━━━━━━━━━\u001b[0m \u001b[32m664.8/664.8 MB\u001b[0m \u001b[31m1.6 MB/s\u001b[0m eta \u001b[36m0:00:00\u001b[0m\n",
            "\u001b[?25hDownloading nvidia_cufft_cu12-11.2.1.3-py3-none-manylinux2014_x86_64.whl (211.5 MB)\n",
            "\u001b[2K   \u001b[90m━━━━━━━━━━━━━━━━━━━━━━━━━━━━━━━━━━━━━━━━\u001b[0m \u001b[32m211.5/211.5 MB\u001b[0m \u001b[31m10.7 MB/s\u001b[0m eta \u001b[36m0:00:00\u001b[0m\n",
            "\u001b[?25hDownloading nvidia_curand_cu12-10.3.5.147-py3-none-manylinux2014_x86_64.whl (56.3 MB)\n",
            "\u001b[2K   \u001b[90m━━━━━━━━━━━━━━━━━━━━━━━━━━━━━━━━━━━━━━━━\u001b[0m \u001b[32m56.3/56.3 MB\u001b[0m \u001b[31m38.6 MB/s\u001b[0m eta \u001b[36m0:00:00\u001b[0m\n",
            "\u001b[?25hDownloading nvidia_cusolver_cu12-11.6.1.9-py3-none-manylinux2014_x86_64.whl (127.9 MB)\n",
            "\u001b[2K   \u001b[90m━━━━━━━━━━━━━━━━━━━━━━━━━━━━━━━━━━━━━━━━\u001b[0m \u001b[32m127.9/127.9 MB\u001b[0m \u001b[31m17.6 MB/s\u001b[0m eta \u001b[36m0:00:00\u001b[0m\n",
            "\u001b[?25hDownloading nvidia_cusparse_cu12-12.3.1.170-py3-none-manylinux2014_x86_64.whl (207.5 MB)\n",
            "\u001b[2K   \u001b[90m━━━━━━━━━━━━━━━━━━━━━━━━━━━━━━━━━━━━━━━━\u001b[0m \u001b[32m207.5/207.5 MB\u001b[0m \u001b[31m5.4 MB/s\u001b[0m eta \u001b[36m0:00:00\u001b[0m\n",
            "\u001b[?25hDownloading nvidia_nvjitlink_cu12-12.4.127-py3-none-manylinux2014_x86_64.whl (21.1 MB)\n",
            "\u001b[2K   \u001b[90m━━━━━━━━━━━━━━━━━━━━━━━━━━━━━━━━━━━━━━━━\u001b[0m \u001b[32m21.1/21.1 MB\u001b[0m \u001b[31m86.3 MB/s\u001b[0m eta \u001b[36m0:00:00\u001b[0m\n",
            "\u001b[?25hInstalling collected packages: nvidia-nvjitlink-cu12, nvidia-curand-cu12, nvidia-cufft-cu12, nvidia-cuda-runtime-cu12, nvidia-cuda-nvrtc-cu12, nvidia-cuda-cupti-cu12, nvidia-cublas-cu12, nvidia-cusparse-cu12, nvidia-cudnn-cu12, nvidia-cusolver-cu12, bertopic\n",
            "  Attempting uninstall: nvidia-nvjitlink-cu12\n",
            "    Found existing installation: nvidia-nvjitlink-cu12 12.5.82\n",
            "    Uninstalling nvidia-nvjitlink-cu12-12.5.82:\n",
            "      Successfully uninstalled nvidia-nvjitlink-cu12-12.5.82\n",
            "  Attempting uninstall: nvidia-curand-cu12\n",
            "    Found existing installation: nvidia-curand-cu12 10.3.6.82\n",
            "    Uninstalling nvidia-curand-cu12-10.3.6.82:\n",
            "      Successfully uninstalled nvidia-curand-cu12-10.3.6.82\n",
            "  Attempting uninstall: nvidia-cufft-cu12\n",
            "    Found existing installation: nvidia-cufft-cu12 11.2.3.61\n",
            "    Uninstalling nvidia-cufft-cu12-11.2.3.61:\n",
            "      Successfully uninstalled nvidia-cufft-cu12-11.2.3.61\n",
            "  Attempting uninstall: nvidia-cuda-runtime-cu12\n",
            "    Found existing installation: nvidia-cuda-runtime-cu12 12.5.82\n",
            "    Uninstalling nvidia-cuda-runtime-cu12-12.5.82:\n",
            "      Successfully uninstalled nvidia-cuda-runtime-cu12-12.5.82\n",
            "  Attempting uninstall: nvidia-cuda-nvrtc-cu12\n",
            "    Found existing installation: nvidia-cuda-nvrtc-cu12 12.5.82\n",
            "    Uninstalling nvidia-cuda-nvrtc-cu12-12.5.82:\n",
            "      Successfully uninstalled nvidia-cuda-nvrtc-cu12-12.5.82\n",
            "  Attempting uninstall: nvidia-cuda-cupti-cu12\n",
            "    Found existing installation: nvidia-cuda-cupti-cu12 12.5.82\n",
            "    Uninstalling nvidia-cuda-cupti-cu12-12.5.82:\n",
            "      Successfully uninstalled nvidia-cuda-cupti-cu12-12.5.82\n",
            "  Attempting uninstall: nvidia-cublas-cu12\n",
            "    Found existing installation: nvidia-cublas-cu12 12.5.3.2\n",
            "    Uninstalling nvidia-cublas-cu12-12.5.3.2:\n",
            "      Successfully uninstalled nvidia-cublas-cu12-12.5.3.2\n",
            "  Attempting uninstall: nvidia-cusparse-cu12\n",
            "    Found existing installation: nvidia-cusparse-cu12 12.5.1.3\n",
            "    Uninstalling nvidia-cusparse-cu12-12.5.1.3:\n",
            "      Successfully uninstalled nvidia-cusparse-cu12-12.5.1.3\n",
            "  Attempting uninstall: nvidia-cudnn-cu12\n",
            "    Found existing installation: nvidia-cudnn-cu12 9.3.0.75\n",
            "    Uninstalling nvidia-cudnn-cu12-9.3.0.75:\n",
            "      Successfully uninstalled nvidia-cudnn-cu12-9.3.0.75\n",
            "  Attempting uninstall: nvidia-cusolver-cu12\n",
            "    Found existing installation: nvidia-cusolver-cu12 11.6.3.83\n",
            "    Uninstalling nvidia-cusolver-cu12-11.6.3.83:\n",
            "      Successfully uninstalled nvidia-cusolver-cu12-11.6.3.83\n",
            "Successfully installed bertopic-0.16.4 nvidia-cublas-cu12-12.4.5.8 nvidia-cuda-cupti-cu12-12.4.127 nvidia-cuda-nvrtc-cu12-12.4.127 nvidia-cuda-runtime-cu12-12.4.127 nvidia-cudnn-cu12-9.1.0.70 nvidia-cufft-cu12-11.2.1.3 nvidia-curand-cu12-10.3.5.147 nvidia-cusolver-cu12-11.6.1.9 nvidia-cusparse-cu12-12.3.1.170 nvidia-nvjitlink-cu12-12.4.127\n"
          ]
        }
      ],
      "source": [
        "pip install bertopic"
      ]
    },
    {
      "cell_type": "code",
      "execution_count": null,
      "metadata": {
        "id": "uR2xdu2ToTH9"
      },
      "outputs": [],
      "source": [
        "from bertopic import BERTopic"
      ]
    },
    {
      "cell_type": "code",
      "execution_count": null,
      "metadata": {
        "id": "ZrmhaFf3oQbU"
      },
      "outputs": [],
      "source": [
        "topic_model = BERTopic.load(\"tmod2\")"
      ]
    },
    {
      "cell_type": "code",
      "execution_count": null,
      "metadata": {
        "colab": {
          "base_uri": "https://localhost:8080/",
          "height": 202
        },
        "id": "sYNB5nKI93eT",
        "outputId": "7ae300b4-4f4c-4951-bf73-774b020799b3"
      },
      "outputs": [
        {
          "data": {
            "application/vnd.google.colaboratory.intrinsic+json": {
              "repr_error": "0",
              "type": "dataframe"
            },
            "text/html": [
              "\n",
              "  <div id=\"df-07723358-54af-44ef-993c-8079c696e550\" class=\"colab-df-container\">\n",
              "    <div>\n",
              "<style scoped>\n",
              "    .dataframe tbody tr th:only-of-type {\n",
              "        vertical-align: middle;\n",
              "    }\n",
              "\n",
              "    .dataframe tbody tr th {\n",
              "        vertical-align: top;\n",
              "    }\n",
              "\n",
              "    .dataframe thead th {\n",
              "        text-align: right;\n",
              "    }\n",
              "</style>\n",
              "<table border=\"1\" class=\"dataframe\">\n",
              "  <thead>\n",
              "    <tr style=\"text-align: right;\">\n",
              "      <th></th>\n",
              "      <th>Unnamed: 0.4</th>\n",
              "      <th>Unnamed: 0.3</th>\n",
              "      <th>Unnamed: 0.2</th>\n",
              "      <th>Unnamed: 0.1</th>\n",
              "      <th>Unnamed: 0</th>\n",
              "      <th>Topic</th>\n",
              "      <th>Count</th>\n",
              "      <th>Name</th>\n",
              "      <th>Representation</th>\n",
              "      <th>KeyBERT</th>\n",
              "      <th>MMR</th>\n",
              "      <th>POS</th>\n",
              "      <th>Representative_Docs</th>\n",
              "      <th>keywords</th>\n",
              "      <th>openAI</th>\n",
              "      <th>label</th>\n",
              "    </tr>\n",
              "  </thead>\n",
              "  <tbody>\n",
              "    <tr>\n",
              "      <th>25</th>\n",
              "      <td>25</td>\n",
              "      <td>25</td>\n",
              "      <td>25</td>\n",
              "      <td>25</td>\n",
              "      <td>25</td>\n",
              "      <td>24</td>\n",
              "      <td>78</td>\n",
              "      <td>24_nuclear_data centres_data centers_island</td>\n",
              "      <td>['nuclear', 'data centres', 'data centers', 'i...</td>\n",
              "      <td>['ai datacenters', 'ai nuclear', 'data centers...</td>\n",
              "      <td>['nuclear', 'data centres', 'bees', 'power ai'...</td>\n",
              "      <td>['nuclear', 'island', 'centers', 'centres', 'b...</td>\n",
              "      <td>[\"AI data centres, Alberta's accelerating ener...</td>\n",
              "      <td>{'powered ai', 'ai ambitions', 'ai nuclear', '...</td>\n",
              "      <td>\"AI's Energy Revolution: The Role of Nuclear P...</td>\n",
              "      <td>NaN</td>\n",
              "    </tr>\n",
              "  </tbody>\n",
              "</table>\n",
              "</div>\n",
              "    <div class=\"colab-df-buttons\">\n",
              "\n",
              "  <div class=\"colab-df-container\">\n",
              "    <button class=\"colab-df-convert\" onclick=\"convertToInteractive('df-07723358-54af-44ef-993c-8079c696e550')\"\n",
              "            title=\"Convert this dataframe to an interactive table.\"\n",
              "            style=\"display:none;\">\n",
              "\n",
              "  <svg xmlns=\"http://www.w3.org/2000/svg\" height=\"24px\" viewBox=\"0 -960 960 960\">\n",
              "    <path d=\"M120-120v-720h720v720H120Zm60-500h600v-160H180v160Zm220 220h160v-160H400v160Zm0 220h160v-160H400v160ZM180-400h160v-160H180v160Zm440 0h160v-160H620v160ZM180-180h160v-160H180v160Zm440 0h160v-160H620v160Z\"/>\n",
              "  </svg>\n",
              "    </button>\n",
              "\n",
              "  <style>\n",
              "    .colab-df-container {\n",
              "      display:flex;\n",
              "      gap: 12px;\n",
              "    }\n",
              "\n",
              "    .colab-df-convert {\n",
              "      background-color: #E8F0FE;\n",
              "      border: none;\n",
              "      border-radius: 50%;\n",
              "      cursor: pointer;\n",
              "      display: none;\n",
              "      fill: #1967D2;\n",
              "      height: 32px;\n",
              "      padding: 0 0 0 0;\n",
              "      width: 32px;\n",
              "    }\n",
              "\n",
              "    .colab-df-convert:hover {\n",
              "      background-color: #E2EBFA;\n",
              "      box-shadow: 0px 1px 2px rgba(60, 64, 67, 0.3), 0px 1px 3px 1px rgba(60, 64, 67, 0.15);\n",
              "      fill: #174EA6;\n",
              "    }\n",
              "\n",
              "    .colab-df-buttons div {\n",
              "      margin-bottom: 4px;\n",
              "    }\n",
              "\n",
              "    [theme=dark] .colab-df-convert {\n",
              "      background-color: #3B4455;\n",
              "      fill: #D2E3FC;\n",
              "    }\n",
              "\n",
              "    [theme=dark] .colab-df-convert:hover {\n",
              "      background-color: #434B5C;\n",
              "      box-shadow: 0px 1px 3px 1px rgba(0, 0, 0, 0.15);\n",
              "      filter: drop-shadow(0px 1px 2px rgba(0, 0, 0, 0.3));\n",
              "      fill: #FFFFFF;\n",
              "    }\n",
              "  </style>\n",
              "\n",
              "    <script>\n",
              "      const buttonEl =\n",
              "        document.querySelector('#df-07723358-54af-44ef-993c-8079c696e550 button.colab-df-convert');\n",
              "      buttonEl.style.display =\n",
              "        google.colab.kernel.accessAllowed ? 'block' : 'none';\n",
              "\n",
              "      async function convertToInteractive(key) {\n",
              "        const element = document.querySelector('#df-07723358-54af-44ef-993c-8079c696e550');\n",
              "        const dataTable =\n",
              "          await google.colab.kernel.invokeFunction('convertToInteractive',\n",
              "                                                    [key], {});\n",
              "        if (!dataTable) return;\n",
              "\n",
              "        const docLinkHtml = 'Like what you see? Visit the ' +\n",
              "          '<a target=\"_blank\" href=https://colab.research.google.com/notebooks/data_table.ipynb>data table notebook</a>'\n",
              "          + ' to learn more about interactive tables.';\n",
              "        element.innerHTML = '';\n",
              "        dataTable['output_type'] = 'display_data';\n",
              "        await google.colab.output.renderOutput(dataTable, element);\n",
              "        const docLink = document.createElement('div');\n",
              "        docLink.innerHTML = docLinkHtml;\n",
              "        element.appendChild(docLink);\n",
              "      }\n",
              "    </script>\n",
              "  </div>\n",
              "\n",
              "\n",
              "    </div>\n",
              "  </div>\n"
            ],
            "text/plain": [
              "    Unnamed: 0.4  Unnamed: 0.3  Unnamed: 0.2  Unnamed: 0.1  Unnamed: 0  Topic  \\\n",
              "25            25            25            25            25          25     24   \n",
              "\n",
              "    Count                                         Name  \\\n",
              "25     78  24_nuclear_data centres_data centers_island   \n",
              "\n",
              "                                       Representation  \\\n",
              "25  ['nuclear', 'data centres', 'data centers', 'i...   \n",
              "\n",
              "                                              KeyBERT  \\\n",
              "25  ['ai datacenters', 'ai nuclear', 'data centers...   \n",
              "\n",
              "                                                  MMR  \\\n",
              "25  ['nuclear', 'data centres', 'bees', 'power ai'...   \n",
              "\n",
              "                                                  POS  \\\n",
              "25  ['nuclear', 'island', 'centers', 'centres', 'b...   \n",
              "\n",
              "                                  Representative_Docs  \\\n",
              "25  [\"AI data centres, Alberta's accelerating ener...   \n",
              "\n",
              "                                             keywords  \\\n",
              "25  {'powered ai', 'ai ambitions', 'ai nuclear', '...   \n",
              "\n",
              "                                               openAI label  \n",
              "25  \"AI's Energy Revolution: The Role of Nuclear P...   NaN  "
            ]
          },
          "execution_count": 9,
          "metadata": {},
          "output_type": "execute_result"
        }
      ],
      "source": [
        "d[d['Topic']==24]"
      ]
    },
    {
      "cell_type": "code",
      "execution_count": null,
      "metadata": {
        "colab": {
          "base_uri": "https://localhost:8080/"
        },
        "id": "WmfsSgyZwKOc",
        "outputId": "40edbecd-3460-4545-eaa3-7ce56fa82294"
      },
      "outputs": [
        {
          "data": {
            "text/plain": [
              "array([nan, '{AI in various Industries}', '{Education}',\n",
              "       '{Careers & Workforce}', '{AI Investments & Market Trends}',\n",
              "       '{AI in companies & Enterprises}', '{AI Ethics, Law & Policy}',\n",
              "       '{AI Governance & Geopolitics}', '{AI overview, risks & impact}',\n",
              "       '{Other}'], dtype=object)"
            ]
          },
          "execution_count": 23,
          "metadata": {},
          "output_type": "execute_result"
        }
      ],
      "source": [
        "d['label'].unique()"
      ]
    },
    {
      "cell_type": "code",
      "execution_count": null,
      "metadata": {
        "id": "t_66TgXvTSN4"
      },
      "outputs": [],
      "source": [
        "train_docs = {}\n",
        "labels = ['{AI in various Industries}', '{Education}',\n",
        "       '{Careers & Workforce}', '{AI Investments & Market Trends}',\n",
        "       '{AI in companies & Enterprises}', '{AI Ethics, Law & Policy}',\n",
        "       '{AI Governance & Geopolitics}', '{AI overview, risks & impact}',\n",
        "       '{Other}']"
      ]
    },
    {
      "cell_type": "code",
      "execution_count": null,
      "metadata": {
        "id": "AbJIEnCTTl0t"
      },
      "outputs": [],
      "source": [
        "from collections import defaultdict\n",
        "\n",
        "# Convert the list of texts into a DataFrame\n",
        "documents_df = pd.DataFrame(texts, columns=[\"Document\"])\n",
        "documents_df['Topic']=topic_model.topics_\n",
        "topics_dict = defaultdict(list)\n",
        "ddf = documents_df.sort_values(by='Topic')\n",
        "for idx, topic in enumerate(ddf['Topic']):\n",
        "    topics_dict[topic].append(idx)"
      ]
    },
    {
      "cell_type": "code",
      "execution_count": null,
      "metadata": {
        "colab": {
          "base_uri": "https://localhost:8080/",
          "height": 204
        },
        "id": "_t_5QC9QBuna",
        "outputId": "84d0be46-359f-4d8a-ac6d-3bb7cb0eae0a"
      },
      "outputs": [
        {
          "data": {
            "application/vnd.google.colaboratory.intrinsic+json": {
              "summary": "{\n  \"name\": \"documents_df\",\n  \"rows\": 10000,\n  \"fields\": [\n    {\n      \"column\": \"Document\",\n      \"properties\": {\n        \"dtype\": \"string\",\n        \"num_unique_values\": 9869,\n        \"samples\": [\n          \"we   re still waiting for the next big leap in ai\",\n          \"how implementation unlocks the true potential of ai in pharma\",\n          \"california governor gavin newsom vetoes landmark ai safety bill\"\n        ],\n        \"semantic_type\": \"\",\n        \"description\": \"\"\n      }\n    },\n    {\n      \"column\": \"Topic\",\n      \"properties\": {\n        \"dtype\": \"number\",\n        \"std\": 22,\n        \"min\": -1,\n        \"max\": 87,\n        \"num_unique_values\": 89,\n        \"samples\": [\n          23,\n          52,\n          39\n        ],\n        \"semantic_type\": \"\",\n        \"description\": \"\"\n      }\n    }\n  ]\n}",
              "type": "dataframe",
              "variable_name": "documents_df"
            },
            "text/html": [
              "\n",
              "  <div id=\"df-a5d6f6b3-753c-4202-9e1c-c069e5c706cf\" class=\"colab-df-container\">\n",
              "    <div>\n",
              "<style scoped>\n",
              "    .dataframe tbody tr th:only-of-type {\n",
              "        vertical-align: middle;\n",
              "    }\n",
              "\n",
              "    .dataframe tbody tr th {\n",
              "        vertical-align: top;\n",
              "    }\n",
              "\n",
              "    .dataframe thead th {\n",
              "        text-align: right;\n",
              "    }\n",
              "</style>\n",
              "<table border=\"1\" class=\"dataframe\">\n",
              "  <thead>\n",
              "    <tr style=\"text-align: right;\">\n",
              "      <th></th>\n",
              "      <th>Document</th>\n",
              "      <th>Topic</th>\n",
              "    </tr>\n",
              "  </thead>\n",
              "  <tbody>\n",
              "    <tr>\n",
              "      <th>0</th>\n",
              "      <td>will i am and fyilicia on the ai revolution   ...</td>\n",
              "      <td>72</td>\n",
              "    </tr>\n",
              "    <tr>\n",
              "      <th>1</th>\n",
              "      <td>intel launches world   s first systems foundry...</td>\n",
              "      <td>-1</td>\n",
              "    </tr>\n",
              "    <tr>\n",
              "      <th>2</th>\n",
              "      <td>the unique challenges of selling enterprise ai</td>\n",
              "      <td>11</td>\n",
              "    </tr>\n",
              "    <tr>\n",
              "      <th>3</th>\n",
              "      <td>contentious california ai bill passes legislat...</td>\n",
              "      <td>27</td>\n",
              "    </tr>\n",
              "    <tr>\n",
              "      <th>4</th>\n",
              "      <td>exploring genius   creation   and humanity in ...</td>\n",
              "      <td>-1</td>\n",
              "    </tr>\n",
              "  </tbody>\n",
              "</table>\n",
              "</div>\n",
              "    <div class=\"colab-df-buttons\">\n",
              "\n",
              "  <div class=\"colab-df-container\">\n",
              "    <button class=\"colab-df-convert\" onclick=\"convertToInteractive('df-a5d6f6b3-753c-4202-9e1c-c069e5c706cf')\"\n",
              "            title=\"Convert this dataframe to an interactive table.\"\n",
              "            style=\"display:none;\">\n",
              "\n",
              "  <svg xmlns=\"http://www.w3.org/2000/svg\" height=\"24px\" viewBox=\"0 -960 960 960\">\n",
              "    <path d=\"M120-120v-720h720v720H120Zm60-500h600v-160H180v160Zm220 220h160v-160H400v160Zm0 220h160v-160H400v160ZM180-400h160v-160H180v160Zm440 0h160v-160H620v160ZM180-180h160v-160H180v160Zm440 0h160v-160H620v160Z\"/>\n",
              "  </svg>\n",
              "    </button>\n",
              "\n",
              "  <style>\n",
              "    .colab-df-container {\n",
              "      display:flex;\n",
              "      gap: 12px;\n",
              "    }\n",
              "\n",
              "    .colab-df-convert {\n",
              "      background-color: #E8F0FE;\n",
              "      border: none;\n",
              "      border-radius: 50%;\n",
              "      cursor: pointer;\n",
              "      display: none;\n",
              "      fill: #1967D2;\n",
              "      height: 32px;\n",
              "      padding: 0 0 0 0;\n",
              "      width: 32px;\n",
              "    }\n",
              "\n",
              "    .colab-df-convert:hover {\n",
              "      background-color: #E2EBFA;\n",
              "      box-shadow: 0px 1px 2px rgba(60, 64, 67, 0.3), 0px 1px 3px 1px rgba(60, 64, 67, 0.15);\n",
              "      fill: #174EA6;\n",
              "    }\n",
              "\n",
              "    .colab-df-buttons div {\n",
              "      margin-bottom: 4px;\n",
              "    }\n",
              "\n",
              "    [theme=dark] .colab-df-convert {\n",
              "      background-color: #3B4455;\n",
              "      fill: #D2E3FC;\n",
              "    }\n",
              "\n",
              "    [theme=dark] .colab-df-convert:hover {\n",
              "      background-color: #434B5C;\n",
              "      box-shadow: 0px 1px 3px 1px rgba(0, 0, 0, 0.15);\n",
              "      filter: drop-shadow(0px 1px 2px rgba(0, 0, 0, 0.3));\n",
              "      fill: #FFFFFF;\n",
              "    }\n",
              "  </style>\n",
              "\n",
              "    <script>\n",
              "      const buttonEl =\n",
              "        document.querySelector('#df-a5d6f6b3-753c-4202-9e1c-c069e5c706cf button.colab-df-convert');\n",
              "      buttonEl.style.display =\n",
              "        google.colab.kernel.accessAllowed ? 'block' : 'none';\n",
              "\n",
              "      async function convertToInteractive(key) {\n",
              "        const element = document.querySelector('#df-a5d6f6b3-753c-4202-9e1c-c069e5c706cf');\n",
              "        const dataTable =\n",
              "          await google.colab.kernel.invokeFunction('convertToInteractive',\n",
              "                                                    [key], {});\n",
              "        if (!dataTable) return;\n",
              "\n",
              "        const docLinkHtml = 'Like what you see? Visit the ' +\n",
              "          '<a target=\"_blank\" href=https://colab.research.google.com/notebooks/data_table.ipynb>data table notebook</a>'\n",
              "          + ' to learn more about interactive tables.';\n",
              "        element.innerHTML = '';\n",
              "        dataTable['output_type'] = 'display_data';\n",
              "        await google.colab.output.renderOutput(dataTable, element);\n",
              "        const docLink = document.createElement('div');\n",
              "        docLink.innerHTML = docLinkHtml;\n",
              "        element.appendChild(docLink);\n",
              "      }\n",
              "    </script>\n",
              "  </div>\n",
              "\n",
              "\n",
              "<div id=\"df-85bff473-06a6-4572-abf6-d87061c7cbee\">\n",
              "  <button class=\"colab-df-quickchart\" onclick=\"quickchart('df-85bff473-06a6-4572-abf6-d87061c7cbee')\"\n",
              "            title=\"Suggest charts\"\n",
              "            style=\"display:none;\">\n",
              "\n",
              "<svg xmlns=\"http://www.w3.org/2000/svg\" height=\"24px\"viewBox=\"0 0 24 24\"\n",
              "     width=\"24px\">\n",
              "    <g>\n",
              "        <path d=\"M19 3H5c-1.1 0-2 .9-2 2v14c0 1.1.9 2 2 2h14c1.1 0 2-.9 2-2V5c0-1.1-.9-2-2-2zM9 17H7v-7h2v7zm4 0h-2V7h2v10zm4 0h-2v-4h2v4z\"/>\n",
              "    </g>\n",
              "</svg>\n",
              "  </button>\n",
              "\n",
              "<style>\n",
              "  .colab-df-quickchart {\n",
              "      --bg-color: #E8F0FE;\n",
              "      --fill-color: #1967D2;\n",
              "      --hover-bg-color: #E2EBFA;\n",
              "      --hover-fill-color: #174EA6;\n",
              "      --disabled-fill-color: #AAA;\n",
              "      --disabled-bg-color: #DDD;\n",
              "  }\n",
              "\n",
              "  [theme=dark] .colab-df-quickchart {\n",
              "      --bg-color: #3B4455;\n",
              "      --fill-color: #D2E3FC;\n",
              "      --hover-bg-color: #434B5C;\n",
              "      --hover-fill-color: #FFFFFF;\n",
              "      --disabled-bg-color: #3B4455;\n",
              "      --disabled-fill-color: #666;\n",
              "  }\n",
              "\n",
              "  .colab-df-quickchart {\n",
              "    background-color: var(--bg-color);\n",
              "    border: none;\n",
              "    border-radius: 50%;\n",
              "    cursor: pointer;\n",
              "    display: none;\n",
              "    fill: var(--fill-color);\n",
              "    height: 32px;\n",
              "    padding: 0;\n",
              "    width: 32px;\n",
              "  }\n",
              "\n",
              "  .colab-df-quickchart:hover {\n",
              "    background-color: var(--hover-bg-color);\n",
              "    box-shadow: 0 1px 2px rgba(60, 64, 67, 0.3), 0 1px 3px 1px rgba(60, 64, 67, 0.15);\n",
              "    fill: var(--button-hover-fill-color);\n",
              "  }\n",
              "\n",
              "  .colab-df-quickchart-complete:disabled,\n",
              "  .colab-df-quickchart-complete:disabled:hover {\n",
              "    background-color: var(--disabled-bg-color);\n",
              "    fill: var(--disabled-fill-color);\n",
              "    box-shadow: none;\n",
              "  }\n",
              "\n",
              "  .colab-df-spinner {\n",
              "    border: 2px solid var(--fill-color);\n",
              "    border-color: transparent;\n",
              "    border-bottom-color: var(--fill-color);\n",
              "    animation:\n",
              "      spin 1s steps(1) infinite;\n",
              "  }\n",
              "\n",
              "  @keyframes spin {\n",
              "    0% {\n",
              "      border-color: transparent;\n",
              "      border-bottom-color: var(--fill-color);\n",
              "      border-left-color: var(--fill-color);\n",
              "    }\n",
              "    20% {\n",
              "      border-color: transparent;\n",
              "      border-left-color: var(--fill-color);\n",
              "      border-top-color: var(--fill-color);\n",
              "    }\n",
              "    30% {\n",
              "      border-color: transparent;\n",
              "      border-left-color: var(--fill-color);\n",
              "      border-top-color: var(--fill-color);\n",
              "      border-right-color: var(--fill-color);\n",
              "    }\n",
              "    40% {\n",
              "      border-color: transparent;\n",
              "      border-right-color: var(--fill-color);\n",
              "      border-top-color: var(--fill-color);\n",
              "    }\n",
              "    60% {\n",
              "      border-color: transparent;\n",
              "      border-right-color: var(--fill-color);\n",
              "    }\n",
              "    80% {\n",
              "      border-color: transparent;\n",
              "      border-right-color: var(--fill-color);\n",
              "      border-bottom-color: var(--fill-color);\n",
              "    }\n",
              "    90% {\n",
              "      border-color: transparent;\n",
              "      border-bottom-color: var(--fill-color);\n",
              "    }\n",
              "  }\n",
              "</style>\n",
              "\n",
              "  <script>\n",
              "    async function quickchart(key) {\n",
              "      const quickchartButtonEl =\n",
              "        document.querySelector('#' + key + ' button');\n",
              "      quickchartButtonEl.disabled = true;  // To prevent multiple clicks.\n",
              "      quickchartButtonEl.classList.add('colab-df-spinner');\n",
              "      try {\n",
              "        const charts = await google.colab.kernel.invokeFunction(\n",
              "            'suggestCharts', [key], {});\n",
              "      } catch (error) {\n",
              "        console.error('Error during call to suggestCharts:', error);\n",
              "      }\n",
              "      quickchartButtonEl.classList.remove('colab-df-spinner');\n",
              "      quickchartButtonEl.classList.add('colab-df-quickchart-complete');\n",
              "    }\n",
              "    (() => {\n",
              "      let quickchartButtonEl =\n",
              "        document.querySelector('#df-85bff473-06a6-4572-abf6-d87061c7cbee button');\n",
              "      quickchartButtonEl.style.display =\n",
              "        google.colab.kernel.accessAllowed ? 'block' : 'none';\n",
              "    })();\n",
              "  </script>\n",
              "</div>\n",
              "\n",
              "    </div>\n",
              "  </div>\n"
            ],
            "text/plain": [
              "                                            Document  Topic\n",
              "0  will i am and fyilicia on the ai revolution   ...     72\n",
              "1  intel launches world   s first systems foundry...     -1\n",
              "2     the unique challenges of selling enterprise ai     11\n",
              "3  contentious california ai bill passes legislat...     27\n",
              "4  exploring genius   creation   and humanity in ...     -1"
            ]
          },
          "execution_count": 25,
          "metadata": {},
          "output_type": "execute_result"
        }
      ],
      "source": [
        "documents_df.head()"
      ]
    },
    {
      "cell_type": "code",
      "execution_count": null,
      "metadata": {
        "colab": {
          "base_uri": "https://localhost:8080/",
          "height": 204
        },
        "id": "EQIfDR7NBm4x",
        "outputId": "a2f9ab60-11ba-43e6-a560-64409530ba13"
      },
      "outputs": [
        {
          "data": {
            "application/vnd.google.colaboratory.intrinsic+json": {
              "summary": "{\n  \"name\": \"df[['title1','Topic']]\",\n  \"rows\": 5,\n  \"fields\": [\n    {\n      \"column\": \"title1\",\n      \"properties\": {\n        \"dtype\": \"string\",\n        \"num_unique_values\": 5,\n        \"samples\": [\n          \"intel launches world   s first systems foundry designed for the ai era\",\n          \"exploring genius   creation   and humanity in the age of ai\",\n          \"the unique challenges of selling enterprise ai\"\n        ],\n        \"semantic_type\": \"\",\n        \"description\": \"\"\n      }\n    },\n    {\n      \"column\": \"Topic\",\n      \"properties\": {\n        \"dtype\": \"number\",\n        \"std\": 30,\n        \"min\": -1,\n        \"max\": 72,\n        \"num_unique_values\": 4,\n        \"samples\": [\n          -1,\n          27,\n          72\n        ],\n        \"semantic_type\": \"\",\n        \"description\": \"\"\n      }\n    }\n  ]\n}",
              "type": "dataframe"
            },
            "text/html": [
              "\n",
              "  <div id=\"df-4cf8d1bc-3ba4-4448-b234-03613d55cbe1\" class=\"colab-df-container\">\n",
              "    <div>\n",
              "<style scoped>\n",
              "    .dataframe tbody tr th:only-of-type {\n",
              "        vertical-align: middle;\n",
              "    }\n",
              "\n",
              "    .dataframe tbody tr th {\n",
              "        vertical-align: top;\n",
              "    }\n",
              "\n",
              "    .dataframe thead th {\n",
              "        text-align: right;\n",
              "    }\n",
              "</style>\n",
              "<table border=\"1\" class=\"dataframe\">\n",
              "  <thead>\n",
              "    <tr style=\"text-align: right;\">\n",
              "      <th></th>\n",
              "      <th>title1</th>\n",
              "      <th>Topic</th>\n",
              "    </tr>\n",
              "  </thead>\n",
              "  <tbody>\n",
              "    <tr>\n",
              "      <th>0</th>\n",
              "      <td>will i am and fyilicia on the ai revolution   ...</td>\n",
              "      <td>72</td>\n",
              "    </tr>\n",
              "    <tr>\n",
              "      <th>1</th>\n",
              "      <td>intel launches world   s first systems foundry...</td>\n",
              "      <td>-1</td>\n",
              "    </tr>\n",
              "    <tr>\n",
              "      <th>2</th>\n",
              "      <td>the unique challenges of selling enterprise ai</td>\n",
              "      <td>11</td>\n",
              "    </tr>\n",
              "    <tr>\n",
              "      <th>3</th>\n",
              "      <td>contentious california ai bill passes legislat...</td>\n",
              "      <td>27</td>\n",
              "    </tr>\n",
              "    <tr>\n",
              "      <th>4</th>\n",
              "      <td>exploring genius   creation   and humanity in ...</td>\n",
              "      <td>-1</td>\n",
              "    </tr>\n",
              "  </tbody>\n",
              "</table>\n",
              "</div>\n",
              "    <div class=\"colab-df-buttons\">\n",
              "\n",
              "  <div class=\"colab-df-container\">\n",
              "    <button class=\"colab-df-convert\" onclick=\"convertToInteractive('df-4cf8d1bc-3ba4-4448-b234-03613d55cbe1')\"\n",
              "            title=\"Convert this dataframe to an interactive table.\"\n",
              "            style=\"display:none;\">\n",
              "\n",
              "  <svg xmlns=\"http://www.w3.org/2000/svg\" height=\"24px\" viewBox=\"0 -960 960 960\">\n",
              "    <path d=\"M120-120v-720h720v720H120Zm60-500h600v-160H180v160Zm220 220h160v-160H400v160Zm0 220h160v-160H400v160ZM180-400h160v-160H180v160Zm440 0h160v-160H620v160ZM180-180h160v-160H180v160Zm440 0h160v-160H620v160Z\"/>\n",
              "  </svg>\n",
              "    </button>\n",
              "\n",
              "  <style>\n",
              "    .colab-df-container {\n",
              "      display:flex;\n",
              "      gap: 12px;\n",
              "    }\n",
              "\n",
              "    .colab-df-convert {\n",
              "      background-color: #E8F0FE;\n",
              "      border: none;\n",
              "      border-radius: 50%;\n",
              "      cursor: pointer;\n",
              "      display: none;\n",
              "      fill: #1967D2;\n",
              "      height: 32px;\n",
              "      padding: 0 0 0 0;\n",
              "      width: 32px;\n",
              "    }\n",
              "\n",
              "    .colab-df-convert:hover {\n",
              "      background-color: #E2EBFA;\n",
              "      box-shadow: 0px 1px 2px rgba(60, 64, 67, 0.3), 0px 1px 3px 1px rgba(60, 64, 67, 0.15);\n",
              "      fill: #174EA6;\n",
              "    }\n",
              "\n",
              "    .colab-df-buttons div {\n",
              "      margin-bottom: 4px;\n",
              "    }\n",
              "\n",
              "    [theme=dark] .colab-df-convert {\n",
              "      background-color: #3B4455;\n",
              "      fill: #D2E3FC;\n",
              "    }\n",
              "\n",
              "    [theme=dark] .colab-df-convert:hover {\n",
              "      background-color: #434B5C;\n",
              "      box-shadow: 0px 1px 3px 1px rgba(0, 0, 0, 0.15);\n",
              "      filter: drop-shadow(0px 1px 2px rgba(0, 0, 0, 0.3));\n",
              "      fill: #FFFFFF;\n",
              "    }\n",
              "  </style>\n",
              "\n",
              "    <script>\n",
              "      const buttonEl =\n",
              "        document.querySelector('#df-4cf8d1bc-3ba4-4448-b234-03613d55cbe1 button.colab-df-convert');\n",
              "      buttonEl.style.display =\n",
              "        google.colab.kernel.accessAllowed ? 'block' : 'none';\n",
              "\n",
              "      async function convertToInteractive(key) {\n",
              "        const element = document.querySelector('#df-4cf8d1bc-3ba4-4448-b234-03613d55cbe1');\n",
              "        const dataTable =\n",
              "          await google.colab.kernel.invokeFunction('convertToInteractive',\n",
              "                                                    [key], {});\n",
              "        if (!dataTable) return;\n",
              "\n",
              "        const docLinkHtml = 'Like what you see? Visit the ' +\n",
              "          '<a target=\"_blank\" href=https://colab.research.google.com/notebooks/data_table.ipynb>data table notebook</a>'\n",
              "          + ' to learn more about interactive tables.';\n",
              "        element.innerHTML = '';\n",
              "        dataTable['output_type'] = 'display_data';\n",
              "        await google.colab.output.renderOutput(dataTable, element);\n",
              "        const docLink = document.createElement('div');\n",
              "        docLink.innerHTML = docLinkHtml;\n",
              "        element.appendChild(docLink);\n",
              "      }\n",
              "    </script>\n",
              "  </div>\n",
              "\n",
              "\n",
              "<div id=\"df-e49fd43c-46ac-480b-8e92-dec65aae3303\">\n",
              "  <button class=\"colab-df-quickchart\" onclick=\"quickchart('df-e49fd43c-46ac-480b-8e92-dec65aae3303')\"\n",
              "            title=\"Suggest charts\"\n",
              "            style=\"display:none;\">\n",
              "\n",
              "<svg xmlns=\"http://www.w3.org/2000/svg\" height=\"24px\"viewBox=\"0 0 24 24\"\n",
              "     width=\"24px\">\n",
              "    <g>\n",
              "        <path d=\"M19 3H5c-1.1 0-2 .9-2 2v14c0 1.1.9 2 2 2h14c1.1 0 2-.9 2-2V5c0-1.1-.9-2-2-2zM9 17H7v-7h2v7zm4 0h-2V7h2v10zm4 0h-2v-4h2v4z\"/>\n",
              "    </g>\n",
              "</svg>\n",
              "  </button>\n",
              "\n",
              "<style>\n",
              "  .colab-df-quickchart {\n",
              "      --bg-color: #E8F0FE;\n",
              "      --fill-color: #1967D2;\n",
              "      --hover-bg-color: #E2EBFA;\n",
              "      --hover-fill-color: #174EA6;\n",
              "      --disabled-fill-color: #AAA;\n",
              "      --disabled-bg-color: #DDD;\n",
              "  }\n",
              "\n",
              "  [theme=dark] .colab-df-quickchart {\n",
              "      --bg-color: #3B4455;\n",
              "      --fill-color: #D2E3FC;\n",
              "      --hover-bg-color: #434B5C;\n",
              "      --hover-fill-color: #FFFFFF;\n",
              "      --disabled-bg-color: #3B4455;\n",
              "      --disabled-fill-color: #666;\n",
              "  }\n",
              "\n",
              "  .colab-df-quickchart {\n",
              "    background-color: var(--bg-color);\n",
              "    border: none;\n",
              "    border-radius: 50%;\n",
              "    cursor: pointer;\n",
              "    display: none;\n",
              "    fill: var(--fill-color);\n",
              "    height: 32px;\n",
              "    padding: 0;\n",
              "    width: 32px;\n",
              "  }\n",
              "\n",
              "  .colab-df-quickchart:hover {\n",
              "    background-color: var(--hover-bg-color);\n",
              "    box-shadow: 0 1px 2px rgba(60, 64, 67, 0.3), 0 1px 3px 1px rgba(60, 64, 67, 0.15);\n",
              "    fill: var(--button-hover-fill-color);\n",
              "  }\n",
              "\n",
              "  .colab-df-quickchart-complete:disabled,\n",
              "  .colab-df-quickchart-complete:disabled:hover {\n",
              "    background-color: var(--disabled-bg-color);\n",
              "    fill: var(--disabled-fill-color);\n",
              "    box-shadow: none;\n",
              "  }\n",
              "\n",
              "  .colab-df-spinner {\n",
              "    border: 2px solid var(--fill-color);\n",
              "    border-color: transparent;\n",
              "    border-bottom-color: var(--fill-color);\n",
              "    animation:\n",
              "      spin 1s steps(1) infinite;\n",
              "  }\n",
              "\n",
              "  @keyframes spin {\n",
              "    0% {\n",
              "      border-color: transparent;\n",
              "      border-bottom-color: var(--fill-color);\n",
              "      border-left-color: var(--fill-color);\n",
              "    }\n",
              "    20% {\n",
              "      border-color: transparent;\n",
              "      border-left-color: var(--fill-color);\n",
              "      border-top-color: var(--fill-color);\n",
              "    }\n",
              "    30% {\n",
              "      border-color: transparent;\n",
              "      border-left-color: var(--fill-color);\n",
              "      border-top-color: var(--fill-color);\n",
              "      border-right-color: var(--fill-color);\n",
              "    }\n",
              "    40% {\n",
              "      border-color: transparent;\n",
              "      border-right-color: var(--fill-color);\n",
              "      border-top-color: var(--fill-color);\n",
              "    }\n",
              "    60% {\n",
              "      border-color: transparent;\n",
              "      border-right-color: var(--fill-color);\n",
              "    }\n",
              "    80% {\n",
              "      border-color: transparent;\n",
              "      border-right-color: var(--fill-color);\n",
              "      border-bottom-color: var(--fill-color);\n",
              "    }\n",
              "    90% {\n",
              "      border-color: transparent;\n",
              "      border-bottom-color: var(--fill-color);\n",
              "    }\n",
              "  }\n",
              "</style>\n",
              "\n",
              "  <script>\n",
              "    async function quickchart(key) {\n",
              "      const quickchartButtonEl =\n",
              "        document.querySelector('#' + key + ' button');\n",
              "      quickchartButtonEl.disabled = true;  // To prevent multiple clicks.\n",
              "      quickchartButtonEl.classList.add('colab-df-spinner');\n",
              "      try {\n",
              "        const charts = await google.colab.kernel.invokeFunction(\n",
              "            'suggestCharts', [key], {});\n",
              "      } catch (error) {\n",
              "        console.error('Error during call to suggestCharts:', error);\n",
              "      }\n",
              "      quickchartButtonEl.classList.remove('colab-df-spinner');\n",
              "      quickchartButtonEl.classList.add('colab-df-quickchart-complete');\n",
              "    }\n",
              "    (() => {\n",
              "      let quickchartButtonEl =\n",
              "        document.querySelector('#df-e49fd43c-46ac-480b-8e92-dec65aae3303 button');\n",
              "      quickchartButtonEl.style.display =\n",
              "        google.colab.kernel.accessAllowed ? 'block' : 'none';\n",
              "    })();\n",
              "  </script>\n",
              "</div>\n",
              "\n",
              "    </div>\n",
              "  </div>\n"
            ],
            "text/plain": [
              "                                              title1  Topic\n",
              "0  will i am and fyilicia on the ai revolution   ...     72\n",
              "1  intel launches world   s first systems foundry...     -1\n",
              "2     the unique challenges of selling enterprise ai     11\n",
              "3  contentious california ai bill passes legislat...     27\n",
              "4  exploring genius   creation   and humanity in ...     -1"
            ]
          },
          "execution_count": 31,
          "metadata": {},
          "output_type": "execute_result"
        }
      ],
      "source": [
        "df[['title1','Topic']].head()"
      ]
    },
    {
      "cell_type": "markdown",
      "metadata": {
        "id": "VG9wpGz6XEmI"
      },
      "source": [
        "### education"
      ]
    },
    {
      "cell_type": "code",
      "execution_count": null,
      "metadata": {
        "id": "nsuaHMvCR3OE"
      },
      "outputs": [],
      "source": [
        "# Subset using a list of keys\n",
        "edu_topics = list(d[d['label']=='{Education}']['Topic'])\n",
        "edu_topic_dict = {key: topics_dict[key] for key in edu_topics}"
      ]
    },
    {
      "cell_type": "code",
      "execution_count": null,
      "metadata": {
        "colab": {
          "base_uri": "https://localhost:8080/"
        },
        "id": "78Do6_ytpxDd",
        "outputId": "b5f1d1a5-2764-40f5-f657-2a94344b2216"
      },
      "outputs": [
        {
          "data": {
            "text/plain": [
              "412"
            ]
          },
          "execution_count": 27,
          "metadata": {},
          "output_type": "execute_result"
        }
      ],
      "source": [
        "len(edu_topic_dict[1])"
      ]
    },
    {
      "cell_type": "code",
      "execution_count": null,
      "metadata": {
        "id": "RopcJtY1WKlp"
      },
      "outputs": [],
      "source": [
        "edu_repdocs = {}\n",
        "\n",
        "# Subset using a list of keys\n",
        "#edu_topics = [1]\n",
        "#edu_topic_dict = {key: topics_dict[key] for key in edu_topics}\n",
        "\n",
        "\n",
        "for topic_id in edu_topics:  # topics_dict contains the topic assignments\n",
        "    # Extract documents for each specific topic\n",
        "    representative_docs = topic_model._extract_representative_docs(\n",
        "        c_tf_idf=topic_model.c_tf_idf_,\n",
        "        documents=ddf,\n",
        "        topics = edu_topic_dict,\n",
        "        nr_samples=500,  # Total number of samples to choose from\n",
        "        nr_repr_docs=500,  # Number of representative docs per topic\n",
        "    )\n",
        "    # Get the representative documents for this topic\n",
        "    edu_repdocs[topic_id] = representative_docs[0][topic_id]\n"
      ]
    },
    {
      "cell_type": "code",
      "execution_count": null,
      "metadata": {
        "colab": {
          "base_uri": "https://localhost:8080/"
        },
        "id": "Hm4T4mngWW7f",
        "outputId": "418ef33b-b5f5-4728-ded0-413e95ab9f70"
      },
      "outputs": [
        {
          "data": {
            "text/plain": [
              "283"
            ]
          },
          "execution_count": 76,
          "metadata": {},
          "output_type": "execute_result"
        }
      ],
      "source": [
        "len(edu_repdocs[1])"
      ]
    },
    {
      "cell_type": "code",
      "execution_count": null,
      "metadata": {
        "id": "G70lh64OW6bl"
      },
      "outputs": [],
      "source": [
        "train_docs = {}\n",
        "train_docs['{Education}']= edu_repdocs[1]"
      ]
    },
    {
      "cell_type": "markdown",
      "metadata": {
        "id": "3_-74nekXGzV"
      },
      "source": [
        "### career"
      ]
    },
    {
      "cell_type": "code",
      "execution_count": null,
      "metadata": {
        "colab": {
          "base_uri": "https://localhost:8080/"
        },
        "id": "EM7LO1dtXSxe",
        "outputId": "4952f21e-103f-4771-a2bd-b38ef2ecdc0f"
      },
      "outputs": [
        {
          "data": {
            "text/plain": [
              "['{AI in various Industries}',\n",
              " '{Education}',\n",
              " '{Careers & Workforce}',\n",
              " '{AI Investments & Market Trends}',\n",
              " '{AI in companies & Enterprises}',\n",
              " '{AI Ethics, Law & Policy}',\n",
              " '{AI Governance & Geopolitics}',\n",
              " '{AI overview, risks & impact}',\n",
              " '{Other}']"
            ]
          },
          "execution_count": 78,
          "metadata": {},
          "output_type": "execute_result"
        }
      ],
      "source": [
        "labels"
      ]
    },
    {
      "cell_type": "code",
      "execution_count": null,
      "metadata": {
        "id": "FLPwkl7BXISw"
      },
      "outputs": [],
      "source": [
        "# Subset using a list of keys\n",
        "crr_topics =  list(d[d['label']=='{Careers & Workforce}']['Topic'])\n",
        "crr_topic_dict = {key: topics_dict[key] for key in crr_topics}"
      ]
    },
    {
      "cell_type": "code",
      "execution_count": null,
      "metadata": {
        "colab": {
          "base_uri": "https://localhost:8080/"
        },
        "id": "PXrkWeDDXiz7",
        "outputId": "769739ea-c7aa-41bb-8202-7e75dac2fe12"
      },
      "outputs": [
        {
          "data": {
            "text/plain": [
              "([3], 260)"
            ]
          },
          "execution_count": 80,
          "metadata": {},
          "output_type": "execute_result"
        }
      ],
      "source": [
        "crr_topics,len(crr_topic_dict[3])"
      ]
    },
    {
      "cell_type": "code",
      "execution_count": null,
      "metadata": {
        "id": "DDxbTM0fwkrR"
      },
      "outputs": [],
      "source": [
        "crr_repdocs = {}\n",
        "\n",
        "\n",
        "for topic_id in crr_topics:  # topics_dict contains the topic assignments\n",
        "    # Extract documents for each specific topic\n",
        "    representative_docs = topic_model._extract_representative_docs(\n",
        "        c_tf_idf=topic_model.c_tf_idf_,\n",
        "        documents=ddf,\n",
        "        topics = crr_topic_dict,\n",
        "        nr_samples=500,  # Total number of samples to choose from\n",
        "        nr_repr_docs=300,  # Number of representative docs per topic\n",
        "    )\n",
        "    # Get the representative documents for this topic\n",
        "    crr_repdocs[topic_id] = representative_docs[0][topic_id]"
      ]
    },
    {
      "cell_type": "code",
      "execution_count": null,
      "metadata": {
        "colab": {
          "base_uri": "https://localhost:8080/"
        },
        "id": "0i9CCIhQX4jE",
        "outputId": "981628e3-a55b-4aed-ea2a-0a650c24a8ac"
      },
      "outputs": [
        {
          "data": {
            "text/plain": [
              "(1, 222)"
            ]
          },
          "execution_count": 84,
          "metadata": {},
          "output_type": "execute_result"
        }
      ],
      "source": [
        "len(crr_repdocs),len(crr_repdocs[3])"
      ]
    },
    {
      "cell_type": "code",
      "execution_count": null,
      "metadata": {
        "id": "AiYVcxOoYC99"
      },
      "outputs": [],
      "source": [
        "train_docs['{Careers & Workforce}']= crr_repdocs[3]"
      ]
    },
    {
      "cell_type": "markdown",
      "metadata": {
        "id": "8AsNBSV0YWln"
      },
      "source": [
        "### ai industries"
      ]
    },
    {
      "cell_type": "code",
      "execution_count": null,
      "metadata": {
        "id": "fTvjCuGvYWWU"
      },
      "outputs": [],
      "source": [
        "ind_topics = list(d[d['label']=='{AI in various Industries}']['Topic'])\n",
        "ind_topic_dict = {key: topics_dict[key] for key in ind_topics}"
      ]
    },
    {
      "cell_type": "code",
      "execution_count": null,
      "metadata": {
        "colab": {
          "base_uri": "https://localhost:8080/"
        },
        "id": "mURIVkqMYkhW",
        "outputId": "69d1e98c-ef6b-42fc-ddc6-e4063c5904c2"
      },
      "outputs": [
        {
          "data": {
            "text/plain": [
              "23"
            ]
          },
          "execution_count": 87,
          "metadata": {},
          "output_type": "execute_result"
        }
      ],
      "source": [
        "len(ind_topics)"
      ]
    },
    {
      "cell_type": "code",
      "execution_count": null,
      "metadata": {
        "colab": {
          "base_uri": "https://localhost:8080/"
        },
        "id": "pSBcF0RbDTkP",
        "outputId": "b8cfdccb-c926-4a35-9cdc-798d3adaa8be"
      },
      "outputs": [
        {
          "data": {
            "text/plain": [
              "1942"
            ]
          },
          "execution_count": 88,
          "metadata": {},
          "output_type": "execute_result"
        }
      ],
      "source": [
        "f = 0\n",
        "for i in ind_topic_dict.keys():\n",
        "  f = f + len(ind_topic_dict[i])\n",
        "f"
      ]
    },
    {
      "cell_type": "code",
      "execution_count": null,
      "metadata": {
        "colab": {
          "base_uri": "https://localhost:8080/"
        },
        "id": "__Y3COaDqC5O",
        "outputId": "b87d38d6-0693-43ba-c9e2-ce895eb423ec"
      },
      "outputs": [
        {
          "data": {
            "text/plain": [
              "6.521739130434782"
            ]
          },
          "execution_count": 62,
          "metadata": {},
          "output_type": "execute_result"
        }
      ],
      "source": [
        "150/23"
      ]
    },
    {
      "cell_type": "code",
      "execution_count": null,
      "metadata": {
        "id": "Dj5GOqiYRffM"
      },
      "outputs": [],
      "source": [
        "ind_repdocs = {}\n",
        "\n",
        "for topic_id in ind_topic_dict:  # topics_dict contains the topic assignments\n",
        "    # Extract documents for each specific topic\n",
        "    representative_docs = topic_model._extract_representative_docs(\n",
        "        c_tf_idf=topic_model.c_tf_idf_,\n",
        "        documents=ddf,\n",
        "        topics = ind_topic_dict,\n",
        "        nr_samples=500,  # Total number of samples to choose from\n",
        "        nr_repr_docs=600,  # Number of representative docs per topic\n",
        "    )\n",
        "    # Get the representative documents for this topic\n",
        "    ind_repdocs[topic_id] = representative_docs[0][topic_id]"
      ]
    },
    {
      "cell_type": "code",
      "execution_count": null,
      "metadata": {
        "colab": {
          "base_uri": "https://localhost:8080/"
        },
        "id": "Z3eFkFud_-h-",
        "outputId": "7342c1ab-3f32-4c6a-e095-2aee57618c48"
      },
      "outputs": [
        {
          "data": {
            "text/plain": [
              "23"
            ]
          },
          "execution_count": 96,
          "metadata": {},
          "output_type": "execute_result"
        }
      ],
      "source": [
        "len(ind_repdocs)"
      ]
    },
    {
      "cell_type": "code",
      "execution_count": null,
      "metadata": {
        "colab": {
          "base_uri": "https://localhost:8080/"
        },
        "id": "-6MfDIjDADVz",
        "outputId": "2660dfdc-1445-4001-8094-bfe2be82200a"
      },
      "outputs": [
        {
          "data": {
            "text/plain": [
              "1491"
            ]
          },
          "execution_count": 97,
          "metadata": {},
          "output_type": "execute_result"
        }
      ],
      "source": [
        "f = 0\n",
        "for i in ind_repdocs.keys():\n",
        "  f = f + len(ind_repdocs[i])\n",
        "f"
      ]
    },
    {
      "cell_type": "code",
      "execution_count": null,
      "metadata": {
        "colab": {
          "base_uri": "https://localhost:8080/"
        },
        "id": "p-25SR8OAciU",
        "outputId": "ec1f7e4d-2321-4dd5-ae92-fc92208ed76d"
      },
      "outputs": [
        {
          "data": {
            "text/plain": [
              "1491"
            ]
          },
          "execution_count": 98,
          "metadata": {},
          "output_type": "execute_result"
        }
      ],
      "source": [
        "docs = []\n",
        "for key in ind_repdocs.keys():\n",
        "  docs = docs + ind_repdocs[key]\n",
        "len(docs)"
      ]
    },
    {
      "cell_type": "code",
      "execution_count": null,
      "metadata": {
        "id": "DepwdVT2ZZT_"
      },
      "outputs": [],
      "source": [
        "train_docs['{AI in various Industries}']= docs"
      ]
    },
    {
      "cell_type": "markdown",
      "metadata": {
        "id": "vgdPNIr8ZitP"
      },
      "source": [
        "### ai in companies"
      ]
    },
    {
      "cell_type": "code",
      "execution_count": null,
      "metadata": {
        "id": "j_24ILaOZmwc"
      },
      "outputs": [],
      "source": [
        "com_topics = list(d[d['label']=='{AI in companies & Enterprises}']['Topic'])\n",
        "com_topic_dict = {key: topics_dict[key] for key in com_topics}"
      ]
    },
    {
      "cell_type": "code",
      "execution_count": null,
      "metadata": {
        "colab": {
          "base_uri": "https://localhost:8080/"
        },
        "id": "Hhr6gsNiZtGm",
        "outputId": "06439d2b-4889-4091-d592-c7bf8a9ec478"
      },
      "outputs": [
        {
          "data": {
            "text/plain": [
              "10"
            ]
          },
          "execution_count": 101,
          "metadata": {},
          "output_type": "execute_result"
        }
      ],
      "source": [
        "len(com_topics)"
      ]
    },
    {
      "cell_type": "code",
      "execution_count": null,
      "metadata": {
        "colab": {
          "base_uri": "https://localhost:8080/"
        },
        "id": "g_PxreBKDsrJ",
        "outputId": "aa56dcf7-dad3-4552-8d66-d7ba867ae6ce"
      },
      "outputs": [
        {
          "data": {
            "text/plain": [
              "844"
            ]
          },
          "execution_count": 102,
          "metadata": {},
          "output_type": "execute_result"
        }
      ],
      "source": [
        "f = 0\n",
        "for i in com_topic_dict.keys():\n",
        "  f = f + len(com_topic_dict[i])\n",
        "f"
      ]
    },
    {
      "cell_type": "code",
      "execution_count": null,
      "metadata": {
        "id": "Kk6lv5AXZzoZ"
      },
      "outputs": [],
      "source": [
        "com_repdocs = {}\n",
        "\n",
        "for topic_id in com_topic_dict:  # topics_dict contains the topic assignments\n",
        "    # Extract documents for each specific topic\n",
        "    representative_docs = topic_model._extract_representative_docs(\n",
        "        c_tf_idf=topic_model.c_tf_idf_,\n",
        "        documents=ddf,\n",
        "        topics = com_topic_dict,\n",
        "        nr_samples=500,  # Total number of samples to choose from\n",
        "        nr_repr_docs=500,  # Number of representative docs per topic\n",
        "    )\n",
        "    # Get the representative documents for this topic\n",
        "    com_repdocs[topic_id] = representative_docs[0][topic_id]"
      ]
    },
    {
      "cell_type": "code",
      "execution_count": null,
      "metadata": {
        "colab": {
          "base_uri": "https://localhost:8080/"
        },
        "id": "hXJdIyfZaCg0",
        "outputId": "7b61af8d-9d0f-4e2c-f00d-d3b1e0e9706f"
      },
      "outputs": [
        {
          "data": {
            "text/plain": [
              "815"
            ]
          },
          "execution_count": 108,
          "metadata": {},
          "output_type": "execute_result"
        }
      ],
      "source": [
        "docs = []\n",
        "for key in com_repdocs.keys():\n",
        "  docs = docs + com_repdocs[key]\n",
        "len(docs)"
      ]
    },
    {
      "cell_type": "code",
      "execution_count": null,
      "metadata": {
        "id": "QDYsj5y7aesc"
      },
      "outputs": [],
      "source": [
        "train_docs['{AI in companies & Enterprises}']= docs"
      ]
    },
    {
      "cell_type": "markdown",
      "metadata": {
        "id": "ncDsYuIrah03"
      },
      "source": [
        "### AI I Investments & Market Trends"
      ]
    },
    {
      "cell_type": "code",
      "execution_count": null,
      "metadata": {
        "colab": {
          "base_uri": "https://localhost:8080/"
        },
        "id": "3RtkfQrUap9o",
        "outputId": "2c064bea-db45-4655-cb12-62a2c104d7ea"
      },
      "outputs": [
        {
          "data": {
            "text/plain": [
              "6"
            ]
          },
          "execution_count": 110,
          "metadata": {},
          "output_type": "execute_result"
        }
      ],
      "source": [
        "#'{AI Investments & Market Trends}'\n",
        "inv_topics = list(d[d['label']=='{AI Investments & Market Trends}']['Topic'])\n",
        "inv_topic_dict = {key: topics_dict[key] for key in inv_topics}\n",
        "len(inv_topics)"
      ]
    },
    {
      "cell_type": "code",
      "execution_count": null,
      "metadata": {
        "colab": {
          "base_uri": "https://localhost:8080/"
        },
        "id": "PekMz4aqqNd4",
        "outputId": "eba42bdc-2020-4d64-bf87-2b324e613e46"
      },
      "outputs": [
        {
          "data": {
            "text/plain": [
              "25.0"
            ]
          },
          "execution_count": 72,
          "metadata": {},
          "output_type": "execute_result"
        }
      ],
      "source": [
        "150/6"
      ]
    },
    {
      "cell_type": "code",
      "execution_count": null,
      "metadata": {
        "colab": {
          "base_uri": "https://localhost:8080/"
        },
        "id": "thocYUeOD7n2",
        "outputId": "a2a58b39-068d-48c2-c1f6-6ef0e265c22c"
      },
      "outputs": [
        {
          "data": {
            "text/plain": [
              "674"
            ]
          },
          "execution_count": 111,
          "metadata": {},
          "output_type": "execute_result"
        }
      ],
      "source": [
        "f = 0\n",
        "for i in inv_topic_dict.keys():\n",
        "  f = f + len(inv_topic_dict[i])\n",
        "f"
      ]
    },
    {
      "cell_type": "code",
      "execution_count": null,
      "metadata": {
        "id": "hmHwrMFca1Gi"
      },
      "outputs": [],
      "source": [
        "inv_repdocs = {}\n",
        "\n",
        "for topic_id in inv_topic_dict:  # topics_dict contains the topic assignments\n",
        "    # Extract documents for each specific topic\n",
        "    representative_docs = topic_model._extract_representative_docs(\n",
        "        c_tf_idf=topic_model.c_tf_idf_,\n",
        "        documents=ddf,\n",
        "        topics = inv_topic_dict,\n",
        "        nr_samples=500,  # Total number of samples to choose from\n",
        "        nr_repr_docs=500,  # Number of representative docs per topic\n",
        "    )\n",
        "    # Get the representative documents for this topic\n",
        "    inv_repdocs[topic_id] = representative_docs[0][topic_id]"
      ]
    },
    {
      "cell_type": "code",
      "execution_count": null,
      "metadata": {
        "colab": {
          "base_uri": "https://localhost:8080/"
        },
        "id": "5IRMc4RtbBI7",
        "outputId": "3b5e15aa-b5ad-45bc-f1d9-20276b814499"
      },
      "outputs": [
        {
          "data": {
            "text/plain": [
              "598"
            ]
          },
          "execution_count": 117,
          "metadata": {},
          "output_type": "execute_result"
        }
      ],
      "source": [
        "docs = []\n",
        "for key in inv_repdocs.keys():\n",
        "  docs = docs + inv_repdocs[key]\n",
        "len(docs)"
      ]
    },
    {
      "cell_type": "code",
      "execution_count": null,
      "metadata": {
        "id": "EHer78m5qupV"
      },
      "outputs": [],
      "source": [
        "train_docs['{AI Investments & Market Trends}']= docs"
      ]
    },
    {
      "cell_type": "markdown",
      "metadata": {
        "id": "22TPDUG7bS3Z"
      },
      "source": [
        "### AI Ethics, Law & Policy"
      ]
    },
    {
      "cell_type": "code",
      "execution_count": null,
      "metadata": {
        "colab": {
          "base_uri": "https://localhost:8080/"
        },
        "id": "AzNh6rkSbZZr",
        "outputId": "7416feec-26c4-4655-ec9e-5d399a871b3b"
      },
      "outputs": [
        {
          "data": {
            "text/plain": [
              "4"
            ]
          },
          "execution_count": 119,
          "metadata": {},
          "output_type": "execute_result"
        }
      ],
      "source": [
        "eth_topics = list(d[d['label']=='{AI Ethics, Law & Policy}']['Topic'])\n",
        "eth_topic_dict = {key: topics_dict[key] for key in eth_topics}\n",
        "len(eth_topics)"
      ]
    },
    {
      "cell_type": "code",
      "execution_count": null,
      "metadata": {
        "colab": {
          "base_uri": "https://localhost:8080/"
        },
        "id": "TlnM-CDlELNc",
        "outputId": "0491ba50-33dc-4b77-e5c6-c7f8833360e7"
      },
      "outputs": [
        {
          "data": {
            "text/plain": [
              "256"
            ]
          },
          "execution_count": 120,
          "metadata": {},
          "output_type": "execute_result"
        }
      ],
      "source": [
        "f = 0\n",
        "for i in eth_topic_dict.keys():\n",
        "  f = f + len(eth_topic_dict[i])\n",
        "f"
      ]
    },
    {
      "cell_type": "code",
      "execution_count": null,
      "metadata": {
        "colab": {
          "base_uri": "https://localhost:8080/"
        },
        "id": "nbgr3BQ_qUbc",
        "outputId": "d4e1b69f-56de-40e6-c9f3-f05da0e87e0a"
      },
      "outputs": [
        {
          "data": {
            "text/plain": [
              "37.5"
            ]
          },
          "execution_count": 76,
          "metadata": {},
          "output_type": "execute_result"
        }
      ],
      "source": [
        "150/4"
      ]
    },
    {
      "cell_type": "code",
      "execution_count": null,
      "metadata": {
        "id": "5_JqoYMYbmvK"
      },
      "outputs": [],
      "source": [
        "eth_repdocs = {}\n",
        "\n",
        "for topic_id in eth_topic_dict:  # topics_dict contains the topic assignments\n",
        "    # Extract documents for each specific topic\n",
        "    representative_docs = topic_model._extract_representative_docs(\n",
        "        c_tf_idf=topic_model.c_tf_idf_,\n",
        "        documents=ddf,\n",
        "        topics = eth_topic_dict,\n",
        "        nr_samples=500,  # Total number of samples to choose from\n",
        "        nr_repr_docs=500,  # Number of representative docs per topic\n",
        "    )\n",
        "    # Get the representative documents for this topic\n",
        "    eth_repdocs[topic_id] = representative_docs[0][topic_id]"
      ]
    },
    {
      "cell_type": "code",
      "execution_count": null,
      "metadata": {
        "colab": {
          "base_uri": "https://localhost:8080/"
        },
        "id": "xifnhUYKbuLU",
        "outputId": "068de41a-b770-4c6a-a91a-52767cf86b45"
      },
      "outputs": [
        {
          "data": {
            "text/plain": [
              "253"
            ]
          },
          "execution_count": 122,
          "metadata": {},
          "output_type": "execute_result"
        }
      ],
      "source": [
        "docs = []\n",
        "for key in eth_repdocs.keys():\n",
        "  docs = docs + eth_repdocs[key]\n",
        "len(docs)"
      ]
    },
    {
      "cell_type": "code",
      "execution_count": null,
      "metadata": {
        "id": "IGkhrmDTbzS_"
      },
      "outputs": [],
      "source": [
        "train_docs['{AI Ethics, Law & Policy}']= docs"
      ]
    },
    {
      "cell_type": "markdown",
      "metadata": {
        "id": "bZU_s2nfb6S4"
      },
      "source": [
        "### AI Governance & Geopolitics"
      ]
    },
    {
      "cell_type": "code",
      "execution_count": null,
      "metadata": {
        "colab": {
          "base_uri": "https://localhost:8080/"
        },
        "id": "XRUMRia6b_Vh",
        "outputId": "d33e6063-f10c-4a6c-f901-299ccebe3bab"
      },
      "outputs": [
        {
          "data": {
            "text/plain": [
              "16"
            ]
          },
          "execution_count": 124,
          "metadata": {},
          "output_type": "execute_result"
        }
      ],
      "source": [
        "\n",
        "gov_topics = list(d[d['label']=='{AI Governance & Geopolitics}']['Topic'])\n",
        "gov_topic_dict = {key: topics_dict[key] for key in gov_topics}\n",
        "len(gov_topics)"
      ]
    },
    {
      "cell_type": "code",
      "execution_count": null,
      "metadata": {
        "colab": {
          "base_uri": "https://localhost:8080/"
        },
        "id": "ooNcU60nqZY5",
        "outputId": "90e2a1b3-921a-4d3b-b9fa-e4f2f1154eb4"
      },
      "outputs": [
        {
          "data": {
            "text/plain": [
              "9.375"
            ]
          },
          "execution_count": 125,
          "metadata": {},
          "output_type": "execute_result"
        }
      ],
      "source": [
        "150/16"
      ]
    },
    {
      "cell_type": "code",
      "execution_count": null,
      "metadata": {
        "colab": {
          "base_uri": "https://localhost:8080/"
        },
        "id": "5VpqGxqUEbLT",
        "outputId": "2d79ba31-7972-4bad-c347-18333ac66a91"
      },
      "outputs": [
        {
          "data": {
            "text/plain": [
              "864"
            ]
          },
          "execution_count": 126,
          "metadata": {},
          "output_type": "execute_result"
        }
      ],
      "source": [
        "f = 0\n",
        "for i in gov_topic_dict.keys():\n",
        "  f = f + len(gov_topic_dict[i])\n",
        "f"
      ]
    },
    {
      "cell_type": "code",
      "execution_count": null,
      "metadata": {
        "id": "ENHsbhnncLDx"
      },
      "outputs": [],
      "source": [
        "gov_repdocs = {}\n",
        "\n",
        "for topic_id in gov_topic_dict:  # topics_dict contains the topic assignments\n",
        "    # Extract documents for each specific topic\n",
        "    representative_docs = topic_model._extract_representative_docs(\n",
        "        c_tf_idf=topic_model.c_tf_idf_,\n",
        "        documents=ddf,\n",
        "        topics = gov_topic_dict,\n",
        "        nr_samples=500,  # Total number of samples to choose from\n",
        "        nr_repr_docs=500,  # Number of representative docs per topic\n",
        "    )\n",
        "    # Get the representative documents for this topic\n",
        "    gov_repdocs[topic_id] = representative_docs[0][topic_id]"
      ]
    },
    {
      "cell_type": "code",
      "execution_count": null,
      "metadata": {
        "colab": {
          "base_uri": "https://localhost:8080/"
        },
        "id": "fhaTUnRAcWIa",
        "outputId": "592eff26-7937-42a6-90a3-9556c4f0164e"
      },
      "outputs": [
        {
          "data": {
            "text/plain": [
              "846"
            ]
          },
          "execution_count": 132,
          "metadata": {},
          "output_type": "execute_result"
        }
      ],
      "source": [
        "docs = []\n",
        "for key in gov_repdocs.keys():\n",
        "  docs = docs + gov_repdocs[key]\n",
        "len(docs)"
      ]
    },
    {
      "cell_type": "code",
      "execution_count": null,
      "metadata": {
        "id": "-2ZqibU9cZYT"
      },
      "outputs": [],
      "source": [
        "train_docs['{AI Governance & Geopolitics}']= docs"
      ]
    },
    {
      "cell_type": "markdown",
      "metadata": {
        "id": "Xxl1bTaGcbkz"
      },
      "source": [
        "### AI overview, risks & impact"
      ]
    },
    {
      "cell_type": "code",
      "execution_count": null,
      "metadata": {
        "colab": {
          "base_uri": "https://localhost:8080/"
        },
        "id": "w7zLpqPFchJY",
        "outputId": "9da88b8e-609a-4175-c9ce-15b4f26853e5"
      },
      "outputs": [
        {
          "data": {
            "text/plain": [
              "7"
            ]
          },
          "execution_count": 134,
          "metadata": {},
          "output_type": "execute_result"
        }
      ],
      "source": [
        "ov_topics = list(d[d['label']=='{AI overview, risks & impact}']['Topic'])\n",
        "ov_topic_dict = {key: topics_dict[key] for key in ov_topics}\n",
        "len(ov_topics)"
      ]
    },
    {
      "cell_type": "code",
      "execution_count": null,
      "metadata": {
        "colab": {
          "base_uri": "https://localhost:8080/"
        },
        "id": "9VFsRnmYEozg",
        "outputId": "417573ef-1ad1-4314-9edd-9f3f91a468ae"
      },
      "outputs": [
        {
          "data": {
            "text/plain": [
              "305"
            ]
          },
          "execution_count": 135,
          "metadata": {},
          "output_type": "execute_result"
        }
      ],
      "source": [
        "f = 0\n",
        "for i in ov_topic_dict.keys():\n",
        "  f = f + len(ov_topic_dict[i])\n",
        "f"
      ]
    },
    {
      "cell_type": "code",
      "execution_count": null,
      "metadata": {
        "id": "nOy_uICDcs3F"
      },
      "outputs": [],
      "source": [
        "ov_repdocs = {}\n",
        "\n",
        "for topic_id in ov_topic_dict:  # topics_dict contains the topic assignments\n",
        "    # Extract documents for each specific topic\n",
        "    representative_docs = topic_model._extract_representative_docs(\n",
        "        c_tf_idf=topic_model.c_tf_idf_,\n",
        "        documents=ddf,\n",
        "        topics = ov_topic_dict,\n",
        "        nr_samples=500,  # Total number of samples to choose from\n",
        "        nr_repr_docs=500,  # Number of representative docs per topic\n",
        "    )\n",
        "    # Get the representative documents for this topic\n",
        "    ov_repdocs[topic_id] = representative_docs[0][topic_id]"
      ]
    },
    {
      "cell_type": "code",
      "execution_count": null,
      "metadata": {
        "colab": {
          "base_uri": "https://localhost:8080/"
        },
        "id": "IdW3-x9cc06L",
        "outputId": "3305970e-9af6-4ccd-d7cb-6b87fc2dfdbf"
      },
      "outputs": [
        {
          "data": {
            "text/plain": [
              "299"
            ]
          },
          "execution_count": 137,
          "metadata": {},
          "output_type": "execute_result"
        }
      ],
      "source": [
        "docs = []\n",
        "for key in ov_repdocs.keys():\n",
        "  docs = docs + ov_repdocs[key]\n",
        "len(docs)"
      ]
    },
    {
      "cell_type": "code",
      "execution_count": null,
      "metadata": {
        "id": "ClBrHgOrdCD9"
      },
      "outputs": [],
      "source": [
        "train_docs['{AI overview, risks & impact}']= docs"
      ]
    },
    {
      "cell_type": "markdown",
      "metadata": {
        "id": "G8iSGw94dEKD"
      },
      "source": [
        "### Others"
      ]
    },
    {
      "cell_type": "code",
      "execution_count": null,
      "metadata": {
        "colab": {
          "base_uri": "https://localhost:8080/"
        },
        "id": "yZG_FkADdFss",
        "outputId": "1a38339f-6049-4464-8354-336c9ba75170"
      },
      "outputs": [
        {
          "data": {
            "text/plain": [
              "1"
            ]
          },
          "execution_count": 139,
          "metadata": {},
          "output_type": "execute_result"
        }
      ],
      "source": [
        "other_topics = list(d[d['label']=='{Other}']['Topic'])\n",
        "other_topic_dict = {key: topics_dict[key] for key in other_topics}\n",
        "len(other_topics)"
      ]
    },
    {
      "cell_type": "code",
      "execution_count": null,
      "metadata": {
        "colab": {
          "base_uri": "https://localhost:8080/"
        },
        "id": "0QVNS41CBDiS",
        "outputId": "a69cefec-9e7b-48e6-e62b-e03763c8fdd0"
      },
      "outputs": [
        {
          "data": {
            "text/plain": [
              "25"
            ]
          },
          "execution_count": 141,
          "metadata": {},
          "output_type": "execute_result"
        }
      ],
      "source": [
        "f = 0\n",
        "for i in other_topic_dict.keys():\n",
        "  f = f + len(other_topic_dict[i])\n",
        "f"
      ]
    },
    {
      "cell_type": "code",
      "execution_count": null,
      "metadata": {
        "colab": {
          "base_uri": "https://localhost:8080/"
        },
        "id": "SMmwcrE2qi3S",
        "outputId": "628e3ac9-49c7-420c-f1d9-56e1e878cd2f"
      },
      "outputs": [
        {
          "data": {
            "text/plain": [
              "37.5"
            ]
          },
          "execution_count": 89,
          "metadata": {},
          "output_type": "execute_result"
        }
      ],
      "source": [
        "150/4"
      ]
    },
    {
      "cell_type": "code",
      "execution_count": null,
      "metadata": {
        "id": "JFgpcla9dS0v"
      },
      "outputs": [],
      "source": [
        "other_repdocs = {}\n",
        "\n",
        "for topic_id in other_topic_dict:  # topics_dict contains the topic assignments\n",
        "    # Extract documents for each specific topic\n",
        "    representative_docs = topic_model._extract_representative_docs(\n",
        "        c_tf_idf=topic_model.c_tf_idf_,\n",
        "        documents=ddf,\n",
        "        topics = other_topic_dict,\n",
        "        nr_samples=500,  # Total number of samples to choose from\n",
        "        nr_repr_docs=100,  # Number of representative docs per topic\n",
        "    )\n",
        "    # Get the representative documents for this topic\n",
        "    other_repdocs[topic_id] = representative_docs[0][topic_id]"
      ]
    },
    {
      "cell_type": "code",
      "execution_count": null,
      "metadata": {
        "colab": {
          "base_uri": "https://localhost:8080/"
        },
        "id": "paNyvTQTdZWx",
        "outputId": "edadf429-4dab-4dcc-d540-592cf4d914e5"
      },
      "outputs": [
        {
          "data": {
            "text/plain": [
              "25"
            ]
          },
          "execution_count": 143,
          "metadata": {},
          "output_type": "execute_result"
        }
      ],
      "source": [
        "docs = []\n",
        "for key in other_repdocs.keys():\n",
        "  docs = docs + other_repdocs[key]\n",
        "len(docs)"
      ]
    },
    {
      "cell_type": "code",
      "execution_count": null,
      "metadata": {
        "id": "KV2_4NWzdfw0"
      },
      "outputs": [],
      "source": [
        "train_docs['{Other}']= docs"
      ]
    },
    {
      "cell_type": "markdown",
      "metadata": {
        "id": "YL7JcFrNeJgc"
      },
      "source": [
        "### combining all data"
      ]
    },
    {
      "cell_type": "code",
      "execution_count": null,
      "metadata": {
        "colab": {
          "base_uri": "https://localhost:8080/"
        },
        "id": "Oy2Sghu-dvIe",
        "outputId": "05b0b3df-aecb-4b9a-c8ef-cf322cde5bcf"
      },
      "outputs": [
        {
          "data": {
            "text/plain": [
              "dict_keys(['{Education}', '{Careers & Workforce}', '{AI in various Industries}', '{AI in companies & Enterprises}', '{AI Investments & Market Trends}', '{AI Ethics, Law & Policy}', '{AI Governance & Geopolitics}', '{AI overview, risks & impact}', '{Other}'])"
            ]
          },
          "execution_count": 145,
          "metadata": {},
          "output_type": "execute_result"
        }
      ],
      "source": [
        "train_docs.keys()"
      ]
    },
    {
      "cell_type": "code",
      "execution_count": null,
      "metadata": {
        "colab": {
          "base_uri": "https://localhost:8080/",
          "height": 204
        },
        "id": "BAGvIKd6d4s6",
        "outputId": "b4222000-8b6e-42c8-9261-1160176a098f"
      },
      "outputs": [
        {
          "data": {
            "application/vnd.google.colaboratory.intrinsic+json": {
              "summary": "{\n  \"name\": \"train_data\",\n  \"rows\": 4832,\n  \"fields\": [\n    {\n      \"column\": \"Title\",\n      \"properties\": {\n        \"dtype\": \"string\",\n        \"num_unique_values\": 4832,\n        \"samples\": [\n          \"microsoft   s latest ai developments tackle burnout in the health sector\",\n          \"education should look to the way artists are embracing ai   instead of turning its back on the technology\",\n          \"ai driving data centres to the edge\"\n        ],\n        \"semantic_type\": \"\",\n        \"description\": \"\"\n      }\n    },\n    {\n      \"column\": \"Category\",\n      \"properties\": {\n        \"dtype\": \"category\",\n        \"num_unique_values\": 9,\n        \"samples\": [\n          \"{AI overview, risks & impact}\",\n          \"{Careers & Workforce}\",\n          \"{AI Ethics, Law & Policy}\"\n        ],\n        \"semantic_type\": \"\",\n        \"description\": \"\"\n      }\n    }\n  ]\n}",
              "type": "dataframe",
              "variable_name": "train_data"
            },
            "text/html": [
              "\n",
              "  <div id=\"df-0c8f79f7-3ca6-4b32-8864-5c6156ab71a1\" class=\"colab-df-container\">\n",
              "    <div>\n",
              "<style scoped>\n",
              "    .dataframe tbody tr th:only-of-type {\n",
              "        vertical-align: middle;\n",
              "    }\n",
              "\n",
              "    .dataframe tbody tr th {\n",
              "        vertical-align: top;\n",
              "    }\n",
              "\n",
              "    .dataframe thead th {\n",
              "        text-align: right;\n",
              "    }\n",
              "</style>\n",
              "<table border=\"1\" class=\"dataframe\">\n",
              "  <thead>\n",
              "    <tr style=\"text-align: right;\">\n",
              "      <th></th>\n",
              "      <th>Title</th>\n",
              "      <th>Category</th>\n",
              "    </tr>\n",
              "  </thead>\n",
              "  <tbody>\n",
              "    <tr>\n",
              "      <th>0</th>\n",
              "      <td>is ai exacerbating disparities in education</td>\n",
              "      <td>{Education}</td>\n",
              "    </tr>\n",
              "    <tr>\n",
              "      <th>1</th>\n",
              "      <td>the future is ai   are students ready</td>\n",
              "      <td>{Education}</td>\n",
              "    </tr>\n",
              "    <tr>\n",
              "      <th>2</th>\n",
              "      <td>ai helping jvs students   news   sports   jobs</td>\n",
              "      <td>{Education}</td>\n",
              "    </tr>\n",
              "    <tr>\n",
              "      <th>3</th>\n",
              "      <td>what schools can do to make teens smarter user...</td>\n",
              "      <td>{Education}</td>\n",
              "    </tr>\n",
              "    <tr>\n",
              "      <th>4</th>\n",
              "      <td>new course   ai in education with dr  maria cu...</td>\n",
              "      <td>{Education}</td>\n",
              "    </tr>\n",
              "  </tbody>\n",
              "</table>\n",
              "</div>\n",
              "    <div class=\"colab-df-buttons\">\n",
              "\n",
              "  <div class=\"colab-df-container\">\n",
              "    <button class=\"colab-df-convert\" onclick=\"convertToInteractive('df-0c8f79f7-3ca6-4b32-8864-5c6156ab71a1')\"\n",
              "            title=\"Convert this dataframe to an interactive table.\"\n",
              "            style=\"display:none;\">\n",
              "\n",
              "  <svg xmlns=\"http://www.w3.org/2000/svg\" height=\"24px\" viewBox=\"0 -960 960 960\">\n",
              "    <path d=\"M120-120v-720h720v720H120Zm60-500h600v-160H180v160Zm220 220h160v-160H400v160Zm0 220h160v-160H400v160ZM180-400h160v-160H180v160Zm440 0h160v-160H620v160ZM180-180h160v-160H180v160Zm440 0h160v-160H620v160Z\"/>\n",
              "  </svg>\n",
              "    </button>\n",
              "\n",
              "  <style>\n",
              "    .colab-df-container {\n",
              "      display:flex;\n",
              "      gap: 12px;\n",
              "    }\n",
              "\n",
              "    .colab-df-convert {\n",
              "      background-color: #E8F0FE;\n",
              "      border: none;\n",
              "      border-radius: 50%;\n",
              "      cursor: pointer;\n",
              "      display: none;\n",
              "      fill: #1967D2;\n",
              "      height: 32px;\n",
              "      padding: 0 0 0 0;\n",
              "      width: 32px;\n",
              "    }\n",
              "\n",
              "    .colab-df-convert:hover {\n",
              "      background-color: #E2EBFA;\n",
              "      box-shadow: 0px 1px 2px rgba(60, 64, 67, 0.3), 0px 1px 3px 1px rgba(60, 64, 67, 0.15);\n",
              "      fill: #174EA6;\n",
              "    }\n",
              "\n",
              "    .colab-df-buttons div {\n",
              "      margin-bottom: 4px;\n",
              "    }\n",
              "\n",
              "    [theme=dark] .colab-df-convert {\n",
              "      background-color: #3B4455;\n",
              "      fill: #D2E3FC;\n",
              "    }\n",
              "\n",
              "    [theme=dark] .colab-df-convert:hover {\n",
              "      background-color: #434B5C;\n",
              "      box-shadow: 0px 1px 3px 1px rgba(0, 0, 0, 0.15);\n",
              "      filter: drop-shadow(0px 1px 2px rgba(0, 0, 0, 0.3));\n",
              "      fill: #FFFFFF;\n",
              "    }\n",
              "  </style>\n",
              "\n",
              "    <script>\n",
              "      const buttonEl =\n",
              "        document.querySelector('#df-0c8f79f7-3ca6-4b32-8864-5c6156ab71a1 button.colab-df-convert');\n",
              "      buttonEl.style.display =\n",
              "        google.colab.kernel.accessAllowed ? 'block' : 'none';\n",
              "\n",
              "      async function convertToInteractive(key) {\n",
              "        const element = document.querySelector('#df-0c8f79f7-3ca6-4b32-8864-5c6156ab71a1');\n",
              "        const dataTable =\n",
              "          await google.colab.kernel.invokeFunction('convertToInteractive',\n",
              "                                                    [key], {});\n",
              "        if (!dataTable) return;\n",
              "\n",
              "        const docLinkHtml = 'Like what you see? Visit the ' +\n",
              "          '<a target=\"_blank\" href=https://colab.research.google.com/notebooks/data_table.ipynb>data table notebook</a>'\n",
              "          + ' to learn more about interactive tables.';\n",
              "        element.innerHTML = '';\n",
              "        dataTable['output_type'] = 'display_data';\n",
              "        await google.colab.output.renderOutput(dataTable, element);\n",
              "        const docLink = document.createElement('div');\n",
              "        docLink.innerHTML = docLinkHtml;\n",
              "        element.appendChild(docLink);\n",
              "      }\n",
              "    </script>\n",
              "  </div>\n",
              "\n",
              "\n",
              "<div id=\"df-3b3102c7-e6bf-4576-9185-02deb323462e\">\n",
              "  <button class=\"colab-df-quickchart\" onclick=\"quickchart('df-3b3102c7-e6bf-4576-9185-02deb323462e')\"\n",
              "            title=\"Suggest charts\"\n",
              "            style=\"display:none;\">\n",
              "\n",
              "<svg xmlns=\"http://www.w3.org/2000/svg\" height=\"24px\"viewBox=\"0 0 24 24\"\n",
              "     width=\"24px\">\n",
              "    <g>\n",
              "        <path d=\"M19 3H5c-1.1 0-2 .9-2 2v14c0 1.1.9 2 2 2h14c1.1 0 2-.9 2-2V5c0-1.1-.9-2-2-2zM9 17H7v-7h2v7zm4 0h-2V7h2v10zm4 0h-2v-4h2v4z\"/>\n",
              "    </g>\n",
              "</svg>\n",
              "  </button>\n",
              "\n",
              "<style>\n",
              "  .colab-df-quickchart {\n",
              "      --bg-color: #E8F0FE;\n",
              "      --fill-color: #1967D2;\n",
              "      --hover-bg-color: #E2EBFA;\n",
              "      --hover-fill-color: #174EA6;\n",
              "      --disabled-fill-color: #AAA;\n",
              "      --disabled-bg-color: #DDD;\n",
              "  }\n",
              "\n",
              "  [theme=dark] .colab-df-quickchart {\n",
              "      --bg-color: #3B4455;\n",
              "      --fill-color: #D2E3FC;\n",
              "      --hover-bg-color: #434B5C;\n",
              "      --hover-fill-color: #FFFFFF;\n",
              "      --disabled-bg-color: #3B4455;\n",
              "      --disabled-fill-color: #666;\n",
              "  }\n",
              "\n",
              "  .colab-df-quickchart {\n",
              "    background-color: var(--bg-color);\n",
              "    border: none;\n",
              "    border-radius: 50%;\n",
              "    cursor: pointer;\n",
              "    display: none;\n",
              "    fill: var(--fill-color);\n",
              "    height: 32px;\n",
              "    padding: 0;\n",
              "    width: 32px;\n",
              "  }\n",
              "\n",
              "  .colab-df-quickchart:hover {\n",
              "    background-color: var(--hover-bg-color);\n",
              "    box-shadow: 0 1px 2px rgba(60, 64, 67, 0.3), 0 1px 3px 1px rgba(60, 64, 67, 0.15);\n",
              "    fill: var(--button-hover-fill-color);\n",
              "  }\n",
              "\n",
              "  .colab-df-quickchart-complete:disabled,\n",
              "  .colab-df-quickchart-complete:disabled:hover {\n",
              "    background-color: var(--disabled-bg-color);\n",
              "    fill: var(--disabled-fill-color);\n",
              "    box-shadow: none;\n",
              "  }\n",
              "\n",
              "  .colab-df-spinner {\n",
              "    border: 2px solid var(--fill-color);\n",
              "    border-color: transparent;\n",
              "    border-bottom-color: var(--fill-color);\n",
              "    animation:\n",
              "      spin 1s steps(1) infinite;\n",
              "  }\n",
              "\n",
              "  @keyframes spin {\n",
              "    0% {\n",
              "      border-color: transparent;\n",
              "      border-bottom-color: var(--fill-color);\n",
              "      border-left-color: var(--fill-color);\n",
              "    }\n",
              "    20% {\n",
              "      border-color: transparent;\n",
              "      border-left-color: var(--fill-color);\n",
              "      border-top-color: var(--fill-color);\n",
              "    }\n",
              "    30% {\n",
              "      border-color: transparent;\n",
              "      border-left-color: var(--fill-color);\n",
              "      border-top-color: var(--fill-color);\n",
              "      border-right-color: var(--fill-color);\n",
              "    }\n",
              "    40% {\n",
              "      border-color: transparent;\n",
              "      border-right-color: var(--fill-color);\n",
              "      border-top-color: var(--fill-color);\n",
              "    }\n",
              "    60% {\n",
              "      border-color: transparent;\n",
              "      border-right-color: var(--fill-color);\n",
              "    }\n",
              "    80% {\n",
              "      border-color: transparent;\n",
              "      border-right-color: var(--fill-color);\n",
              "      border-bottom-color: var(--fill-color);\n",
              "    }\n",
              "    90% {\n",
              "      border-color: transparent;\n",
              "      border-bottom-color: var(--fill-color);\n",
              "    }\n",
              "  }\n",
              "</style>\n",
              "\n",
              "  <script>\n",
              "    async function quickchart(key) {\n",
              "      const quickchartButtonEl =\n",
              "        document.querySelector('#' + key + ' button');\n",
              "      quickchartButtonEl.disabled = true;  // To prevent multiple clicks.\n",
              "      quickchartButtonEl.classList.add('colab-df-spinner');\n",
              "      try {\n",
              "        const charts = await google.colab.kernel.invokeFunction(\n",
              "            'suggestCharts', [key], {});\n",
              "      } catch (error) {\n",
              "        console.error('Error during call to suggestCharts:', error);\n",
              "      }\n",
              "      quickchartButtonEl.classList.remove('colab-df-spinner');\n",
              "      quickchartButtonEl.classList.add('colab-df-quickchart-complete');\n",
              "    }\n",
              "    (() => {\n",
              "      let quickchartButtonEl =\n",
              "        document.querySelector('#df-3b3102c7-e6bf-4576-9185-02deb323462e button');\n",
              "      quickchartButtonEl.style.display =\n",
              "        google.colab.kernel.accessAllowed ? 'block' : 'none';\n",
              "    })();\n",
              "  </script>\n",
              "</div>\n",
              "\n",
              "    </div>\n",
              "  </div>\n"
            ],
            "text/plain": [
              "                                               Title     Category\n",
              "0      is ai exacerbating disparities in education    {Education}\n",
              "1            the future is ai   are students ready    {Education}\n",
              "2     ai helping jvs students   news   sports   jobs  {Education}\n",
              "3  what schools can do to make teens smarter user...  {Education}\n",
              "4  new course   ai in education with dr  maria cu...  {Education}"
            ]
          },
          "execution_count": 146,
          "metadata": {},
          "output_type": "execute_result"
        }
      ],
      "source": [
        "# Create a list of (title, category) pairs\n",
        "rows = [(title, category) for category, titles in train_docs.items() for title in titles]\n",
        "\n",
        "# Convert the list to a DataFrame\n",
        "train_data = pd.DataFrame(rows, columns=['Title', 'Category'])\n",
        "train_data.head()"
      ]
    },
    {
      "cell_type": "code",
      "execution_count": null,
      "metadata": {
        "colab": {
          "base_uri": "https://localhost:8080/"
        },
        "id": "SxQB4vS4eaWd",
        "outputId": "45545ec6-c383-44b1-da3d-61e11675ad10"
      },
      "outputs": [
        {
          "data": {
            "text/plain": [
              "(4832, 2)"
            ]
          },
          "execution_count": 147,
          "metadata": {},
          "output_type": "execute_result"
        }
      ],
      "source": [
        "train_data.shape"
      ]
    },
    {
      "cell_type": "code",
      "execution_count": null,
      "metadata": {
        "colab": {
          "base_uri": "https://localhost:8080/",
          "height": 393
        },
        "id": "qllBj7PceAnK",
        "outputId": "49933be8-a34a-4161-ad78-fb7c578c143c"
      },
      "outputs": [
        {
          "data": {
            "text/html": [
              "<div>\n",
              "<style scoped>\n",
              "    .dataframe tbody tr th:only-of-type {\n",
              "        vertical-align: middle;\n",
              "    }\n",
              "\n",
              "    .dataframe tbody tr th {\n",
              "        vertical-align: top;\n",
              "    }\n",
              "\n",
              "    .dataframe thead th {\n",
              "        text-align: right;\n",
              "    }\n",
              "</style>\n",
              "<table border=\"1\" class=\"dataframe\">\n",
              "  <thead>\n",
              "    <tr style=\"text-align: right;\">\n",
              "      <th></th>\n",
              "      <th>count</th>\n",
              "    </tr>\n",
              "    <tr>\n",
              "      <th>Category</th>\n",
              "      <th></th>\n",
              "    </tr>\n",
              "  </thead>\n",
              "  <tbody>\n",
              "    <tr>\n",
              "      <th>{AI in various Industries}</th>\n",
              "      <td>1491</td>\n",
              "    </tr>\n",
              "    <tr>\n",
              "      <th>{AI Governance &amp; Geopolitics}</th>\n",
              "      <td>846</td>\n",
              "    </tr>\n",
              "    <tr>\n",
              "      <th>{AI in companies &amp; Enterprises}</th>\n",
              "      <td>815</td>\n",
              "    </tr>\n",
              "    <tr>\n",
              "      <th>{AI Investments &amp; Market Trends}</th>\n",
              "      <td>598</td>\n",
              "    </tr>\n",
              "    <tr>\n",
              "      <th>{AI overview, risks &amp; impact}</th>\n",
              "      <td>299</td>\n",
              "    </tr>\n",
              "    <tr>\n",
              "      <th>{Education}</th>\n",
              "      <td>283</td>\n",
              "    </tr>\n",
              "    <tr>\n",
              "      <th>{AI Ethics, Law &amp; Policy}</th>\n",
              "      <td>253</td>\n",
              "    </tr>\n",
              "    <tr>\n",
              "      <th>{Careers &amp; Workforce}</th>\n",
              "      <td>222</td>\n",
              "    </tr>\n",
              "    <tr>\n",
              "      <th>{Other}</th>\n",
              "      <td>25</td>\n",
              "    </tr>\n",
              "  </tbody>\n",
              "</table>\n",
              "</div><br><label><b>dtype:</b> int64</label>"
            ],
            "text/plain": [
              "Category\n",
              "{AI in various Industries}          1491\n",
              "{AI Governance & Geopolitics}        846\n",
              "{AI in companies & Enterprises}      815\n",
              "{AI Investments & Market Trends}     598\n",
              "{AI overview, risks & impact}        299\n",
              "{Education}                          283\n",
              "{AI Ethics, Law & Policy}            253\n",
              "{Careers & Workforce}                222\n",
              "{Other}                               25\n",
              "Name: count, dtype: int64"
            ]
          },
          "execution_count": 148,
          "metadata": {},
          "output_type": "execute_result"
        }
      ],
      "source": [
        "train_data['Category'].value_counts()"
      ]
    },
    {
      "cell_type": "markdown",
      "metadata": {
        "id": "PNxRl3K4SDzP"
      },
      "source": [
        "### Adjusting proportion of categories in data samples"
      ]
    },
    {
      "cell_type": "markdown",
      "metadata": {
        "id": "pPdSFrpzSPCu"
      },
      "source": [
        "Above you can see the proportion of the data samples of different categories are varied widely so for now we decided to get the following no.of sample to slighlty account for imbalance present and also have max coverage available for each category\n",
        "\n",
        " 1. \"{AI in various Industries}\", 1000 (random sampling)\n",
        " 2. \"{AI Governance & Geopolitics}\", 800 (random sampling)\n",
        " 3. \"{AI in companies & Enterprises}\", 800 (random sampling)\n",
        " 4. \"{AI Investments & Market Trends}\", 600\n",
        " 5. \"{AI overview, risks & impact}\", 300\n",
        " 6. \"{Education}\", 300 (upsample with augmentation)\n",
        " 7. \"{AI Ethics, Law & Policy}\", 300 (upsample with augmentation)\n",
        " 8. \"{Careers & Workforce}\", 300 (upsample with augmentation)\n",
        " 9. \"{Other}\", 100\n"
      ]
    },
    {
      "cell_type": "code",
      "execution_count": null,
      "metadata": {
        "colab": {
          "base_uri": "https://localhost:8080/"
        },
        "id": "qCJwqBk8GLE5",
        "outputId": "fa57377d-635f-4568-a36f-db77ef49becc"
      },
      "outputs": [
        {
          "data": {
            "text/plain": [
              "array(['{Education}', '{Careers & Workforce}',\n",
              "       '{AI in various Industries}', '{AI in companies & Enterprises}',\n",
              "       '{AI Investments & Market Trends}', '{AI Ethics, Law & Policy}',\n",
              "       '{AI Governance & Geopolitics}', '{AI overview, risks & impact}',\n",
              "       '{Other}'], dtype=object)"
            ]
          },
          "execution_count": 208,
          "metadata": {},
          "output_type": "execute_result"
        }
      ],
      "source": [
        "train_data['Category'].unique()"
      ]
    },
    {
      "cell_type": "code",
      "execution_count": null,
      "metadata": {
        "id": "ROCSXdEeGJD1"
      },
      "outputs": [],
      "source": [
        "t= train_data.copy()"
      ]
    },
    {
      "cell_type": "code",
      "execution_count": null,
      "metadata": {
        "id": "g3Ob9jKBGFPU"
      },
      "outputs": [],
      "source": [
        "import pandas as pd\n",
        "\n",
        "def downsample_category(df, category, target_size):\n",
        "    return df[df['Category'] == category].sample(n=target_size, random_state=42)\n",
        "\n",
        "df_balanced = pd.concat([\n",
        "    downsample_category(t, \"{AI in various Industries}\", 1000),\n",
        "    downsample_category(t, \"{AI Governance & Geopolitics}\", 800),\n",
        "    downsample_category(t, \"{AI in companies & Enterprises}\", 800),\n",
        "    t[t['Category']== \"{AI Investments & Market Trends}\"],\n",
        "    t[t['Category'] == \"{AI overview, risks & impact}\"]  # Already 299, keep as is\n",
        "])"
      ]
    },
    {
      "cell_type": "code",
      "execution_count": null,
      "metadata": {
        "colab": {
          "base_uri": "https://localhost:8080/",
          "height": 269
        },
        "id": "aHX6j-W9HAtj",
        "outputId": "2eed2d44-698f-42df-d1ee-b8b03d72ea8f"
      },
      "outputs": [
        {
          "data": {
            "text/html": [
              "<div>\n",
              "<style scoped>\n",
              "    .dataframe tbody tr th:only-of-type {\n",
              "        vertical-align: middle;\n",
              "    }\n",
              "\n",
              "    .dataframe tbody tr th {\n",
              "        vertical-align: top;\n",
              "    }\n",
              "\n",
              "    .dataframe thead th {\n",
              "        text-align: right;\n",
              "    }\n",
              "</style>\n",
              "<table border=\"1\" class=\"dataframe\">\n",
              "  <thead>\n",
              "    <tr style=\"text-align: right;\">\n",
              "      <th></th>\n",
              "      <th>count</th>\n",
              "    </tr>\n",
              "    <tr>\n",
              "      <th>Category</th>\n",
              "      <th></th>\n",
              "    </tr>\n",
              "  </thead>\n",
              "  <tbody>\n",
              "    <tr>\n",
              "      <th>{AI in various Industries}</th>\n",
              "      <td>1000</td>\n",
              "    </tr>\n",
              "    <tr>\n",
              "      <th>{AI Governance &amp; Geopolitics}</th>\n",
              "      <td>800</td>\n",
              "    </tr>\n",
              "    <tr>\n",
              "      <th>{AI in companies &amp; Enterprises}</th>\n",
              "      <td>800</td>\n",
              "    </tr>\n",
              "    <tr>\n",
              "      <th>{AI Investments &amp; Market Trends}</th>\n",
              "      <td>598</td>\n",
              "    </tr>\n",
              "    <tr>\n",
              "      <th>{AI overview, risks &amp; impact}</th>\n",
              "      <td>299</td>\n",
              "    </tr>\n",
              "  </tbody>\n",
              "</table>\n",
              "</div><br><label><b>dtype:</b> int64</label>"
            ],
            "text/plain": [
              "Category\n",
              "{AI in various Industries}          1000\n",
              "{AI Governance & Geopolitics}        800\n",
              "{AI in companies & Enterprises}      800\n",
              "{AI Investments & Market Trends}     598\n",
              "{AI overview, risks & impact}        299\n",
              "Name: count, dtype: int64"
            ]
          },
          "execution_count": 213,
          "metadata": {},
          "output_type": "execute_result"
        }
      ],
      "source": [
        "df_balanced['Category'].value_counts()"
      ]
    },
    {
      "cell_type": "code",
      "execution_count": null,
      "metadata": {
        "colab": {
          "base_uri": "https://localhost:8080/",
          "height": 204
        },
        "id": "QD2C3VbvJl_s",
        "outputId": "64f34907-ce0f-4592-8ba9-6d4099ec67ab"
      },
      "outputs": [
        {
          "data": {
            "application/vnd.google.colaboratory.intrinsic+json": {
              "summary": "{\n  \"name\": \"t\",\n  \"rows\": 4832,\n  \"fields\": [\n    {\n      \"column\": \"Title\",\n      \"properties\": {\n        \"dtype\": \"string\",\n        \"num_unique_values\": 4832,\n        \"samples\": [\n          \"microsoft   s latest ai developments tackle burnout in the health sector\",\n          \"education should look to the way artists are embracing ai   instead of turning its back on the technology\",\n          \"ai driving data centres to the edge\"\n        ],\n        \"semantic_type\": \"\",\n        \"description\": \"\"\n      }\n    },\n    {\n      \"column\": \"Category\",\n      \"properties\": {\n        \"dtype\": \"category\",\n        \"num_unique_values\": 9,\n        \"samples\": [\n          \"{AI overview, risks & impact}\",\n          \"{Careers & Workforce}\",\n          \"{AI Ethics, Law & Policy}\"\n        ],\n        \"semantic_type\": \"\",\n        \"description\": \"\"\n      }\n    }\n  ]\n}",
              "type": "dataframe",
              "variable_name": "t"
            },
            "text/html": [
              "\n",
              "  <div id=\"df-ad5ea1e5-95bf-41c8-b1c3-c4ef59f38a81\" class=\"colab-df-container\">\n",
              "    <div>\n",
              "<style scoped>\n",
              "    .dataframe tbody tr th:only-of-type {\n",
              "        vertical-align: middle;\n",
              "    }\n",
              "\n",
              "    .dataframe tbody tr th {\n",
              "        vertical-align: top;\n",
              "    }\n",
              "\n",
              "    .dataframe thead th {\n",
              "        text-align: right;\n",
              "    }\n",
              "</style>\n",
              "<table border=\"1\" class=\"dataframe\">\n",
              "  <thead>\n",
              "    <tr style=\"text-align: right;\">\n",
              "      <th></th>\n",
              "      <th>Title</th>\n",
              "      <th>Category</th>\n",
              "    </tr>\n",
              "  </thead>\n",
              "  <tbody>\n",
              "    <tr>\n",
              "      <th>0</th>\n",
              "      <td>is ai exacerbating disparities in education</td>\n",
              "      <td>{Education}</td>\n",
              "    </tr>\n",
              "    <tr>\n",
              "      <th>1</th>\n",
              "      <td>the future is ai   are students ready</td>\n",
              "      <td>{Education}</td>\n",
              "    </tr>\n",
              "    <tr>\n",
              "      <th>2</th>\n",
              "      <td>ai helping jvs students   news   sports   jobs</td>\n",
              "      <td>{Education}</td>\n",
              "    </tr>\n",
              "    <tr>\n",
              "      <th>3</th>\n",
              "      <td>what schools can do to make teens smarter user...</td>\n",
              "      <td>{Education}</td>\n",
              "    </tr>\n",
              "    <tr>\n",
              "      <th>4</th>\n",
              "      <td>new course   ai in education with dr  maria cu...</td>\n",
              "      <td>{Education}</td>\n",
              "    </tr>\n",
              "  </tbody>\n",
              "</table>\n",
              "</div>\n",
              "    <div class=\"colab-df-buttons\">\n",
              "\n",
              "  <div class=\"colab-df-container\">\n",
              "    <button class=\"colab-df-convert\" onclick=\"convertToInteractive('df-ad5ea1e5-95bf-41c8-b1c3-c4ef59f38a81')\"\n",
              "            title=\"Convert this dataframe to an interactive table.\"\n",
              "            style=\"display:none;\">\n",
              "\n",
              "  <svg xmlns=\"http://www.w3.org/2000/svg\" height=\"24px\" viewBox=\"0 -960 960 960\">\n",
              "    <path d=\"M120-120v-720h720v720H120Zm60-500h600v-160H180v160Zm220 220h160v-160H400v160Zm0 220h160v-160H400v160ZM180-400h160v-160H180v160Zm440 0h160v-160H620v160ZM180-180h160v-160H180v160Zm440 0h160v-160H620v160Z\"/>\n",
              "  </svg>\n",
              "    </button>\n",
              "\n",
              "  <style>\n",
              "    .colab-df-container {\n",
              "      display:flex;\n",
              "      gap: 12px;\n",
              "    }\n",
              "\n",
              "    .colab-df-convert {\n",
              "      background-color: #E8F0FE;\n",
              "      border: none;\n",
              "      border-radius: 50%;\n",
              "      cursor: pointer;\n",
              "      display: none;\n",
              "      fill: #1967D2;\n",
              "      height: 32px;\n",
              "      padding: 0 0 0 0;\n",
              "      width: 32px;\n",
              "    }\n",
              "\n",
              "    .colab-df-convert:hover {\n",
              "      background-color: #E2EBFA;\n",
              "      box-shadow: 0px 1px 2px rgba(60, 64, 67, 0.3), 0px 1px 3px 1px rgba(60, 64, 67, 0.15);\n",
              "      fill: #174EA6;\n",
              "    }\n",
              "\n",
              "    .colab-df-buttons div {\n",
              "      margin-bottom: 4px;\n",
              "    }\n",
              "\n",
              "    [theme=dark] .colab-df-convert {\n",
              "      background-color: #3B4455;\n",
              "      fill: #D2E3FC;\n",
              "    }\n",
              "\n",
              "    [theme=dark] .colab-df-convert:hover {\n",
              "      background-color: #434B5C;\n",
              "      box-shadow: 0px 1px 3px 1px rgba(0, 0, 0, 0.15);\n",
              "      filter: drop-shadow(0px 1px 2px rgba(0, 0, 0, 0.3));\n",
              "      fill: #FFFFFF;\n",
              "    }\n",
              "  </style>\n",
              "\n",
              "    <script>\n",
              "      const buttonEl =\n",
              "        document.querySelector('#df-ad5ea1e5-95bf-41c8-b1c3-c4ef59f38a81 button.colab-df-convert');\n",
              "      buttonEl.style.display =\n",
              "        google.colab.kernel.accessAllowed ? 'block' : 'none';\n",
              "\n",
              "      async function convertToInteractive(key) {\n",
              "        const element = document.querySelector('#df-ad5ea1e5-95bf-41c8-b1c3-c4ef59f38a81');\n",
              "        const dataTable =\n",
              "          await google.colab.kernel.invokeFunction('convertToInteractive',\n",
              "                                                    [key], {});\n",
              "        if (!dataTable) return;\n",
              "\n",
              "        const docLinkHtml = 'Like what you see? Visit the ' +\n",
              "          '<a target=\"_blank\" href=https://colab.research.google.com/notebooks/data_table.ipynb>data table notebook</a>'\n",
              "          + ' to learn more about interactive tables.';\n",
              "        element.innerHTML = '';\n",
              "        dataTable['output_type'] = 'display_data';\n",
              "        await google.colab.output.renderOutput(dataTable, element);\n",
              "        const docLink = document.createElement('div');\n",
              "        docLink.innerHTML = docLinkHtml;\n",
              "        element.appendChild(docLink);\n",
              "      }\n",
              "    </script>\n",
              "  </div>\n",
              "\n",
              "\n",
              "<div id=\"df-3c6b5333-8a33-4e43-b4cf-644696d933dc\">\n",
              "  <button class=\"colab-df-quickchart\" onclick=\"quickchart('df-3c6b5333-8a33-4e43-b4cf-644696d933dc')\"\n",
              "            title=\"Suggest charts\"\n",
              "            style=\"display:none;\">\n",
              "\n",
              "<svg xmlns=\"http://www.w3.org/2000/svg\" height=\"24px\"viewBox=\"0 0 24 24\"\n",
              "     width=\"24px\">\n",
              "    <g>\n",
              "        <path d=\"M19 3H5c-1.1 0-2 .9-2 2v14c0 1.1.9 2 2 2h14c1.1 0 2-.9 2-2V5c0-1.1-.9-2-2-2zM9 17H7v-7h2v7zm4 0h-2V7h2v10zm4 0h-2v-4h2v4z\"/>\n",
              "    </g>\n",
              "</svg>\n",
              "  </button>\n",
              "\n",
              "<style>\n",
              "  .colab-df-quickchart {\n",
              "      --bg-color: #E8F0FE;\n",
              "      --fill-color: #1967D2;\n",
              "      --hover-bg-color: #E2EBFA;\n",
              "      --hover-fill-color: #174EA6;\n",
              "      --disabled-fill-color: #AAA;\n",
              "      --disabled-bg-color: #DDD;\n",
              "  }\n",
              "\n",
              "  [theme=dark] .colab-df-quickchart {\n",
              "      --bg-color: #3B4455;\n",
              "      --fill-color: #D2E3FC;\n",
              "      --hover-bg-color: #434B5C;\n",
              "      --hover-fill-color: #FFFFFF;\n",
              "      --disabled-bg-color: #3B4455;\n",
              "      --disabled-fill-color: #666;\n",
              "  }\n",
              "\n",
              "  .colab-df-quickchart {\n",
              "    background-color: var(--bg-color);\n",
              "    border: none;\n",
              "    border-radius: 50%;\n",
              "    cursor: pointer;\n",
              "    display: none;\n",
              "    fill: var(--fill-color);\n",
              "    height: 32px;\n",
              "    padding: 0;\n",
              "    width: 32px;\n",
              "  }\n",
              "\n",
              "  .colab-df-quickchart:hover {\n",
              "    background-color: var(--hover-bg-color);\n",
              "    box-shadow: 0 1px 2px rgba(60, 64, 67, 0.3), 0 1px 3px 1px rgba(60, 64, 67, 0.15);\n",
              "    fill: var(--button-hover-fill-color);\n",
              "  }\n",
              "\n",
              "  .colab-df-quickchart-complete:disabled,\n",
              "  .colab-df-quickchart-complete:disabled:hover {\n",
              "    background-color: var(--disabled-bg-color);\n",
              "    fill: var(--disabled-fill-color);\n",
              "    box-shadow: none;\n",
              "  }\n",
              "\n",
              "  .colab-df-spinner {\n",
              "    border: 2px solid var(--fill-color);\n",
              "    border-color: transparent;\n",
              "    border-bottom-color: var(--fill-color);\n",
              "    animation:\n",
              "      spin 1s steps(1) infinite;\n",
              "  }\n",
              "\n",
              "  @keyframes spin {\n",
              "    0% {\n",
              "      border-color: transparent;\n",
              "      border-bottom-color: var(--fill-color);\n",
              "      border-left-color: var(--fill-color);\n",
              "    }\n",
              "    20% {\n",
              "      border-color: transparent;\n",
              "      border-left-color: var(--fill-color);\n",
              "      border-top-color: var(--fill-color);\n",
              "    }\n",
              "    30% {\n",
              "      border-color: transparent;\n",
              "      border-left-color: var(--fill-color);\n",
              "      border-top-color: var(--fill-color);\n",
              "      border-right-color: var(--fill-color);\n",
              "    }\n",
              "    40% {\n",
              "      border-color: transparent;\n",
              "      border-right-color: var(--fill-color);\n",
              "      border-top-color: var(--fill-color);\n",
              "    }\n",
              "    60% {\n",
              "      border-color: transparent;\n",
              "      border-right-color: var(--fill-color);\n",
              "    }\n",
              "    80% {\n",
              "      border-color: transparent;\n",
              "      border-right-color: var(--fill-color);\n",
              "      border-bottom-color: var(--fill-color);\n",
              "    }\n",
              "    90% {\n",
              "      border-color: transparent;\n",
              "      border-bottom-color: var(--fill-color);\n",
              "    }\n",
              "  }\n",
              "</style>\n",
              "\n",
              "  <script>\n",
              "    async function quickchart(key) {\n",
              "      const quickchartButtonEl =\n",
              "        document.querySelector('#' + key + ' button');\n",
              "      quickchartButtonEl.disabled = true;  // To prevent multiple clicks.\n",
              "      quickchartButtonEl.classList.add('colab-df-spinner');\n",
              "      try {\n",
              "        const charts = await google.colab.kernel.invokeFunction(\n",
              "            'suggestCharts', [key], {});\n",
              "      } catch (error) {\n",
              "        console.error('Error during call to suggestCharts:', error);\n",
              "      }\n",
              "      quickchartButtonEl.classList.remove('colab-df-spinner');\n",
              "      quickchartButtonEl.classList.add('colab-df-quickchart-complete');\n",
              "    }\n",
              "    (() => {\n",
              "      let quickchartButtonEl =\n",
              "        document.querySelector('#df-3c6b5333-8a33-4e43-b4cf-644696d933dc button');\n",
              "      quickchartButtonEl.style.display =\n",
              "        google.colab.kernel.accessAllowed ? 'block' : 'none';\n",
              "    })();\n",
              "  </script>\n",
              "</div>\n",
              "\n",
              "    </div>\n",
              "  </div>\n"
            ],
            "text/plain": [
              "                                               Title     Category\n",
              "0      is ai exacerbating disparities in education    {Education}\n",
              "1            the future is ai   are students ready    {Education}\n",
              "2     ai helping jvs students   news   sports   jobs  {Education}\n",
              "3  what schools can do to make teens smarter user...  {Education}\n",
              "4  new course   ai in education with dr  maria cu...  {Education}"
            ]
          },
          "execution_count": 214,
          "metadata": {},
          "output_type": "execute_result"
        }
      ],
      "source": [
        "t.head()"
      ]
    },
    {
      "cell_type": "code",
      "execution_count": null,
      "metadata": {
        "colab": {
          "base_uri": "https://localhost:8080/"
        },
        "id": "GYVt8ohGJ_-M",
        "outputId": "60d3f2af-0604-4bb9-a743-3d32483e43b7"
      },
      "outputs": [
        {
          "name": "stderr",
          "output_type": "stream",
          "text": [
            "[nltk_data] Downloading package averaged_perceptron_tagger_eng to\n",
            "[nltk_data]     /root/nltk_data...\n",
            "[nltk_data]   Unzipping taggers/averaged_perceptron_tagger_eng.zip.\n"
          ]
        },
        {
          "data": {
            "text/plain": [
              "True"
            ]
          },
          "execution_count": 217,
          "metadata": {},
          "output_type": "execute_result"
        }
      ],
      "source": [
        "import nltk\n",
        "nltk.download('averaged_perceptron_tagger_eng')"
      ]
    },
    {
      "cell_type": "code",
      "execution_count": null,
      "metadata": {
        "colab": {
          "base_uri": "https://localhost:8080/"
        },
        "id": "B6rVQIGxEURd",
        "outputId": "8de229ba-f921-4161-a879-4d4868fbae21"
      },
      "outputs": [
        {
          "name": "stdout",
          "output_type": "stream",
          "text": [
            "Collecting nlpaug\n",
            "  Downloading nlpaug-1.1.11-py3-none-any.whl.metadata (14 kB)\n",
            "Requirement already satisfied: numpy>=1.16.2 in /usr/local/lib/python3.11/dist-packages (from nlpaug) (1.26.4)\n",
            "Requirement already satisfied: pandas>=1.2.0 in /usr/local/lib/python3.11/dist-packages (from nlpaug) (2.2.2)\n",
            "Requirement already satisfied: requests>=2.22.0 in /usr/local/lib/python3.11/dist-packages (from nlpaug) (2.32.3)\n",
            "Requirement already satisfied: gdown>=4.0.0 in /usr/local/lib/python3.11/dist-packages (from nlpaug) (5.2.0)\n",
            "Requirement already satisfied: beautifulsoup4 in /usr/local/lib/python3.11/dist-packages (from gdown>=4.0.0->nlpaug) (4.13.3)\n",
            "Requirement already satisfied: filelock in /usr/local/lib/python3.11/dist-packages (from gdown>=4.0.0->nlpaug) (3.17.0)\n",
            "Requirement already satisfied: tqdm in /usr/local/lib/python3.11/dist-packages (from gdown>=4.0.0->nlpaug) (4.67.1)\n",
            "Requirement already satisfied: python-dateutil>=2.8.2 in /usr/local/lib/python3.11/dist-packages (from pandas>=1.2.0->nlpaug) (2.8.2)\n",
            "Requirement already satisfied: pytz>=2020.1 in /usr/local/lib/python3.11/dist-packages (from pandas>=1.2.0->nlpaug) (2025.1)\n",
            "Requirement already satisfied: tzdata>=2022.7 in /usr/local/lib/python3.11/dist-packages (from pandas>=1.2.0->nlpaug) (2025.1)\n",
            "Requirement already satisfied: charset-normalizer<4,>=2 in /usr/local/lib/python3.11/dist-packages (from requests>=2.22.0->nlpaug) (3.4.1)\n",
            "Requirement already satisfied: idna<4,>=2.5 in /usr/local/lib/python3.11/dist-packages (from requests>=2.22.0->nlpaug) (3.10)\n",
            "Requirement already satisfied: urllib3<3,>=1.21.1 in /usr/local/lib/python3.11/dist-packages (from requests>=2.22.0->nlpaug) (2.3.0)\n",
            "Requirement already satisfied: certifi>=2017.4.17 in /usr/local/lib/python3.11/dist-packages (from requests>=2.22.0->nlpaug) (2025.1.31)\n",
            "Requirement already satisfied: six>=1.5 in /usr/local/lib/python3.11/dist-packages (from python-dateutil>=2.8.2->pandas>=1.2.0->nlpaug) (1.17.0)\n",
            "Requirement already satisfied: soupsieve>1.2 in /usr/local/lib/python3.11/dist-packages (from beautifulsoup4->gdown>=4.0.0->nlpaug) (2.6)\n",
            "Requirement already satisfied: typing-extensions>=4.0.0 in /usr/local/lib/python3.11/dist-packages (from beautifulsoup4->gdown>=4.0.0->nlpaug) (4.12.2)\n",
            "Requirement already satisfied: PySocks!=1.5.7,>=1.5.6 in /usr/local/lib/python3.11/dist-packages (from requests[socks]->gdown>=4.0.0->nlpaug) (1.7.1)\n",
            "Downloading nlpaug-1.1.11-py3-none-any.whl (410 kB)\n",
            "\u001b[2K   \u001b[90m━━━━━━━━━━━━━━━━━━━━━━━━━━━━━━━━━━━━━━━━\u001b[0m \u001b[32m410.5/410.5 kB\u001b[0m \u001b[31m7.1 MB/s\u001b[0m eta \u001b[36m0:00:00\u001b[0m\n",
            "\u001b[?25hInstalling collected packages: nlpaug\n",
            "Successfully installed nlpaug-1.1.11\n"
          ]
        }
      ],
      "source": [
        "!pip install nlpaug"
      ]
    },
    {
      "cell_type": "code",
      "execution_count": null,
      "metadata": {
        "colab": {
          "base_uri": "https://localhost:8080/",
          "height": 204
        },
        "id": "Un-Fa8pZI8JU",
        "outputId": "4df9c639-3e10-4f17-d486-25a9a6397506"
      },
      "outputs": [
        {
          "data": {
            "application/vnd.google.colaboratory.intrinsic+json": {
              "summary": "{\n  \"name\": \"aug_df\",\n  \"rows\": 1000,\n  \"fields\": [\n    {\n      \"column\": \"Title\",\n      \"properties\": {\n        \"dtype\": \"string\",\n        \"num_unique_values\": 1000,\n        \"samples\": [\n          \"  pdf   ai from a criminal law perspective\",\n          \"the study of engagement at work from the ai perspective   a systematic review\",\n          \"how ai could keep young workers from getting the skills they need\"\n        ],\n        \"semantic_type\": \"\",\n        \"description\": \"\"\n      }\n    },\n    {\n      \"column\": \"Category\",\n      \"properties\": {\n        \"dtype\": \"category\",\n        \"num_unique_values\": 4,\n        \"samples\": [\n          \"{AI Ethics, Law & Policy}\",\n          \"{Other}\",\n          \"{Education}\"\n        ],\n        \"semantic_type\": \"\",\n        \"description\": \"\"\n      }\n    }\n  ]\n}",
              "type": "dataframe",
              "variable_name": "aug_df"
            },
            "text/html": [
              "\n",
              "  <div id=\"df-ad7f5080-6f45-44d1-8ea3-361074d24bd7\" class=\"colab-df-container\">\n",
              "    <div>\n",
              "<style scoped>\n",
              "    .dataframe tbody tr th:only-of-type {\n",
              "        vertical-align: middle;\n",
              "    }\n",
              "\n",
              "    .dataframe tbody tr th {\n",
              "        vertical-align: top;\n",
              "    }\n",
              "\n",
              "    .dataframe thead th {\n",
              "        text-align: right;\n",
              "    }\n",
              "</style>\n",
              "<table border=\"1\" class=\"dataframe\">\n",
              "  <thead>\n",
              "    <tr style=\"text-align: right;\">\n",
              "      <th></th>\n",
              "      <th>Title</th>\n",
              "      <th>Category</th>\n",
              "    </tr>\n",
              "  </thead>\n",
              "  <tbody>\n",
              "    <tr>\n",
              "      <th>0</th>\n",
              "      <td>chatgpt   student ai cheating cases soar at uk...</td>\n",
              "      <td>{Education}</td>\n",
              "    </tr>\n",
              "    <tr>\n",
              "      <th>1</th>\n",
              "      <td>mansfield and ashfield students debate the not...</td>\n",
              "      <td>{Education}</td>\n",
              "    </tr>\n",
              "    <tr>\n",
              "      <th>2</th>\n",
              "      <td>teachers must be equipped to guide students   ...</td>\n",
              "      <td>{Education}</td>\n",
              "    </tr>\n",
              "    <tr>\n",
              "      <th>3</th>\n",
              "      <td>new app state tool uses ai to connect current ...</td>\n",
              "      <td>{Education}</td>\n",
              "    </tr>\n",
              "    <tr>\n",
              "      <th>4</th>\n",
              "      <td>ecampus survey probes student feelings about ai</td>\n",
              "      <td>{Education}</td>\n",
              "    </tr>\n",
              "  </tbody>\n",
              "</table>\n",
              "</div>\n",
              "    <div class=\"colab-df-buttons\">\n",
              "\n",
              "  <div class=\"colab-df-container\">\n",
              "    <button class=\"colab-df-convert\" onclick=\"convertToInteractive('df-ad7f5080-6f45-44d1-8ea3-361074d24bd7')\"\n",
              "            title=\"Convert this dataframe to an interactive table.\"\n",
              "            style=\"display:none;\">\n",
              "\n",
              "  <svg xmlns=\"http://www.w3.org/2000/svg\" height=\"24px\" viewBox=\"0 -960 960 960\">\n",
              "    <path d=\"M120-120v-720h720v720H120Zm60-500h600v-160H180v160Zm220 220h160v-160H400v160Zm0 220h160v-160H400v160ZM180-400h160v-160H180v160Zm440 0h160v-160H620v160ZM180-180h160v-160H180v160Zm440 0h160v-160H620v160Z\"/>\n",
              "  </svg>\n",
              "    </button>\n",
              "\n",
              "  <style>\n",
              "    .colab-df-container {\n",
              "      display:flex;\n",
              "      gap: 12px;\n",
              "    }\n",
              "\n",
              "    .colab-df-convert {\n",
              "      background-color: #E8F0FE;\n",
              "      border: none;\n",
              "      border-radius: 50%;\n",
              "      cursor: pointer;\n",
              "      display: none;\n",
              "      fill: #1967D2;\n",
              "      height: 32px;\n",
              "      padding: 0 0 0 0;\n",
              "      width: 32px;\n",
              "    }\n",
              "\n",
              "    .colab-df-convert:hover {\n",
              "      background-color: #E2EBFA;\n",
              "      box-shadow: 0px 1px 2px rgba(60, 64, 67, 0.3), 0px 1px 3px 1px rgba(60, 64, 67, 0.15);\n",
              "      fill: #174EA6;\n",
              "    }\n",
              "\n",
              "    .colab-df-buttons div {\n",
              "      margin-bottom: 4px;\n",
              "    }\n",
              "\n",
              "    [theme=dark] .colab-df-convert {\n",
              "      background-color: #3B4455;\n",
              "      fill: #D2E3FC;\n",
              "    }\n",
              "\n",
              "    [theme=dark] .colab-df-convert:hover {\n",
              "      background-color: #434B5C;\n",
              "      box-shadow: 0px 1px 3px 1px rgba(0, 0, 0, 0.15);\n",
              "      filter: drop-shadow(0px 1px 2px rgba(0, 0, 0, 0.3));\n",
              "      fill: #FFFFFF;\n",
              "    }\n",
              "  </style>\n",
              "\n",
              "    <script>\n",
              "      const buttonEl =\n",
              "        document.querySelector('#df-ad7f5080-6f45-44d1-8ea3-361074d24bd7 button.colab-df-convert');\n",
              "      buttonEl.style.display =\n",
              "        google.colab.kernel.accessAllowed ? 'block' : 'none';\n",
              "\n",
              "      async function convertToInteractive(key) {\n",
              "        const element = document.querySelector('#df-ad7f5080-6f45-44d1-8ea3-361074d24bd7');\n",
              "        const dataTable =\n",
              "          await google.colab.kernel.invokeFunction('convertToInteractive',\n",
              "                                                    [key], {});\n",
              "        if (!dataTable) return;\n",
              "\n",
              "        const docLinkHtml = 'Like what you see? Visit the ' +\n",
              "          '<a target=\"_blank\" href=https://colab.research.google.com/notebooks/data_table.ipynb>data table notebook</a>'\n",
              "          + ' to learn more about interactive tables.';\n",
              "        element.innerHTML = '';\n",
              "        dataTable['output_type'] = 'display_data';\n",
              "        await google.colab.output.renderOutput(dataTable, element);\n",
              "        const docLink = document.createElement('div');\n",
              "        docLink.innerHTML = docLinkHtml;\n",
              "        element.appendChild(docLink);\n",
              "      }\n",
              "    </script>\n",
              "  </div>\n",
              "\n",
              "\n",
              "<div id=\"df-dcab4366-128a-4079-9861-485c14805f48\">\n",
              "  <button class=\"colab-df-quickchart\" onclick=\"quickchart('df-dcab4366-128a-4079-9861-485c14805f48')\"\n",
              "            title=\"Suggest charts\"\n",
              "            style=\"display:none;\">\n",
              "\n",
              "<svg xmlns=\"http://www.w3.org/2000/svg\" height=\"24px\"viewBox=\"0 0 24 24\"\n",
              "     width=\"24px\">\n",
              "    <g>\n",
              "        <path d=\"M19 3H5c-1.1 0-2 .9-2 2v14c0 1.1.9 2 2 2h14c1.1 0 2-.9 2-2V5c0-1.1-.9-2-2-2zM9 17H7v-7h2v7zm4 0h-2V7h2v10zm4 0h-2v-4h2v4z\"/>\n",
              "    </g>\n",
              "</svg>\n",
              "  </button>\n",
              "\n",
              "<style>\n",
              "  .colab-df-quickchart {\n",
              "      --bg-color: #E8F0FE;\n",
              "      --fill-color: #1967D2;\n",
              "      --hover-bg-color: #E2EBFA;\n",
              "      --hover-fill-color: #174EA6;\n",
              "      --disabled-fill-color: #AAA;\n",
              "      --disabled-bg-color: #DDD;\n",
              "  }\n",
              "\n",
              "  [theme=dark] .colab-df-quickchart {\n",
              "      --bg-color: #3B4455;\n",
              "      --fill-color: #D2E3FC;\n",
              "      --hover-bg-color: #434B5C;\n",
              "      --hover-fill-color: #FFFFFF;\n",
              "      --disabled-bg-color: #3B4455;\n",
              "      --disabled-fill-color: #666;\n",
              "  }\n",
              "\n",
              "  .colab-df-quickchart {\n",
              "    background-color: var(--bg-color);\n",
              "    border: none;\n",
              "    border-radius: 50%;\n",
              "    cursor: pointer;\n",
              "    display: none;\n",
              "    fill: var(--fill-color);\n",
              "    height: 32px;\n",
              "    padding: 0;\n",
              "    width: 32px;\n",
              "  }\n",
              "\n",
              "  .colab-df-quickchart:hover {\n",
              "    background-color: var(--hover-bg-color);\n",
              "    box-shadow: 0 1px 2px rgba(60, 64, 67, 0.3), 0 1px 3px 1px rgba(60, 64, 67, 0.15);\n",
              "    fill: var(--button-hover-fill-color);\n",
              "  }\n",
              "\n",
              "  .colab-df-quickchart-complete:disabled,\n",
              "  .colab-df-quickchart-complete:disabled:hover {\n",
              "    background-color: var(--disabled-bg-color);\n",
              "    fill: var(--disabled-fill-color);\n",
              "    box-shadow: none;\n",
              "  }\n",
              "\n",
              "  .colab-df-spinner {\n",
              "    border: 2px solid var(--fill-color);\n",
              "    border-color: transparent;\n",
              "    border-bottom-color: var(--fill-color);\n",
              "    animation:\n",
              "      spin 1s steps(1) infinite;\n",
              "  }\n",
              "\n",
              "  @keyframes spin {\n",
              "    0% {\n",
              "      border-color: transparent;\n",
              "      border-bottom-color: var(--fill-color);\n",
              "      border-left-color: var(--fill-color);\n",
              "    }\n",
              "    20% {\n",
              "      border-color: transparent;\n",
              "      border-left-color: var(--fill-color);\n",
              "      border-top-color: var(--fill-color);\n",
              "    }\n",
              "    30% {\n",
              "      border-color: transparent;\n",
              "      border-left-color: var(--fill-color);\n",
              "      border-top-color: var(--fill-color);\n",
              "      border-right-color: var(--fill-color);\n",
              "    }\n",
              "    40% {\n",
              "      border-color: transparent;\n",
              "      border-right-color: var(--fill-color);\n",
              "      border-top-color: var(--fill-color);\n",
              "    }\n",
              "    60% {\n",
              "      border-color: transparent;\n",
              "      border-right-color: var(--fill-color);\n",
              "    }\n",
              "    80% {\n",
              "      border-color: transparent;\n",
              "      border-right-color: var(--fill-color);\n",
              "      border-bottom-color: var(--fill-color);\n",
              "    }\n",
              "    90% {\n",
              "      border-color: transparent;\n",
              "      border-bottom-color: var(--fill-color);\n",
              "    }\n",
              "  }\n",
              "</style>\n",
              "\n",
              "  <script>\n",
              "    async function quickchart(key) {\n",
              "      const quickchartButtonEl =\n",
              "        document.querySelector('#' + key + ' button');\n",
              "      quickchartButtonEl.disabled = true;  // To prevent multiple clicks.\n",
              "      quickchartButtonEl.classList.add('colab-df-spinner');\n",
              "      try {\n",
              "        const charts = await google.colab.kernel.invokeFunction(\n",
              "            'suggestCharts', [key], {});\n",
              "      } catch (error) {\n",
              "        console.error('Error during call to suggestCharts:', error);\n",
              "      }\n",
              "      quickchartButtonEl.classList.remove('colab-df-spinner');\n",
              "      quickchartButtonEl.classList.add('colab-df-quickchart-complete');\n",
              "    }\n",
              "    (() => {\n",
              "      let quickchartButtonEl =\n",
              "        document.querySelector('#df-dcab4366-128a-4079-9861-485c14805f48 button');\n",
              "      quickchartButtonEl.style.display =\n",
              "        google.colab.kernel.accessAllowed ? 'block' : 'none';\n",
              "    })();\n",
              "  </script>\n",
              "</div>\n",
              "\n",
              "    </div>\n",
              "  </div>\n"
            ],
            "text/plain": [
              "                                               Title     Category\n",
              "0  chatgpt   student ai cheating cases soar at uk...  {Education}\n",
              "1  mansfield and ashfield students debate the not...  {Education}\n",
              "2  teachers must be equipped to guide students   ...  {Education}\n",
              "3  new app state tool uses ai to connect current ...  {Education}\n",
              "4    ecampus survey probes student feelings about ai  {Education}"
            ]
          },
          "execution_count": 230,
          "metadata": {},
          "output_type": "execute_result"
        }
      ],
      "source": [
        "import pandas as pd\n",
        "import random\n",
        "import nlpaug.augmenter.word as naw\n",
        "\n",
        "# Example dataset with categories\n",
        "\n",
        "# Define augmentation functions using NLPAug\n",
        "synonym_aug = naw.SynonymAug(aug_p=0.3)\n",
        "contextual_insert_aug = naw.ContextualWordEmbsAug(model_path='bert-base-uncased', action=\"insert\", aug_p=0.3)\n",
        "random_deletion_aug = naw.RandomWordAug(action=\"delete\", aug_p=0.3)\n",
        "\n",
        "# Define the target number of samples for each category (custom list)\n",
        "target_samples_per_category = {\n",
        "    '{Education}': 300,\n",
        "    '{AI Ethics, Law & Policy}': 300,\n",
        "    '{Careers & Workforce}': 300,\n",
        "    '{Other}': 100,\n",
        "}\n",
        "\n",
        "# Function to apply augmentations and balance dataset\n",
        "def augment_data_and_balance(df, target_samples_per_category):\n",
        "    augmented_data_df = []\n",
        "\n",
        "    category_sample_counts = df['Category'].value_counts().to_dict()  # Current count of each category\n",
        "\n",
        "    # Iterate through categories to ensure each category gets the required number of samples\n",
        "    for category, target_count in target_samples_per_category.items():\n",
        "        category_data = df[df['Category'] == category]\n",
        "        # If the current category has fewer samples, augment to the target count\n",
        "        while len(category_data) < target_count:\n",
        "            augmented_data = []\n",
        "            # Select a random row from the current category to apply augmentation\n",
        "            row = category_data.sample(n=1).iloc[0]\n",
        "            text = row['Title']\n",
        "\n",
        "            # Apply multiple augmentation techniques to this sample\n",
        "            augmented_data.append({\n",
        "                'Title': synonym_aug.augment(text)[0],\n",
        "                'Category': category\n",
        "            })\n",
        "            augmented_data.append({\n",
        "                'Title': contextual_insert_aug.augment(text)[0],\n",
        "                'Category': category\n",
        "            })\n",
        "            augmented_data.append({\n",
        "                'Title': random_deletion_aug.augment(text)[0],\n",
        "                'Category': category\n",
        "            })\n",
        "            category_data = pd.concat([category_data, pd.DataFrame(augmented_data)])\n",
        "\n",
        "        # Once category has enough samples, add the original samples and the augmented samples\n",
        "        augmented_data_df.append(category_data)\n",
        "\n",
        "    # Create a final DataFrame with all augmented data\n",
        "    final_df = pd.concat(augmented_data_df, ignore_index=True)\n",
        "\n",
        "    # Truncate or sample the dataset if it exceeds the target number of samples per category\n",
        "    balanced_df = pd.DataFrame(columns=final_df.columns)\n",
        "\n",
        "    for category in final_df['Category'].unique():\n",
        "        category_data = final_df[final_df['Category'] == category]\n",
        "        if len(category_data) > target_samples_per_category[category]:\n",
        "            category_data = category_data.sample(target_samples_per_category[category], random_state=42)\n",
        "        balanced_df = pd.concat([balanced_df, category_data], ignore_index=True)\n",
        "\n",
        "    return balanced_df\n",
        "\n",
        "# Apply the function to augment and balance the dataset\n",
        "aug_df = augment_data_and_balance(t, target_samples_per_category)\n",
        "\n",
        "# Display the final balanced dataset\n",
        "aug_df.head()\n"
      ]
    },
    {
      "cell_type": "code",
      "execution_count": null,
      "metadata": {
        "colab": {
          "base_uri": "https://localhost:8080/",
          "height": 238
        },
        "id": "JPRC7hjhMpj4",
        "outputId": "3848f314-e550-4741-89a7-a491f6246d83"
      },
      "outputs": [
        {
          "data": {
            "text/html": [
              "<div>\n",
              "<style scoped>\n",
              "    .dataframe tbody tr th:only-of-type {\n",
              "        vertical-align: middle;\n",
              "    }\n",
              "\n",
              "    .dataframe tbody tr th {\n",
              "        vertical-align: top;\n",
              "    }\n",
              "\n",
              "    .dataframe thead th {\n",
              "        text-align: right;\n",
              "    }\n",
              "</style>\n",
              "<table border=\"1\" class=\"dataframe\">\n",
              "  <thead>\n",
              "    <tr style=\"text-align: right;\">\n",
              "      <th></th>\n",
              "      <th>count</th>\n",
              "    </tr>\n",
              "    <tr>\n",
              "      <th>Category</th>\n",
              "      <th></th>\n",
              "    </tr>\n",
              "  </thead>\n",
              "  <tbody>\n",
              "    <tr>\n",
              "      <th>{Education}</th>\n",
              "      <td>300</td>\n",
              "    </tr>\n",
              "    <tr>\n",
              "      <th>{AI Ethics, Law &amp; Policy}</th>\n",
              "      <td>300</td>\n",
              "    </tr>\n",
              "    <tr>\n",
              "      <th>{Careers &amp; Workforce}</th>\n",
              "      <td>300</td>\n",
              "    </tr>\n",
              "    <tr>\n",
              "      <th>{Other}</th>\n",
              "      <td>100</td>\n",
              "    </tr>\n",
              "  </tbody>\n",
              "</table>\n",
              "</div><br><label><b>dtype:</b> int64</label>"
            ],
            "text/plain": [
              "Category\n",
              "{Education}                  300\n",
              "{AI Ethics, Law & Policy}    300\n",
              "{Careers & Workforce}        300\n",
              "{Other}                      100\n",
              "Name: count, dtype: int64"
            ]
          },
          "execution_count": 232,
          "metadata": {},
          "output_type": "execute_result"
        }
      ],
      "source": [
        "aug_df['Category'].value_counts()"
      ]
    },
    {
      "cell_type": "code",
      "execution_count": null,
      "metadata": {
        "colab": {
          "base_uri": "https://localhost:8080/",
          "height": 204
        },
        "id": "gXY2n6_WMzD8",
        "outputId": "8b6cdf3c-c523-47f8-bb9d-21bd3aff2017"
      },
      "outputs": [
        {
          "data": {
            "application/vnd.google.colaboratory.intrinsic+json": {
              "summary": "{\n  \"name\": \"df_balanced\",\n  \"rows\": 3497,\n  \"fields\": [\n    {\n      \"column\": \"Title\",\n      \"properties\": {\n        \"dtype\": \"string\",\n        \"num_unique_values\": 3497,\n        \"samples\": [\n          \"presentation of the council of europe  s activities on ai   ai   during the oecd\",\n          \"microsoft   s new ai agents set to shake up enterprise software   sparking new battle with salesforce\",\n          \"bcc   most smes still struggling to embrace ai\"\n        ],\n        \"semantic_type\": \"\",\n        \"description\": \"\"\n      }\n    },\n    {\n      \"column\": \"Category\",\n      \"properties\": {\n        \"dtype\": \"category\",\n        \"num_unique_values\": 5,\n        \"samples\": [\n          \"{AI Governance & Geopolitics}\",\n          \"{AI overview, risks & impact}\",\n          \"{AI in companies & Enterprises}\"\n        ],\n        \"semantic_type\": \"\",\n        \"description\": \"\"\n      }\n    }\n  ]\n}",
              "type": "dataframe",
              "variable_name": "df_balanced"
            },
            "text/html": [
              "\n",
              "  <div id=\"df-1580c837-e709-47ee-b123-292bb2df3e7d\" class=\"colab-df-container\">\n",
              "    <div>\n",
              "<style scoped>\n",
              "    .dataframe tbody tr th:only-of-type {\n",
              "        vertical-align: middle;\n",
              "    }\n",
              "\n",
              "    .dataframe tbody tr th {\n",
              "        vertical-align: top;\n",
              "    }\n",
              "\n",
              "    .dataframe thead th {\n",
              "        text-align: right;\n",
              "    }\n",
              "</style>\n",
              "<table border=\"1\" class=\"dataframe\">\n",
              "  <thead>\n",
              "    <tr style=\"text-align: right;\">\n",
              "      <th></th>\n",
              "      <th>Title</th>\n",
              "      <th>Category</th>\n",
              "    </tr>\n",
              "  </thead>\n",
              "  <tbody>\n",
              "    <tr>\n",
              "      <th>1448</th>\n",
              "      <td>udio   s ai music is my new obsession</td>\n",
              "      <td>{AI in various Industries}</td>\n",
              "    </tr>\n",
              "    <tr>\n",
              "      <th>802</th>\n",
              "      <td>ai opens door to safe   effective new antibiot...</td>\n",
              "      <td>{AI in various Industries}</td>\n",
              "    </tr>\n",
              "    <tr>\n",
              "      <th>776</th>\n",
              "      <td>the algorithm journey map   a tangible approac...</td>\n",
              "      <td>{AI in various Industries}</td>\n",
              "    </tr>\n",
              "    <tr>\n",
              "      <th>1548</th>\n",
              "      <td>tears for fears defend using ai to create new ...</td>\n",
              "      <td>{AI in various Industries}</td>\n",
              "    </tr>\n",
              "    <tr>\n",
              "      <th>925</th>\n",
              "      <td>how ai can power brand management</td>\n",
              "      <td>{AI in various Industries}</td>\n",
              "    </tr>\n",
              "  </tbody>\n",
              "</table>\n",
              "</div>\n",
              "    <div class=\"colab-df-buttons\">\n",
              "\n",
              "  <div class=\"colab-df-container\">\n",
              "    <button class=\"colab-df-convert\" onclick=\"convertToInteractive('df-1580c837-e709-47ee-b123-292bb2df3e7d')\"\n",
              "            title=\"Convert this dataframe to an interactive table.\"\n",
              "            style=\"display:none;\">\n",
              "\n",
              "  <svg xmlns=\"http://www.w3.org/2000/svg\" height=\"24px\" viewBox=\"0 -960 960 960\">\n",
              "    <path d=\"M120-120v-720h720v720H120Zm60-500h600v-160H180v160Zm220 220h160v-160H400v160Zm0 220h160v-160H400v160ZM180-400h160v-160H180v160Zm440 0h160v-160H620v160ZM180-180h160v-160H180v160Zm440 0h160v-160H620v160Z\"/>\n",
              "  </svg>\n",
              "    </button>\n",
              "\n",
              "  <style>\n",
              "    .colab-df-container {\n",
              "      display:flex;\n",
              "      gap: 12px;\n",
              "    }\n",
              "\n",
              "    .colab-df-convert {\n",
              "      background-color: #E8F0FE;\n",
              "      border: none;\n",
              "      border-radius: 50%;\n",
              "      cursor: pointer;\n",
              "      display: none;\n",
              "      fill: #1967D2;\n",
              "      height: 32px;\n",
              "      padding: 0 0 0 0;\n",
              "      width: 32px;\n",
              "    }\n",
              "\n",
              "    .colab-df-convert:hover {\n",
              "      background-color: #E2EBFA;\n",
              "      box-shadow: 0px 1px 2px rgba(60, 64, 67, 0.3), 0px 1px 3px 1px rgba(60, 64, 67, 0.15);\n",
              "      fill: #174EA6;\n",
              "    }\n",
              "\n",
              "    .colab-df-buttons div {\n",
              "      margin-bottom: 4px;\n",
              "    }\n",
              "\n",
              "    [theme=dark] .colab-df-convert {\n",
              "      background-color: #3B4455;\n",
              "      fill: #D2E3FC;\n",
              "    }\n",
              "\n",
              "    [theme=dark] .colab-df-convert:hover {\n",
              "      background-color: #434B5C;\n",
              "      box-shadow: 0px 1px 3px 1px rgba(0, 0, 0, 0.15);\n",
              "      filter: drop-shadow(0px 1px 2px rgba(0, 0, 0, 0.3));\n",
              "      fill: #FFFFFF;\n",
              "    }\n",
              "  </style>\n",
              "\n",
              "    <script>\n",
              "      const buttonEl =\n",
              "        document.querySelector('#df-1580c837-e709-47ee-b123-292bb2df3e7d button.colab-df-convert');\n",
              "      buttonEl.style.display =\n",
              "        google.colab.kernel.accessAllowed ? 'block' : 'none';\n",
              "\n",
              "      async function convertToInteractive(key) {\n",
              "        const element = document.querySelector('#df-1580c837-e709-47ee-b123-292bb2df3e7d');\n",
              "        const dataTable =\n",
              "          await google.colab.kernel.invokeFunction('convertToInteractive',\n",
              "                                                    [key], {});\n",
              "        if (!dataTable) return;\n",
              "\n",
              "        const docLinkHtml = 'Like what you see? Visit the ' +\n",
              "          '<a target=\"_blank\" href=https://colab.research.google.com/notebooks/data_table.ipynb>data table notebook</a>'\n",
              "          + ' to learn more about interactive tables.';\n",
              "        element.innerHTML = '';\n",
              "        dataTable['output_type'] = 'display_data';\n",
              "        await google.colab.output.renderOutput(dataTable, element);\n",
              "        const docLink = document.createElement('div');\n",
              "        docLink.innerHTML = docLinkHtml;\n",
              "        element.appendChild(docLink);\n",
              "      }\n",
              "    </script>\n",
              "  </div>\n",
              "\n",
              "\n",
              "<div id=\"df-0147dfe8-32a7-45b6-88a8-71a2b18fb393\">\n",
              "  <button class=\"colab-df-quickchart\" onclick=\"quickchart('df-0147dfe8-32a7-45b6-88a8-71a2b18fb393')\"\n",
              "            title=\"Suggest charts\"\n",
              "            style=\"display:none;\">\n",
              "\n",
              "<svg xmlns=\"http://www.w3.org/2000/svg\" height=\"24px\"viewBox=\"0 0 24 24\"\n",
              "     width=\"24px\">\n",
              "    <g>\n",
              "        <path d=\"M19 3H5c-1.1 0-2 .9-2 2v14c0 1.1.9 2 2 2h14c1.1 0 2-.9 2-2V5c0-1.1-.9-2-2-2zM9 17H7v-7h2v7zm4 0h-2V7h2v10zm4 0h-2v-4h2v4z\"/>\n",
              "    </g>\n",
              "</svg>\n",
              "  </button>\n",
              "\n",
              "<style>\n",
              "  .colab-df-quickchart {\n",
              "      --bg-color: #E8F0FE;\n",
              "      --fill-color: #1967D2;\n",
              "      --hover-bg-color: #E2EBFA;\n",
              "      --hover-fill-color: #174EA6;\n",
              "      --disabled-fill-color: #AAA;\n",
              "      --disabled-bg-color: #DDD;\n",
              "  }\n",
              "\n",
              "  [theme=dark] .colab-df-quickchart {\n",
              "      --bg-color: #3B4455;\n",
              "      --fill-color: #D2E3FC;\n",
              "      --hover-bg-color: #434B5C;\n",
              "      --hover-fill-color: #FFFFFF;\n",
              "      --disabled-bg-color: #3B4455;\n",
              "      --disabled-fill-color: #666;\n",
              "  }\n",
              "\n",
              "  .colab-df-quickchart {\n",
              "    background-color: var(--bg-color);\n",
              "    border: none;\n",
              "    border-radius: 50%;\n",
              "    cursor: pointer;\n",
              "    display: none;\n",
              "    fill: var(--fill-color);\n",
              "    height: 32px;\n",
              "    padding: 0;\n",
              "    width: 32px;\n",
              "  }\n",
              "\n",
              "  .colab-df-quickchart:hover {\n",
              "    background-color: var(--hover-bg-color);\n",
              "    box-shadow: 0 1px 2px rgba(60, 64, 67, 0.3), 0 1px 3px 1px rgba(60, 64, 67, 0.15);\n",
              "    fill: var(--button-hover-fill-color);\n",
              "  }\n",
              "\n",
              "  .colab-df-quickchart-complete:disabled,\n",
              "  .colab-df-quickchart-complete:disabled:hover {\n",
              "    background-color: var(--disabled-bg-color);\n",
              "    fill: var(--disabled-fill-color);\n",
              "    box-shadow: none;\n",
              "  }\n",
              "\n",
              "  .colab-df-spinner {\n",
              "    border: 2px solid var(--fill-color);\n",
              "    border-color: transparent;\n",
              "    border-bottom-color: var(--fill-color);\n",
              "    animation:\n",
              "      spin 1s steps(1) infinite;\n",
              "  }\n",
              "\n",
              "  @keyframes spin {\n",
              "    0% {\n",
              "      border-color: transparent;\n",
              "      border-bottom-color: var(--fill-color);\n",
              "      border-left-color: var(--fill-color);\n",
              "    }\n",
              "    20% {\n",
              "      border-color: transparent;\n",
              "      border-left-color: var(--fill-color);\n",
              "      border-top-color: var(--fill-color);\n",
              "    }\n",
              "    30% {\n",
              "      border-color: transparent;\n",
              "      border-left-color: var(--fill-color);\n",
              "      border-top-color: var(--fill-color);\n",
              "      border-right-color: var(--fill-color);\n",
              "    }\n",
              "    40% {\n",
              "      border-color: transparent;\n",
              "      border-right-color: var(--fill-color);\n",
              "      border-top-color: var(--fill-color);\n",
              "    }\n",
              "    60% {\n",
              "      border-color: transparent;\n",
              "      border-right-color: var(--fill-color);\n",
              "    }\n",
              "    80% {\n",
              "      border-color: transparent;\n",
              "      border-right-color: var(--fill-color);\n",
              "      border-bottom-color: var(--fill-color);\n",
              "    }\n",
              "    90% {\n",
              "      border-color: transparent;\n",
              "      border-bottom-color: var(--fill-color);\n",
              "    }\n",
              "  }\n",
              "</style>\n",
              "\n",
              "  <script>\n",
              "    async function quickchart(key) {\n",
              "      const quickchartButtonEl =\n",
              "        document.querySelector('#' + key + ' button');\n",
              "      quickchartButtonEl.disabled = true;  // To prevent multiple clicks.\n",
              "      quickchartButtonEl.classList.add('colab-df-spinner');\n",
              "      try {\n",
              "        const charts = await google.colab.kernel.invokeFunction(\n",
              "            'suggestCharts', [key], {});\n",
              "      } catch (error) {\n",
              "        console.error('Error during call to suggestCharts:', error);\n",
              "      }\n",
              "      quickchartButtonEl.classList.remove('colab-df-spinner');\n",
              "      quickchartButtonEl.classList.add('colab-df-quickchart-complete');\n",
              "    }\n",
              "    (() => {\n",
              "      let quickchartButtonEl =\n",
              "        document.querySelector('#df-0147dfe8-32a7-45b6-88a8-71a2b18fb393 button');\n",
              "      quickchartButtonEl.style.display =\n",
              "        google.colab.kernel.accessAllowed ? 'block' : 'none';\n",
              "    })();\n",
              "  </script>\n",
              "</div>\n",
              "\n",
              "    </div>\n",
              "  </div>\n"
            ],
            "text/plain": [
              "                                                  Title  \\\n",
              "1448              udio   s ai music is my new obsession   \n",
              "802   ai opens door to safe   effective new antibiot...   \n",
              "776   the algorithm journey map   a tangible approac...   \n",
              "1548  tears for fears defend using ai to create new ...   \n",
              "925                   how ai can power brand management   \n",
              "\n",
              "                        Category  \n",
              "1448  {AI in various Industries}  \n",
              "802   {AI in various Industries}  \n",
              "776   {AI in various Industries}  \n",
              "1548  {AI in various Industries}  \n",
              "925   {AI in various Industries}  "
            ]
          },
          "execution_count": 233,
          "metadata": {},
          "output_type": "execute_result"
        }
      ],
      "source": [
        "df_balanced.head()"
      ]
    },
    {
      "cell_type": "code",
      "execution_count": null,
      "metadata": {
        "id": "ubkaSRz4M2TG"
      },
      "outputs": [],
      "source": [
        "final_df = pd.concat([df_balanced,aug_df])"
      ]
    },
    {
      "cell_type": "code",
      "execution_count": null,
      "metadata": {
        "colab": {
          "base_uri": "https://localhost:8080/",
          "height": 393
        },
        "id": "vIL3OTClNFwU",
        "outputId": "e17f9063-b9e5-448d-bbf0-70318a8f989e"
      },
      "outputs": [
        {
          "data": {
            "text/html": [
              "<div>\n",
              "<style scoped>\n",
              "    .dataframe tbody tr th:only-of-type {\n",
              "        vertical-align: middle;\n",
              "    }\n",
              "\n",
              "    .dataframe tbody tr th {\n",
              "        vertical-align: top;\n",
              "    }\n",
              "\n",
              "    .dataframe thead th {\n",
              "        text-align: right;\n",
              "    }\n",
              "</style>\n",
              "<table border=\"1\" class=\"dataframe\">\n",
              "  <thead>\n",
              "    <tr style=\"text-align: right;\">\n",
              "      <th></th>\n",
              "      <th>count</th>\n",
              "    </tr>\n",
              "    <tr>\n",
              "      <th>Category</th>\n",
              "      <th></th>\n",
              "    </tr>\n",
              "  </thead>\n",
              "  <tbody>\n",
              "    <tr>\n",
              "      <th>{AI in various Industries}</th>\n",
              "      <td>1000</td>\n",
              "    </tr>\n",
              "    <tr>\n",
              "      <th>{AI Governance &amp; Geopolitics}</th>\n",
              "      <td>800</td>\n",
              "    </tr>\n",
              "    <tr>\n",
              "      <th>{AI in companies &amp; Enterprises}</th>\n",
              "      <td>800</td>\n",
              "    </tr>\n",
              "    <tr>\n",
              "      <th>{AI Investments &amp; Market Trends}</th>\n",
              "      <td>598</td>\n",
              "    </tr>\n",
              "    <tr>\n",
              "      <th>{Education}</th>\n",
              "      <td>300</td>\n",
              "    </tr>\n",
              "    <tr>\n",
              "      <th>{Careers &amp; Workforce}</th>\n",
              "      <td>300</td>\n",
              "    </tr>\n",
              "    <tr>\n",
              "      <th>{AI Ethics, Law &amp; Policy}</th>\n",
              "      <td>300</td>\n",
              "    </tr>\n",
              "    <tr>\n",
              "      <th>{AI overview, risks &amp; impact}</th>\n",
              "      <td>299</td>\n",
              "    </tr>\n",
              "    <tr>\n",
              "      <th>{Other}</th>\n",
              "      <td>100</td>\n",
              "    </tr>\n",
              "  </tbody>\n",
              "</table>\n",
              "</div><br><label><b>dtype:</b> int64</label>"
            ],
            "text/plain": [
              "Category\n",
              "{AI in various Industries}          1000\n",
              "{AI Governance & Geopolitics}        800\n",
              "{AI in companies & Enterprises}      800\n",
              "{AI Investments & Market Trends}     598\n",
              "{Education}                          300\n",
              "{Careers & Workforce}                300\n",
              "{AI Ethics, Law & Policy}            300\n",
              "{AI overview, risks & impact}        299\n",
              "{Other}                              100\n",
              "Name: count, dtype: int64"
            ]
          },
          "execution_count": 239,
          "metadata": {},
          "output_type": "execute_result"
        }
      ],
      "source": [
        "final_df['Category'].value_counts()"
      ]
    },
    {
      "cell_type": "code",
      "execution_count": null,
      "metadata": {
        "id": "OgMRPQLAN7pr"
      },
      "outputs": [],
      "source": [
        "def cat(x):\n",
        "  if x in ['{AI in various Industries}','{AI Governance & Geopolitics}','{AI in companies & Enterprises}','{AI Investments & Market Trends}','{AI Ethics, Law & Policy}','{AI overview, risks & impact}']:\n",
        "    return '{Society}'\n",
        "  else:\n",
        "    return x"
      ]
    },
    {
      "cell_type": "code",
      "execution_count": null,
      "metadata": {
        "id": "kOgvXniaNxpw"
      },
      "outputs": [],
      "source": [
        "final_df['broad_category'] = final_df['Category'].apply(lambda x: cat(x))"
      ]
    },
    {
      "cell_type": "code",
      "execution_count": null,
      "metadata": {
        "colab": {
          "base_uri": "https://localhost:8080/",
          "height": 393
        },
        "id": "fZKT_1OTOW2m",
        "outputId": "b476bebd-30bf-4232-d874-0a43e9698c13"
      },
      "outputs": [
        {
          "data": {
            "text/html": [
              "<div>\n",
              "<style scoped>\n",
              "    .dataframe tbody tr th:only-of-type {\n",
              "        vertical-align: middle;\n",
              "    }\n",
              "\n",
              "    .dataframe tbody tr th {\n",
              "        vertical-align: top;\n",
              "    }\n",
              "\n",
              "    .dataframe thead th {\n",
              "        text-align: right;\n",
              "    }\n",
              "</style>\n",
              "<table border=\"1\" class=\"dataframe\">\n",
              "  <thead>\n",
              "    <tr style=\"text-align: right;\">\n",
              "      <th></th>\n",
              "      <th></th>\n",
              "      <th>count</th>\n",
              "    </tr>\n",
              "    <tr>\n",
              "      <th>broad_category</th>\n",
              "      <th>Category</th>\n",
              "      <th></th>\n",
              "    </tr>\n",
              "  </thead>\n",
              "  <tbody>\n",
              "    <tr>\n",
              "      <th>{Careers &amp; Workforce}</th>\n",
              "      <th>{Careers &amp; Workforce}</th>\n",
              "      <td>300</td>\n",
              "    </tr>\n",
              "    <tr>\n",
              "      <th>{Education}</th>\n",
              "      <th>{Education}</th>\n",
              "      <td>300</td>\n",
              "    </tr>\n",
              "    <tr>\n",
              "      <th>{Other}</th>\n",
              "      <th>{Other}</th>\n",
              "      <td>100</td>\n",
              "    </tr>\n",
              "    <tr>\n",
              "      <th rowspan=\"6\" valign=\"top\">{Society}</th>\n",
              "      <th>{AI Ethics, Law &amp; Policy}</th>\n",
              "      <td>300</td>\n",
              "    </tr>\n",
              "    <tr>\n",
              "      <th>{AI Governance &amp; Geopolitics}</th>\n",
              "      <td>800</td>\n",
              "    </tr>\n",
              "    <tr>\n",
              "      <th>{AI Investments &amp; Market Trends}</th>\n",
              "      <td>598</td>\n",
              "    </tr>\n",
              "    <tr>\n",
              "      <th>{AI in companies &amp; Enterprises}</th>\n",
              "      <td>800</td>\n",
              "    </tr>\n",
              "    <tr>\n",
              "      <th>{AI in various Industries}</th>\n",
              "      <td>1000</td>\n",
              "    </tr>\n",
              "    <tr>\n",
              "      <th>{AI overview, risks &amp; impact}</th>\n",
              "      <td>299</td>\n",
              "    </tr>\n",
              "  </tbody>\n",
              "</table>\n",
              "</div><br><label><b>dtype:</b> int64</label>"
            ],
            "text/plain": [
              "broad_category         Category                        \n",
              "{Careers & Workforce}  {Careers & Workforce}                300\n",
              "{Education}            {Education}                          300\n",
              "{Other}                {Other}                              100\n",
              "{Society}              {AI Ethics, Law & Policy}            300\n",
              "                       {AI Governance & Geopolitics}        800\n",
              "                       {AI Investments & Market Trends}     598\n",
              "                       {AI in companies & Enterprises}      800\n",
              "                       {AI in various Industries}          1000\n",
              "                       {AI overview, risks & impact}        299\n",
              "Name: count, dtype: int64"
            ]
          },
          "execution_count": 250,
          "metadata": {},
          "output_type": "execute_result"
        }
      ],
      "source": [
        "final_df[['broad_category','Category']].groupby(['broad_category','Category']).value_counts()"
      ]
    },
    {
      "cell_type": "code",
      "execution_count": null,
      "metadata": {
        "colab": {
          "base_uri": "https://localhost:8080/",
          "height": 204
        },
        "id": "X7UXkw43O6_S",
        "outputId": "64aca582-0669-4c2a-a894-dc003c469e2f"
      },
      "outputs": [
        {
          "data": {
            "application/vnd.google.colaboratory.intrinsic+json": {
              "summary": "{\n  \"name\": \"final_df\",\n  \"rows\": 4497,\n  \"fields\": [\n    {\n      \"column\": \"Title\",\n      \"properties\": {\n        \"dtype\": \"string\",\n        \"num_unique_values\": 4497,\n        \"samples\": [\n          \"what accountants need to know about ai\",\n          \"lanl introduces new ai council\",\n          \"applying ai and machine learning to clinical trials\"\n        ],\n        \"semantic_type\": \"\",\n        \"description\": \"\"\n      }\n    },\n    {\n      \"column\": \"Category\",\n      \"properties\": {\n        \"dtype\": \"category\",\n        \"num_unique_values\": 9,\n        \"samples\": [\n          \"{Careers & Workforce}\",\n          \"{AI Governance & Geopolitics}\",\n          \"{Education}\"\n        ],\n        \"semantic_type\": \"\",\n        \"description\": \"\"\n      }\n    },\n    {\n      \"column\": \"broad_category\",\n      \"properties\": {\n        \"dtype\": \"category\",\n        \"num_unique_values\": 4,\n        \"samples\": [\n          \"{Education}\",\n          \"{Other}\",\n          \"{Society}\"\n        ],\n        \"semantic_type\": \"\",\n        \"description\": \"\"\n      }\n    }\n  ]\n}",
              "type": "dataframe",
              "variable_name": "final_df"
            },
            "text/html": [
              "\n",
              "  <div id=\"df-2a48f11f-f6dd-4594-8e44-12379e4c6a6a\" class=\"colab-df-container\">\n",
              "    <div>\n",
              "<style scoped>\n",
              "    .dataframe tbody tr th:only-of-type {\n",
              "        vertical-align: middle;\n",
              "    }\n",
              "\n",
              "    .dataframe tbody tr th {\n",
              "        vertical-align: top;\n",
              "    }\n",
              "\n",
              "    .dataframe thead th {\n",
              "        text-align: right;\n",
              "    }\n",
              "</style>\n",
              "<table border=\"1\" class=\"dataframe\">\n",
              "  <thead>\n",
              "    <tr style=\"text-align: right;\">\n",
              "      <th></th>\n",
              "      <th>Title</th>\n",
              "      <th>Category</th>\n",
              "      <th>broad_category</th>\n",
              "    </tr>\n",
              "  </thead>\n",
              "  <tbody>\n",
              "    <tr>\n",
              "      <th>1448</th>\n",
              "      <td>udio   s ai music is my new obsession</td>\n",
              "      <td>{AI in various Industries}</td>\n",
              "      <td>{Society}</td>\n",
              "    </tr>\n",
              "    <tr>\n",
              "      <th>802</th>\n",
              "      <td>ai opens door to safe   effective new antibiot...</td>\n",
              "      <td>{AI in various Industries}</td>\n",
              "      <td>{Society}</td>\n",
              "    </tr>\n",
              "    <tr>\n",
              "      <th>776</th>\n",
              "      <td>the algorithm journey map   a tangible approac...</td>\n",
              "      <td>{AI in various Industries}</td>\n",
              "      <td>{Society}</td>\n",
              "    </tr>\n",
              "    <tr>\n",
              "      <th>1548</th>\n",
              "      <td>tears for fears defend using ai to create new ...</td>\n",
              "      <td>{AI in various Industries}</td>\n",
              "      <td>{Society}</td>\n",
              "    </tr>\n",
              "    <tr>\n",
              "      <th>925</th>\n",
              "      <td>how ai can power brand management</td>\n",
              "      <td>{AI in various Industries}</td>\n",
              "      <td>{Society}</td>\n",
              "    </tr>\n",
              "  </tbody>\n",
              "</table>\n",
              "</div>\n",
              "    <div class=\"colab-df-buttons\">\n",
              "\n",
              "  <div class=\"colab-df-container\">\n",
              "    <button class=\"colab-df-convert\" onclick=\"convertToInteractive('df-2a48f11f-f6dd-4594-8e44-12379e4c6a6a')\"\n",
              "            title=\"Convert this dataframe to an interactive table.\"\n",
              "            style=\"display:none;\">\n",
              "\n",
              "  <svg xmlns=\"http://www.w3.org/2000/svg\" height=\"24px\" viewBox=\"0 -960 960 960\">\n",
              "    <path d=\"M120-120v-720h720v720H120Zm60-500h600v-160H180v160Zm220 220h160v-160H400v160Zm0 220h160v-160H400v160ZM180-400h160v-160H180v160Zm440 0h160v-160H620v160ZM180-180h160v-160H180v160Zm440 0h160v-160H620v160Z\"/>\n",
              "  </svg>\n",
              "    </button>\n",
              "\n",
              "  <style>\n",
              "    .colab-df-container {\n",
              "      display:flex;\n",
              "      gap: 12px;\n",
              "    }\n",
              "\n",
              "    .colab-df-convert {\n",
              "      background-color: #E8F0FE;\n",
              "      border: none;\n",
              "      border-radius: 50%;\n",
              "      cursor: pointer;\n",
              "      display: none;\n",
              "      fill: #1967D2;\n",
              "      height: 32px;\n",
              "      padding: 0 0 0 0;\n",
              "      width: 32px;\n",
              "    }\n",
              "\n",
              "    .colab-df-convert:hover {\n",
              "      background-color: #E2EBFA;\n",
              "      box-shadow: 0px 1px 2px rgba(60, 64, 67, 0.3), 0px 1px 3px 1px rgba(60, 64, 67, 0.15);\n",
              "      fill: #174EA6;\n",
              "    }\n",
              "\n",
              "    .colab-df-buttons div {\n",
              "      margin-bottom: 4px;\n",
              "    }\n",
              "\n",
              "    [theme=dark] .colab-df-convert {\n",
              "      background-color: #3B4455;\n",
              "      fill: #D2E3FC;\n",
              "    }\n",
              "\n",
              "    [theme=dark] .colab-df-convert:hover {\n",
              "      background-color: #434B5C;\n",
              "      box-shadow: 0px 1px 3px 1px rgba(0, 0, 0, 0.15);\n",
              "      filter: drop-shadow(0px 1px 2px rgba(0, 0, 0, 0.3));\n",
              "      fill: #FFFFFF;\n",
              "    }\n",
              "  </style>\n",
              "\n",
              "    <script>\n",
              "      const buttonEl =\n",
              "        document.querySelector('#df-2a48f11f-f6dd-4594-8e44-12379e4c6a6a button.colab-df-convert');\n",
              "      buttonEl.style.display =\n",
              "        google.colab.kernel.accessAllowed ? 'block' : 'none';\n",
              "\n",
              "      async function convertToInteractive(key) {\n",
              "        const element = document.querySelector('#df-2a48f11f-f6dd-4594-8e44-12379e4c6a6a');\n",
              "        const dataTable =\n",
              "          await google.colab.kernel.invokeFunction('convertToInteractive',\n",
              "                                                    [key], {});\n",
              "        if (!dataTable) return;\n",
              "\n",
              "        const docLinkHtml = 'Like what you see? Visit the ' +\n",
              "          '<a target=\"_blank\" href=https://colab.research.google.com/notebooks/data_table.ipynb>data table notebook</a>'\n",
              "          + ' to learn more about interactive tables.';\n",
              "        element.innerHTML = '';\n",
              "        dataTable['output_type'] = 'display_data';\n",
              "        await google.colab.output.renderOutput(dataTable, element);\n",
              "        const docLink = document.createElement('div');\n",
              "        docLink.innerHTML = docLinkHtml;\n",
              "        element.appendChild(docLink);\n",
              "      }\n",
              "    </script>\n",
              "  </div>\n",
              "\n",
              "\n",
              "<div id=\"df-9038a504-89f7-4436-b5d6-cd388845ce37\">\n",
              "  <button class=\"colab-df-quickchart\" onclick=\"quickchart('df-9038a504-89f7-4436-b5d6-cd388845ce37')\"\n",
              "            title=\"Suggest charts\"\n",
              "            style=\"display:none;\">\n",
              "\n",
              "<svg xmlns=\"http://www.w3.org/2000/svg\" height=\"24px\"viewBox=\"0 0 24 24\"\n",
              "     width=\"24px\">\n",
              "    <g>\n",
              "        <path d=\"M19 3H5c-1.1 0-2 .9-2 2v14c0 1.1.9 2 2 2h14c1.1 0 2-.9 2-2V5c0-1.1-.9-2-2-2zM9 17H7v-7h2v7zm4 0h-2V7h2v10zm4 0h-2v-4h2v4z\"/>\n",
              "    </g>\n",
              "</svg>\n",
              "  </button>\n",
              "\n",
              "<style>\n",
              "  .colab-df-quickchart {\n",
              "      --bg-color: #E8F0FE;\n",
              "      --fill-color: #1967D2;\n",
              "      --hover-bg-color: #E2EBFA;\n",
              "      --hover-fill-color: #174EA6;\n",
              "      --disabled-fill-color: #AAA;\n",
              "      --disabled-bg-color: #DDD;\n",
              "  }\n",
              "\n",
              "  [theme=dark] .colab-df-quickchart {\n",
              "      --bg-color: #3B4455;\n",
              "      --fill-color: #D2E3FC;\n",
              "      --hover-bg-color: #434B5C;\n",
              "      --hover-fill-color: #FFFFFF;\n",
              "      --disabled-bg-color: #3B4455;\n",
              "      --disabled-fill-color: #666;\n",
              "  }\n",
              "\n",
              "  .colab-df-quickchart {\n",
              "    background-color: var(--bg-color);\n",
              "    border: none;\n",
              "    border-radius: 50%;\n",
              "    cursor: pointer;\n",
              "    display: none;\n",
              "    fill: var(--fill-color);\n",
              "    height: 32px;\n",
              "    padding: 0;\n",
              "    width: 32px;\n",
              "  }\n",
              "\n",
              "  .colab-df-quickchart:hover {\n",
              "    background-color: var(--hover-bg-color);\n",
              "    box-shadow: 0 1px 2px rgba(60, 64, 67, 0.3), 0 1px 3px 1px rgba(60, 64, 67, 0.15);\n",
              "    fill: var(--button-hover-fill-color);\n",
              "  }\n",
              "\n",
              "  .colab-df-quickchart-complete:disabled,\n",
              "  .colab-df-quickchart-complete:disabled:hover {\n",
              "    background-color: var(--disabled-bg-color);\n",
              "    fill: var(--disabled-fill-color);\n",
              "    box-shadow: none;\n",
              "  }\n",
              "\n",
              "  .colab-df-spinner {\n",
              "    border: 2px solid var(--fill-color);\n",
              "    border-color: transparent;\n",
              "    border-bottom-color: var(--fill-color);\n",
              "    animation:\n",
              "      spin 1s steps(1) infinite;\n",
              "  }\n",
              "\n",
              "  @keyframes spin {\n",
              "    0% {\n",
              "      border-color: transparent;\n",
              "      border-bottom-color: var(--fill-color);\n",
              "      border-left-color: var(--fill-color);\n",
              "    }\n",
              "    20% {\n",
              "      border-color: transparent;\n",
              "      border-left-color: var(--fill-color);\n",
              "      border-top-color: var(--fill-color);\n",
              "    }\n",
              "    30% {\n",
              "      border-color: transparent;\n",
              "      border-left-color: var(--fill-color);\n",
              "      border-top-color: var(--fill-color);\n",
              "      border-right-color: var(--fill-color);\n",
              "    }\n",
              "    40% {\n",
              "      border-color: transparent;\n",
              "      border-right-color: var(--fill-color);\n",
              "      border-top-color: var(--fill-color);\n",
              "    }\n",
              "    60% {\n",
              "      border-color: transparent;\n",
              "      border-right-color: var(--fill-color);\n",
              "    }\n",
              "    80% {\n",
              "      border-color: transparent;\n",
              "      border-right-color: var(--fill-color);\n",
              "      border-bottom-color: var(--fill-color);\n",
              "    }\n",
              "    90% {\n",
              "      border-color: transparent;\n",
              "      border-bottom-color: var(--fill-color);\n",
              "    }\n",
              "  }\n",
              "</style>\n",
              "\n",
              "  <script>\n",
              "    async function quickchart(key) {\n",
              "      const quickchartButtonEl =\n",
              "        document.querySelector('#' + key + ' button');\n",
              "      quickchartButtonEl.disabled = true;  // To prevent multiple clicks.\n",
              "      quickchartButtonEl.classList.add('colab-df-spinner');\n",
              "      try {\n",
              "        const charts = await google.colab.kernel.invokeFunction(\n",
              "            'suggestCharts', [key], {});\n",
              "      } catch (error) {\n",
              "        console.error('Error during call to suggestCharts:', error);\n",
              "      }\n",
              "      quickchartButtonEl.classList.remove('colab-df-spinner');\n",
              "      quickchartButtonEl.classList.add('colab-df-quickchart-complete');\n",
              "    }\n",
              "    (() => {\n",
              "      let quickchartButtonEl =\n",
              "        document.querySelector('#df-9038a504-89f7-4436-b5d6-cd388845ce37 button');\n",
              "      quickchartButtonEl.style.display =\n",
              "        google.colab.kernel.accessAllowed ? 'block' : 'none';\n",
              "    })();\n",
              "  </script>\n",
              "</div>\n",
              "\n",
              "    </div>\n",
              "  </div>\n"
            ],
            "text/plain": [
              "                                                  Title  \\\n",
              "1448              udio   s ai music is my new obsession   \n",
              "802   ai opens door to safe   effective new antibiot...   \n",
              "776   the algorithm journey map   a tangible approac...   \n",
              "1548  tears for fears defend using ai to create new ...   \n",
              "925                   how ai can power brand management   \n",
              "\n",
              "                        Category broad_category  \n",
              "1448  {AI in various Industries}      {Society}  \n",
              "802   {AI in various Industries}      {Society}  \n",
              "776   {AI in various Industries}      {Society}  \n",
              "1548  {AI in various Industries}      {Society}  \n",
              "925   {AI in various Industries}      {Society}  "
            ]
          },
          "execution_count": 251,
          "metadata": {},
          "output_type": "execute_result"
        }
      ],
      "source": [
        "final_df.head()"
      ]
    },
    {
      "cell_type": "code",
      "execution_count": null,
      "metadata": {
        "id": "CABXvP6AeGOi"
      },
      "outputs": [],
      "source": [
        "final_df.to_csv('datasets/train_data-15mar-1.csv')"
      ]
    }
  ],
  "metadata": {
    "accelerator": "GPU",
    "colab": {
      "collapsed_sections": [
        "3EoYdfLqgEN1",
        "_r32z28rgIe0",
        "wrRW5QDIhQwd",
        "jUH1ytJEow-w",
        "e0XgCqrRPyEe",
        "OGOyR-inKnhr",
        "-hIWBRddKcOd",
        "LQLlrmIfO2ex",
        "aWFTXmkyaGrn",
        "IMq5PnzRcpTs",
        "ZlbJalKCdmaI",
        "c5EsBp4UeQhk",
        "ts_qKk1aTO8D",
        "VG9wpGz6XEmI",
        "3_-74nekXGzV",
        "8AsNBSV0YWln",
        "vgdPNIr8ZitP",
        "ncDsYuIrah03",
        "22TPDUG7bS3Z",
        "bZU_s2nfb6S4",
        "Xxl1bTaGcbkz",
        "G8iSGw94dEKD",
        "YL7JcFrNeJgc",
        "PNxRl3K4SDzP"
      ],
      "gpuType": "A100",
      "machine_shape": "hm",
      "provenance": []
    },
    "kernelspec": {
      "display_name": "Python 3",
      "name": "python3"
    },
    "language_info": {
      "name": "python"
    },
    "widgets": {
      "application/vnd.jupyter.widget-state+json": {
        "002f7ab5e64a4e4db9116eea286acb7c": {
          "model_module": "@jupyter-widgets/controls",
          "model_module_version": "1.5.0",
          "model_name": "DescriptionStyleModel",
          "state": {
            "_model_module": "@jupyter-widgets/controls",
            "_model_module_version": "1.5.0",
            "_model_name": "DescriptionStyleModel",
            "_view_count": null,
            "_view_module": "@jupyter-widgets/base",
            "_view_module_version": "1.2.0",
            "_view_name": "StyleView",
            "description_width": ""
          }
        },
        "0043a18b6b354c72b547e57dc96346c0": {
          "model_module": "@jupyter-widgets/controls",
          "model_module_version": "1.5.0",
          "model_name": "FloatProgressModel",
          "state": {
            "_dom_classes": [],
            "_model_module": "@jupyter-widgets/controls",
            "_model_module_version": "1.5.0",
            "_model_name": "FloatProgressModel",
            "_view_count": null,
            "_view_module": "@jupyter-widgets/controls",
            "_view_module_version": "1.5.0",
            "_view_name": "ProgressView",
            "bar_style": "success",
            "description": "",
            "description_tooltip": null,
            "layout": "IPY_MODEL_75068580ac434aae966eb5c5f813624f",
            "max": 612,
            "min": 0,
            "orientation": "horizontal",
            "style": "IPY_MODEL_a77a830e27c34cc1af22173f8dc67962",
            "value": 612
          }
        },
        "005956174f0b49e59b1b2a3a8380d213": {
          "model_module": "@jupyter-widgets/controls",
          "model_module_version": "1.5.0",
          "model_name": "HTMLModel",
          "state": {
            "_dom_classes": [],
            "_model_module": "@jupyter-widgets/controls",
            "_model_module_version": "1.5.0",
            "_model_name": "HTMLModel",
            "_view_count": null,
            "_view_module": "@jupyter-widgets/controls",
            "_view_module_version": "1.5.0",
            "_view_name": "HTMLView",
            "description": "",
            "description_tooltip": null,
            "layout": "IPY_MODEL_0ca55d48dfa84400be61fc1173dd3f43",
            "placeholder": "​",
            "style": "IPY_MODEL_872999e2baeb4b9394c73ef9ad368f31",
            "value": " 90.9M/90.9M [00:00&lt;00:00, 211MB/s]"
          }
        },
        "0166b446786f48339fc24d0a0fcf6c1b": {
          "model_module": "@jupyter-widgets/controls",
          "model_module_version": "1.5.0",
          "model_name": "FloatProgressModel",
          "state": {
            "_dom_classes": [],
            "_model_module": "@jupyter-widgets/controls",
            "_model_module_version": "1.5.0",
            "_model_name": "FloatProgressModel",
            "_view_count": null,
            "_view_module": "@jupyter-widgets/controls",
            "_view_module_version": "1.5.0",
            "_view_name": "ProgressView",
            "bar_style": "success",
            "description": "",
            "description_tooltip": null,
            "layout": "IPY_MODEL_ea0d1cecf57242b1bdc5e4e5338545fa",
            "max": 10454,
            "min": 0,
            "orientation": "horizontal",
            "style": "IPY_MODEL_ee9546f0d15e4bf6baae9e13fc28ecd2",
            "value": 10454
          }
        },
        "04933b20d25849e9af0f97b2c0ab5734": {
          "model_module": "@jupyter-widgets/controls",
          "model_module_version": "1.5.0",
          "model_name": "HTMLModel",
          "state": {
            "_dom_classes": [],
            "_model_module": "@jupyter-widgets/controls",
            "_model_module_version": "1.5.0",
            "_model_name": "HTMLModel",
            "_view_count": null,
            "_view_module": "@jupyter-widgets/controls",
            "_view_module_version": "1.5.0",
            "_view_name": "HTMLView",
            "description": "",
            "description_tooltip": null,
            "layout": "IPY_MODEL_46213585e44b4cca9b79355c1a6830dc",
            "placeholder": "​",
            "style": "IPY_MODEL_08ee24ccf2cd4539a85a8ddf411c110a",
            "value": "special_tokens_map.json: 100%"
          }
        },
        "050234c1f2b644db898e12594bd6a5bf": {
          "model_module": "@jupyter-widgets/controls",
          "model_module_version": "1.5.0",
          "model_name": "FloatProgressModel",
          "state": {
            "_dom_classes": [],
            "_model_module": "@jupyter-widgets/controls",
            "_model_module_version": "1.5.0",
            "_model_name": "FloatProgressModel",
            "_view_count": null,
            "_view_module": "@jupyter-widgets/controls",
            "_view_module_version": "1.5.0",
            "_view_name": "ProgressView",
            "bar_style": "success",
            "description": "",
            "description_tooltip": null,
            "layout": "IPY_MODEL_7fc133e8f38541898abe69e1654cbc4c",
            "max": 53,
            "min": 0,
            "orientation": "horizontal",
            "style": "IPY_MODEL_fb93b2527b664ae4a554cd7b823a171f",
            "value": 53
          }
        },
        "05bf1a9892cb4344a6f2a341186c16e5": {
          "model_module": "@jupyter-widgets/controls",
          "model_module_version": "1.5.0",
          "model_name": "HBoxModel",
          "state": {
            "_dom_classes": [],
            "_model_module": "@jupyter-widgets/controls",
            "_model_module_version": "1.5.0",
            "_model_name": "HBoxModel",
            "_view_count": null,
            "_view_module": "@jupyter-widgets/controls",
            "_view_module_version": "1.5.0",
            "_view_name": "HBoxView",
            "box_style": "",
            "children": [
              "IPY_MODEL_f913d1c9f7ee4020bfaa999102fff1e2",
              "IPY_MODEL_050234c1f2b644db898e12594bd6a5bf",
              "IPY_MODEL_30e25049397a477baedbb4e3d4790b67"
            ],
            "layout": "IPY_MODEL_0e8e1d23f97a46e2a52f9e4f0a681863"
          }
        },
        "06bbe6211b10498ab8fb11e76433ab87": {
          "model_module": "@jupyter-widgets/controls",
          "model_module_version": "1.5.0",
          "model_name": "HTMLModel",
          "state": {
            "_dom_classes": [],
            "_model_module": "@jupyter-widgets/controls",
            "_model_module_version": "1.5.0",
            "_model_name": "HTMLModel",
            "_view_count": null,
            "_view_module": "@jupyter-widgets/controls",
            "_view_module_version": "1.5.0",
            "_view_name": "HTMLView",
            "description": "",
            "description_tooltip": null,
            "layout": "IPY_MODEL_26d639cb437a40cbaf1bb795cfdc630e",
            "placeholder": "​",
            "style": "IPY_MODEL_32a095f427ed4de39c0d4bb723ada10d",
            "value": " 612/612 [00:00&lt;00:00, 48.9kB/s]"
          }
        },
        "08440e87b30d41f6ac5e9c2cbddde9e8": {
          "model_module": "@jupyter-widgets/controls",
          "model_module_version": "1.5.0",
          "model_name": "HBoxModel",
          "state": {
            "_dom_classes": [],
            "_model_module": "@jupyter-widgets/controls",
            "_model_module_version": "1.5.0",
            "_model_name": "HBoxModel",
            "_view_count": null,
            "_view_module": "@jupyter-widgets/controls",
            "_view_module_version": "1.5.0",
            "_view_name": "HBoxView",
            "box_style": "",
            "children": [
              "IPY_MODEL_baac72b5248047cea5fc6f1c9fa30757",
              "IPY_MODEL_de6c98d868d7429fa2bf6e53e0719043",
              "IPY_MODEL_a12f0238e1814a75a3d7ecf83c3c7985"
            ],
            "layout": "IPY_MODEL_49ec5a4031814966a6f61025d742b8c0"
          }
        },
        "08ee24ccf2cd4539a85a8ddf411c110a": {
          "model_module": "@jupyter-widgets/controls",
          "model_module_version": "1.5.0",
          "model_name": "DescriptionStyleModel",
          "state": {
            "_model_module": "@jupyter-widgets/controls",
            "_model_module_version": "1.5.0",
            "_model_name": "DescriptionStyleModel",
            "_view_count": null,
            "_view_module": "@jupyter-widgets/base",
            "_view_module_version": "1.2.0",
            "_view_name": "StyleView",
            "description_width": ""
          }
        },
        "0ca55d48dfa84400be61fc1173dd3f43": {
          "model_module": "@jupyter-widgets/base",
          "model_module_version": "1.2.0",
          "model_name": "LayoutModel",
          "state": {
            "_model_module": "@jupyter-widgets/base",
            "_model_module_version": "1.2.0",
            "_model_name": "LayoutModel",
            "_view_count": null,
            "_view_module": "@jupyter-widgets/base",
            "_view_module_version": "1.2.0",
            "_view_name": "LayoutView",
            "align_content": null,
            "align_items": null,
            "align_self": null,
            "border": null,
            "bottom": null,
            "display": null,
            "flex": null,
            "flex_flow": null,
            "grid_area": null,
            "grid_auto_columns": null,
            "grid_auto_flow": null,
            "grid_auto_rows": null,
            "grid_column": null,
            "grid_gap": null,
            "grid_row": null,
            "grid_template_areas": null,
            "grid_template_columns": null,
            "grid_template_rows": null,
            "height": null,
            "justify_content": null,
            "justify_items": null,
            "left": null,
            "margin": null,
            "max_height": null,
            "max_width": null,
            "min_height": null,
            "min_width": null,
            "object_fit": null,
            "object_position": null,
            "order": null,
            "overflow": null,
            "overflow_x": null,
            "overflow_y": null,
            "padding": null,
            "right": null,
            "top": null,
            "visibility": null,
            "width": null
          }
        },
        "0e8e1d23f97a46e2a52f9e4f0a681863": {
          "model_module": "@jupyter-widgets/base",
          "model_module_version": "1.2.0",
          "model_name": "LayoutModel",
          "state": {
            "_model_module": "@jupyter-widgets/base",
            "_model_module_version": "1.2.0",
            "_model_name": "LayoutModel",
            "_view_count": null,
            "_view_module": "@jupyter-widgets/base",
            "_view_module_version": "1.2.0",
            "_view_name": "LayoutView",
            "align_content": null,
            "align_items": null,
            "align_self": null,
            "border": null,
            "bottom": null,
            "display": null,
            "flex": null,
            "flex_flow": null,
            "grid_area": null,
            "grid_auto_columns": null,
            "grid_auto_flow": null,
            "grid_auto_rows": null,
            "grid_column": null,
            "grid_gap": null,
            "grid_row": null,
            "grid_template_areas": null,
            "grid_template_columns": null,
            "grid_template_rows": null,
            "height": null,
            "justify_content": null,
            "justify_items": null,
            "left": null,
            "margin": null,
            "max_height": null,
            "max_width": null,
            "min_height": null,
            "min_width": null,
            "object_fit": null,
            "object_position": null,
            "order": null,
            "overflow": null,
            "overflow_x": null,
            "overflow_y": null,
            "padding": null,
            "right": null,
            "top": null,
            "visibility": null,
            "width": null
          }
        },
        "10424f32a94d4105ab1b8e511cf1b411": {
          "model_module": "@jupyter-widgets/base",
          "model_module_version": "1.2.0",
          "model_name": "LayoutModel",
          "state": {
            "_model_module": "@jupyter-widgets/base",
            "_model_module_version": "1.2.0",
            "_model_name": "LayoutModel",
            "_view_count": null,
            "_view_module": "@jupyter-widgets/base",
            "_view_module_version": "1.2.0",
            "_view_name": "LayoutView",
            "align_content": null,
            "align_items": null,
            "align_self": null,
            "border": null,
            "bottom": null,
            "display": null,
            "flex": null,
            "flex_flow": null,
            "grid_area": null,
            "grid_auto_columns": null,
            "grid_auto_flow": null,
            "grid_auto_rows": null,
            "grid_column": null,
            "grid_gap": null,
            "grid_row": null,
            "grid_template_areas": null,
            "grid_template_columns": null,
            "grid_template_rows": null,
            "height": null,
            "justify_content": null,
            "justify_items": null,
            "left": null,
            "margin": null,
            "max_height": null,
            "max_width": null,
            "min_height": null,
            "min_width": null,
            "object_fit": null,
            "object_position": null,
            "order": null,
            "overflow": null,
            "overflow_x": null,
            "overflow_y": null,
            "padding": null,
            "right": null,
            "top": null,
            "visibility": null,
            "width": null
          }
        },
        "1169effefaeb4f948eb4a179e18ae96a": {
          "model_module": "@jupyter-widgets/controls",
          "model_module_version": "1.5.0",
          "model_name": "FloatProgressModel",
          "state": {
            "_dom_classes": [],
            "_model_module": "@jupyter-widgets/controls",
            "_model_module_version": "1.5.0",
            "_model_name": "FloatProgressModel",
            "_view_count": null,
            "_view_module": "@jupyter-widgets/controls",
            "_view_module_version": "1.5.0",
            "_view_name": "ProgressView",
            "bar_style": "success",
            "description": "",
            "description_tooltip": null,
            "layout": "IPY_MODEL_8eb5ac7223d14a5ca4213aedf7207b98",
            "max": 112,
            "min": 0,
            "orientation": "horizontal",
            "style": "IPY_MODEL_dce54d29ac5f48c8919cea92a42306f4",
            "value": 112
          }
        },
        "1295297d3aca4f7ba5e6e2ed0465392c": {
          "model_module": "@jupyter-widgets/base",
          "model_module_version": "1.2.0",
          "model_name": "LayoutModel",
          "state": {
            "_model_module": "@jupyter-widgets/base",
            "_model_module_version": "1.2.0",
            "_model_name": "LayoutModel",
            "_view_count": null,
            "_view_module": "@jupyter-widgets/base",
            "_view_module_version": "1.2.0",
            "_view_name": "LayoutView",
            "align_content": null,
            "align_items": null,
            "align_self": null,
            "border": null,
            "bottom": null,
            "display": null,
            "flex": null,
            "flex_flow": null,
            "grid_area": null,
            "grid_auto_columns": null,
            "grid_auto_flow": null,
            "grid_auto_rows": null,
            "grid_column": null,
            "grid_gap": null,
            "grid_row": null,
            "grid_template_areas": null,
            "grid_template_columns": null,
            "grid_template_rows": null,
            "height": null,
            "justify_content": null,
            "justify_items": null,
            "left": null,
            "margin": null,
            "max_height": null,
            "max_width": null,
            "min_height": null,
            "min_width": null,
            "object_fit": null,
            "object_position": null,
            "order": null,
            "overflow": null,
            "overflow_x": null,
            "overflow_y": null,
            "padding": null,
            "right": null,
            "top": null,
            "visibility": null,
            "width": null
          }
        },
        "1886ad29d6a74246afdb3101481854fa": {
          "model_module": "@jupyter-widgets/controls",
          "model_module_version": "1.5.0",
          "model_name": "DescriptionStyleModel",
          "state": {
            "_model_module": "@jupyter-widgets/controls",
            "_model_module_version": "1.5.0",
            "_model_name": "DescriptionStyleModel",
            "_view_count": null,
            "_view_module": "@jupyter-widgets/base",
            "_view_module_version": "1.2.0",
            "_view_name": "StyleView",
            "description_width": ""
          }
        },
        "1c3b8151f96349279272727a58f33c5c": {
          "model_module": "@jupyter-widgets/controls",
          "model_module_version": "1.5.0",
          "model_name": "DescriptionStyleModel",
          "state": {
            "_model_module": "@jupyter-widgets/controls",
            "_model_module_version": "1.5.0",
            "_model_name": "DescriptionStyleModel",
            "_view_count": null,
            "_view_module": "@jupyter-widgets/base",
            "_view_module_version": "1.2.0",
            "_view_name": "StyleView",
            "description_width": ""
          }
        },
        "1c6a9a81ac84434a8f184ab16cb33904": {
          "model_module": "@jupyter-widgets/controls",
          "model_module_version": "1.5.0",
          "model_name": "HTMLModel",
          "state": {
            "_dom_classes": [],
            "_model_module": "@jupyter-widgets/controls",
            "_model_module_version": "1.5.0",
            "_model_name": "HTMLModel",
            "_view_count": null,
            "_view_module": "@jupyter-widgets/controls",
            "_view_module_version": "1.5.0",
            "_view_name": "HTMLView",
            "description": "",
            "description_tooltip": null,
            "layout": "IPY_MODEL_cb7bba5d5e1d4bbb804998d873297087",
            "placeholder": "​",
            "style": "IPY_MODEL_876372535c4646a1bf5c71be05e510ba",
            "value": " 116/116 [00:00&lt;00:00, 5.90kB/s]"
          }
        },
        "1cbc3af9140b4cf0acdff25855482606": {
          "model_module": "@jupyter-widgets/base",
          "model_module_version": "1.2.0",
          "model_name": "LayoutModel",
          "state": {
            "_model_module": "@jupyter-widgets/base",
            "_model_module_version": "1.2.0",
            "_model_name": "LayoutModel",
            "_view_count": null,
            "_view_module": "@jupyter-widgets/base",
            "_view_module_version": "1.2.0",
            "_view_name": "LayoutView",
            "align_content": null,
            "align_items": null,
            "align_self": null,
            "border": null,
            "bottom": null,
            "display": null,
            "flex": null,
            "flex_flow": null,
            "grid_area": null,
            "grid_auto_columns": null,
            "grid_auto_flow": null,
            "grid_auto_rows": null,
            "grid_column": null,
            "grid_gap": null,
            "grid_row": null,
            "grid_template_areas": null,
            "grid_template_columns": null,
            "grid_template_rows": null,
            "height": null,
            "justify_content": null,
            "justify_items": null,
            "left": null,
            "margin": null,
            "max_height": null,
            "max_width": null,
            "min_height": null,
            "min_width": null,
            "object_fit": null,
            "object_position": null,
            "order": null,
            "overflow": null,
            "overflow_x": null,
            "overflow_y": null,
            "padding": null,
            "right": null,
            "top": null,
            "visibility": null,
            "width": null
          }
        },
        "1f4c428f6ce9453785dbb20207e12e2c": {
          "model_module": "@jupyter-widgets/base",
          "model_module_version": "1.2.0",
          "model_name": "LayoutModel",
          "state": {
            "_model_module": "@jupyter-widgets/base",
            "_model_module_version": "1.2.0",
            "_model_name": "LayoutModel",
            "_view_count": null,
            "_view_module": "@jupyter-widgets/base",
            "_view_module_version": "1.2.0",
            "_view_name": "LayoutView",
            "align_content": null,
            "align_items": null,
            "align_self": null,
            "border": null,
            "bottom": null,
            "display": null,
            "flex": null,
            "flex_flow": null,
            "grid_area": null,
            "grid_auto_columns": null,
            "grid_auto_flow": null,
            "grid_auto_rows": null,
            "grid_column": null,
            "grid_gap": null,
            "grid_row": null,
            "grid_template_areas": null,
            "grid_template_columns": null,
            "grid_template_rows": null,
            "height": null,
            "justify_content": null,
            "justify_items": null,
            "left": null,
            "margin": null,
            "max_height": null,
            "max_width": null,
            "min_height": null,
            "min_width": null,
            "object_fit": null,
            "object_position": null,
            "order": null,
            "overflow": null,
            "overflow_x": null,
            "overflow_y": null,
            "padding": null,
            "right": null,
            "top": null,
            "visibility": null,
            "width": null
          }
        },
        "21a2cb516fce42938160d95e11091594": {
          "model_module": "@jupyter-widgets/base",
          "model_module_version": "1.2.0",
          "model_name": "LayoutModel",
          "state": {
            "_model_module": "@jupyter-widgets/base",
            "_model_module_version": "1.2.0",
            "_model_name": "LayoutModel",
            "_view_count": null,
            "_view_module": "@jupyter-widgets/base",
            "_view_module_version": "1.2.0",
            "_view_name": "LayoutView",
            "align_content": null,
            "align_items": null,
            "align_self": null,
            "border": null,
            "bottom": null,
            "display": null,
            "flex": null,
            "flex_flow": null,
            "grid_area": null,
            "grid_auto_columns": null,
            "grid_auto_flow": null,
            "grid_auto_rows": null,
            "grid_column": null,
            "grid_gap": null,
            "grid_row": null,
            "grid_template_areas": null,
            "grid_template_columns": null,
            "grid_template_rows": null,
            "height": null,
            "justify_content": null,
            "justify_items": null,
            "left": null,
            "margin": null,
            "max_height": null,
            "max_width": null,
            "min_height": null,
            "min_width": null,
            "object_fit": null,
            "object_position": null,
            "order": null,
            "overflow": null,
            "overflow_x": null,
            "overflow_y": null,
            "padding": null,
            "right": null,
            "top": null,
            "visibility": null,
            "width": null
          }
        },
        "229e309dfe084afa9de7bb4a38aea39f": {
          "model_module": "@jupyter-widgets/base",
          "model_module_version": "1.2.0",
          "model_name": "LayoutModel",
          "state": {
            "_model_module": "@jupyter-widgets/base",
            "_model_module_version": "1.2.0",
            "_model_name": "LayoutModel",
            "_view_count": null,
            "_view_module": "@jupyter-widgets/base",
            "_view_module_version": "1.2.0",
            "_view_name": "LayoutView",
            "align_content": null,
            "align_items": null,
            "align_self": null,
            "border": null,
            "bottom": null,
            "display": null,
            "flex": null,
            "flex_flow": null,
            "grid_area": null,
            "grid_auto_columns": null,
            "grid_auto_flow": null,
            "grid_auto_rows": null,
            "grid_column": null,
            "grid_gap": null,
            "grid_row": null,
            "grid_template_areas": null,
            "grid_template_columns": null,
            "grid_template_rows": null,
            "height": null,
            "justify_content": null,
            "justify_items": null,
            "left": null,
            "margin": null,
            "max_height": null,
            "max_width": null,
            "min_height": null,
            "min_width": null,
            "object_fit": null,
            "object_position": null,
            "order": null,
            "overflow": null,
            "overflow_x": null,
            "overflow_y": null,
            "padding": null,
            "right": null,
            "top": null,
            "visibility": null,
            "width": null
          }
        },
        "26d639cb437a40cbaf1bb795cfdc630e": {
          "model_module": "@jupyter-widgets/base",
          "model_module_version": "1.2.0",
          "model_name": "LayoutModel",
          "state": {
            "_model_module": "@jupyter-widgets/base",
            "_model_module_version": "1.2.0",
            "_model_name": "LayoutModel",
            "_view_count": null,
            "_view_module": "@jupyter-widgets/base",
            "_view_module_version": "1.2.0",
            "_view_name": "LayoutView",
            "align_content": null,
            "align_items": null,
            "align_self": null,
            "border": null,
            "bottom": null,
            "display": null,
            "flex": null,
            "flex_flow": null,
            "grid_area": null,
            "grid_auto_columns": null,
            "grid_auto_flow": null,
            "grid_auto_rows": null,
            "grid_column": null,
            "grid_gap": null,
            "grid_row": null,
            "grid_template_areas": null,
            "grid_template_columns": null,
            "grid_template_rows": null,
            "height": null,
            "justify_content": null,
            "justify_items": null,
            "left": null,
            "margin": null,
            "max_height": null,
            "max_width": null,
            "min_height": null,
            "min_width": null,
            "object_fit": null,
            "object_position": null,
            "order": null,
            "overflow": null,
            "overflow_x": null,
            "overflow_y": null,
            "padding": null,
            "right": null,
            "top": null,
            "visibility": null,
            "width": null
          }
        },
        "27030edeb2a94e7e9150f73389621050": {
          "model_module": "@jupyter-widgets/controls",
          "model_module_version": "1.5.0",
          "model_name": "HTMLModel",
          "state": {
            "_dom_classes": [],
            "_model_module": "@jupyter-widgets/controls",
            "_model_module_version": "1.5.0",
            "_model_name": "HTMLModel",
            "_view_count": null,
            "_view_module": "@jupyter-widgets/controls",
            "_view_module_version": "1.5.0",
            "_view_name": "HTMLView",
            "description": "",
            "description_tooltip": null,
            "layout": "IPY_MODEL_5805092ac1c34f7c91d5cea0132a7dc4",
            "placeholder": "​",
            "style": "IPY_MODEL_e972305c05af45ae82f8780bec10b542",
            "value": " 232k/232k [00:00&lt;00:00, 2.83MB/s]"
          }
        },
        "2753e7510d27471ab17f529cdd30f2e5": {
          "model_module": "@jupyter-widgets/controls",
          "model_module_version": "1.5.0",
          "model_name": "DescriptionStyleModel",
          "state": {
            "_model_module": "@jupyter-widgets/controls",
            "_model_module_version": "1.5.0",
            "_model_name": "DescriptionStyleModel",
            "_view_count": null,
            "_view_module": "@jupyter-widgets/base",
            "_view_module_version": "1.2.0",
            "_view_name": "StyleView",
            "description_width": ""
          }
        },
        "280a5baad7094bf7b65b8694a75097d5": {
          "model_module": "@jupyter-widgets/base",
          "model_module_version": "1.2.0",
          "model_name": "LayoutModel",
          "state": {
            "_model_module": "@jupyter-widgets/base",
            "_model_module_version": "1.2.0",
            "_model_name": "LayoutModel",
            "_view_count": null,
            "_view_module": "@jupyter-widgets/base",
            "_view_module_version": "1.2.0",
            "_view_name": "LayoutView",
            "align_content": null,
            "align_items": null,
            "align_self": null,
            "border": null,
            "bottom": null,
            "display": null,
            "flex": null,
            "flex_flow": null,
            "grid_area": null,
            "grid_auto_columns": null,
            "grid_auto_flow": null,
            "grid_auto_rows": null,
            "grid_column": null,
            "grid_gap": null,
            "grid_row": null,
            "grid_template_areas": null,
            "grid_template_columns": null,
            "grid_template_rows": null,
            "height": null,
            "justify_content": null,
            "justify_items": null,
            "left": null,
            "margin": null,
            "max_height": null,
            "max_width": null,
            "min_height": null,
            "min_width": null,
            "object_fit": null,
            "object_position": null,
            "order": null,
            "overflow": null,
            "overflow_x": null,
            "overflow_y": null,
            "padding": null,
            "right": null,
            "top": null,
            "visibility": null,
            "width": null
          }
        },
        "289ddaf02ea84152b4b9598821504c6d": {
          "model_module": "@jupyter-widgets/controls",
          "model_module_version": "1.5.0",
          "model_name": "ProgressStyleModel",
          "state": {
            "_model_module": "@jupyter-widgets/controls",
            "_model_module_version": "1.5.0",
            "_model_name": "ProgressStyleModel",
            "_view_count": null,
            "_view_module": "@jupyter-widgets/base",
            "_view_module_version": "1.2.0",
            "_view_name": "StyleView",
            "bar_color": null,
            "description_width": ""
          }
        },
        "2982161bdb774b95931bdda5971f6ce2": {
          "model_module": "@jupyter-widgets/controls",
          "model_module_version": "1.5.0",
          "model_name": "HBoxModel",
          "state": {
            "_dom_classes": [],
            "_model_module": "@jupyter-widgets/controls",
            "_model_module_version": "1.5.0",
            "_model_name": "HBoxModel",
            "_view_count": null,
            "_view_module": "@jupyter-widgets/controls",
            "_view_module_version": "1.5.0",
            "_view_name": "HBoxView",
            "box_style": "",
            "children": [
              "IPY_MODEL_b38930a024f54178aea17071d8463114",
              "IPY_MODEL_0043a18b6b354c72b547e57dc96346c0",
              "IPY_MODEL_06bbe6211b10498ab8fb11e76433ab87"
            ],
            "layout": "IPY_MODEL_229e309dfe084afa9de7bb4a38aea39f"
          }
        },
        "2d4f21c835b1416cbf737c0917a8c33e": {
          "model_module": "@jupyter-widgets/base",
          "model_module_version": "1.2.0",
          "model_name": "LayoutModel",
          "state": {
            "_model_module": "@jupyter-widgets/base",
            "_model_module_version": "1.2.0",
            "_model_name": "LayoutModel",
            "_view_count": null,
            "_view_module": "@jupyter-widgets/base",
            "_view_module_version": "1.2.0",
            "_view_name": "LayoutView",
            "align_content": null,
            "align_items": null,
            "align_self": null,
            "border": null,
            "bottom": null,
            "display": null,
            "flex": null,
            "flex_flow": null,
            "grid_area": null,
            "grid_auto_columns": null,
            "grid_auto_flow": null,
            "grid_auto_rows": null,
            "grid_column": null,
            "grid_gap": null,
            "grid_row": null,
            "grid_template_areas": null,
            "grid_template_columns": null,
            "grid_template_rows": null,
            "height": null,
            "justify_content": null,
            "justify_items": null,
            "left": null,
            "margin": null,
            "max_height": null,
            "max_width": null,
            "min_height": null,
            "min_width": null,
            "object_fit": null,
            "object_position": null,
            "order": null,
            "overflow": null,
            "overflow_x": null,
            "overflow_y": null,
            "padding": null,
            "right": null,
            "top": null,
            "visibility": null,
            "width": null
          }
        },
        "30e25049397a477baedbb4e3d4790b67": {
          "model_module": "@jupyter-widgets/controls",
          "model_module_version": "1.5.0",
          "model_name": "HTMLModel",
          "state": {
            "_dom_classes": [],
            "_model_module": "@jupyter-widgets/controls",
            "_model_module_version": "1.5.0",
            "_model_name": "HTMLModel",
            "_view_count": null,
            "_view_module": "@jupyter-widgets/controls",
            "_view_module_version": "1.5.0",
            "_view_name": "HTMLView",
            "description": "",
            "description_tooltip": null,
            "layout": "IPY_MODEL_1f4c428f6ce9453785dbb20207e12e2c",
            "placeholder": "​",
            "style": "IPY_MODEL_964a28ba2ea849359246da4ae4e4b132",
            "value": " 53.0/53.0 [00:00&lt;00:00, 2.80kB/s]"
          }
        },
        "32a095f427ed4de39c0d4bb723ada10d": {
          "model_module": "@jupyter-widgets/controls",
          "model_module_version": "1.5.0",
          "model_name": "DescriptionStyleModel",
          "state": {
            "_model_module": "@jupyter-widgets/controls",
            "_model_module_version": "1.5.0",
            "_model_name": "DescriptionStyleModel",
            "_view_count": null,
            "_view_module": "@jupyter-widgets/base",
            "_view_module_version": "1.2.0",
            "_view_name": "StyleView",
            "description_width": ""
          }
        },
        "3308b361bcb0485a89650b56785d5d6d": {
          "model_module": "@jupyter-widgets/controls",
          "model_module_version": "1.5.0",
          "model_name": "FloatProgressModel",
          "state": {
            "_dom_classes": [],
            "_model_module": "@jupyter-widgets/controls",
            "_model_module_version": "1.5.0",
            "_model_name": "FloatProgressModel",
            "_view_count": null,
            "_view_module": "@jupyter-widgets/controls",
            "_view_module_version": "1.5.0",
            "_view_name": "ProgressView",
            "bar_style": "success",
            "description": "",
            "description_tooltip": null,
            "layout": "IPY_MODEL_d436733813014994abcf3a12025a68dd",
            "max": 90868376,
            "min": 0,
            "orientation": "horizontal",
            "style": "IPY_MODEL_fac4deec7bec4b42ab74862bf85af4d4",
            "value": 90868376
          }
        },
        "34a3ae0420ee4ed9a916a737443ae596": {
          "model_module": "@jupyter-widgets/controls",
          "model_module_version": "1.5.0",
          "model_name": "DescriptionStyleModel",
          "state": {
            "_model_module": "@jupyter-widgets/controls",
            "_model_module_version": "1.5.0",
            "_model_name": "DescriptionStyleModel",
            "_view_count": null,
            "_view_module": "@jupyter-widgets/base",
            "_view_module_version": "1.2.0",
            "_view_name": "StyleView",
            "description_width": ""
          }
        },
        "36aa7595bb8a4aca8c2cbf6988621eb5": {
          "model_module": "@jupyter-widgets/controls",
          "model_module_version": "1.5.0",
          "model_name": "DescriptionStyleModel",
          "state": {
            "_model_module": "@jupyter-widgets/controls",
            "_model_module_version": "1.5.0",
            "_model_name": "DescriptionStyleModel",
            "_view_count": null,
            "_view_module": "@jupyter-widgets/base",
            "_view_module_version": "1.2.0",
            "_view_name": "StyleView",
            "description_width": ""
          }
        },
        "38d00e4acfe642928cb97650d8356d68": {
          "model_module": "@jupyter-widgets/controls",
          "model_module_version": "1.5.0",
          "model_name": "HTMLModel",
          "state": {
            "_dom_classes": [],
            "_model_module": "@jupyter-widgets/controls",
            "_model_module_version": "1.5.0",
            "_model_name": "HTMLModel",
            "_view_count": null,
            "_view_module": "@jupyter-widgets/controls",
            "_view_module_version": "1.5.0",
            "_view_name": "HTMLView",
            "description": "",
            "description_tooltip": null,
            "layout": "IPY_MODEL_a7905cd3ee004773a62b845a156f921d",
            "placeholder": "​",
            "style": "IPY_MODEL_1c3b8151f96349279272727a58f33c5c",
            "value": " 190/190 [00:00&lt;00:00, 11.1kB/s]"
          }
        },
        "3e379f43c8be46839ea0158114b634a7": {
          "model_module": "@jupyter-widgets/controls",
          "model_module_version": "1.5.0",
          "model_name": "DescriptionStyleModel",
          "state": {
            "_model_module": "@jupyter-widgets/controls",
            "_model_module_version": "1.5.0",
            "_model_name": "DescriptionStyleModel",
            "_view_count": null,
            "_view_module": "@jupyter-widgets/base",
            "_view_module_version": "1.2.0",
            "_view_name": "StyleView",
            "description_width": ""
          }
        },
        "41b2455a1bb34ca2944d0bbfda246499": {
          "model_module": "@jupyter-widgets/base",
          "model_module_version": "1.2.0",
          "model_name": "LayoutModel",
          "state": {
            "_model_module": "@jupyter-widgets/base",
            "_model_module_version": "1.2.0",
            "_model_name": "LayoutModel",
            "_view_count": null,
            "_view_module": "@jupyter-widgets/base",
            "_view_module_version": "1.2.0",
            "_view_name": "LayoutView",
            "align_content": null,
            "align_items": null,
            "align_self": null,
            "border": null,
            "bottom": null,
            "display": null,
            "flex": null,
            "flex_flow": null,
            "grid_area": null,
            "grid_auto_columns": null,
            "grid_auto_flow": null,
            "grid_auto_rows": null,
            "grid_column": null,
            "grid_gap": null,
            "grid_row": null,
            "grid_template_areas": null,
            "grid_template_columns": null,
            "grid_template_rows": null,
            "height": null,
            "justify_content": null,
            "justify_items": null,
            "left": null,
            "margin": null,
            "max_height": null,
            "max_width": null,
            "min_height": null,
            "min_width": null,
            "object_fit": null,
            "object_position": null,
            "order": null,
            "overflow": null,
            "overflow_x": null,
            "overflow_y": null,
            "padding": null,
            "right": null,
            "top": null,
            "visibility": null,
            "width": null
          }
        },
        "42e2941149ae4690bcf8ef44f846bcad": {
          "model_module": "@jupyter-widgets/base",
          "model_module_version": "1.2.0",
          "model_name": "LayoutModel",
          "state": {
            "_model_module": "@jupyter-widgets/base",
            "_model_module_version": "1.2.0",
            "_model_name": "LayoutModel",
            "_view_count": null,
            "_view_module": "@jupyter-widgets/base",
            "_view_module_version": "1.2.0",
            "_view_name": "LayoutView",
            "align_content": null,
            "align_items": null,
            "align_self": null,
            "border": null,
            "bottom": null,
            "display": null,
            "flex": null,
            "flex_flow": null,
            "grid_area": null,
            "grid_auto_columns": null,
            "grid_auto_flow": null,
            "grid_auto_rows": null,
            "grid_column": null,
            "grid_gap": null,
            "grid_row": null,
            "grid_template_areas": null,
            "grid_template_columns": null,
            "grid_template_rows": null,
            "height": null,
            "justify_content": null,
            "justify_items": null,
            "left": null,
            "margin": null,
            "max_height": null,
            "max_width": null,
            "min_height": null,
            "min_width": null,
            "object_fit": null,
            "object_position": null,
            "order": null,
            "overflow": null,
            "overflow_x": null,
            "overflow_y": null,
            "padding": null,
            "right": null,
            "top": null,
            "visibility": null,
            "width": null
          }
        },
        "46213585e44b4cca9b79355c1a6830dc": {
          "model_module": "@jupyter-widgets/base",
          "model_module_version": "1.2.0",
          "model_name": "LayoutModel",
          "state": {
            "_model_module": "@jupyter-widgets/base",
            "_model_module_version": "1.2.0",
            "_model_name": "LayoutModel",
            "_view_count": null,
            "_view_module": "@jupyter-widgets/base",
            "_view_module_version": "1.2.0",
            "_view_name": "LayoutView",
            "align_content": null,
            "align_items": null,
            "align_self": null,
            "border": null,
            "bottom": null,
            "display": null,
            "flex": null,
            "flex_flow": null,
            "grid_area": null,
            "grid_auto_columns": null,
            "grid_auto_flow": null,
            "grid_auto_rows": null,
            "grid_column": null,
            "grid_gap": null,
            "grid_row": null,
            "grid_template_areas": null,
            "grid_template_columns": null,
            "grid_template_rows": null,
            "height": null,
            "justify_content": null,
            "justify_items": null,
            "left": null,
            "margin": null,
            "max_height": null,
            "max_width": null,
            "min_height": null,
            "min_width": null,
            "object_fit": null,
            "object_position": null,
            "order": null,
            "overflow": null,
            "overflow_x": null,
            "overflow_y": null,
            "padding": null,
            "right": null,
            "top": null,
            "visibility": null,
            "width": null
          }
        },
        "46cfa360fd8f41f0aea4a52ab14137e9": {
          "model_module": "@jupyter-widgets/controls",
          "model_module_version": "1.5.0",
          "model_name": "FloatProgressModel",
          "state": {
            "_dom_classes": [],
            "_model_module": "@jupyter-widgets/controls",
            "_model_module_version": "1.5.0",
            "_model_name": "FloatProgressModel",
            "_view_count": null,
            "_view_module": "@jupyter-widgets/controls",
            "_view_module_version": "1.5.0",
            "_view_name": "ProgressView",
            "bar_style": "success",
            "description": "",
            "description_tooltip": null,
            "layout": "IPY_MODEL_41b2455a1bb34ca2944d0bbfda246499",
            "max": 116,
            "min": 0,
            "orientation": "horizontal",
            "style": "IPY_MODEL_fe8354b8fee949389c5b8524ebe393d0",
            "value": 116
          }
        },
        "46edcaeeb8cb4696a98d70aec8d1c07a": {
          "model_module": "@jupyter-widgets/controls",
          "model_module_version": "1.5.0",
          "model_name": "HTMLModel",
          "state": {
            "_dom_classes": [],
            "_model_module": "@jupyter-widgets/controls",
            "_model_module_version": "1.5.0",
            "_model_name": "HTMLModel",
            "_view_count": null,
            "_view_module": "@jupyter-widgets/controls",
            "_view_module_version": "1.5.0",
            "_view_name": "HTMLView",
            "description": "",
            "description_tooltip": null,
            "layout": "IPY_MODEL_ec1e9382a86a48b09174f8144ba758d5",
            "placeholder": "​",
            "style": "IPY_MODEL_f335363674704507b1abf4866d988427",
            "value": "config_sentence_transformers.json: 100%"
          }
        },
        "49ec5a4031814966a6f61025d742b8c0": {
          "model_module": "@jupyter-widgets/base",
          "model_module_version": "1.2.0",
          "model_name": "LayoutModel",
          "state": {
            "_model_module": "@jupyter-widgets/base",
            "_model_module_version": "1.2.0",
            "_model_name": "LayoutModel",
            "_view_count": null,
            "_view_module": "@jupyter-widgets/base",
            "_view_module_version": "1.2.0",
            "_view_name": "LayoutView",
            "align_content": null,
            "align_items": null,
            "align_self": null,
            "border": null,
            "bottom": null,
            "display": null,
            "flex": null,
            "flex_flow": null,
            "grid_area": null,
            "grid_auto_columns": null,
            "grid_auto_flow": null,
            "grid_auto_rows": null,
            "grid_column": null,
            "grid_gap": null,
            "grid_row": null,
            "grid_template_areas": null,
            "grid_template_columns": null,
            "grid_template_rows": null,
            "height": null,
            "justify_content": null,
            "justify_items": null,
            "left": null,
            "margin": null,
            "max_height": null,
            "max_width": null,
            "min_height": null,
            "min_width": null,
            "object_fit": null,
            "object_position": null,
            "order": null,
            "overflow": null,
            "overflow_x": null,
            "overflow_y": null,
            "padding": null,
            "right": null,
            "top": null,
            "visibility": null,
            "width": null
          }
        },
        "4b89dce932a34d4bab40da839a398897": {
          "model_module": "@jupyter-widgets/base",
          "model_module_version": "1.2.0",
          "model_name": "LayoutModel",
          "state": {
            "_model_module": "@jupyter-widgets/base",
            "_model_module_version": "1.2.0",
            "_model_name": "LayoutModel",
            "_view_count": null,
            "_view_module": "@jupyter-widgets/base",
            "_view_module_version": "1.2.0",
            "_view_name": "LayoutView",
            "align_content": null,
            "align_items": null,
            "align_self": null,
            "border": null,
            "bottom": null,
            "display": null,
            "flex": null,
            "flex_flow": null,
            "grid_area": null,
            "grid_auto_columns": null,
            "grid_auto_flow": null,
            "grid_auto_rows": null,
            "grid_column": null,
            "grid_gap": null,
            "grid_row": null,
            "grid_template_areas": null,
            "grid_template_columns": null,
            "grid_template_rows": null,
            "height": null,
            "justify_content": null,
            "justify_items": null,
            "left": null,
            "margin": null,
            "max_height": null,
            "max_width": null,
            "min_height": null,
            "min_width": null,
            "object_fit": null,
            "object_position": null,
            "order": null,
            "overflow": null,
            "overflow_x": null,
            "overflow_y": null,
            "padding": null,
            "right": null,
            "top": null,
            "visibility": null,
            "width": null
          }
        },
        "4bb7566daf8744da863029308a1c3114": {
          "model_module": "@jupyter-widgets/base",
          "model_module_version": "1.2.0",
          "model_name": "LayoutModel",
          "state": {
            "_model_module": "@jupyter-widgets/base",
            "_model_module_version": "1.2.0",
            "_model_name": "LayoutModel",
            "_view_count": null,
            "_view_module": "@jupyter-widgets/base",
            "_view_module_version": "1.2.0",
            "_view_name": "LayoutView",
            "align_content": null,
            "align_items": null,
            "align_self": null,
            "border": null,
            "bottom": null,
            "display": null,
            "flex": null,
            "flex_flow": null,
            "grid_area": null,
            "grid_auto_columns": null,
            "grid_auto_flow": null,
            "grid_auto_rows": null,
            "grid_column": null,
            "grid_gap": null,
            "grid_row": null,
            "grid_template_areas": null,
            "grid_template_columns": null,
            "grid_template_rows": null,
            "height": null,
            "justify_content": null,
            "justify_items": null,
            "left": null,
            "margin": null,
            "max_height": null,
            "max_width": null,
            "min_height": null,
            "min_width": null,
            "object_fit": null,
            "object_position": null,
            "order": null,
            "overflow": null,
            "overflow_x": null,
            "overflow_y": null,
            "padding": null,
            "right": null,
            "top": null,
            "visibility": null,
            "width": null
          }
        },
        "4c8415283ed34555a4a738d33c499765": {
          "model_module": "@jupyter-widgets/controls",
          "model_module_version": "1.5.0",
          "model_name": "HTMLModel",
          "state": {
            "_dom_classes": [],
            "_model_module": "@jupyter-widgets/controls",
            "_model_module_version": "1.5.0",
            "_model_name": "HTMLModel",
            "_view_count": null,
            "_view_module": "@jupyter-widgets/controls",
            "_view_module_version": "1.5.0",
            "_view_name": "HTMLView",
            "description": "",
            "description_tooltip": null,
            "layout": "IPY_MODEL_1295297d3aca4f7ba5e6e2ed0465392c",
            "placeholder": "​",
            "style": "IPY_MODEL_36aa7595bb8a4aca8c2cbf6988621eb5",
            "value": "vocab.txt: 100%"
          }
        },
        "4d75132b8f6f4327a34f19243d7ba388": {
          "model_module": "@jupyter-widgets/controls",
          "model_module_version": "1.5.0",
          "model_name": "HTMLModel",
          "state": {
            "_dom_classes": [],
            "_model_module": "@jupyter-widgets/controls",
            "_model_module_version": "1.5.0",
            "_model_name": "HTMLModel",
            "_view_count": null,
            "_view_module": "@jupyter-widgets/controls",
            "_view_module_version": "1.5.0",
            "_view_name": "HTMLView",
            "description": "",
            "description_tooltip": null,
            "layout": "IPY_MODEL_c2475b20a0c443d692900b409399bd74",
            "placeholder": "​",
            "style": "IPY_MODEL_c3f8a1adba2b4657b52e7856612a530e",
            "value": " 10.5k/10.5k [00:00&lt;00:00, 715kB/s]"
          }
        },
        "4f3bd4addcdb44d9b57fbff3d6c6b58a": {
          "model_module": "@jupyter-widgets/controls",
          "model_module_version": "1.5.0",
          "model_name": "HTMLModel",
          "state": {
            "_dom_classes": [],
            "_model_module": "@jupyter-widgets/controls",
            "_model_module_version": "1.5.0",
            "_model_name": "HTMLModel",
            "_view_count": null,
            "_view_module": "@jupyter-widgets/controls",
            "_view_module_version": "1.5.0",
            "_view_name": "HTMLView",
            "description": "",
            "description_tooltip": null,
            "layout": "IPY_MODEL_826b16fb17c04391a3dd96544223d3a7",
            "placeholder": "​",
            "style": "IPY_MODEL_e30f93d488c4407a9a885ecca0256577",
            "value": " 466k/466k [00:00&lt;00:00, 5.28MB/s]"
          }
        },
        "543263b682144a038f1066b3738c30a7": {
          "model_module": "@jupyter-widgets/controls",
          "model_module_version": "1.5.0",
          "model_name": "HTMLModel",
          "state": {
            "_dom_classes": [],
            "_model_module": "@jupyter-widgets/controls",
            "_model_module_version": "1.5.0",
            "_model_name": "HTMLModel",
            "_view_count": null,
            "_view_module": "@jupyter-widgets/controls",
            "_view_module_version": "1.5.0",
            "_view_name": "HTMLView",
            "description": "",
            "description_tooltip": null,
            "layout": "IPY_MODEL_e8b16b5092594fbfb59a10fd5a71d3da",
            "placeholder": "​",
            "style": "IPY_MODEL_3e379f43c8be46839ea0158114b634a7",
            "value": "README.md: 100%"
          }
        },
        "571a46e5928244c094c090cbd8fdcd5c": {
          "model_module": "@jupyter-widgets/base",
          "model_module_version": "1.2.0",
          "model_name": "LayoutModel",
          "state": {
            "_model_module": "@jupyter-widgets/base",
            "_model_module_version": "1.2.0",
            "_model_name": "LayoutModel",
            "_view_count": null,
            "_view_module": "@jupyter-widgets/base",
            "_view_module_version": "1.2.0",
            "_view_name": "LayoutView",
            "align_content": null,
            "align_items": null,
            "align_self": null,
            "border": null,
            "bottom": null,
            "display": null,
            "flex": null,
            "flex_flow": null,
            "grid_area": null,
            "grid_auto_columns": null,
            "grid_auto_flow": null,
            "grid_auto_rows": null,
            "grid_column": null,
            "grid_gap": null,
            "grid_row": null,
            "grid_template_areas": null,
            "grid_template_columns": null,
            "grid_template_rows": null,
            "height": null,
            "justify_content": null,
            "justify_items": null,
            "left": null,
            "margin": null,
            "max_height": null,
            "max_width": null,
            "min_height": null,
            "min_width": null,
            "object_fit": null,
            "object_position": null,
            "order": null,
            "overflow": null,
            "overflow_x": null,
            "overflow_y": null,
            "padding": null,
            "right": null,
            "top": null,
            "visibility": null,
            "width": null
          }
        },
        "5805092ac1c34f7c91d5cea0132a7dc4": {
          "model_module": "@jupyter-widgets/base",
          "model_module_version": "1.2.0",
          "model_name": "LayoutModel",
          "state": {
            "_model_module": "@jupyter-widgets/base",
            "_model_module_version": "1.2.0",
            "_model_name": "LayoutModel",
            "_view_count": null,
            "_view_module": "@jupyter-widgets/base",
            "_view_module_version": "1.2.0",
            "_view_name": "LayoutView",
            "align_content": null,
            "align_items": null,
            "align_self": null,
            "border": null,
            "bottom": null,
            "display": null,
            "flex": null,
            "flex_flow": null,
            "grid_area": null,
            "grid_auto_columns": null,
            "grid_auto_flow": null,
            "grid_auto_rows": null,
            "grid_column": null,
            "grid_gap": null,
            "grid_row": null,
            "grid_template_areas": null,
            "grid_template_columns": null,
            "grid_template_rows": null,
            "height": null,
            "justify_content": null,
            "justify_items": null,
            "left": null,
            "margin": null,
            "max_height": null,
            "max_width": null,
            "min_height": null,
            "min_width": null,
            "object_fit": null,
            "object_position": null,
            "order": null,
            "overflow": null,
            "overflow_x": null,
            "overflow_y": null,
            "padding": null,
            "right": null,
            "top": null,
            "visibility": null,
            "width": null
          }
        },
        "582066cbab454609902baf0acb45f887": {
          "model_module": "@jupyter-widgets/controls",
          "model_module_version": "1.5.0",
          "model_name": "HBoxModel",
          "state": {
            "_dom_classes": [],
            "_model_module": "@jupyter-widgets/controls",
            "_model_module_version": "1.5.0",
            "_model_name": "HBoxModel",
            "_view_count": null,
            "_view_module": "@jupyter-widgets/controls",
            "_view_module_version": "1.5.0",
            "_view_name": "HBoxView",
            "box_style": "",
            "children": [
              "IPY_MODEL_e4dda8c93a8e434bb0cea7d7fc221037",
              "IPY_MODEL_75c40d94b52b485e8715531e1f82b282",
              "IPY_MODEL_38d00e4acfe642928cb97650d8356d68"
            ],
            "layout": "IPY_MODEL_d8acea5b58a14d46802e4bd60fac958f"
          }
        },
        "5a377a4af60446a69f7339fead0c9690": {
          "model_module": "@jupyter-widgets/base",
          "model_module_version": "1.2.0",
          "model_name": "LayoutModel",
          "state": {
            "_model_module": "@jupyter-widgets/base",
            "_model_module_version": "1.2.0",
            "_model_name": "LayoutModel",
            "_view_count": null,
            "_view_module": "@jupyter-widgets/base",
            "_view_module_version": "1.2.0",
            "_view_name": "LayoutView",
            "align_content": null,
            "align_items": null,
            "align_self": null,
            "border": null,
            "bottom": null,
            "display": null,
            "flex": null,
            "flex_flow": null,
            "grid_area": null,
            "grid_auto_columns": null,
            "grid_auto_flow": null,
            "grid_auto_rows": null,
            "grid_column": null,
            "grid_gap": null,
            "grid_row": null,
            "grid_template_areas": null,
            "grid_template_columns": null,
            "grid_template_rows": null,
            "height": null,
            "justify_content": null,
            "justify_items": null,
            "left": null,
            "margin": null,
            "max_height": null,
            "max_width": null,
            "min_height": null,
            "min_width": null,
            "object_fit": null,
            "object_position": null,
            "order": null,
            "overflow": null,
            "overflow_x": null,
            "overflow_y": null,
            "padding": null,
            "right": null,
            "top": null,
            "visibility": null,
            "width": null
          }
        },
        "5dce241f83c245aaa7d9feca059786d9": {
          "model_module": "@jupyter-widgets/controls",
          "model_module_version": "1.5.0",
          "model_name": "HBoxModel",
          "state": {
            "_dom_classes": [],
            "_model_module": "@jupyter-widgets/controls",
            "_model_module_version": "1.5.0",
            "_model_name": "HBoxModel",
            "_view_count": null,
            "_view_module": "@jupyter-widgets/controls",
            "_view_module_version": "1.5.0",
            "_view_name": "HBoxView",
            "box_style": "",
            "children": [
              "IPY_MODEL_04933b20d25849e9af0f97b2c0ab5734",
              "IPY_MODEL_1169effefaeb4f948eb4a179e18ae96a",
              "IPY_MODEL_a4ee0a58be6148ca985cfc9b14b63bfe"
            ],
            "layout": "IPY_MODEL_1cbc3af9140b4cf0acdff25855482606"
          }
        },
        "5fd47537d4b5408db7e88689febe17a1": {
          "model_module": "@jupyter-widgets/base",
          "model_module_version": "1.2.0",
          "model_name": "LayoutModel",
          "state": {
            "_model_module": "@jupyter-widgets/base",
            "_model_module_version": "1.2.0",
            "_model_name": "LayoutModel",
            "_view_count": null,
            "_view_module": "@jupyter-widgets/base",
            "_view_module_version": "1.2.0",
            "_view_name": "LayoutView",
            "align_content": null,
            "align_items": null,
            "align_self": null,
            "border": null,
            "bottom": null,
            "display": null,
            "flex": null,
            "flex_flow": null,
            "grid_area": null,
            "grid_auto_columns": null,
            "grid_auto_flow": null,
            "grid_auto_rows": null,
            "grid_column": null,
            "grid_gap": null,
            "grid_row": null,
            "grid_template_areas": null,
            "grid_template_columns": null,
            "grid_template_rows": null,
            "height": null,
            "justify_content": null,
            "justify_items": null,
            "left": null,
            "margin": null,
            "max_height": null,
            "max_width": null,
            "min_height": null,
            "min_width": null,
            "object_fit": null,
            "object_position": null,
            "order": null,
            "overflow": null,
            "overflow_x": null,
            "overflow_y": null,
            "padding": null,
            "right": null,
            "top": null,
            "visibility": null,
            "width": null
          }
        },
        "65bb30423ac949558a510263251d7d99": {
          "model_module": "@jupyter-widgets/controls",
          "model_module_version": "1.5.0",
          "model_name": "DescriptionStyleModel",
          "state": {
            "_model_module": "@jupyter-widgets/controls",
            "_model_module_version": "1.5.0",
            "_model_name": "DescriptionStyleModel",
            "_view_count": null,
            "_view_module": "@jupyter-widgets/base",
            "_view_module_version": "1.2.0",
            "_view_name": "StyleView",
            "description_width": ""
          }
        },
        "68b094218d3b476b94d0a395b3c9fd7b": {
          "model_module": "@jupyter-widgets/base",
          "model_module_version": "1.2.0",
          "model_name": "LayoutModel",
          "state": {
            "_model_module": "@jupyter-widgets/base",
            "_model_module_version": "1.2.0",
            "_model_name": "LayoutModel",
            "_view_count": null,
            "_view_module": "@jupyter-widgets/base",
            "_view_module_version": "1.2.0",
            "_view_name": "LayoutView",
            "align_content": null,
            "align_items": null,
            "align_self": null,
            "border": null,
            "bottom": null,
            "display": null,
            "flex": null,
            "flex_flow": null,
            "grid_area": null,
            "grid_auto_columns": null,
            "grid_auto_flow": null,
            "grid_auto_rows": null,
            "grid_column": null,
            "grid_gap": null,
            "grid_row": null,
            "grid_template_areas": null,
            "grid_template_columns": null,
            "grid_template_rows": null,
            "height": null,
            "justify_content": null,
            "justify_items": null,
            "left": null,
            "margin": null,
            "max_height": null,
            "max_width": null,
            "min_height": null,
            "min_width": null,
            "object_fit": null,
            "object_position": null,
            "order": null,
            "overflow": null,
            "overflow_x": null,
            "overflow_y": null,
            "padding": null,
            "right": null,
            "top": null,
            "visibility": null,
            "width": null
          }
        },
        "6a3a65f9d21a4527bcee72c0ad10f24d": {
          "model_module": "@jupyter-widgets/controls",
          "model_module_version": "1.5.0",
          "model_name": "ProgressStyleModel",
          "state": {
            "_model_module": "@jupyter-widgets/controls",
            "_model_module_version": "1.5.0",
            "_model_name": "ProgressStyleModel",
            "_view_count": null,
            "_view_module": "@jupyter-widgets/base",
            "_view_module_version": "1.2.0",
            "_view_name": "StyleView",
            "bar_color": null,
            "description_width": ""
          }
        },
        "6d6434110fbe49519ff8123da668a051": {
          "model_module": "@jupyter-widgets/controls",
          "model_module_version": "1.5.0",
          "model_name": "DescriptionStyleModel",
          "state": {
            "_model_module": "@jupyter-widgets/controls",
            "_model_module_version": "1.5.0",
            "_model_name": "DescriptionStyleModel",
            "_view_count": null,
            "_view_module": "@jupyter-widgets/base",
            "_view_module_version": "1.2.0",
            "_view_name": "StyleView",
            "description_width": ""
          }
        },
        "75068580ac434aae966eb5c5f813624f": {
          "model_module": "@jupyter-widgets/base",
          "model_module_version": "1.2.0",
          "model_name": "LayoutModel",
          "state": {
            "_model_module": "@jupyter-widgets/base",
            "_model_module_version": "1.2.0",
            "_model_name": "LayoutModel",
            "_view_count": null,
            "_view_module": "@jupyter-widgets/base",
            "_view_module_version": "1.2.0",
            "_view_name": "LayoutView",
            "align_content": null,
            "align_items": null,
            "align_self": null,
            "border": null,
            "bottom": null,
            "display": null,
            "flex": null,
            "flex_flow": null,
            "grid_area": null,
            "grid_auto_columns": null,
            "grid_auto_flow": null,
            "grid_auto_rows": null,
            "grid_column": null,
            "grid_gap": null,
            "grid_row": null,
            "grid_template_areas": null,
            "grid_template_columns": null,
            "grid_template_rows": null,
            "height": null,
            "justify_content": null,
            "justify_items": null,
            "left": null,
            "margin": null,
            "max_height": null,
            "max_width": null,
            "min_height": null,
            "min_width": null,
            "object_fit": null,
            "object_position": null,
            "order": null,
            "overflow": null,
            "overflow_x": null,
            "overflow_y": null,
            "padding": null,
            "right": null,
            "top": null,
            "visibility": null,
            "width": null
          }
        },
        "75c40d94b52b485e8715531e1f82b282": {
          "model_module": "@jupyter-widgets/controls",
          "model_module_version": "1.5.0",
          "model_name": "FloatProgressModel",
          "state": {
            "_dom_classes": [],
            "_model_module": "@jupyter-widgets/controls",
            "_model_module_version": "1.5.0",
            "_model_name": "FloatProgressModel",
            "_view_count": null,
            "_view_module": "@jupyter-widgets/controls",
            "_view_module_version": "1.5.0",
            "_view_name": "ProgressView",
            "bar_style": "success",
            "description": "",
            "description_tooltip": null,
            "layout": "IPY_MODEL_bcc53275d9064e809abdc85f1539a8c6",
            "max": 190,
            "min": 0,
            "orientation": "horizontal",
            "style": "IPY_MODEL_c1fb358d229b4964afb6cfd961652619",
            "value": 190
          }
        },
        "76d7fe4a523743029a6bacaff5a1cd8a": {
          "model_module": "@jupyter-widgets/controls",
          "model_module_version": "1.5.0",
          "model_name": "FloatProgressModel",
          "state": {
            "_dom_classes": [],
            "_model_module": "@jupyter-widgets/controls",
            "_model_module_version": "1.5.0",
            "_model_name": "FloatProgressModel",
            "_view_count": null,
            "_view_module": "@jupyter-widgets/controls",
            "_view_module_version": "1.5.0",
            "_view_name": "ProgressView",
            "bar_style": "success",
            "description": "",
            "description_tooltip": null,
            "layout": "IPY_MODEL_b463c474d4d74d3f8ff4c15d7ff99439",
            "max": 349,
            "min": 0,
            "orientation": "horizontal",
            "style": "IPY_MODEL_957d0b19b13845dfa5ea32b1a4d5d186",
            "value": 349
          }
        },
        "7fc133e8f38541898abe69e1654cbc4c": {
          "model_module": "@jupyter-widgets/base",
          "model_module_version": "1.2.0",
          "model_name": "LayoutModel",
          "state": {
            "_model_module": "@jupyter-widgets/base",
            "_model_module_version": "1.2.0",
            "_model_name": "LayoutModel",
            "_view_count": null,
            "_view_module": "@jupyter-widgets/base",
            "_view_module_version": "1.2.0",
            "_view_name": "LayoutView",
            "align_content": null,
            "align_items": null,
            "align_self": null,
            "border": null,
            "bottom": null,
            "display": null,
            "flex": null,
            "flex_flow": null,
            "grid_area": null,
            "grid_auto_columns": null,
            "grid_auto_flow": null,
            "grid_auto_rows": null,
            "grid_column": null,
            "grid_gap": null,
            "grid_row": null,
            "grid_template_areas": null,
            "grid_template_columns": null,
            "grid_template_rows": null,
            "height": null,
            "justify_content": null,
            "justify_items": null,
            "left": null,
            "margin": null,
            "max_height": null,
            "max_width": null,
            "min_height": null,
            "min_width": null,
            "object_fit": null,
            "object_position": null,
            "order": null,
            "overflow": null,
            "overflow_x": null,
            "overflow_y": null,
            "padding": null,
            "right": null,
            "top": null,
            "visibility": null,
            "width": null
          }
        },
        "826b16fb17c04391a3dd96544223d3a7": {
          "model_module": "@jupyter-widgets/base",
          "model_module_version": "1.2.0",
          "model_name": "LayoutModel",
          "state": {
            "_model_module": "@jupyter-widgets/base",
            "_model_module_version": "1.2.0",
            "_model_name": "LayoutModel",
            "_view_count": null,
            "_view_module": "@jupyter-widgets/base",
            "_view_module_version": "1.2.0",
            "_view_name": "LayoutView",
            "align_content": null,
            "align_items": null,
            "align_self": null,
            "border": null,
            "bottom": null,
            "display": null,
            "flex": null,
            "flex_flow": null,
            "grid_area": null,
            "grid_auto_columns": null,
            "grid_auto_flow": null,
            "grid_auto_rows": null,
            "grid_column": null,
            "grid_gap": null,
            "grid_row": null,
            "grid_template_areas": null,
            "grid_template_columns": null,
            "grid_template_rows": null,
            "height": null,
            "justify_content": null,
            "justify_items": null,
            "left": null,
            "margin": null,
            "max_height": null,
            "max_width": null,
            "min_height": null,
            "min_width": null,
            "object_fit": null,
            "object_position": null,
            "order": null,
            "overflow": null,
            "overflow_x": null,
            "overflow_y": null,
            "padding": null,
            "right": null,
            "top": null,
            "visibility": null,
            "width": null
          }
        },
        "861394ab37d842289c5febef2b4563f7": {
          "model_module": "@jupyter-widgets/controls",
          "model_module_version": "1.5.0",
          "model_name": "HBoxModel",
          "state": {
            "_dom_classes": [],
            "_model_module": "@jupyter-widgets/controls",
            "_model_module_version": "1.5.0",
            "_model_name": "HBoxModel",
            "_view_count": null,
            "_view_module": "@jupyter-widgets/controls",
            "_view_module_version": "1.5.0",
            "_view_name": "HBoxView",
            "box_style": "",
            "children": [
              "IPY_MODEL_46edcaeeb8cb4696a98d70aec8d1c07a",
              "IPY_MODEL_46cfa360fd8f41f0aea4a52ab14137e9",
              "IPY_MODEL_1c6a9a81ac84434a8f184ab16cb33904"
            ],
            "layout": "IPY_MODEL_68b094218d3b476b94d0a395b3c9fd7b"
          }
        },
        "86c5d597ba8444b3b21f90813504eee8": {
          "model_module": "@jupyter-widgets/base",
          "model_module_version": "1.2.0",
          "model_name": "LayoutModel",
          "state": {
            "_model_module": "@jupyter-widgets/base",
            "_model_module_version": "1.2.0",
            "_model_name": "LayoutModel",
            "_view_count": null,
            "_view_module": "@jupyter-widgets/base",
            "_view_module_version": "1.2.0",
            "_view_name": "LayoutView",
            "align_content": null,
            "align_items": null,
            "align_self": null,
            "border": null,
            "bottom": null,
            "display": null,
            "flex": null,
            "flex_flow": null,
            "grid_area": null,
            "grid_auto_columns": null,
            "grid_auto_flow": null,
            "grid_auto_rows": null,
            "grid_column": null,
            "grid_gap": null,
            "grid_row": null,
            "grid_template_areas": null,
            "grid_template_columns": null,
            "grid_template_rows": null,
            "height": null,
            "justify_content": null,
            "justify_items": null,
            "left": null,
            "margin": null,
            "max_height": null,
            "max_width": null,
            "min_height": null,
            "min_width": null,
            "object_fit": null,
            "object_position": null,
            "order": null,
            "overflow": null,
            "overflow_x": null,
            "overflow_y": null,
            "padding": null,
            "right": null,
            "top": null,
            "visibility": null,
            "width": null
          }
        },
        "872999e2baeb4b9394c73ef9ad368f31": {
          "model_module": "@jupyter-widgets/controls",
          "model_module_version": "1.5.0",
          "model_name": "DescriptionStyleModel",
          "state": {
            "_model_module": "@jupyter-widgets/controls",
            "_model_module_version": "1.5.0",
            "_model_name": "DescriptionStyleModel",
            "_view_count": null,
            "_view_module": "@jupyter-widgets/base",
            "_view_module_version": "1.2.0",
            "_view_name": "StyleView",
            "description_width": ""
          }
        },
        "876372535c4646a1bf5c71be05e510ba": {
          "model_module": "@jupyter-widgets/controls",
          "model_module_version": "1.5.0",
          "model_name": "DescriptionStyleModel",
          "state": {
            "_model_module": "@jupyter-widgets/controls",
            "_model_module_version": "1.5.0",
            "_model_name": "DescriptionStyleModel",
            "_view_count": null,
            "_view_module": "@jupyter-widgets/base",
            "_view_module_version": "1.2.0",
            "_view_name": "StyleView",
            "description_width": ""
          }
        },
        "87a54af972d24342b1b24556b8331acb": {
          "model_module": "@jupyter-widgets/base",
          "model_module_version": "1.2.0",
          "model_name": "LayoutModel",
          "state": {
            "_model_module": "@jupyter-widgets/base",
            "_model_module_version": "1.2.0",
            "_model_name": "LayoutModel",
            "_view_count": null,
            "_view_module": "@jupyter-widgets/base",
            "_view_module_version": "1.2.0",
            "_view_name": "LayoutView",
            "align_content": null,
            "align_items": null,
            "align_self": null,
            "border": null,
            "bottom": null,
            "display": null,
            "flex": null,
            "flex_flow": null,
            "grid_area": null,
            "grid_auto_columns": null,
            "grid_auto_flow": null,
            "grid_auto_rows": null,
            "grid_column": null,
            "grid_gap": null,
            "grid_row": null,
            "grid_template_areas": null,
            "grid_template_columns": null,
            "grid_template_rows": null,
            "height": null,
            "justify_content": null,
            "justify_items": null,
            "left": null,
            "margin": null,
            "max_height": null,
            "max_width": null,
            "min_height": null,
            "min_width": null,
            "object_fit": null,
            "object_position": null,
            "order": null,
            "overflow": null,
            "overflow_x": null,
            "overflow_y": null,
            "padding": null,
            "right": null,
            "top": null,
            "visibility": null,
            "width": null
          }
        },
        "89188e56b7d44486b3ed6cdd840e822a": {
          "model_module": "@jupyter-widgets/controls",
          "model_module_version": "1.5.0",
          "model_name": "HTMLModel",
          "state": {
            "_dom_classes": [],
            "_model_module": "@jupyter-widgets/controls",
            "_model_module_version": "1.5.0",
            "_model_name": "HTMLModel",
            "_view_count": null,
            "_view_module": "@jupyter-widgets/controls",
            "_view_module_version": "1.5.0",
            "_view_name": "HTMLView",
            "description": "",
            "description_tooltip": null,
            "layout": "IPY_MODEL_4b89dce932a34d4bab40da839a398897",
            "placeholder": "​",
            "style": "IPY_MODEL_2753e7510d27471ab17f529cdd30f2e5",
            "value": "model.safetensors: 100%"
          }
        },
        "8bfec7e4cff645ed91bb72d56ce9885a": {
          "model_module": "@jupyter-widgets/controls",
          "model_module_version": "1.5.0",
          "model_name": "HBoxModel",
          "state": {
            "_dom_classes": [],
            "_model_module": "@jupyter-widgets/controls",
            "_model_module_version": "1.5.0",
            "_model_name": "HBoxModel",
            "_view_count": null,
            "_view_module": "@jupyter-widgets/controls",
            "_view_module_version": "1.5.0",
            "_view_name": "HBoxView",
            "box_style": "",
            "children": [
              "IPY_MODEL_89188e56b7d44486b3ed6cdd840e822a",
              "IPY_MODEL_3308b361bcb0485a89650b56785d5d6d",
              "IPY_MODEL_005956174f0b49e59b1b2a3a8380d213"
            ],
            "layout": "IPY_MODEL_10424f32a94d4105ab1b8e511cf1b411"
          }
        },
        "8eb5ac7223d14a5ca4213aedf7207b98": {
          "model_module": "@jupyter-widgets/base",
          "model_module_version": "1.2.0",
          "model_name": "LayoutModel",
          "state": {
            "_model_module": "@jupyter-widgets/base",
            "_model_module_version": "1.2.0",
            "_model_name": "LayoutModel",
            "_view_count": null,
            "_view_module": "@jupyter-widgets/base",
            "_view_module_version": "1.2.0",
            "_view_name": "LayoutView",
            "align_content": null,
            "align_items": null,
            "align_self": null,
            "border": null,
            "bottom": null,
            "display": null,
            "flex": null,
            "flex_flow": null,
            "grid_area": null,
            "grid_auto_columns": null,
            "grid_auto_flow": null,
            "grid_auto_rows": null,
            "grid_column": null,
            "grid_gap": null,
            "grid_row": null,
            "grid_template_areas": null,
            "grid_template_columns": null,
            "grid_template_rows": null,
            "height": null,
            "justify_content": null,
            "justify_items": null,
            "left": null,
            "margin": null,
            "max_height": null,
            "max_width": null,
            "min_height": null,
            "min_width": null,
            "object_fit": null,
            "object_position": null,
            "order": null,
            "overflow": null,
            "overflow_x": null,
            "overflow_y": null,
            "padding": null,
            "right": null,
            "top": null,
            "visibility": null,
            "width": null
          }
        },
        "9141a31f58634ad9a80de04691897076": {
          "model_module": "@jupyter-widgets/controls",
          "model_module_version": "1.5.0",
          "model_name": "HTMLModel",
          "state": {
            "_dom_classes": [],
            "_model_module": "@jupyter-widgets/controls",
            "_model_module_version": "1.5.0",
            "_model_name": "HTMLModel",
            "_view_count": null,
            "_view_module": "@jupyter-widgets/controls",
            "_view_module_version": "1.5.0",
            "_view_name": "HTMLView",
            "description": "",
            "description_tooltip": null,
            "layout": "IPY_MODEL_86c5d597ba8444b3b21f90813504eee8",
            "placeholder": "​",
            "style": "IPY_MODEL_002f7ab5e64a4e4db9116eea286acb7c",
            "value": " 349/349 [00:00&lt;00:00, 29.0kB/s]"
          }
        },
        "919dad0ed49147078a75c64937168830": {
          "model_module": "@jupyter-widgets/controls",
          "model_module_version": "1.5.0",
          "model_name": "ProgressStyleModel",
          "state": {
            "_model_module": "@jupyter-widgets/controls",
            "_model_module_version": "1.5.0",
            "_model_name": "ProgressStyleModel",
            "_view_count": null,
            "_view_module": "@jupyter-widgets/base",
            "_view_module_version": "1.2.0",
            "_view_name": "StyleView",
            "bar_color": null,
            "description_width": ""
          }
        },
        "957d0b19b13845dfa5ea32b1a4d5d186": {
          "model_module": "@jupyter-widgets/controls",
          "model_module_version": "1.5.0",
          "model_name": "ProgressStyleModel",
          "state": {
            "_model_module": "@jupyter-widgets/controls",
            "_model_module_version": "1.5.0",
            "_model_name": "ProgressStyleModel",
            "_view_count": null,
            "_view_module": "@jupyter-widgets/base",
            "_view_module_version": "1.2.0",
            "_view_name": "StyleView",
            "bar_color": null,
            "description_width": ""
          }
        },
        "962ad15d92d24ff487daf78eb8540094": {
          "model_module": "@jupyter-widgets/controls",
          "model_module_version": "1.5.0",
          "model_name": "DescriptionStyleModel",
          "state": {
            "_model_module": "@jupyter-widgets/controls",
            "_model_module_version": "1.5.0",
            "_model_name": "DescriptionStyleModel",
            "_view_count": null,
            "_view_module": "@jupyter-widgets/base",
            "_view_module_version": "1.2.0",
            "_view_name": "StyleView",
            "description_width": ""
          }
        },
        "964a28ba2ea849359246da4ae4e4b132": {
          "model_module": "@jupyter-widgets/controls",
          "model_module_version": "1.5.0",
          "model_name": "DescriptionStyleModel",
          "state": {
            "_model_module": "@jupyter-widgets/controls",
            "_model_module_version": "1.5.0",
            "_model_name": "DescriptionStyleModel",
            "_view_count": null,
            "_view_module": "@jupyter-widgets/base",
            "_view_module_version": "1.2.0",
            "_view_name": "StyleView",
            "description_width": ""
          }
        },
        "99a1c0f4b11846409b07b19fc43f020e": {
          "model_module": "@jupyter-widgets/base",
          "model_module_version": "1.2.0",
          "model_name": "LayoutModel",
          "state": {
            "_model_module": "@jupyter-widgets/base",
            "_model_module_version": "1.2.0",
            "_model_name": "LayoutModel",
            "_view_count": null,
            "_view_module": "@jupyter-widgets/base",
            "_view_module_version": "1.2.0",
            "_view_name": "LayoutView",
            "align_content": null,
            "align_items": null,
            "align_self": null,
            "border": null,
            "bottom": null,
            "display": null,
            "flex": null,
            "flex_flow": null,
            "grid_area": null,
            "grid_auto_columns": null,
            "grid_auto_flow": null,
            "grid_auto_rows": null,
            "grid_column": null,
            "grid_gap": null,
            "grid_row": null,
            "grid_template_areas": null,
            "grid_template_columns": null,
            "grid_template_rows": null,
            "height": null,
            "justify_content": null,
            "justify_items": null,
            "left": null,
            "margin": null,
            "max_height": null,
            "max_width": null,
            "min_height": null,
            "min_width": null,
            "object_fit": null,
            "object_position": null,
            "order": null,
            "overflow": null,
            "overflow_x": null,
            "overflow_y": null,
            "padding": null,
            "right": null,
            "top": null,
            "visibility": null,
            "width": null
          }
        },
        "a12f0238e1814a75a3d7ecf83c3c7985": {
          "model_module": "@jupyter-widgets/controls",
          "model_module_version": "1.5.0",
          "model_name": "HTMLModel",
          "state": {
            "_dom_classes": [],
            "_model_module": "@jupyter-widgets/controls",
            "_model_module_version": "1.5.0",
            "_model_name": "HTMLModel",
            "_view_count": null,
            "_view_module": "@jupyter-widgets/controls",
            "_view_module_version": "1.5.0",
            "_view_name": "HTMLView",
            "description": "",
            "description_tooltip": null,
            "layout": "IPY_MODEL_99a1c0f4b11846409b07b19fc43f020e",
            "placeholder": "​",
            "style": "IPY_MODEL_e1fe67bb0b354211ad841138d8bef36c",
            "value": " 350/350 [00:00&lt;00:00, 32.0kB/s]"
          }
        },
        "a489812b81f14da892fdedf3219a9144": {
          "model_module": "@jupyter-widgets/base",
          "model_module_version": "1.2.0",
          "model_name": "LayoutModel",
          "state": {
            "_model_module": "@jupyter-widgets/base",
            "_model_module_version": "1.2.0",
            "_model_name": "LayoutModel",
            "_view_count": null,
            "_view_module": "@jupyter-widgets/base",
            "_view_module_version": "1.2.0",
            "_view_name": "LayoutView",
            "align_content": null,
            "align_items": null,
            "align_self": null,
            "border": null,
            "bottom": null,
            "display": null,
            "flex": null,
            "flex_flow": null,
            "grid_area": null,
            "grid_auto_columns": null,
            "grid_auto_flow": null,
            "grid_auto_rows": null,
            "grid_column": null,
            "grid_gap": null,
            "grid_row": null,
            "grid_template_areas": null,
            "grid_template_columns": null,
            "grid_template_rows": null,
            "height": null,
            "justify_content": null,
            "justify_items": null,
            "left": null,
            "margin": null,
            "max_height": null,
            "max_width": null,
            "min_height": null,
            "min_width": null,
            "object_fit": null,
            "object_position": null,
            "order": null,
            "overflow": null,
            "overflow_x": null,
            "overflow_y": null,
            "padding": null,
            "right": null,
            "top": null,
            "visibility": null,
            "width": null
          }
        },
        "a4ee0a58be6148ca985cfc9b14b63bfe": {
          "model_module": "@jupyter-widgets/controls",
          "model_module_version": "1.5.0",
          "model_name": "HTMLModel",
          "state": {
            "_dom_classes": [],
            "_model_module": "@jupyter-widgets/controls",
            "_model_module_version": "1.5.0",
            "_model_name": "HTMLModel",
            "_view_count": null,
            "_view_module": "@jupyter-widgets/controls",
            "_view_module_version": "1.5.0",
            "_view_name": "HTMLView",
            "description": "",
            "description_tooltip": null,
            "layout": "IPY_MODEL_5a377a4af60446a69f7339fead0c9690",
            "placeholder": "​",
            "style": "IPY_MODEL_6d6434110fbe49519ff8123da668a051",
            "value": " 112/112 [00:00&lt;00:00, 7.93kB/s]"
          }
        },
        "a77a830e27c34cc1af22173f8dc67962": {
          "model_module": "@jupyter-widgets/controls",
          "model_module_version": "1.5.0",
          "model_name": "ProgressStyleModel",
          "state": {
            "_model_module": "@jupyter-widgets/controls",
            "_model_module_version": "1.5.0",
            "_model_name": "ProgressStyleModel",
            "_view_count": null,
            "_view_module": "@jupyter-widgets/base",
            "_view_module_version": "1.2.0",
            "_view_name": "StyleView",
            "bar_color": null,
            "description_width": ""
          }
        },
        "a7905cd3ee004773a62b845a156f921d": {
          "model_module": "@jupyter-widgets/base",
          "model_module_version": "1.2.0",
          "model_name": "LayoutModel",
          "state": {
            "_model_module": "@jupyter-widgets/base",
            "_model_module_version": "1.2.0",
            "_model_name": "LayoutModel",
            "_view_count": null,
            "_view_module": "@jupyter-widgets/base",
            "_view_module_version": "1.2.0",
            "_view_name": "LayoutView",
            "align_content": null,
            "align_items": null,
            "align_self": null,
            "border": null,
            "bottom": null,
            "display": null,
            "flex": null,
            "flex_flow": null,
            "grid_area": null,
            "grid_auto_columns": null,
            "grid_auto_flow": null,
            "grid_auto_rows": null,
            "grid_column": null,
            "grid_gap": null,
            "grid_row": null,
            "grid_template_areas": null,
            "grid_template_columns": null,
            "grid_template_rows": null,
            "height": null,
            "justify_content": null,
            "justify_items": null,
            "left": null,
            "margin": null,
            "max_height": null,
            "max_width": null,
            "min_height": null,
            "min_width": null,
            "object_fit": null,
            "object_position": null,
            "order": null,
            "overflow": null,
            "overflow_x": null,
            "overflow_y": null,
            "padding": null,
            "right": null,
            "top": null,
            "visibility": null,
            "width": null
          }
        },
        "a87d80e4999c4933895aae56d34126fd": {
          "model_module": "@jupyter-widgets/base",
          "model_module_version": "1.2.0",
          "model_name": "LayoutModel",
          "state": {
            "_model_module": "@jupyter-widgets/base",
            "_model_module_version": "1.2.0",
            "_model_name": "LayoutModel",
            "_view_count": null,
            "_view_module": "@jupyter-widgets/base",
            "_view_module_version": "1.2.0",
            "_view_name": "LayoutView",
            "align_content": null,
            "align_items": null,
            "align_self": null,
            "border": null,
            "bottom": null,
            "display": null,
            "flex": null,
            "flex_flow": null,
            "grid_area": null,
            "grid_auto_columns": null,
            "grid_auto_flow": null,
            "grid_auto_rows": null,
            "grid_column": null,
            "grid_gap": null,
            "grid_row": null,
            "grid_template_areas": null,
            "grid_template_columns": null,
            "grid_template_rows": null,
            "height": null,
            "justify_content": null,
            "justify_items": null,
            "left": null,
            "margin": null,
            "max_height": null,
            "max_width": null,
            "min_height": null,
            "min_width": null,
            "object_fit": null,
            "object_position": null,
            "order": null,
            "overflow": null,
            "overflow_x": null,
            "overflow_y": null,
            "padding": null,
            "right": null,
            "top": null,
            "visibility": null,
            "width": null
          }
        },
        "aa5d2b635a7c4a369460b7e455eb124c": {
          "model_module": "@jupyter-widgets/controls",
          "model_module_version": "1.5.0",
          "model_name": "HTMLModel",
          "state": {
            "_dom_classes": [],
            "_model_module": "@jupyter-widgets/controls",
            "_model_module_version": "1.5.0",
            "_model_name": "HTMLModel",
            "_view_count": null,
            "_view_module": "@jupyter-widgets/controls",
            "_view_module_version": "1.5.0",
            "_view_name": "HTMLView",
            "description": "",
            "description_tooltip": null,
            "layout": "IPY_MODEL_e7428de76bce45df9021ddf827db221f",
            "placeholder": "​",
            "style": "IPY_MODEL_962ad15d92d24ff487daf78eb8540094",
            "value": "tokenizer.json: 100%"
          }
        },
        "b0654c3bdbf44a919503cd83a3727298": {
          "model_module": "@jupyter-widgets/controls",
          "model_module_version": "1.5.0",
          "model_name": "HBoxModel",
          "state": {
            "_dom_classes": [],
            "_model_module": "@jupyter-widgets/controls",
            "_model_module_version": "1.5.0",
            "_model_name": "HBoxModel",
            "_view_count": null,
            "_view_module": "@jupyter-widgets/controls",
            "_view_module_version": "1.5.0",
            "_view_name": "HBoxView",
            "box_style": "",
            "children": [
              "IPY_MODEL_aa5d2b635a7c4a369460b7e455eb124c",
              "IPY_MODEL_cd0455cf30e147749b43d331744f09c7",
              "IPY_MODEL_4f3bd4addcdb44d9b57fbff3d6c6b58a"
            ],
            "layout": "IPY_MODEL_4bb7566daf8744da863029308a1c3114"
          }
        },
        "b38930a024f54178aea17071d8463114": {
          "model_module": "@jupyter-widgets/controls",
          "model_module_version": "1.5.0",
          "model_name": "HTMLModel",
          "state": {
            "_dom_classes": [],
            "_model_module": "@jupyter-widgets/controls",
            "_model_module_version": "1.5.0",
            "_model_name": "HTMLModel",
            "_view_count": null,
            "_view_module": "@jupyter-widgets/controls",
            "_view_module_version": "1.5.0",
            "_view_name": "HTMLView",
            "description": "",
            "description_tooltip": null,
            "layout": "IPY_MODEL_5fd47537d4b5408db7e88689febe17a1",
            "placeholder": "​",
            "style": "IPY_MODEL_34a3ae0420ee4ed9a916a737443ae596",
            "value": "config.json: 100%"
          }
        },
        "b463c474d4d74d3f8ff4c15d7ff99439": {
          "model_module": "@jupyter-widgets/base",
          "model_module_version": "1.2.0",
          "model_name": "LayoutModel",
          "state": {
            "_model_module": "@jupyter-widgets/base",
            "_model_module_version": "1.2.0",
            "_model_name": "LayoutModel",
            "_view_count": null,
            "_view_module": "@jupyter-widgets/base",
            "_view_module_version": "1.2.0",
            "_view_name": "LayoutView",
            "align_content": null,
            "align_items": null,
            "align_self": null,
            "border": null,
            "bottom": null,
            "display": null,
            "flex": null,
            "flex_flow": null,
            "grid_area": null,
            "grid_auto_columns": null,
            "grid_auto_flow": null,
            "grid_auto_rows": null,
            "grid_column": null,
            "grid_gap": null,
            "grid_row": null,
            "grid_template_areas": null,
            "grid_template_columns": null,
            "grid_template_rows": null,
            "height": null,
            "justify_content": null,
            "justify_items": null,
            "left": null,
            "margin": null,
            "max_height": null,
            "max_width": null,
            "min_height": null,
            "min_width": null,
            "object_fit": null,
            "object_position": null,
            "order": null,
            "overflow": null,
            "overflow_x": null,
            "overflow_y": null,
            "padding": null,
            "right": null,
            "top": null,
            "visibility": null,
            "width": null
          }
        },
        "b4c160c316bd491c8ece3ed687efc7b7": {
          "model_module": "@jupyter-widgets/controls",
          "model_module_version": "1.5.0",
          "model_name": "HBoxModel",
          "state": {
            "_dom_classes": [],
            "_model_module": "@jupyter-widgets/controls",
            "_model_module_version": "1.5.0",
            "_model_name": "HBoxModel",
            "_view_count": null,
            "_view_module": "@jupyter-widgets/controls",
            "_view_module_version": "1.5.0",
            "_view_name": "HBoxView",
            "box_style": "",
            "children": [
              "IPY_MODEL_b61974c09b1a4071a0fb70fd77ac8d98",
              "IPY_MODEL_76d7fe4a523743029a6bacaff5a1cd8a",
              "IPY_MODEL_9141a31f58634ad9a80de04691897076"
            ],
            "layout": "IPY_MODEL_21a2cb516fce42938160d95e11091594"
          }
        },
        "b61974c09b1a4071a0fb70fd77ac8d98": {
          "model_module": "@jupyter-widgets/controls",
          "model_module_version": "1.5.0",
          "model_name": "HTMLModel",
          "state": {
            "_dom_classes": [],
            "_model_module": "@jupyter-widgets/controls",
            "_model_module_version": "1.5.0",
            "_model_name": "HTMLModel",
            "_view_count": null,
            "_view_module": "@jupyter-widgets/controls",
            "_view_module_version": "1.5.0",
            "_view_name": "HTMLView",
            "description": "",
            "description_tooltip": null,
            "layout": "IPY_MODEL_280a5baad7094bf7b65b8694a75097d5",
            "placeholder": "​",
            "style": "IPY_MODEL_dcdcd1f17f764b6b8017a1aa24b2e385",
            "value": "modules.json: 100%"
          }
        },
        "baac72b5248047cea5fc6f1c9fa30757": {
          "model_module": "@jupyter-widgets/controls",
          "model_module_version": "1.5.0",
          "model_name": "HTMLModel",
          "state": {
            "_dom_classes": [],
            "_model_module": "@jupyter-widgets/controls",
            "_model_module_version": "1.5.0",
            "_model_name": "HTMLModel",
            "_view_count": null,
            "_view_module": "@jupyter-widgets/controls",
            "_view_module_version": "1.5.0",
            "_view_name": "HTMLView",
            "description": "",
            "description_tooltip": null,
            "layout": "IPY_MODEL_2d4f21c835b1416cbf737c0917a8c33e",
            "placeholder": "​",
            "style": "IPY_MODEL_1886ad29d6a74246afdb3101481854fa",
            "value": "tokenizer_config.json: 100%"
          }
        },
        "bcc53275d9064e809abdc85f1539a8c6": {
          "model_module": "@jupyter-widgets/base",
          "model_module_version": "1.2.0",
          "model_name": "LayoutModel",
          "state": {
            "_model_module": "@jupyter-widgets/base",
            "_model_module_version": "1.2.0",
            "_model_name": "LayoutModel",
            "_view_count": null,
            "_view_module": "@jupyter-widgets/base",
            "_view_module_version": "1.2.0",
            "_view_name": "LayoutView",
            "align_content": null,
            "align_items": null,
            "align_self": null,
            "border": null,
            "bottom": null,
            "display": null,
            "flex": null,
            "flex_flow": null,
            "grid_area": null,
            "grid_auto_columns": null,
            "grid_auto_flow": null,
            "grid_auto_rows": null,
            "grid_column": null,
            "grid_gap": null,
            "grid_row": null,
            "grid_template_areas": null,
            "grid_template_columns": null,
            "grid_template_rows": null,
            "height": null,
            "justify_content": null,
            "justify_items": null,
            "left": null,
            "margin": null,
            "max_height": null,
            "max_width": null,
            "min_height": null,
            "min_width": null,
            "object_fit": null,
            "object_position": null,
            "order": null,
            "overflow": null,
            "overflow_x": null,
            "overflow_y": null,
            "padding": null,
            "right": null,
            "top": null,
            "visibility": null,
            "width": null
          }
        },
        "c1fb358d229b4964afb6cfd961652619": {
          "model_module": "@jupyter-widgets/controls",
          "model_module_version": "1.5.0",
          "model_name": "ProgressStyleModel",
          "state": {
            "_model_module": "@jupyter-widgets/controls",
            "_model_module_version": "1.5.0",
            "_model_name": "ProgressStyleModel",
            "_view_count": null,
            "_view_module": "@jupyter-widgets/base",
            "_view_module_version": "1.2.0",
            "_view_name": "StyleView",
            "bar_color": null,
            "description_width": ""
          }
        },
        "c2397c79bb0049d5847e6a099cc88c2d": {
          "model_module": "@jupyter-widgets/controls",
          "model_module_version": "1.5.0",
          "model_name": "DescriptionStyleModel",
          "state": {
            "_model_module": "@jupyter-widgets/controls",
            "_model_module_version": "1.5.0",
            "_model_name": "DescriptionStyleModel",
            "_view_count": null,
            "_view_module": "@jupyter-widgets/base",
            "_view_module_version": "1.2.0",
            "_view_name": "StyleView",
            "description_width": ""
          }
        },
        "c2475b20a0c443d692900b409399bd74": {
          "model_module": "@jupyter-widgets/base",
          "model_module_version": "1.2.0",
          "model_name": "LayoutModel",
          "state": {
            "_model_module": "@jupyter-widgets/base",
            "_model_module_version": "1.2.0",
            "_model_name": "LayoutModel",
            "_view_count": null,
            "_view_module": "@jupyter-widgets/base",
            "_view_module_version": "1.2.0",
            "_view_name": "LayoutView",
            "align_content": null,
            "align_items": null,
            "align_self": null,
            "border": null,
            "bottom": null,
            "display": null,
            "flex": null,
            "flex_flow": null,
            "grid_area": null,
            "grid_auto_columns": null,
            "grid_auto_flow": null,
            "grid_auto_rows": null,
            "grid_column": null,
            "grid_gap": null,
            "grid_row": null,
            "grid_template_areas": null,
            "grid_template_columns": null,
            "grid_template_rows": null,
            "height": null,
            "justify_content": null,
            "justify_items": null,
            "left": null,
            "margin": null,
            "max_height": null,
            "max_width": null,
            "min_height": null,
            "min_width": null,
            "object_fit": null,
            "object_position": null,
            "order": null,
            "overflow": null,
            "overflow_x": null,
            "overflow_y": null,
            "padding": null,
            "right": null,
            "top": null,
            "visibility": null,
            "width": null
          }
        },
        "c3f8a1adba2b4657b52e7856612a530e": {
          "model_module": "@jupyter-widgets/controls",
          "model_module_version": "1.5.0",
          "model_name": "DescriptionStyleModel",
          "state": {
            "_model_module": "@jupyter-widgets/controls",
            "_model_module_version": "1.5.0",
            "_model_name": "DescriptionStyleModel",
            "_view_count": null,
            "_view_module": "@jupyter-widgets/base",
            "_view_module_version": "1.2.0",
            "_view_name": "StyleView",
            "description_width": ""
          }
        },
        "c94e3c4a4c9248d5a6546a958804f21e": {
          "model_module": "@jupyter-widgets/controls",
          "model_module_version": "1.5.0",
          "model_name": "HBoxModel",
          "state": {
            "_dom_classes": [],
            "_model_module": "@jupyter-widgets/controls",
            "_model_module_version": "1.5.0",
            "_model_name": "HBoxModel",
            "_view_count": null,
            "_view_module": "@jupyter-widgets/controls",
            "_view_module_version": "1.5.0",
            "_view_name": "HBoxView",
            "box_style": "",
            "children": [
              "IPY_MODEL_543263b682144a038f1066b3738c30a7",
              "IPY_MODEL_0166b446786f48339fc24d0a0fcf6c1b",
              "IPY_MODEL_4d75132b8f6f4327a34f19243d7ba388"
            ],
            "layout": "IPY_MODEL_a87d80e4999c4933895aae56d34126fd"
          }
        },
        "cb7bba5d5e1d4bbb804998d873297087": {
          "model_module": "@jupyter-widgets/base",
          "model_module_version": "1.2.0",
          "model_name": "LayoutModel",
          "state": {
            "_model_module": "@jupyter-widgets/base",
            "_model_module_version": "1.2.0",
            "_model_name": "LayoutModel",
            "_view_count": null,
            "_view_module": "@jupyter-widgets/base",
            "_view_module_version": "1.2.0",
            "_view_name": "LayoutView",
            "align_content": null,
            "align_items": null,
            "align_self": null,
            "border": null,
            "bottom": null,
            "display": null,
            "flex": null,
            "flex_flow": null,
            "grid_area": null,
            "grid_auto_columns": null,
            "grid_auto_flow": null,
            "grid_auto_rows": null,
            "grid_column": null,
            "grid_gap": null,
            "grid_row": null,
            "grid_template_areas": null,
            "grid_template_columns": null,
            "grid_template_rows": null,
            "height": null,
            "justify_content": null,
            "justify_items": null,
            "left": null,
            "margin": null,
            "max_height": null,
            "max_width": null,
            "min_height": null,
            "min_width": null,
            "object_fit": null,
            "object_position": null,
            "order": null,
            "overflow": null,
            "overflow_x": null,
            "overflow_y": null,
            "padding": null,
            "right": null,
            "top": null,
            "visibility": null,
            "width": null
          }
        },
        "cc0c7812806f40b98c499310751716ef": {
          "model_module": "@jupyter-widgets/base",
          "model_module_version": "1.2.0",
          "model_name": "LayoutModel",
          "state": {
            "_model_module": "@jupyter-widgets/base",
            "_model_module_version": "1.2.0",
            "_model_name": "LayoutModel",
            "_view_count": null,
            "_view_module": "@jupyter-widgets/base",
            "_view_module_version": "1.2.0",
            "_view_name": "LayoutView",
            "align_content": null,
            "align_items": null,
            "align_self": null,
            "border": null,
            "bottom": null,
            "display": null,
            "flex": null,
            "flex_flow": null,
            "grid_area": null,
            "grid_auto_columns": null,
            "grid_auto_flow": null,
            "grid_auto_rows": null,
            "grid_column": null,
            "grid_gap": null,
            "grid_row": null,
            "grid_template_areas": null,
            "grid_template_columns": null,
            "grid_template_rows": null,
            "height": null,
            "justify_content": null,
            "justify_items": null,
            "left": null,
            "margin": null,
            "max_height": null,
            "max_width": null,
            "min_height": null,
            "min_width": null,
            "object_fit": null,
            "object_position": null,
            "order": null,
            "overflow": null,
            "overflow_x": null,
            "overflow_y": null,
            "padding": null,
            "right": null,
            "top": null,
            "visibility": null,
            "width": null
          }
        },
        "cd0455cf30e147749b43d331744f09c7": {
          "model_module": "@jupyter-widgets/controls",
          "model_module_version": "1.5.0",
          "model_name": "FloatProgressModel",
          "state": {
            "_dom_classes": [],
            "_model_module": "@jupyter-widgets/controls",
            "_model_module_version": "1.5.0",
            "_model_name": "FloatProgressModel",
            "_view_count": null,
            "_view_module": "@jupyter-widgets/controls",
            "_view_module_version": "1.5.0",
            "_view_name": "ProgressView",
            "bar_style": "success",
            "description": "",
            "description_tooltip": null,
            "layout": "IPY_MODEL_571a46e5928244c094c090cbd8fdcd5c",
            "max": 466247,
            "min": 0,
            "orientation": "horizontal",
            "style": "IPY_MODEL_919dad0ed49147078a75c64937168830",
            "value": 466247
          }
        },
        "d436733813014994abcf3a12025a68dd": {
          "model_module": "@jupyter-widgets/base",
          "model_module_version": "1.2.0",
          "model_name": "LayoutModel",
          "state": {
            "_model_module": "@jupyter-widgets/base",
            "_model_module_version": "1.2.0",
            "_model_name": "LayoutModel",
            "_view_count": null,
            "_view_module": "@jupyter-widgets/base",
            "_view_module_version": "1.2.0",
            "_view_name": "LayoutView",
            "align_content": null,
            "align_items": null,
            "align_self": null,
            "border": null,
            "bottom": null,
            "display": null,
            "flex": null,
            "flex_flow": null,
            "grid_area": null,
            "grid_auto_columns": null,
            "grid_auto_flow": null,
            "grid_auto_rows": null,
            "grid_column": null,
            "grid_gap": null,
            "grid_row": null,
            "grid_template_areas": null,
            "grid_template_columns": null,
            "grid_template_rows": null,
            "height": null,
            "justify_content": null,
            "justify_items": null,
            "left": null,
            "margin": null,
            "max_height": null,
            "max_width": null,
            "min_height": null,
            "min_width": null,
            "object_fit": null,
            "object_position": null,
            "order": null,
            "overflow": null,
            "overflow_x": null,
            "overflow_y": null,
            "padding": null,
            "right": null,
            "top": null,
            "visibility": null,
            "width": null
          }
        },
        "d777e8951e4a4556ba6bf0a6f9ae5ea2": {
          "model_module": "@jupyter-widgets/controls",
          "model_module_version": "1.5.0",
          "model_name": "FloatProgressModel",
          "state": {
            "_dom_classes": [],
            "_model_module": "@jupyter-widgets/controls",
            "_model_module_version": "1.5.0",
            "_model_name": "FloatProgressModel",
            "_view_count": null,
            "_view_module": "@jupyter-widgets/controls",
            "_view_module_version": "1.5.0",
            "_view_name": "ProgressView",
            "bar_style": "success",
            "description": "",
            "description_tooltip": null,
            "layout": "IPY_MODEL_87a54af972d24342b1b24556b8331acb",
            "max": 231508,
            "min": 0,
            "orientation": "horizontal",
            "style": "IPY_MODEL_289ddaf02ea84152b4b9598821504c6d",
            "value": 231508
          }
        },
        "d8acea5b58a14d46802e4bd60fac958f": {
          "model_module": "@jupyter-widgets/base",
          "model_module_version": "1.2.0",
          "model_name": "LayoutModel",
          "state": {
            "_model_module": "@jupyter-widgets/base",
            "_model_module_version": "1.2.0",
            "_model_name": "LayoutModel",
            "_view_count": null,
            "_view_module": "@jupyter-widgets/base",
            "_view_module_version": "1.2.0",
            "_view_name": "LayoutView",
            "align_content": null,
            "align_items": null,
            "align_self": null,
            "border": null,
            "bottom": null,
            "display": null,
            "flex": null,
            "flex_flow": null,
            "grid_area": null,
            "grid_auto_columns": null,
            "grid_auto_flow": null,
            "grid_auto_rows": null,
            "grid_column": null,
            "grid_gap": null,
            "grid_row": null,
            "grid_template_areas": null,
            "grid_template_columns": null,
            "grid_template_rows": null,
            "height": null,
            "justify_content": null,
            "justify_items": null,
            "left": null,
            "margin": null,
            "max_height": null,
            "max_width": null,
            "min_height": null,
            "min_width": null,
            "object_fit": null,
            "object_position": null,
            "order": null,
            "overflow": null,
            "overflow_x": null,
            "overflow_y": null,
            "padding": null,
            "right": null,
            "top": null,
            "visibility": null,
            "width": null
          }
        },
        "dcdcd1f17f764b6b8017a1aa24b2e385": {
          "model_module": "@jupyter-widgets/controls",
          "model_module_version": "1.5.0",
          "model_name": "DescriptionStyleModel",
          "state": {
            "_model_module": "@jupyter-widgets/controls",
            "_model_module_version": "1.5.0",
            "_model_name": "DescriptionStyleModel",
            "_view_count": null,
            "_view_module": "@jupyter-widgets/base",
            "_view_module_version": "1.2.0",
            "_view_name": "StyleView",
            "description_width": ""
          }
        },
        "dce54d29ac5f48c8919cea92a42306f4": {
          "model_module": "@jupyter-widgets/controls",
          "model_module_version": "1.5.0",
          "model_name": "ProgressStyleModel",
          "state": {
            "_model_module": "@jupyter-widgets/controls",
            "_model_module_version": "1.5.0",
            "_model_name": "ProgressStyleModel",
            "_view_count": null,
            "_view_module": "@jupyter-widgets/base",
            "_view_module_version": "1.2.0",
            "_view_name": "StyleView",
            "bar_color": null,
            "description_width": ""
          }
        },
        "de6c98d868d7429fa2bf6e53e0719043": {
          "model_module": "@jupyter-widgets/controls",
          "model_module_version": "1.5.0",
          "model_name": "FloatProgressModel",
          "state": {
            "_dom_classes": [],
            "_model_module": "@jupyter-widgets/controls",
            "_model_module_version": "1.5.0",
            "_model_name": "FloatProgressModel",
            "_view_count": null,
            "_view_module": "@jupyter-widgets/controls",
            "_view_module_version": "1.5.0",
            "_view_name": "ProgressView",
            "bar_style": "success",
            "description": "",
            "description_tooltip": null,
            "layout": "IPY_MODEL_cc0c7812806f40b98c499310751716ef",
            "max": 350,
            "min": 0,
            "orientation": "horizontal",
            "style": "IPY_MODEL_6a3a65f9d21a4527bcee72c0ad10f24d",
            "value": 350
          }
        },
        "e1fe67bb0b354211ad841138d8bef36c": {
          "model_module": "@jupyter-widgets/controls",
          "model_module_version": "1.5.0",
          "model_name": "DescriptionStyleModel",
          "state": {
            "_model_module": "@jupyter-widgets/controls",
            "_model_module_version": "1.5.0",
            "_model_name": "DescriptionStyleModel",
            "_view_count": null,
            "_view_module": "@jupyter-widgets/base",
            "_view_module_version": "1.2.0",
            "_view_name": "StyleView",
            "description_width": ""
          }
        },
        "e30f93d488c4407a9a885ecca0256577": {
          "model_module": "@jupyter-widgets/controls",
          "model_module_version": "1.5.0",
          "model_name": "DescriptionStyleModel",
          "state": {
            "_model_module": "@jupyter-widgets/controls",
            "_model_module_version": "1.5.0",
            "_model_name": "DescriptionStyleModel",
            "_view_count": null,
            "_view_module": "@jupyter-widgets/base",
            "_view_module_version": "1.2.0",
            "_view_name": "StyleView",
            "description_width": ""
          }
        },
        "e4dda8c93a8e434bb0cea7d7fc221037": {
          "model_module": "@jupyter-widgets/controls",
          "model_module_version": "1.5.0",
          "model_name": "HTMLModel",
          "state": {
            "_dom_classes": [],
            "_model_module": "@jupyter-widgets/controls",
            "_model_module_version": "1.5.0",
            "_model_name": "HTMLModel",
            "_view_count": null,
            "_view_module": "@jupyter-widgets/controls",
            "_view_module_version": "1.5.0",
            "_view_name": "HTMLView",
            "description": "",
            "description_tooltip": null,
            "layout": "IPY_MODEL_ebb4e8acacb24306a546cb969a45ea7d",
            "placeholder": "​",
            "style": "IPY_MODEL_c2397c79bb0049d5847e6a099cc88c2d",
            "value": "config.json: 100%"
          }
        },
        "e7428de76bce45df9021ddf827db221f": {
          "model_module": "@jupyter-widgets/base",
          "model_module_version": "1.2.0",
          "model_name": "LayoutModel",
          "state": {
            "_model_module": "@jupyter-widgets/base",
            "_model_module_version": "1.2.0",
            "_model_name": "LayoutModel",
            "_view_count": null,
            "_view_module": "@jupyter-widgets/base",
            "_view_module_version": "1.2.0",
            "_view_name": "LayoutView",
            "align_content": null,
            "align_items": null,
            "align_self": null,
            "border": null,
            "bottom": null,
            "display": null,
            "flex": null,
            "flex_flow": null,
            "grid_area": null,
            "grid_auto_columns": null,
            "grid_auto_flow": null,
            "grid_auto_rows": null,
            "grid_column": null,
            "grid_gap": null,
            "grid_row": null,
            "grid_template_areas": null,
            "grid_template_columns": null,
            "grid_template_rows": null,
            "height": null,
            "justify_content": null,
            "justify_items": null,
            "left": null,
            "margin": null,
            "max_height": null,
            "max_width": null,
            "min_height": null,
            "min_width": null,
            "object_fit": null,
            "object_position": null,
            "order": null,
            "overflow": null,
            "overflow_x": null,
            "overflow_y": null,
            "padding": null,
            "right": null,
            "top": null,
            "visibility": null,
            "width": null
          }
        },
        "e8b16b5092594fbfb59a10fd5a71d3da": {
          "model_module": "@jupyter-widgets/base",
          "model_module_version": "1.2.0",
          "model_name": "LayoutModel",
          "state": {
            "_model_module": "@jupyter-widgets/base",
            "_model_module_version": "1.2.0",
            "_model_name": "LayoutModel",
            "_view_count": null,
            "_view_module": "@jupyter-widgets/base",
            "_view_module_version": "1.2.0",
            "_view_name": "LayoutView",
            "align_content": null,
            "align_items": null,
            "align_self": null,
            "border": null,
            "bottom": null,
            "display": null,
            "flex": null,
            "flex_flow": null,
            "grid_area": null,
            "grid_auto_columns": null,
            "grid_auto_flow": null,
            "grid_auto_rows": null,
            "grid_column": null,
            "grid_gap": null,
            "grid_row": null,
            "grid_template_areas": null,
            "grid_template_columns": null,
            "grid_template_rows": null,
            "height": null,
            "justify_content": null,
            "justify_items": null,
            "left": null,
            "margin": null,
            "max_height": null,
            "max_width": null,
            "min_height": null,
            "min_width": null,
            "object_fit": null,
            "object_position": null,
            "order": null,
            "overflow": null,
            "overflow_x": null,
            "overflow_y": null,
            "padding": null,
            "right": null,
            "top": null,
            "visibility": null,
            "width": null
          }
        },
        "e972305c05af45ae82f8780bec10b542": {
          "model_module": "@jupyter-widgets/controls",
          "model_module_version": "1.5.0",
          "model_name": "DescriptionStyleModel",
          "state": {
            "_model_module": "@jupyter-widgets/controls",
            "_model_module_version": "1.5.0",
            "_model_name": "DescriptionStyleModel",
            "_view_count": null,
            "_view_module": "@jupyter-widgets/base",
            "_view_module_version": "1.2.0",
            "_view_name": "StyleView",
            "description_width": ""
          }
        },
        "ea0d1cecf57242b1bdc5e4e5338545fa": {
          "model_module": "@jupyter-widgets/base",
          "model_module_version": "1.2.0",
          "model_name": "LayoutModel",
          "state": {
            "_model_module": "@jupyter-widgets/base",
            "_model_module_version": "1.2.0",
            "_model_name": "LayoutModel",
            "_view_count": null,
            "_view_module": "@jupyter-widgets/base",
            "_view_module_version": "1.2.0",
            "_view_name": "LayoutView",
            "align_content": null,
            "align_items": null,
            "align_self": null,
            "border": null,
            "bottom": null,
            "display": null,
            "flex": null,
            "flex_flow": null,
            "grid_area": null,
            "grid_auto_columns": null,
            "grid_auto_flow": null,
            "grid_auto_rows": null,
            "grid_column": null,
            "grid_gap": null,
            "grid_row": null,
            "grid_template_areas": null,
            "grid_template_columns": null,
            "grid_template_rows": null,
            "height": null,
            "justify_content": null,
            "justify_items": null,
            "left": null,
            "margin": null,
            "max_height": null,
            "max_width": null,
            "min_height": null,
            "min_width": null,
            "object_fit": null,
            "object_position": null,
            "order": null,
            "overflow": null,
            "overflow_x": null,
            "overflow_y": null,
            "padding": null,
            "right": null,
            "top": null,
            "visibility": null,
            "width": null
          }
        },
        "ebb4e8acacb24306a546cb969a45ea7d": {
          "model_module": "@jupyter-widgets/base",
          "model_module_version": "1.2.0",
          "model_name": "LayoutModel",
          "state": {
            "_model_module": "@jupyter-widgets/base",
            "_model_module_version": "1.2.0",
            "_model_name": "LayoutModel",
            "_view_count": null,
            "_view_module": "@jupyter-widgets/base",
            "_view_module_version": "1.2.0",
            "_view_name": "LayoutView",
            "align_content": null,
            "align_items": null,
            "align_self": null,
            "border": null,
            "bottom": null,
            "display": null,
            "flex": null,
            "flex_flow": null,
            "grid_area": null,
            "grid_auto_columns": null,
            "grid_auto_flow": null,
            "grid_auto_rows": null,
            "grid_column": null,
            "grid_gap": null,
            "grid_row": null,
            "grid_template_areas": null,
            "grid_template_columns": null,
            "grid_template_rows": null,
            "height": null,
            "justify_content": null,
            "justify_items": null,
            "left": null,
            "margin": null,
            "max_height": null,
            "max_width": null,
            "min_height": null,
            "min_width": null,
            "object_fit": null,
            "object_position": null,
            "order": null,
            "overflow": null,
            "overflow_x": null,
            "overflow_y": null,
            "padding": null,
            "right": null,
            "top": null,
            "visibility": null,
            "width": null
          }
        },
        "ec1e9382a86a48b09174f8144ba758d5": {
          "model_module": "@jupyter-widgets/base",
          "model_module_version": "1.2.0",
          "model_name": "LayoutModel",
          "state": {
            "_model_module": "@jupyter-widgets/base",
            "_model_module_version": "1.2.0",
            "_model_name": "LayoutModel",
            "_view_count": null,
            "_view_module": "@jupyter-widgets/base",
            "_view_module_version": "1.2.0",
            "_view_name": "LayoutView",
            "align_content": null,
            "align_items": null,
            "align_self": null,
            "border": null,
            "bottom": null,
            "display": null,
            "flex": null,
            "flex_flow": null,
            "grid_area": null,
            "grid_auto_columns": null,
            "grid_auto_flow": null,
            "grid_auto_rows": null,
            "grid_column": null,
            "grid_gap": null,
            "grid_row": null,
            "grid_template_areas": null,
            "grid_template_columns": null,
            "grid_template_rows": null,
            "height": null,
            "justify_content": null,
            "justify_items": null,
            "left": null,
            "margin": null,
            "max_height": null,
            "max_width": null,
            "min_height": null,
            "min_width": null,
            "object_fit": null,
            "object_position": null,
            "order": null,
            "overflow": null,
            "overflow_x": null,
            "overflow_y": null,
            "padding": null,
            "right": null,
            "top": null,
            "visibility": null,
            "width": null
          }
        },
        "ec3b68d4b1a8431eae5ed4d82ae5566f": {
          "model_module": "@jupyter-widgets/controls",
          "model_module_version": "1.5.0",
          "model_name": "HBoxModel",
          "state": {
            "_dom_classes": [],
            "_model_module": "@jupyter-widgets/controls",
            "_model_module_version": "1.5.0",
            "_model_name": "HBoxModel",
            "_view_count": null,
            "_view_module": "@jupyter-widgets/controls",
            "_view_module_version": "1.5.0",
            "_view_name": "HBoxView",
            "box_style": "",
            "children": [
              "IPY_MODEL_4c8415283ed34555a4a738d33c499765",
              "IPY_MODEL_d777e8951e4a4556ba6bf0a6f9ae5ea2",
              "IPY_MODEL_27030edeb2a94e7e9150f73389621050"
            ],
            "layout": "IPY_MODEL_a489812b81f14da892fdedf3219a9144"
          }
        },
        "ee9546f0d15e4bf6baae9e13fc28ecd2": {
          "model_module": "@jupyter-widgets/controls",
          "model_module_version": "1.5.0",
          "model_name": "ProgressStyleModel",
          "state": {
            "_model_module": "@jupyter-widgets/controls",
            "_model_module_version": "1.5.0",
            "_model_name": "ProgressStyleModel",
            "_view_count": null,
            "_view_module": "@jupyter-widgets/base",
            "_view_module_version": "1.2.0",
            "_view_name": "StyleView",
            "bar_color": null,
            "description_width": ""
          }
        },
        "f335363674704507b1abf4866d988427": {
          "model_module": "@jupyter-widgets/controls",
          "model_module_version": "1.5.0",
          "model_name": "DescriptionStyleModel",
          "state": {
            "_model_module": "@jupyter-widgets/controls",
            "_model_module_version": "1.5.0",
            "_model_name": "DescriptionStyleModel",
            "_view_count": null,
            "_view_module": "@jupyter-widgets/base",
            "_view_module_version": "1.2.0",
            "_view_name": "StyleView",
            "description_width": ""
          }
        },
        "f913d1c9f7ee4020bfaa999102fff1e2": {
          "model_module": "@jupyter-widgets/controls",
          "model_module_version": "1.5.0",
          "model_name": "HTMLModel",
          "state": {
            "_dom_classes": [],
            "_model_module": "@jupyter-widgets/controls",
            "_model_module_version": "1.5.0",
            "_model_name": "HTMLModel",
            "_view_count": null,
            "_view_module": "@jupyter-widgets/controls",
            "_view_module_version": "1.5.0",
            "_view_name": "HTMLView",
            "description": "",
            "description_tooltip": null,
            "layout": "IPY_MODEL_42e2941149ae4690bcf8ef44f846bcad",
            "placeholder": "​",
            "style": "IPY_MODEL_65bb30423ac949558a510263251d7d99",
            "value": "sentence_bert_config.json: 100%"
          }
        },
        "fac4deec7bec4b42ab74862bf85af4d4": {
          "model_module": "@jupyter-widgets/controls",
          "model_module_version": "1.5.0",
          "model_name": "ProgressStyleModel",
          "state": {
            "_model_module": "@jupyter-widgets/controls",
            "_model_module_version": "1.5.0",
            "_model_name": "ProgressStyleModel",
            "_view_count": null,
            "_view_module": "@jupyter-widgets/base",
            "_view_module_version": "1.2.0",
            "_view_name": "StyleView",
            "bar_color": null,
            "description_width": ""
          }
        },
        "fb93b2527b664ae4a554cd7b823a171f": {
          "model_module": "@jupyter-widgets/controls",
          "model_module_version": "1.5.0",
          "model_name": "ProgressStyleModel",
          "state": {
            "_model_module": "@jupyter-widgets/controls",
            "_model_module_version": "1.5.0",
            "_model_name": "ProgressStyleModel",
            "_view_count": null,
            "_view_module": "@jupyter-widgets/base",
            "_view_module_version": "1.2.0",
            "_view_name": "StyleView",
            "bar_color": null,
            "description_width": ""
          }
        },
        "fe8354b8fee949389c5b8524ebe393d0": {
          "model_module": "@jupyter-widgets/controls",
          "model_module_version": "1.5.0",
          "model_name": "ProgressStyleModel",
          "state": {
            "_model_module": "@jupyter-widgets/controls",
            "_model_module_version": "1.5.0",
            "_model_name": "ProgressStyleModel",
            "_view_count": null,
            "_view_module": "@jupyter-widgets/base",
            "_view_module_version": "1.2.0",
            "_view_name": "StyleView",
            "bar_color": null,
            "description_width": ""
          }
        }
      }
    }
  },
  "nbformat": 4,
  "nbformat_minor": 0
}
